{
 "cells": [
  {
   "cell_type": "code",
   "execution_count": 15,
   "metadata": {},
   "outputs": [
    {
     "name": "stdout",
     "output_type": "stream",
     "text": [
      "Hello World!\n"
     ]
    }
   ],
   "source": [
    "print(\"Hello World!\")"
   ]
  },
  {
   "cell_type": "code",
   "execution_count": 1,
   "metadata": {},
   "outputs": [],
   "source": [
    "import pandas as pd\n",
    "import numpy as np\n",
    "from sklearn.model_selection import train_test_split\n",
    "import matplotlib.pyplot as plt\n",
    "import seaborn as sns\n",
    "from statsmodels.tsa.api import VAR\n",
    "from sklearn.metrics import mean_absolute_error, mean_squared_error\n"
   ]
  },
  {
   "cell_type": "markdown",
   "metadata": {},
   "source": []
  },
  {
   "cell_type": "code",
   "execution_count": 2,
   "metadata": {},
   "outputs": [],
   "source": [
    "historical_data_punjab=pd.read_csv(\"C:\\Desktop\\Smart Irrigation System\\Punjab_India\\PUNJAB_2_open-meteo-31.39N75.93E285m.csv\")\n"
   ]
  },
  {
   "cell_type": "code",
   "execution_count": 3,
   "metadata": {},
   "outputs": [
    {
     "name": "stdout",
     "output_type": "stream",
     "text": [
      "<class 'pandas.core.frame.DataFrame'>\n",
      "RangeIndex: 35064 entries, 0 to 35063\n",
      "Data columns (total 9 columns):\n",
      " #   Column                              Non-Null Count  Dtype  \n",
      "---  ------                              --------------  -----  \n",
      " 0   time                                35064 non-null  object \n",
      " 1   temperature_2m (°C)                 35064 non-null  float64\n",
      " 2   relative_humidity_2m (%)            35064 non-null  int64  \n",
      " 3   precipitation (mm)                  35064 non-null  float64\n",
      " 4   et0_fao_evapotranspiration (mm)     35064 non-null  float64\n",
      " 5   wind_speed_10m (km/h)               35064 non-null  float64\n",
      " 6   soil_temperature_28_to_100cm (°C)   35064 non-null  float64\n",
      " 7   soil_moisture_28_to_100cm (m³/m³)   35064 non-null  float64\n",
      " 8   shortwave_radiation_instant (W/m²)  35064 non-null  float64\n",
      "dtypes: float64(7), int64(1), object(1)\n",
      "memory usage: 2.4+ MB\n"
     ]
    }
   ],
   "source": [
    "historical_data_punjab.info()"
   ]
  },
  {
   "cell_type": "code",
   "execution_count": 4,
   "metadata": {},
   "outputs": [],
   "source": [
    "\n",
    "# Convert timestamp to datetime\n",
    "historical_data_punjab['timestamp'] = pd.to_datetime(historical_data_punjab['time'])\n",
    "\n",
    "# Extract date\n",
    "historical_data_punjab['date'] = historical_data_punjab['timestamp'].dt.date\n",
    "\n",
    "# Aggregate to daily data\n",
    "historical_data_punjab_daily = historical_data_punjab.groupby('date').agg({\n",
    "    'temperature_2m (°C)': 'mean',\n",
    "    'relative_humidity_2m (%)': 'mean',\n",
    "    'precipitation (mm)': 'sum',\n",
    "    'et0_fao_evapotranspiration (mm)': 'sum',\n",
    "    'wind_speed_10m (km/h)': 'mean',\n",
    "    'soil_temperature_28_to_100cm (°C)': 'mean',\n",
    "    'soil_moisture_28_to_100cm (m³/m³)': 'mean',\n",
    "    'shortwave_radiation_instant (W/m²)': 'sum'\n",
    "}).reset_index()\n"
   ]
  },
  {
   "cell_type": "code",
   "execution_count": 5,
   "metadata": {},
   "outputs": [],
   "source": [
    "future_data_punjab = pd.read_csv(r\"C:\\Desktop\\Smart Irrigation System\\future_current_data_punjab_open-meteo-31.39N75.93E285m.csv\")\n",
    "## from peroid 2024 Jan 1 to 2024 Jun 26"
   ]
  },
  {
   "cell_type": "code",
   "execution_count": 21,
   "metadata": {},
   "outputs": [
    {
     "name": "stdout",
     "output_type": "stream",
     "text": [
      "<class 'pandas.core.frame.DataFrame'>\n",
      "RangeIndex: 4272 entries, 0 to 4271\n",
      "Data columns (total 9 columns):\n",
      " #   Column                              Non-Null Count  Dtype  \n",
      "---  ------                              --------------  -----  \n",
      " 0   time                                4272 non-null   object \n",
      " 1   temperature_2m (°C)                 4272 non-null   float64\n",
      " 2   relative_humidity_2m (%)            4272 non-null   int64  \n",
      " 3   precipitation (mm)                  4272 non-null   float64\n",
      " 4   et0_fao_evapotranspiration (mm)     4272 non-null   float64\n",
      " 5   wind_speed_10m (km/h)               4272 non-null   float64\n",
      " 6   soil_temperature_28_to_100cm (°C)   4272 non-null   float64\n",
      " 7   soil_moisture_28_to_100cm (m³/m³)   4272 non-null   float64\n",
      " 8   shortwave_radiation_instant (W/m²)  4272 non-null   float64\n",
      "dtypes: float64(7), int64(1), object(1)\n",
      "memory usage: 300.5+ KB\n"
     ]
    }
   ],
   "source": [
    "future_data_punjab.info()"
   ]
  },
  {
   "cell_type": "code",
   "execution_count": 6,
   "metadata": {},
   "outputs": [],
   "source": [
    "\n",
    "# Convert timestamp to datetime\n",
    "future_data_punjab['timestamp'] = pd.to_datetime(future_data_punjab['time'])\n",
    "\n",
    "# Extract date\n",
    "future_data_punjab['date'] = future_data_punjab['timestamp'].dt.date\n",
    "\n",
    "# Aggregate to daily data\n",
    "future_data_punjab_daily = future_data_punjab.groupby('date').agg({\n",
    "    'temperature_2m (°C)': 'mean',\n",
    "    'relative_humidity_2m (%)': 'mean',\n",
    "    'precipitation (mm)': 'sum',\n",
    "    'et0_fao_evapotranspiration (mm)': 'sum',\n",
    "    'wind_speed_10m (km/h)': 'mean',\n",
    "    'soil_temperature_28_to_100cm (°C)': 'mean',\n",
    "    'soil_moisture_28_to_100cm (m³/m³)': 'mean',\n",
    "    'shortwave_radiation_instant (W/m²)': 'sum'\n",
    "}).reset_index()\n"
   ]
  },
  {
   "cell_type": "code",
   "execution_count": 7,
   "metadata": {},
   "outputs": [
    {
     "name": "stdout",
     "output_type": "stream",
     "text": [
      "<class 'pandas.core.frame.DataFrame'>\n",
      "RangeIndex: 178 entries, 0 to 177\n",
      "Data columns (total 9 columns):\n",
      " #   Column                              Non-Null Count  Dtype  \n",
      "---  ------                              --------------  -----  \n",
      " 0   date                                178 non-null    object \n",
      " 1   temperature_2m (°C)                 178 non-null    float64\n",
      " 2   relative_humidity_2m (%)            178 non-null    float64\n",
      " 3   precipitation (mm)                  178 non-null    float64\n",
      " 4   et0_fao_evapotranspiration (mm)     178 non-null    float64\n",
      " 5   wind_speed_10m (km/h)               178 non-null    float64\n",
      " 6   soil_temperature_28_to_100cm (°C)   178 non-null    float64\n",
      " 7   soil_moisture_28_to_100cm (m³/m³)   178 non-null    float64\n",
      " 8   shortwave_radiation_instant (W/m²)  178 non-null    float64\n",
      "dtypes: float64(8), object(1)\n",
      "memory usage: 12.6+ KB\n"
     ]
    }
   ],
   "source": [
    "future_data_punjab_daily.info()"
   ]
  },
  {
   "cell_type": "code",
   "execution_count": 8,
   "metadata": {},
   "outputs": [],
   "source": [
    "# Concatenate the DataFrames\n",
    "combined_historical_data_punjab_daily = pd.concat([historical_data_punjab_daily, future_data_punjab_daily], ignore_index=True)\n"
   ]
  },
  {
   "cell_type": "code",
   "execution_count": 9,
   "metadata": {},
   "outputs": [
    {
     "name": "stdout",
     "output_type": "stream",
     "text": [
      "<class 'pandas.core.frame.DataFrame'>\n",
      "RangeIndex: 1639 entries, 0 to 1638\n",
      "Data columns (total 9 columns):\n",
      " #   Column                              Non-Null Count  Dtype  \n",
      "---  ------                              --------------  -----  \n",
      " 0   date                                1639 non-null   object \n",
      " 1   temperature_2m (°C)                 1639 non-null   float64\n",
      " 2   relative_humidity_2m (%)            1639 non-null   float64\n",
      " 3   precipitation (mm)                  1639 non-null   float64\n",
      " 4   et0_fao_evapotranspiration (mm)     1639 non-null   float64\n",
      " 5   wind_speed_10m (km/h)               1639 non-null   float64\n",
      " 6   soil_temperature_28_to_100cm (°C)   1639 non-null   float64\n",
      " 7   soil_moisture_28_to_100cm (m³/m³)   1639 non-null   float64\n",
      " 8   shortwave_radiation_instant (W/m²)  1639 non-null   float64\n",
      "dtypes: float64(8), object(1)\n",
      "memory usage: 115.4+ KB\n"
     ]
    }
   ],
   "source": [
    "combined_historical_data_punjab_daily.info()"
   ]
  },
  {
   "cell_type": "code",
   "execution_count": 10,
   "metadata": {},
   "outputs": [],
   "source": [
    "# Rename ET₀ column for easier reference\n",
    "combined_historical_data_punjab_daily.rename(columns={'et0_fao_evapotranspiration (mm)': 'ET₀ (mm)'}, inplace=True)"
   ]
  },
  {
   "cell_type": "code",
   "execution_count": 11,
   "metadata": {},
   "outputs": [],
   "source": [
    " #Set the date column as the index\n",
    "combined_historical_data_punjab_daily.set_index('date', inplace=True)\n",
    "# Ensure the index is in datetime format\n",
    "combined_historical_data_punjab_daily.index = pd.to_datetime(combined_historical_data_punjab_daily.index)\n",
    "\n"
   ]
  },
  {
   "cell_type": "markdown",
   "metadata": {},
   "source": [
    "## Examine Historical Soil Moisture Data\n"
   ]
  },
  {
   "cell_type": "code",
   "execution_count": 12,
   "metadata": {},
   "outputs": [
    {
     "data": {
      "image/png": "[encoded data removed]",
      "text/plain": [
       "<Figure size 1000x600 with 1 Axes>"
      ]
     },
     "metadata": {},
     "output_type": "display_data"
    },
    {
     "data": {
      "text/plain": [
       "count    1639.000000\n",
       "mean        0.263001\n",
       "std         0.055969\n",
       "min         0.144000\n",
       "25%         0.217500\n",
       "50%         0.269167\n",
       "75%         0.306396\n",
       "max         0.378458\n",
       "Name: soil_moisture_28_to_100cm (m³/m³), dtype: float64"
      ]
     },
     "execution_count": 12,
     "metadata": {},
     "output_type": "execute_result"
    }
   ],
   "source": [
    "# Plot historical soil moisture data\n",
    "combined_historical_data_punjab_daily['soil_moisture_28_to_100cm (m³/m³)'].plot(figsize=(10, 6), title='Historical Soil Moisture')\n",
    "plt.ylabel('Soil Moisture (m³/m³)')\n",
    "plt.show()\n",
    "\n",
    "# Describe the soil moisture data\n",
    "combined_historical_data_punjab_daily['soil_moisture_28_to_100cm (m³/m³)'].describe()\n",
    "\n"
   ]
  },
  {
   "cell_type": "code",
   "execution_count": 13,
   "metadata": {},
   "outputs": [],
   "source": [
    "\n",
    "# Drop any rows with missing values\n",
    "combined_historical_data_punjab_daily.dropna(inplace=True)\n"
   ]
  },
  {
   "cell_type": "code",
   "execution_count": 14,
   "metadata": {},
   "outputs": [],
   "source": [
    "combined_historical_data_punjab_daily_save=combined_historical_data_punjab_daily.copy()"
   ]
  },
  {
   "cell_type": "code",
   "execution_count": 15,
   "metadata": {},
   "outputs": [
    {
     "data": {
      "text/plain": [
       "Index(['temperature_2m (°C)', 'relative_humidity_2m (%)', 'precipitation (mm)',\n",
       "       'ET₀ (mm)', 'wind_speed_10m (km/h)',\n",
       "       'soil_temperature_28_to_100cm (°C)',\n",
       "       'soil_moisture_28_to_100cm (m³/m³)',\n",
       "       'shortwave_radiation_instant (W/m²)'],\n",
       "      dtype='object')"
      ]
     },
     "execution_count": 15,
     "metadata": {},
     "output_type": "execute_result"
    }
   ],
   "source": [
    " \n",
    "combined_historical_data_punjab_daily.columns"
   ]
  },
  {
   "cell_type": "markdown",
   "metadata": {},
   "source": [
    "## Check Stationarity and Differencing\n"
   ]
  },
  {
   "cell_type": "code",
   "execution_count": 16,
   "metadata": {},
   "outputs": [
    {
     "name": "stdout",
     "output_type": "stream",
     "text": [
      "Checking stationarity for temperature_2m (°C)\n",
      "ADF Statistic: -2.3053148275643234\n",
      "p-value: 0.17025956321992447\n",
      "The series is not stationary, differencing needed\n",
      "Checking stationarity for relative_humidity_2m (%)\n",
      "ADF Statistic: -4.250530710843691\n",
      "p-value: 0.0005404843275528075\n",
      "The series is stationary\n",
      "Checking stationarity for precipitation (mm)\n",
      "ADF Statistic: -19.352351052038195\n",
      "p-value: 0.0\n",
      "The series is stationary\n",
      "Checking stationarity for ET₀ (mm)\n",
      "ADF Statistic: -2.62308758212671\n",
      "p-value: 0.08831879638770085\n",
      "The series is not stationary, differencing needed\n",
      "Checking stationarity for wind_speed_10m (km/h)\n",
      "ADF Statistic: -4.526717143883374\n",
      "p-value: 0.00017589987599512513\n",
      "The series is stationary\n",
      "Checking stationarity for soil_temperature_28_to_100cm (°C)\n",
      "ADF Statistic: -4.324861041821621\n",
      "p-value: 0.0004021798550820438\n",
      "The series is stationary\n",
      "Checking stationarity for soil_moisture_28_to_100cm (m³/m³)\n",
      "ADF Statistic: -4.214538454069174\n",
      "p-value: 0.0006225412894517141\n",
      "The series is stationary\n",
      "Checking stationarity for shortwave_radiation_instant (W/m²)\n",
      "ADF Statistic: -3.0394776153207386\n",
      "p-value: 0.031368566221645085\n",
      "The series is stationary\n",
      "Checking stationarity for differenced temperature_2m (°C)\n",
      "ADF Statistic: -18.162907880905305\n",
      "p-value: 2.45859057580103e-30\n",
      "The series is stationary\n",
      "Checking stationarity for differenced relative_humidity_2m (%)\n",
      "ADF Statistic: -15.321991066042237\n",
      "p-value: 4.0524442790303325e-28\n",
      "The series is stationary\n",
      "Checking stationarity for differenced precipitation (mm)\n",
      "ADF Statistic: -13.600204998630081\n",
      "p-value: 1.9597942096128607e-25\n",
      "The series is stationary\n",
      "Checking stationarity for differenced ET₀ (mm)\n",
      "ADF Statistic: -16.642145538702923\n",
      "p-value: 1.6311530773524242e-29\n",
      "The series is stationary\n",
      "Checking stationarity for differenced wind_speed_10m (km/h)\n",
      "ADF Statistic: -14.638248154419037\n",
      "p-value: 3.658896613500956e-27\n",
      "The series is stationary\n",
      "Checking stationarity for differenced soil_temperature_28_to_100cm (°C)\n",
      "ADF Statistic: -3.7553513205097864\n",
      "p-value: 0.003398626259252375\n",
      "The series is stationary\n",
      "Checking stationarity for differenced soil_moisture_28_to_100cm (m³/m³)\n",
      "ADF Statistic: -9.847773076272587\n",
      "p-value: 4.5708094781730605e-17\n",
      "The series is stationary\n",
      "Checking stationarity for differenced shortwave_radiation_instant (W/m²)\n",
      "ADF Statistic: -16.78443741314673\n",
      "p-value: 1.2565552746130065e-29\n",
      "The series is stationary\n"
     ]
    }
   ],
   "source": [
    "from statsmodels.tsa.stattools import adfuller\n",
    "\n",
    "def check_stationarity(timeseries):\n",
    "    result = adfuller(timeseries.dropna())\n",
    "    print(f'ADF Statistic: {result[0]}')\n",
    "    print(f'p-value: {result[1]}')\n",
    "    if result[1] < 0.05:\n",
    "        print(\"The series is stationary\")\n",
    "    else:\n",
    "        print(\"The series is not stationary, differencing needed\")\n",
    "\n",
    "# Check for each column in the dataset\n",
    "for column in combined_historical_data_punjab_daily.columns:\n",
    "    print(f'Checking stationarity for {column}')\n",
    "    check_stationarity(combined_historical_data_punjab_daily[column])\n",
    "\n",
    "# Apply differencing if needed\n",
    "combined_historical_data_punjab_daily_diff = combined_historical_data_punjab_daily.diff().dropna()\n",
    "\n",
    "# Re-check stationarity after differencing\n",
    "for column in combined_historical_data_punjab_daily_diff.columns:\n",
    "    print(f'Checking stationarity for differenced {column}')\n",
    "    check_stationarity(combined_historical_data_punjab_daily_diff[column])\n",
    "\n"
   ]
  },
  {
   "cell_type": "markdown",
   "metadata": {},
   "source": [
    "## Fitting Vector Autoregresion (VAR) Time series Model\n"
   ]
  },
  {
   "cell_type": "code",
   "execution_count": 33,
   "metadata": {},
   "outputs": [
    {
     "data": {
      "text/plain": [
       "'\"Using this because it take multiple variables simultaneously'"
      ]
     },
     "execution_count": 33,
     "metadata": {},
     "output_type": "execute_result"
    }
   ],
   "source": [
    "\"\"\"\"Using this because it take multiple variables simultaneously\"\"\""
   ]
  },
  {
   "cell_type": "code",
   "execution_count": 17,
   "metadata": {},
   "outputs": [
    {
     "name": "stderr",
     "output_type": "stream",
     "text": [
      "c:\\Users\\godwi\\Downloads\\Anconda\\Lib\\site-packages\\statsmodels\\tsa\\base\\tsa_model.py:473: ValueWarning: No frequency information was provided, so inferred frequency D will be used.\n",
      "  self._init_dates(dates, freq)\n"
     ]
    },
    {
     "data": {
      "text/plain": [
       "  Summary of Regression Results   \n",
       "==================================\n",
       "Model:                         VAR\n",
       "Method:                        OLS\n",
       "Date:           Mon, 01, Jul, 2024\n",
       "Time:                     12:08:21\n",
       "--------------------------------------------------------------------\n",
       "No. of Equations:         8.00000    BIC:                    1.40003\n",
       "Nobs:                     1630.00    HQIC:                  0.317162\n",
       "Log likelihood:          -17720.9    FPE:                   0.725304\n",
       "AIC:                    -0.321503    Det(Omega_mle):        0.530473\n",
       "--------------------------------------------------------------------\n",
       "Results for equation temperature_2m (°C)\n",
       "========================================================================================================\n",
       "                                           coefficient       std. error           t-stat            prob\n",
       "--------------------------------------------------------------------------------------------------------\n",
       "const                                         0.018415         0.028829            0.639           0.523\n",
       "L1.temperature_2m (°C)                        0.073410         0.040316            1.821           0.069\n",
       "L1.relative_humidity_2m (%)                   0.003041         0.009080            0.335           0.738\n",
       "L1.precipitation (mm)                        -0.014753         0.005205           -2.834           0.005\n",
       "L1.ET₀ (mm)                                  -0.158698         0.160784           -0.987           0.324\n",
       "L1.wind_speed_10m (km/h)                     -0.098853         0.018983           -5.207           0.000\n",
       "L1.soil_temperature_28_to_100cm (°C)         -2.912828         0.809309           -3.599           0.000\n",
       "L1.soil_moisture_28_to_100cm (m³/m³)         -7.792605         9.331738           -0.835           0.404\n",
       "L1.shortwave_radiation_instant (W/m²)        -0.000069         0.000106           -0.656           0.512\n",
       "L2.temperature_2m (°C)                        0.092668         0.058445            1.586           0.113\n",
       "L2.relative_humidity_2m (%)                  -0.017015         0.009447           -1.801           0.072\n",
       "L2.precipitation (mm)                        -0.000242         0.006879           -0.035           0.972\n",
       "L2.ET₀ (mm)                                  -0.541912         0.183119           -2.959           0.003\n",
       "L2.wind_speed_10m (km/h)                     -0.067319         0.021779           -3.091           0.002\n",
       "L2.soil_temperature_28_to_100cm (°C)          0.410806         0.901947            0.455           0.649\n",
       "L2.soil_moisture_28_to_100cm (m³/m³)          8.048435        10.520089            0.765           0.444\n",
       "L2.shortwave_radiation_instant (W/m²)         0.000368         0.000121            3.032           0.002\n",
       "L3.temperature_2m (°C)                        0.004553         0.066886            0.068           0.946\n",
       "L3.relative_humidity_2m (%)                  -0.029790         0.009759           -3.053           0.002\n",
       "L3.precipitation (mm)                         0.008803         0.007897            1.115           0.265\n",
       "L3.ET₀ (mm)                                  -0.474370         0.195243           -2.430           0.015\n",
       "L3.wind_speed_10m (km/h)                     -0.063876         0.023692           -2.696           0.007\n",
       "L3.soil_temperature_28_to_100cm (°C)          1.393879         0.901924            1.545           0.122\n",
       "L3.soil_moisture_28_to_100cm (m³/m³)         -2.941830        10.560010           -0.279           0.781\n",
       "L3.shortwave_radiation_instant (W/m²)         0.000468         0.000132            3.547           0.000\n",
       "L4.temperature_2m (°C)                        0.095316         0.070620            1.350           0.177\n",
       "L4.relative_humidity_2m (%)                  -0.016787         0.009874           -1.700           0.089\n",
       "L4.precipitation (mm)                         0.015800         0.008322            1.899           0.058\n",
       "L4.ET₀ (mm)                                  -0.474000         0.200304           -2.366           0.018\n",
       "L4.wind_speed_10m (km/h)                     -0.071936         0.024329           -2.957           0.003\n",
       "L4.soil_temperature_28_to_100cm (°C)         -0.850418         0.901025           -0.944           0.345\n",
       "L4.soil_moisture_28_to_100cm (m³/m³)          8.671800        10.619118            0.817           0.414\n",
       "L4.shortwave_radiation_instant (W/m²)         0.000378         0.000136            2.781           0.005\n",
       "L5.temperature_2m (°C)                        0.004083         0.071685            0.057           0.955\n",
       "L5.relative_humidity_2m (%)                  -0.006759         0.009888           -0.684           0.494\n",
       "L5.precipitation (mm)                         0.010480         0.008415            1.245           0.213\n",
       "L5.ET₀ (mm)                                  -0.207720         0.200051           -1.038           0.299\n",
       "L5.wind_speed_10m (km/h)                     -0.051030         0.024303           -2.100           0.036\n",
       "L5.soil_temperature_28_to_100cm (°C)          0.535256         0.899565            0.595           0.552\n",
       "L5.soil_moisture_28_to_100cm (m³/m³)        -10.530450        10.573534           -0.996           0.319\n",
       "L5.shortwave_radiation_instant (W/m²)         0.000218         0.000136            1.605           0.109\n",
       "L6.temperature_2m (°C)                        0.073204         0.070091            1.044           0.296\n",
       "L6.relative_humidity_2m (%)                  -0.019770         0.009743           -2.029           0.042\n",
       "L6.precipitation (mm)                         0.008811         0.008080            1.090           0.276\n",
       "L6.ET₀ (mm)                                  -0.253837         0.195362           -1.299           0.194\n",
       "L6.wind_speed_10m (km/h)                     -0.041191         0.023689           -1.739           0.082\n",
       "L6.soil_temperature_28_to_100cm (°C)          0.748794         0.895713            0.836           0.403\n",
       "L6.soil_moisture_28_to_100cm (m³/m³)         29.142938        10.527877            2.768           0.006\n",
       "L6.shortwave_radiation_instant (W/m²)         0.000226         0.000131            1.721           0.085\n",
       "L7.temperature_2m (°C)                       -0.022154         0.066159           -0.335           0.738\n",
       "L7.relative_humidity_2m (%)                  -0.010610         0.009510           -1.116           0.265\n",
       "L7.precipitation (mm)                         0.001343         0.007148            0.188           0.851\n",
       "L7.ET₀ (mm)                                  -0.092354         0.184263           -0.501           0.616\n",
       "L7.wind_speed_10m (km/h)                     -0.029079         0.021924           -1.326           0.185\n",
       "L7.soil_temperature_28_to_100cm (°C)         -0.564085         0.868129           -0.650           0.516\n",
       "L7.soil_moisture_28_to_100cm (m³/m³)        -28.909171        10.498584           -2.754           0.006\n",
       "L7.shortwave_radiation_instant (W/m²)         0.000120         0.000122            0.987           0.324\n",
       "L8.temperature_2m (°C)                       -0.051659         0.059315           -0.871           0.384\n",
       "L8.relative_humidity_2m (%)                  -0.019458         0.008849           -2.199           0.028\n",
       "L8.precipitation (mm)                         0.005770         0.005635            1.024           0.306\n",
       "L8.ET₀ (mm)                                  -0.045698         0.163389           -0.280           0.780\n",
       "L8.wind_speed_10m (km/h)                     -0.030419         0.019191           -1.585           0.113\n",
       "L8.soil_temperature_28_to_100cm (°C)          0.639985         0.662344            0.966           0.334\n",
       "L8.soil_moisture_28_to_100cm (m³/m³)         -0.596883         9.219093           -0.065           0.948\n",
       "L8.shortwave_radiation_instant (W/m²)         0.000059         0.000105            0.559           0.576\n",
       "========================================================================================================\n",
       "\n",
       "Results for equation relative_humidity_2m (%)\n",
       "========================================================================================================\n",
       "                                           coefficient       std. error           t-stat            prob\n",
       "--------------------------------------------------------------------------------------------------------\n",
       "const                                        -0.054734         0.137708           -0.397           0.691\n",
       "L1.temperature_2m (°C)                        0.959565         0.192578            4.983           0.000\n",
       "L1.relative_humidity_2m (%)                  -0.067544         0.043371           -1.557           0.119\n",
       "L1.precipitation (mm)                        -0.018756         0.024862           -0.754           0.451\n",
       "L1.ET₀ (mm)                                  -1.165051         0.768010           -1.517           0.129\n",
       "L1.wind_speed_10m (km/h)                      0.391391         0.090676            4.316           0.000\n",
       "L1.soil_temperature_28_to_100cm (°C)         10.844944         3.865793            2.805           0.005\n",
       "L1.soil_moisture_28_to_100cm (m³/m³)        101.395682        44.574539            2.275           0.023\n",
       "L1.shortwave_radiation_instant (W/m²)         0.000233         0.000505            0.460           0.646\n",
       "L2.temperature_2m (°C)                       -0.543861         0.279173           -1.948           0.051\n",
       "L2.relative_humidity_2m (%)                  -0.034852         0.045123           -0.772           0.440\n",
       "L2.precipitation (mm)                        -0.067535         0.032859           -2.055           0.040\n",
       "L2.ET₀ (mm)                                   1.518021         0.874696            1.735           0.083\n",
       "L2.wind_speed_10m (km/h)                      0.140215         0.104032            1.348           0.178\n",
       "L2.soil_temperature_28_to_100cm (°C)         -4.279398         4.308294           -0.993           0.321\n",
       "L2.soil_moisture_28_to_100cm (m³/m³)       -125.840676        50.250889           -2.504           0.012\n",
       "L2.shortwave_radiation_instant (W/m²)        -0.001358         0.000580           -2.341           0.019\n",
       "L3.temperature_2m (°C)                       -0.245169         0.319493           -0.767           0.443\n",
       "L3.relative_humidity_2m (%)                  -0.056683         0.046614           -1.216           0.224\n",
       "L3.precipitation (mm)                        -0.026846         0.037722           -0.712           0.477\n",
       "L3.ET₀ (mm)                                   1.079862         0.932609            1.158           0.247\n",
       "L3.wind_speed_10m (km/h)                      0.124651         0.113167            1.101           0.271\n",
       "L3.soil_temperature_28_to_100cm (°C)         -6.056384         4.308186           -1.406           0.160\n",
       "L3.soil_moisture_28_to_100cm (m³/m³)         40.961981        50.441576            0.812           0.417\n",
       "L3.shortwave_radiation_instant (W/m²)        -0.001314         0.000631           -2.084           0.037\n",
       "L4.temperature_2m (°C)                       -0.214926         0.337329           -0.637           0.524\n",
       "L4.relative_humidity_2m (%)                  -0.034306         0.047166           -0.727           0.467\n",
       "L4.precipitation (mm)                        -0.052626         0.039751           -1.324           0.186\n",
       "L4.ET₀ (mm)                                   1.703459         0.956783            1.780           0.075\n",
       "L4.wind_speed_10m (km/h)                      0.148810         0.116211            1.281           0.200\n",
       "L4.soil_temperature_28_to_100cm (°C)          4.477763         4.303889            1.040           0.298\n",
       "L4.soil_moisture_28_to_100cm (m³/m³)        -11.334572        50.723917           -0.223           0.823\n",
       "L4.shortwave_radiation_instant (W/m²)        -0.001387         0.000650           -2.135           0.033\n",
       "L5.temperature_2m (°C)                       -0.080274         0.342414           -0.234           0.815\n",
       "L5.relative_humidity_2m (%)                  -0.059798         0.047231           -1.266           0.205\n",
       "L5.precipitation (mm)                        -0.043473         0.040194           -1.082           0.279\n",
       "L5.ET₀ (mm)                                   0.662216         0.955576            0.693           0.488\n",
       "L5.wind_speed_10m (km/h)                      0.090793         0.116088            0.782           0.434\n",
       "L5.soil_temperature_28_to_100cm (°C)          3.111847         4.296915            0.724           0.469\n",
       "L5.soil_moisture_28_to_100cm (m³/m³)         35.809924        50.506178            0.709           0.478\n",
       "L5.shortwave_radiation_instant (W/m²)        -0.000894         0.000649           -1.378           0.168\n",
       "L6.temperature_2m (°C)                       -0.458518         0.334800           -1.370           0.171\n",
       "L6.relative_humidity_2m (%)                  -0.000990         0.046538           -0.021           0.983\n",
       "L6.precipitation (mm)                        -0.043782         0.038595           -1.134           0.257\n",
       "L6.ET₀ (mm)                                   0.633541         0.933180            0.679           0.497\n",
       "L6.wind_speed_10m (km/h)                      0.116634         0.113156            1.031           0.303\n",
       "L6.soil_temperature_28_to_100cm (°C)         -8.846629         4.278517           -2.068           0.039\n",
       "L6.soil_moisture_28_to_100cm (m³/m³)       -115.423684        50.288088           -2.295           0.022\n",
       "L6.shortwave_radiation_instant (W/m²)        -0.000745         0.000628           -1.186           0.236\n",
       "L7.temperature_2m (°C)                        0.077738         0.316017            0.246           0.806\n",
       "L7.relative_humidity_2m (%)                   0.002490         0.045425            0.055           0.956\n",
       "L7.precipitation (mm)                        -0.007685         0.034145           -0.225           0.822\n",
       "L7.ET₀ (mm)                                   0.463102         0.880164            0.526           0.599\n",
       "L7.wind_speed_10m (km/h)                      0.006367         0.104722            0.061           0.952\n",
       "L7.soil_temperature_28_to_100cm (°C)          7.275641         4.146758            1.755           0.079\n",
       "L7.soil_moisture_28_to_100cm (m³/m³)        117.772464        50.148167            2.348           0.019\n",
       "L7.shortwave_radiation_instant (W/m²)        -0.000652         0.000582           -1.119           0.263\n",
       "L8.temperature_2m (°C)                       -0.044459         0.283328           -0.157           0.875\n",
       "L8.relative_humidity_2m (%)                   0.030639         0.042271            0.725           0.469\n",
       "L8.precipitation (mm)                        -0.013948         0.026915           -0.518           0.604\n",
       "L8.ET₀ (mm)                                   0.904487         0.780452            1.159           0.246\n",
       "L8.wind_speed_10m (km/h)                     -0.009035         0.091668           -0.099           0.921\n",
       "L8.soil_temperature_28_to_100cm (°C)         -3.395312         3.163791           -1.073           0.283\n",
       "L8.soil_moisture_28_to_100cm (m³/m³)         -5.666063        44.036473           -0.129           0.898\n",
       "L8.shortwave_radiation_instant (W/m²)        -0.000661         0.000504           -1.311           0.190\n",
       "========================================================================================================\n",
       "\n",
       "Results for equation precipitation (mm)\n",
       "========================================================================================================\n",
       "                                           coefficient       std. error           t-stat            prob\n",
       "--------------------------------------------------------------------------------------------------------\n",
       "const                                        -0.060300         0.166580           -0.362           0.717\n",
       "L1.temperature_2m (°C)                        1.385644         0.232953            5.948           0.000\n",
       "L1.relative_humidity_2m (%)                  -0.006873         0.052464           -0.131           0.896\n",
       "L1.precipitation (mm)                        -0.693708         0.030075          -23.066           0.000\n",
       "L1.ET₀ (mm)                                  -3.093008         0.929032           -3.329           0.001\n",
       "L1.wind_speed_10m (km/h)                      0.626991         0.109688            5.716           0.000\n",
       "L1.soil_temperature_28_to_100cm (°C)          1.146003         4.676297            0.245           0.806\n",
       "L1.soil_moisture_28_to_100cm (m³/m³)        -16.892568        53.920055           -0.313           0.754\n",
       "L1.shortwave_radiation_instant (W/m²)         0.001135         0.000611            1.857           0.063\n",
       "L2.temperature_2m (°C)                        0.037979         0.337704            0.112           0.910\n",
       "L2.relative_humidity_2m (%)                   0.022340         0.054584            0.409           0.682\n",
       "L2.precipitation (mm)                        -0.692345         0.039748          -17.418           0.000\n",
       "L2.ET₀ (mm)                                  -1.216054         1.058086           -1.149           0.250\n",
       "L2.wind_speed_10m (km/h)                      0.368232         0.125844            2.926           0.003\n",
       "L2.soil_temperature_28_to_100cm (°C)          1.156560         5.211573            0.222           0.824\n",
       "L2.soil_moisture_28_to_100cm (m³/m³)        -33.187441        60.786510           -0.546           0.585\n",
       "L2.shortwave_radiation_instant (W/m²)         0.000272         0.000702            0.387           0.699\n",
       "L3.temperature_2m (°C)                        0.489660         0.386479            1.267           0.205\n",
       "L3.relative_humidity_2m (%)                   0.037305         0.056388            0.662           0.508\n",
       "L3.precipitation (mm)                        -0.567097         0.045631          -12.428           0.000\n",
       "L3.ET₀ (mm)                                  -0.551582         1.128140           -0.489           0.625\n",
       "L3.wind_speed_10m (km/h)                      0.217429         0.136894            1.588           0.112\n",
       "L3.soil_temperature_28_to_100cm (°C)        -10.864605         5.211442           -2.085           0.037\n",
       "L3.soil_moisture_28_to_100cm (m³/m³)        -62.502747        61.017177           -1.024           0.306\n",
       "L3.shortwave_radiation_instant (W/m²)        -0.000828         0.000763           -1.085           0.278\n",
       "L4.temperature_2m (°C)                        0.619322         0.408054            1.518           0.129\n",
       "L4.relative_humidity_2m (%)                   0.075947         0.057055            1.331           0.183\n",
       "L4.precipitation (mm)                        -0.537345         0.048086          -11.175           0.000\n",
       "L4.ET₀ (mm)                                   0.017292         1.157382            0.015           0.988\n",
       "L4.wind_speed_10m (km/h)                      0.280241         0.140576            1.994           0.046\n",
       "L4.soil_temperature_28_to_100cm (°C)          2.537667         5.206244            0.487           0.626\n",
       "L4.soil_moisture_28_to_100cm (m³/m³)        -73.460377        61.358714           -1.197           0.231\n",
       "L4.shortwave_radiation_instant (W/m²)        -0.000742         0.000786           -0.944           0.345\n",
       "L5.temperature_2m (°C)                        0.895524         0.414204            2.162           0.031\n",
       "L5.relative_humidity_2m (%)                  -0.029348         0.057134           -0.514           0.607\n",
       "L5.precipitation (mm)                        -0.418398         0.048621           -8.605           0.000\n",
       "L5.ET₀ (mm)                                  -1.350093         1.155923           -1.168           0.243\n",
       "L5.wind_speed_10m (km/h)                      0.341332         0.140427            2.431           0.015\n",
       "L5.soil_temperature_28_to_100cm (°C)          6.195159         5.197808            1.192           0.233\n",
       "L5.soil_moisture_28_to_100cm (m³/m³)       -110.074245        61.095324           -1.802           0.072\n",
       "L5.shortwave_radiation_instant (W/m²)        -0.000075         0.000785           -0.096           0.924\n",
       "L6.temperature_2m (°C)                        0.272012         0.404995            0.672           0.502\n",
       "L6.relative_humidity_2m (%)                  -0.011003         0.056296           -0.195           0.845\n",
       "L6.precipitation (mm)                        -0.323721         0.046687           -6.934           0.000\n",
       "L6.ET₀ (mm)                                  -1.022125         1.128831           -0.905           0.365\n",
       "L6.wind_speed_10m (km/h)                      0.392110         0.136881            2.865           0.004\n",
       "L6.soil_temperature_28_to_100cm (°C)         -6.455790         5.175553           -1.247           0.212\n",
       "L6.soil_moisture_28_to_100cm (m³/m³)        -37.257760        60.831509           -0.612           0.540\n",
       "L6.shortwave_radiation_instant (W/m²)        -0.000152         0.000760           -0.200           0.842\n",
       "L7.temperature_2m (°C)                        0.292654         0.382274            0.766           0.444\n",
       "L7.relative_humidity_2m (%)                  -0.006335         0.054949           -0.115           0.908\n",
       "L7.precipitation (mm)                        -0.201382         0.041304           -4.876           0.000\n",
       "L7.ET₀ (mm)                                   0.026246         1.064699            0.025           0.980\n",
       "L7.wind_speed_10m (km/h)                      0.194214         0.126678            1.533           0.125\n",
       "L7.soil_temperature_28_to_100cm (°C)          2.914621         5.016169            0.581           0.561\n",
       "L7.soil_moisture_28_to_100cm (m³/m³)         37.166230        60.662252            0.613           0.540\n",
       "L7.shortwave_radiation_instant (W/m²)        -0.000525         0.000704           -0.745           0.456\n",
       "L8.temperature_2m (°C)                        0.448085         0.342731            1.307           0.191\n",
       "L8.relative_humidity_2m (%)                   0.038581         0.051133            0.755           0.451\n",
       "L8.precipitation (mm)                        -0.121530         0.032558           -3.733           0.000\n",
       "L8.ET₀ (mm)                                  -0.246827         0.944082           -0.261           0.794\n",
       "L8.wind_speed_10m (km/h)                      0.218697         0.110887            1.972           0.049\n",
       "L8.soil_temperature_28_to_100cm (°C)          1.764094         3.827112            0.461           0.645\n",
       "L8.soil_moisture_28_to_100cm (m³/m³)          0.208941        53.269178            0.004           0.997\n",
       "L8.shortwave_radiation_instant (W/m²)         0.000037         0.000609            0.060           0.952\n",
       "========================================================================================================\n",
       "\n",
       "Results for equation ET₀ (mm)\n",
       "========================================================================================================\n",
       "                                           coefficient       std. error           t-stat            prob\n",
       "--------------------------------------------------------------------------------------------------------\n",
       "const                                         0.008549         0.016363            0.522           0.601\n",
       "L1.temperature_2m (°C)                       -0.013953         0.022883           -0.610           0.542\n",
       "L1.relative_humidity_2m (%)                  -0.017457         0.005154           -3.387           0.001\n",
       "L1.precipitation (mm)                        -0.007911         0.002954           -2.678           0.007\n",
       "L1.ET₀ (mm)                                  -0.338717         0.091257           -3.712           0.000\n",
       "L1.wind_speed_10m (km/h)                     -0.068532         0.010774           -6.361           0.000\n",
       "L1.soil_temperature_28_to_100cm (°C)         -1.393462         0.459346           -3.034           0.002\n",
       "L1.soil_moisture_28_to_100cm (m³/m³)         -5.779712         5.296488           -1.091           0.275\n",
       "L1.shortwave_radiation_instant (W/m²)        -0.000211         0.000060           -3.509           0.000\n",
       "L2.temperature_2m (°C)                        0.104217         0.033172            3.142           0.002\n",
       "L2.relative_humidity_2m (%)                  -0.016869         0.005362           -3.146           0.002\n",
       "L2.precipitation (mm)                         0.000883         0.003904            0.226           0.821\n",
       "L2.ET₀ (mm)                                  -0.397759         0.103934           -3.827           0.000\n",
       "L2.wind_speed_10m (km/h)                     -0.043159         0.012361           -3.491           0.000\n",
       "L2.soil_temperature_28_to_100cm (°C)         -0.096801         0.511925           -0.189           0.850\n",
       "L2.soil_moisture_28_to_100cm (m³/m³)          3.916766         5.970969            0.656           0.512\n",
       "L2.shortwave_radiation_instant (W/m²)        -0.000064         0.000069           -0.927           0.354\n",
       "L3.temperature_2m (°C)                        0.072776         0.037963            1.917           0.055\n",
       "L3.relative_humidity_2m (%)                  -0.016362         0.005539           -2.954           0.003\n",
       "L3.precipitation (mm)                         0.003441         0.004482            0.768           0.443\n",
       "L3.ET₀ (mm)                                  -0.380669         0.110816           -3.435           0.001\n",
       "L3.wind_speed_10m (km/h)                     -0.031474         0.013447           -2.341           0.019\n",
       "L3.soil_temperature_28_to_100cm (°C)          0.779490         0.511912            1.523           0.128\n",
       "L3.soil_moisture_28_to_100cm (m³/m³)          4.744633         5.993627            0.792           0.429\n",
       "L3.shortwave_radiation_instant (W/m²)         0.000051         0.000075            0.677           0.498\n",
       "L4.temperature_2m (°C)                        0.084916         0.040083            2.119           0.034\n",
       "L4.relative_humidity_2m (%)                  -0.009200         0.005604           -1.642           0.101\n",
       "L4.precipitation (mm)                         0.006779         0.004723            1.435           0.151\n",
       "L4.ET₀ (mm)                                  -0.295426         0.113688           -2.599           0.009\n",
       "L4.wind_speed_10m (km/h)                     -0.045026         0.013809           -3.261           0.001\n",
       "L4.soil_temperature_28_to_100cm (°C)         -0.779542         0.511402           -1.524           0.127\n",
       "L4.soil_moisture_28_to_100cm (m³/m³)          6.729205         6.027176            1.116           0.264\n",
       "L4.shortwave_radiation_instant (W/m²)         0.000021         0.000077            0.273           0.785\n",
       "L5.temperature_2m (°C)                        0.060906         0.040687            1.497           0.134\n",
       "L5.relative_humidity_2m (%)                  -0.004263         0.005612           -0.760           0.447\n",
       "L5.precipitation (mm)                         0.003530         0.004776            0.739           0.460\n",
       "L5.ET₀ (mm)                                  -0.181457         0.113545           -1.598           0.110\n",
       "L5.wind_speed_10m (km/h)                     -0.035291         0.013794           -2.558           0.011\n",
       "L5.soil_temperature_28_to_100cm (°C)          0.289628         0.510573            0.567           0.571\n",
       "L5.soil_moisture_28_to_100cm (m³/m³)         -0.826062         6.001304           -0.138           0.891\n",
       "L5.shortwave_radiation_instant (W/m²)        -0.000008         0.000077           -0.110           0.912\n",
       "L6.temperature_2m (°C)                        0.094059         0.039782            2.364           0.018\n",
       "L6.relative_humidity_2m (%)                  -0.008828         0.005530           -1.596           0.110\n",
       "L6.precipitation (mm)                         0.003724         0.004586            0.812           0.417\n",
       "L6.ET₀ (mm)                                  -0.230400         0.110883           -2.078           0.038\n",
       "L6.wind_speed_10m (km/h)                     -0.021616         0.013446           -1.608           0.108\n",
       "L6.soil_temperature_28_to_100cm (°C)          0.501896         0.508387            0.987           0.324\n",
       "L6.soil_moisture_28_to_100cm (m³/m³)         14.173281         5.975390            2.372           0.018\n",
       "L6.shortwave_radiation_instant (W/m²)         0.000038         0.000075            0.510           0.610\n",
       "L7.temperature_2m (°C)                        0.026110         0.037550            0.695           0.487\n",
       "L7.relative_humidity_2m (%)                  -0.001141         0.005398           -0.211           0.833\n",
       "L7.precipitation (mm)                        -0.000589         0.004057           -0.145           0.885\n",
       "L7.ET₀ (mm)                                  -0.086840         0.104584           -0.830           0.406\n",
       "L7.wind_speed_10m (km/h)                     -0.018563         0.012443           -1.492           0.136\n",
       "L7.soil_temperature_28_to_100cm (°C)         -0.438539         0.492731           -0.890           0.373\n",
       "L7.soil_moisture_28_to_100cm (m³/m³)        -21.262471         5.958764           -3.568           0.000\n",
       "L7.shortwave_radiation_instant (W/m²)        -0.000000         0.000069           -0.001           0.999\n",
       "L8.temperature_2m (°C)                        0.014809         0.033666            0.440           0.660\n",
       "L8.relative_humidity_2m (%)                  -0.009766         0.005023           -1.944           0.052\n",
       "L8.precipitation (mm)                         0.003227         0.003198            1.009           0.313\n",
       "L8.ET₀ (mm)                                  -0.100203         0.092736           -1.081           0.280\n",
       "L8.wind_speed_10m (km/h)                     -0.022285         0.010892           -2.046           0.041\n",
       "L8.soil_temperature_28_to_100cm (°C)          0.581438         0.375932            1.547           0.122\n",
       "L8.soil_moisture_28_to_100cm (m³/m³)          5.543683         5.232553            1.059           0.289\n",
       "L8.shortwave_radiation_instant (W/m²)         0.000003         0.000060            0.051           0.959\n",
       "========================================================================================================\n",
       "\n",
       "Results for equation wind_speed_10m (km/h)\n",
       "========================================================================================================\n",
       "                                           coefficient       std. error           t-stat            prob\n",
       "--------------------------------------------------------------------------------------------------------\n",
       "const                                        -0.014437         0.053706           -0.269           0.788\n",
       "L1.temperature_2m (°C)                        0.527761         0.075104            7.027           0.000\n",
       "L1.relative_humidity_2m (%)                   0.002604         0.016915            0.154           0.878\n",
       "L1.precipitation (mm)                         0.015925         0.009696            1.642           0.100\n",
       "L1.ET₀ (mm)                                  -0.205763         0.299520           -0.687           0.492\n",
       "L1.wind_speed_10m (km/h)                     -0.532922         0.035363          -15.070           0.000\n",
       "L1.soil_temperature_28_to_100cm (°C)         -2.667331         1.507638           -1.769           0.077\n",
       "L1.soil_moisture_28_to_100cm (m³/m³)        -15.155599        17.383826           -0.872           0.383\n",
       "L1.shortwave_radiation_instant (W/m²)        -0.000148         0.000197           -0.748           0.454\n",
       "L2.temperature_2m (°C)                        0.121978         0.108876            1.120           0.263\n",
       "L2.relative_humidity_2m (%)                   0.012208         0.017598            0.694           0.488\n",
       "L2.precipitation (mm)                        -0.004782         0.012815           -0.373           0.709\n",
       "L2.ET₀ (mm)                                   0.724403         0.341127            2.124           0.034\n",
       "L2.wind_speed_10m (km/h)                     -0.577453         0.040572          -14.233           0.000\n",
       "L2.soil_temperature_28_to_100cm (°C)          0.908622         1.680211            0.541           0.589\n",
       "L2.soil_moisture_28_to_100cm (m³/m³)        -14.939051        19.597571           -0.762           0.446\n",
       "L2.shortwave_radiation_instant (W/m²)        -0.000526         0.000226           -2.325           0.020\n",
       "L3.temperature_2m (°C)                        0.336973         0.124601            2.704           0.007\n",
       "L3.relative_humidity_2m (%)                   0.023372         0.018179            1.286           0.199\n",
       "L3.precipitation (mm)                        -0.013060         0.014712           -0.888           0.375\n",
       "L3.ET₀ (mm)                                   0.384596         0.363712            1.057           0.290\n",
       "L3.wind_speed_10m (km/h)                     -0.458209         0.044135          -10.382           0.000\n",
       "L3.soil_temperature_28_to_100cm (°C)         -2.710233         1.680169           -1.613           0.107\n",
       "L3.soil_moisture_28_to_100cm (m³/m³)         14.959322        19.671938            0.760           0.447\n",
       "L3.shortwave_radiation_instant (W/m²)        -0.000315         0.000246           -1.282           0.200\n",
       "L4.temperature_2m (°C)                        0.478671         0.131557            3.639           0.000\n",
       "L4.relative_humidity_2m (%)                   0.007306         0.018394            0.397           0.691\n",
       "L4.precipitation (mm)                        -0.029722         0.015503           -1.917           0.055\n",
       "L4.ET₀ (mm)                                   0.107703         0.373140            0.289           0.773\n",
       "L4.wind_speed_10m (km/h)                     -0.357311         0.045322           -7.884           0.000\n",
       "L4.soil_temperature_28_to_100cm (°C)         -1.988470         1.678493           -1.185           0.236\n",
       "L4.soil_moisture_28_to_100cm (m³/m³)        -14.473956        19.782049           -0.732           0.464\n",
       "L4.shortwave_radiation_instant (W/m²)        -0.000200         0.000253           -0.788           0.431\n",
       "L5.temperature_2m (°C)                        0.307149         0.133539            2.300           0.021\n",
       "L5.relative_humidity_2m (%)                  -0.009840         0.018420           -0.534           0.593\n",
       "L5.precipitation (mm)                        -0.028023         0.015675           -1.788           0.074\n",
       "L5.ET₀ (mm)                                   0.325268         0.372670            0.873           0.383\n",
       "L5.wind_speed_10m (km/h)                     -0.324047         0.045274           -7.158           0.000\n",
       "L5.soil_temperature_28_to_100cm (°C)          3.632015         1.675773            2.167           0.030\n",
       "L5.soil_moisture_28_to_100cm (m³/m³)        -35.575985        19.697132           -1.806           0.071\n",
       "L5.shortwave_radiation_instant (W/m²)        -0.000352         0.000253           -1.391           0.164\n",
       "L6.temperature_2m (°C)                        0.391784         0.130570            3.001           0.003\n",
       "L6.relative_humidity_2m (%)                   0.009756         0.018150            0.538           0.591\n",
       "L6.precipitation (mm)                        -0.025407         0.015052           -1.688           0.091\n",
       "L6.ET₀ (mm)                                  -0.101349         0.363935           -0.278           0.781\n",
       "L6.wind_speed_10m (km/h)                     -0.234507         0.044130           -5.314           0.000\n",
       "L6.soil_temperature_28_to_100cm (°C)         -0.771980         1.668598           -0.463           0.644\n",
       "L6.soil_moisture_28_to_100cm (m³/m³)         11.476581        19.612078            0.585           0.558\n",
       "L6.shortwave_radiation_instant (W/m²)        -0.000353         0.000245           -1.443           0.149\n",
       "L7.temperature_2m (°C)                        0.253570         0.123245            2.057           0.040\n",
       "L7.relative_humidity_2m (%)                   0.017357         0.017716            0.980           0.327\n",
       "L7.precipitation (mm)                        -0.016665         0.013317           -1.251           0.211\n",
       "L7.ET₀ (mm)                                   0.103043         0.343259            0.300           0.764\n",
       "L7.wind_speed_10m (km/h)                     -0.143180         0.040841           -3.506           0.000\n",
       "L7.soil_temperature_28_to_100cm (°C)          1.328998         1.617213            0.822           0.411\n",
       "L7.soil_moisture_28_to_100cm (m³/m³)         -6.454498        19.557510           -0.330           0.741\n",
       "L7.shortwave_radiation_instant (W/m²)        -0.000262         0.000227           -1.154           0.249\n",
       "L8.temperature_2m (°C)                        0.151760         0.110496            1.373           0.170\n",
       "L8.relative_humidity_2m (%)                   0.001515         0.016485            0.092           0.927\n",
       "L8.precipitation (mm)                        -0.017477         0.010497           -1.665           0.096\n",
       "L8.ET₀ (mm)                                   0.022281         0.304372            0.073           0.942\n",
       "L8.wind_speed_10m (km/h)                     -0.061215         0.035750           -1.712           0.087\n",
       "L8.soil_temperature_28_to_100cm (°C)          0.324848         1.233861            0.263           0.792\n",
       "L8.soil_moisture_28_to_100cm (m³/m³)          3.944330        17.173983            0.230           0.818\n",
       "L8.shortwave_radiation_instant (W/m²)        -0.000163         0.000196           -0.829           0.407\n",
       "========================================================================================================\n",
       "\n",
       "Results for equation soil_temperature_28_to_100cm (°C)\n",
       "========================================================================================================\n",
       "                                           coefficient       std. error           t-stat            prob\n",
       "--------------------------------------------------------------------------------------------------------\n",
       "const                                         0.000353         0.001000            0.353           0.724\n",
       "L1.temperature_2m (°C)                        0.047386         0.001398           33.894           0.000\n",
       "L1.relative_humidity_2m (%)                   0.001242         0.000315            3.944           0.000\n",
       "L1.precipitation (mm)                        -0.001191         0.000180           -6.601           0.000\n",
       "L1.ET₀ (mm)                                   0.000947         0.005576            0.170           0.865\n",
       "L1.wind_speed_10m (km/h)                     -0.003395         0.000658           -5.157           0.000\n",
       "L1.soil_temperature_28_to_100cm (°C)          0.444804         0.028064           15.849           0.000\n",
       "L1.soil_moisture_28_to_100cm (m³/m³)         -0.434808         0.323597           -1.344           0.179\n",
       "L1.shortwave_radiation_instant (W/m²)         0.000010         0.000004            2.686           0.007\n",
       "L2.temperature_2m (°C)                        0.041484         0.002027           20.469           0.000\n",
       "L2.relative_humidity_2m (%)                   0.000607         0.000328            1.854           0.064\n",
       "L2.precipitation (mm)                        -0.001412         0.000239           -5.918           0.000\n",
       "L2.ET₀ (mm)                                  -0.003875         0.006350           -0.610           0.542\n",
       "L2.wind_speed_10m (km/h)                     -0.002608         0.000755           -3.453           0.001\n",
       "L2.soil_temperature_28_to_100cm (°C)          0.030881         0.031277            0.987           0.323\n",
       "L2.soil_moisture_28_to_100cm (m³/m³)          0.051673         0.364805            0.142           0.887\n",
       "L2.shortwave_radiation_instant (W/m²)         0.000005         0.000004            1.297           0.195\n",
       "L3.temperature_2m (°C)                        0.028528         0.002319           12.300           0.000\n",
       "L3.relative_humidity_2m (%)                   0.000419         0.000338            1.237           0.216\n",
       "L3.precipitation (mm)                        -0.000917         0.000274           -3.348           0.001\n",
       "L3.ET₀ (mm)                                   0.000017         0.006770            0.003           0.998\n",
       "L3.wind_speed_10m (km/h)                     -0.002006         0.000822           -2.441           0.015\n",
       "L3.soil_temperature_28_to_100cm (°C)          0.052128         0.031276            1.667           0.096\n",
       "L3.soil_moisture_28_to_100cm (m³/m³)          0.501576         0.366189            1.370           0.171\n",
       "L3.shortwave_radiation_instant (W/m²)         0.000001         0.000005            0.277           0.782\n",
       "L4.temperature_2m (°C)                        0.022127         0.002449            9.036           0.000\n",
       "L4.relative_humidity_2m (%)                   0.000333         0.000342            0.973           0.331\n",
       "L4.precipitation (mm)                        -0.000792         0.000289           -2.746           0.006\n",
       "L4.ET₀ (mm)                                   0.000160         0.006946            0.023           0.982\n",
       "L4.wind_speed_10m (km/h)                     -0.002173         0.000844           -2.576           0.010\n",
       "L4.soil_temperature_28_to_100cm (°C)          0.034451         0.031245            1.103           0.270\n",
       "L4.soil_moisture_28_to_100cm (m³/m³)         -0.151453         0.368239           -0.411           0.681\n",
       "L4.shortwave_radiation_instant (W/m²)        -0.000000         0.000005           -0.102           0.919\n",
       "L5.temperature_2m (°C)                        0.016888         0.002486            6.794           0.000\n",
       "L5.relative_humidity_2m (%)                   0.000568         0.000343            1.656           0.098\n",
       "L5.precipitation (mm)                        -0.000575         0.000292           -1.969           0.049\n",
       "L5.ET₀ (mm)                                   0.005988         0.006937            0.863           0.388\n",
       "L5.wind_speed_10m (km/h)                     -0.002445         0.000843           -2.902           0.004\n",
       "L5.soil_temperature_28_to_100cm (°C)          0.031333         0.031194            1.004           0.315\n",
       "L5.soil_moisture_28_to_100cm (m³/m³)          0.019891         0.366658            0.054           0.957\n",
       "L5.shortwave_radiation_instant (W/m²)        -0.000005         0.000005           -1.107           0.269\n",
       "L6.temperature_2m (°C)                        0.014321         0.002431            5.892           0.000\n",
       "L6.relative_humidity_2m (%)                   0.000071         0.000338            0.211           0.833\n",
       "L6.precipitation (mm)                        -0.000344         0.000280           -1.226           0.220\n",
       "L6.ET₀ (mm)                                   0.001109         0.006775            0.164           0.870\n",
       "L6.wind_speed_10m (km/h)                     -0.001270         0.000821           -1.546           0.122\n",
       "L6.soil_temperature_28_to_100cm (°C)          0.043417         0.031061            1.398           0.162\n",
       "L6.soil_moisture_28_to_100cm (m³/m³)          0.329019         0.365075            0.901           0.367\n",
       "L6.shortwave_radiation_instant (W/m²)        -0.000002         0.000005           -0.501           0.616\n",
       "L7.temperature_2m (°C)                        0.007796         0.002294            3.398           0.001\n",
       "L7.relative_humidity_2m (%)                   0.000252         0.000330            0.764           0.445\n",
       "L7.precipitation (mm)                        -0.000191         0.000248           -0.771           0.441\n",
       "L7.ET₀ (mm)                                   0.009124         0.006390            1.428           0.153\n",
       "L7.wind_speed_10m (km/h)                     -0.001828         0.000760           -2.405           0.016\n",
       "L7.soil_temperature_28_to_100cm (°C)          0.023415         0.030104            0.778           0.437\n",
       "L7.soil_moisture_28_to_100cm (m³/m³)         -0.694777         0.364059           -1.908           0.056\n",
       "L7.shortwave_radiation_instant (W/m²)        -0.000006         0.000004           -1.345           0.179\n",
       "L8.temperature_2m (°C)                        0.005757         0.002057            2.799           0.005\n",
       "L8.relative_humidity_2m (%)                  -0.000016         0.000307           -0.053           0.958\n",
       "L8.precipitation (mm)                         0.000161         0.000195            0.822           0.411\n",
       "L8.ET₀ (mm)                                   0.002100         0.005666            0.371           0.711\n",
       "L8.wind_speed_10m (km/h)                     -0.001522         0.000665           -2.287           0.022\n",
       "L8.soil_temperature_28_to_100cm (°C)          0.075389         0.022968            3.282           0.001\n",
       "L8.soil_moisture_28_to_100cm (m³/m³)         -0.051640         0.319690           -0.162           0.872\n",
       "L8.shortwave_radiation_instant (W/m²)        -0.000002         0.000004           -0.640           0.522\n",
       "========================================================================================================\n",
       "\n",
       "Results for equation soil_moisture_28_to_100cm (m³/m³)\n",
       "========================================================================================================\n",
       "                                           coefficient       std. error           t-stat            prob\n",
       "--------------------------------------------------------------------------------------------------------\n",
       "const                                        -0.000025         0.000081           -0.316           0.752\n",
       "L1.temperature_2m (°C)                       -0.000022         0.000113           -0.191           0.848\n",
       "L1.relative_humidity_2m (%)                  -0.000053         0.000025           -2.082           0.037\n",
       "L1.precipitation (mm)                         0.000225         0.000015           15.444           0.000\n",
       "L1.ET₀ (mm)                                  -0.000303         0.000450           -0.674           0.501\n",
       "L1.wind_speed_10m (km/h)                      0.000003         0.000053            0.055           0.956\n",
       "L1.soil_temperature_28_to_100cm (°C)          0.001045         0.002264            0.461           0.645\n",
       "L1.soil_moisture_28_to_100cm (m³/m³)          0.524789         0.026106           20.102           0.000\n",
       "L1.shortwave_radiation_instant (W/m²)         0.000000         0.000000            0.166           0.868\n",
       "L2.temperature_2m (°C)                       -0.000031         0.000164           -0.190           0.849\n",
       "L2.relative_humidity_2m (%)                   0.000035         0.000026            1.308           0.191\n",
       "L2.precipitation (mm)                         0.000179         0.000019            9.308           0.000\n",
       "L2.ET₀ (mm)                                   0.000123         0.000512            0.241           0.810\n",
       "L2.wind_speed_10m (km/h)                      0.000003         0.000061            0.054           0.957\n",
       "L2.soil_temperature_28_to_100cm (°C)          0.000341         0.002523            0.135           0.892\n",
       "L2.soil_moisture_28_to_100cm (m³/m³)         -0.072367         0.029430           -2.459           0.014\n",
       "L2.shortwave_radiation_instant (W/m²)         0.000000         0.000000            0.106           0.916\n",
       "L3.temperature_2m (°C)                        0.000034         0.000187            0.182           0.856\n",
       "L3.relative_humidity_2m (%)                   0.000011         0.000027            0.419           0.675\n",
       "L3.precipitation (mm)                         0.000178         0.000022            8.057           0.000\n",
       "L3.ET₀ (mm)                                   0.000450         0.000546            0.824           0.410\n",
       "L3.wind_speed_10m (km/h)                     -0.000092         0.000066           -1.384           0.166\n",
       "L3.soil_temperature_28_to_100cm (°C)          0.000450         0.002523            0.178           0.858\n",
       "L3.soil_moisture_28_to_100cm (m³/m³)          0.106224         0.029542            3.596           0.000\n",
       "L3.shortwave_radiation_instant (W/m²)        -0.000000         0.000000           -0.273           0.785\n",
       "L4.temperature_2m (°C)                       -0.000200         0.000198           -1.011           0.312\n",
       "L4.relative_humidity_2m (%)                   0.000020         0.000028            0.713           0.476\n",
       "L4.precipitation (mm)                         0.000146         0.000023            6.273           0.000\n",
       "L4.ET₀ (mm)                                   0.000246         0.000560            0.438           0.661\n",
       "L4.wind_speed_10m (km/h)                     -0.000020         0.000068           -0.300           0.765\n",
       "L4.soil_temperature_28_to_100cm (°C)          0.001346         0.002521            0.534           0.593\n",
       "L4.soil_moisture_28_to_100cm (m³/m³)         -0.008811         0.029707           -0.297           0.767\n",
       "L4.shortwave_radiation_instant (W/m²)        -0.000000         0.000000           -0.501           0.616\n",
       "L5.temperature_2m (°C)                       -0.000087         0.000201           -0.434           0.665\n",
       "L5.relative_humidity_2m (%)                   0.000037         0.000028            1.323           0.186\n",
       "L5.precipitation (mm)                         0.000108         0.000024            4.590           0.000\n",
       "L5.ET₀ (mm)                                   0.000315         0.000560            0.563           0.573\n",
       "L5.wind_speed_10m (km/h)                     -0.000126         0.000068           -1.855           0.064\n",
       "L5.soil_temperature_28_to_100cm (°C)          0.000934         0.002517            0.371           0.710\n",
       "L5.soil_moisture_28_to_100cm (m³/m³)          0.043215         0.029580            1.461           0.144\n",
       "L5.shortwave_radiation_instant (W/m²)        -0.000000         0.000000           -0.442           0.659\n",
       "L6.temperature_2m (°C)                       -0.000192         0.000196           -0.981           0.327\n",
       "L6.relative_humidity_2m (%)                   0.000003         0.000027            0.115           0.909\n",
       "L6.precipitation (mm)                         0.000089         0.000023            3.922           0.000\n",
       "L6.ET₀ (mm)                                   0.000094         0.000547            0.171           0.864\n",
       "L6.wind_speed_10m (km/h)                     -0.000091         0.000066           -1.375           0.169\n",
       "L6.soil_temperature_28_to_100cm (°C)         -0.002191         0.002506           -0.875           0.382\n",
       "L6.soil_moisture_28_to_100cm (m³/m³)         -0.019724         0.029452           -0.670           0.503\n",
       "L6.shortwave_radiation_instant (W/m²)        -0.000000         0.000000           -0.301           0.764\n",
       "L7.temperature_2m (°C)                       -0.000099         0.000185           -0.536           0.592\n",
       "L7.relative_humidity_2m (%)                  -0.000019         0.000027           -0.715           0.475\n",
       "L7.precipitation (mm)                         0.000065         0.000020            3.227           0.001\n",
       "L7.ET₀ (mm)                                  -0.000129         0.000515           -0.250           0.802\n",
       "L7.wind_speed_10m (km/h)                     -0.000068         0.000061           -1.115           0.265\n",
       "L7.soil_temperature_28_to_100cm (°C)         -0.000283         0.002429           -0.117           0.907\n",
       "L7.soil_moisture_28_to_100cm (m³/m³)          0.072506         0.029370            2.469           0.014\n",
       "L7.shortwave_radiation_instant (W/m²)        -0.000000         0.000000           -0.038           0.969\n",
       "L8.temperature_2m (°C)                       -0.000015         0.000166           -0.089           0.929\n",
       "L8.relative_humidity_2m (%)                  -0.000000         0.000025           -0.010           0.992\n",
       "L8.precipitation (mm)                         0.000027         0.000016            1.704           0.088\n",
       "L8.ET₀ (mm)                                   0.000321         0.000457            0.701           0.483\n",
       "L8.wind_speed_10m (km/h)                     -0.000068         0.000054           -1.260           0.208\n",
       "L8.soil_temperature_28_to_100cm (°C)         -0.001980         0.001853           -1.069           0.285\n",
       "L8.soil_moisture_28_to_100cm (m³/m³)          0.019009         0.025791            0.737           0.461\n",
       "L8.shortwave_radiation_instant (W/m²)        -0.000000         0.000000           -1.045           0.296\n",
       "========================================================================================================\n",
       "\n",
       "Results for equation shortwave_radiation_instant (W/m²)\n",
       "========================================================================================================\n",
       "                                           coefficient       std. error           t-stat            prob\n",
       "--------------------------------------------------------------------------------------------------------\n",
       "const                                        11.006663        19.799366            0.556           0.578\n",
       "L1.temperature_2m (°C)                     -167.044958        27.688300           -6.033           0.000\n",
       "L1.relative_humidity_2m (%)                  -7.896305         6.235803           -1.266           0.205\n",
       "L1.precipitation (mm)                       -13.015007         3.574595           -3.641           0.000\n",
       "L1.ET₀ (mm)                                 317.249870       110.422537            2.873           0.004\n",
       "L1.wind_speed_10m (km/h)                    -67.346539        13.037203           -5.166           0.000\n",
       "L1.soil_temperature_28_to_100cm (°C)       -655.529151       555.813832           -1.179           0.238\n",
       "L1.soil_moisture_28_to_100cm (m³/m³)      -2176.460627      6408.812944           -0.340           0.734\n",
       "L1.shortwave_radiation_instant (W/m²)        -0.805217         0.072678          -11.079           0.000\n",
       "L2.temperature_2m (°C)                       34.797638        40.138760            0.867           0.386\n",
       "L2.relative_humidity_2m (%)                  -4.538618         6.487681           -0.700           0.484\n",
       "L2.precipitation (mm)                        -4.270059         4.724353           -0.904           0.366\n",
       "L2.ET₀ (mm)                                 115.511544       125.761594            0.918           0.358\n",
       "L2.wind_speed_10m (km/h)                    -28.657808        14.957489           -1.916           0.055\n",
       "L2.soil_temperature_28_to_100cm (°C)       -526.814637       619.435468           -0.850           0.395\n",
       "L2.soil_moisture_28_to_100cm (m³/m³)      -1165.407574      7224.943919           -0.161           0.872\n",
       "L2.shortwave_radiation_instant (W/m²)        -0.603691         0.083412           -7.237           0.000\n",
       "L3.temperature_2m (°C)                      -32.558629        45.935951           -0.709           0.478\n",
       "L3.relative_humidity_2m (%)                 -11.947473         6.702099           -1.783           0.075\n",
       "L3.precipitation (mm)                         0.901018         5.423623            0.166           0.868\n",
       "L3.ET₀ (mm)                                  34.719980       134.088152            0.259           0.796\n",
       "L3.wind_speed_10m (km/h)                    -15.335910        16.270932           -0.943           0.346\n",
       "L3.soil_temperature_28_to_100cm (°C)       1157.462989       619.419979            1.869           0.062\n",
       "L3.soil_moisture_28_to_100cm (m³/m³)       7884.037397      7252.360454            1.087           0.277\n",
       "L3.shortwave_radiation_instant (W/m²)        -0.372530         0.090677           -4.108           0.000\n",
       "L4.temperature_2m (°C)                        3.266134        48.500329            0.067           0.946\n",
       "L4.relative_humidity_2m (%)                   1.128305         6.781392            0.166           0.868\n",
       "L4.precipitation (mm)                         5.247114         5.715344            0.918           0.359\n",
       "L4.ET₀ (mm)                                  88.679214       137.563775            0.645           0.519\n",
       "L4.wind_speed_10m (km/h)                    -34.625740        16.708547           -2.072           0.038\n",
       "L4.soil_temperature_28_to_100cm (°C)       -778.261597       618.802135           -1.258           0.209\n",
       "L4.soil_moisture_28_to_100cm (m³/m³)       8873.461869      7292.954741            1.217           0.224\n",
       "L4.shortwave_radiation_instant (W/m²)        -0.347386         0.093421           -3.719           0.000\n",
       "L5.temperature_2m (°C)                        6.894535        49.231358            0.140           0.889\n",
       "L5.relative_humidity_2m (%)                   5.616796         6.790761            0.827           0.408\n",
       "L5.precipitation (mm)                         2.929417         5.778989            0.507           0.612\n",
       "L5.ET₀ (mm)                                 116.195434       137.390334            0.846           0.398\n",
       "L5.wind_speed_10m (km/h)                    -28.275324        16.690848           -1.694           0.090\n",
       "L5.soil_temperature_28_to_100cm (°C)         83.855689       617.799416            0.136           0.892\n",
       "L5.soil_moisture_28_to_100cm (m³/m³)       4800.324730      7261.648797            0.661           0.509\n",
       "L5.shortwave_radiation_instant (W/m²)        -0.282537         0.093245           -3.030           0.002\n",
       "L6.temperature_2m (°C)                       42.579946        48.136724            0.885           0.376\n",
       "L6.relative_humidity_2m (%)                  -1.593694         6.691172           -0.238           0.812\n",
       "L6.precipitation (mm)                         5.195312         5.549130            0.936           0.349\n",
       "L6.ET₀ (mm)                                  -4.521198       134.170239           -0.034           0.973\n",
       "L6.wind_speed_10m (km/h)                     -7.758347        16.269317           -0.477           0.633\n",
       "L6.soil_temperature_28_to_100cm (°C)        543.566305       615.154193            0.884           0.377\n",
       "L6.soil_moisture_28_to_100cm (m³/m³)      13654.726241      7230.292346            1.889           0.059\n",
       "L6.shortwave_radiation_instant (W/m²)        -0.146392         0.090294           -1.621           0.105\n",
       "L7.temperature_2m (°C)                      -26.845237        45.436183           -0.591           0.555\n",
       "L7.relative_humidity_2m (%)                   2.955175         6.531114            0.452           0.651\n",
       "L7.precipitation (mm)                         0.630841         4.909333            0.128           0.898\n",
       "L7.ET₀ (mm)                                  40.302584       126.547660            0.318           0.750\n",
       "L7.wind_speed_10m (km/h)                    -13.138246        15.056651           -0.873           0.383\n",
       "L7.soil_temperature_28_to_100cm (°C)       -567.041183       596.210281           -0.951           0.342\n",
       "L7.soil_moisture_28_to_100cm (m³/m³)     -23949.896452      7210.174842           -3.322           0.001\n",
       "L7.shortwave_radiation_instant (W/m²)        -0.103537         0.083724           -1.237           0.216\n",
       "L8.temperature_2m (°C)                       -7.164819        40.736166           -0.176           0.860\n",
       "L8.relative_humidity_2m (%)                  -7.091237         6.077554           -1.167           0.243\n",
       "L8.precipitation (mm)                         5.125047         3.869765            1.324           0.185\n",
       "L8.ET₀ (mm)                                 -54.392416       112.211403           -0.485           0.628\n",
       "L8.wind_speed_10m (km/h)                    -28.045355        13.179718           -2.128           0.033\n",
       "L8.soil_temperature_28_to_100cm (°C)        560.314761       454.881726            1.232           0.218\n",
       "L8.soil_moisture_28_to_100cm (m³/m³)       7029.105389      6331.451195            1.110           0.267\n",
       "L8.shortwave_radiation_instant (W/m²)        -0.049034         0.072441           -0.677           0.498\n",
       "========================================================================================================\n",
       "\n",
       "Correlation matrix of residuals\n",
       "                                      temperature_2m (°C)  relative_humidity_2m (%)  precipitation (mm)  ET₀ (mm)  wind_speed_10m (km/h)  soil_temperature_28_to_100cm (°C)  soil_moisture_28_to_100cm (m³/m³)  shortwave_radiation_instant (W/m²)\n",
       "temperature_2m (°C)                              1.000000                 -0.694621           -0.332615  0.687232              -0.154741                           0.397346                          -0.125357                            0.533851\n",
       "relative_humidity_2m (%)                        -0.694621                  1.000000            0.363991 -0.720800               0.099238                          -0.301588                           0.161405                           -0.519721\n",
       "precipitation (mm)                              -0.332615                  0.363991            1.000000 -0.456786               0.286092                          -0.250248                           0.169147                           -0.491870\n",
       "ET₀ (mm)                                         0.687232                 -0.720800           -0.456786  1.000000              -0.002440                           0.359583                          -0.183253                            0.870270\n",
       "wind_speed_10m (km/h)                           -0.154741                  0.099238            0.286092 -0.002440               1.000000                          -0.090168                           0.073085                           -0.277826\n",
       "soil_temperature_28_to_100cm (°C)                0.397346                 -0.301588           -0.250248  0.359583              -0.090168                           1.000000                          -0.187589                            0.334680\n",
       "soil_moisture_28_to_100cm (m³/m³)               -0.125357                  0.161405            0.169147 -0.183253               0.073085                          -0.187589                           1.000000                           -0.209574\n",
       "shortwave_radiation_instant (W/m²)               0.533851                 -0.519721           -0.491870  0.870270              -0.277826                           0.334680                          -0.209574                            1.000000\n",
       "\n"
      ]
     },
     "execution_count": 17,
     "metadata": {},
     "output_type": "execute_result"
    }
   ],
   "source": [
    "## Fit the VAR model to the differenced data.\n",
    "# Fit the VAR model\n",
    "model = VAR(combined_historical_data_punjab_daily_diff)\n",
    "model_fit = model.fit(maxlags=15, ic='aic')\n",
    "\n",
    "# Summary of the model\n",
    "model_fit.summary()\n"
   ]
  },
  {
   "cell_type": "markdown",
   "metadata": {},
   "source": [
    "##  Forecast Future Values"
   ]
  },
  {
   "cell_type": "code",
   "execution_count": 18,
   "metadata": {},
   "outputs": [],
   "source": [
    "\n",
    "# Forecast the next 16 days\n",
    "forecast_steps = 16\n",
    "lag_order = model_fit.k_ar\n",
    "forecast_diff = model_fit.forecast(y=combined_historical_data_punjab_daily_diff.values[-lag_order:], steps=forecast_steps)\n",
    "\n",
    "# Create a DataFrame for the forecasted differenced values\n",
    "forecast_dates = pd.date_range(start=combined_historical_data_punjab_daily.index[-1] + pd.Timedelta(days=1), periods=forecast_steps, freq='D')\n",
    "forecasted_diff_df = pd.DataFrame(data=forecast_diff, index=forecast_dates, columns=combined_historical_data_punjab_daily_diff.columns)\n",
    "\n",
    "# Reverse the differencing to get the actual forecasted values\n",
    "# Get the last value from the original data\n",
    "last_values = combined_historical_data_punjab_daily.iloc[-1]\n",
    "\n",
    "# Initialize the DataFrame for the actual forecasted values\n",
    "forecasted_values_df = forecasted_diff_df.cumsum() + last_values\n",
    "\n"
   ]
  },
  {
   "cell_type": "code",
   "execution_count": 32,
   "metadata": {},
   "outputs": [
    {
     "name": "stdout",
     "output_type": "stream",
     "text": [
      "The model includes 8 lags.\n"
     ]
    }
   ],
   "source": [
    "\n",
    "# Number of lags included in the model\n",
    "number_of_lags = model_fit.k_ar\n",
    "print(f\"The model includes {number_of_lags} lags.\")\n"
   ]
  },
  {
   "cell_type": "markdown",
   "metadata": {},
   "source": [
    "## Time Series Model Evaluation "
   ]
  },
  {
   "cell_type": "code",
   "execution_count": 19,
   "metadata": {},
   "outputs": [
    {
     "name": "stdout",
     "output_type": "stream",
     "text": [
      "MAE: 74.7115270973062\n",
      "MSE: 57622.11963598779\n",
      "RMSE: 240.04607815164943\n",
      "Mean Actual: \n",
      "temperature_2m (°C)                     34.929427\n",
      "relative_humidity_2m (%)                34.651042\n",
      "precipitation (mm)                       0.550000\n",
      "ET₀ (mm)                                 7.208750\n",
      "wind_speed_10m (km/h)                    8.905990\n",
      "soil_temperature_28_to_100cm (°C)       31.795052\n",
      "soil_moisture_28_to_100cm (m³/m³)        0.170628\n",
      "shortwave_radiation_instant (W/m²)    6052.931250\n",
      "dtype: float64\n",
      "Mean Forecasted: \n",
      "temperature_2m (°C)                     33.633436\n",
      "relative_humidity_2m (%)                49.044189\n",
      "precipitation (mm)                       2.357919\n",
      "ET₀ (mm)                                 6.187635\n",
      "wind_speed_10m (km/h)                    8.587470\n",
      "soil_temperature_28_to_100cm (°C)       32.118987\n",
      "soil_moisture_28_to_100cm (m³/m³)        0.148893\n",
      "shortwave_radiation_instant (W/m²)    5794.080493\n",
      "dtype: float64\n",
      "RMSE (240.04607815164943) is less than the mean actual value (771.3927672526041). The model performs well.\n"
     ]
    }
   ],
   "source": [
    "from sklearn.metrics import mean_absolute_error, mean_squared_error\n",
    "import numpy as np\n",
    "import pandas as pd\n",
    "# Evaluate the forecasted values against the test set\n",
    "test = combined_historical_data_punjab_daily[-forecast_steps:]  # Take the last 16 days from your actual data for evaluation\n",
    "\n",
    "# Calculate accuracy metrics\n",
    "mae = mean_absolute_error(test, forecasted_values_df)\n",
    "mse = mean_squared_error(test, forecasted_values_df)\n",
    "rmse = np.sqrt(mse)\n",
    "\n",
    "# Calculate means\n",
    "mean_actual = test.mean()\n",
    "mean_forecasted = forecasted_values_df.mean()\n",
    "\n",
    "print(f'MAE: {mae}')\n",
    "print(f'MSE: {mse}')\n",
    "print(f'RMSE: {rmse}')\n",
    "print(f'Mean Actual: \\n{mean_actual}')\n",
    "print(f'Mean Forecasted: \\n{mean_forecasted}')\n",
    "\n",
    "# Compare RMSE with Mean Actual Values\n",
    "mean_actual_value = mean_actual.mean()  # Overall mean of actual values\n",
    "if rmse < mean_actual_value:\n",
    "    print(f\"RMSE ({rmse}) is less than the mean actual value ({mean_actual_value}). The model performs well.\")\n",
    "else:\n",
    "    print(f\"RMSE ({rmse}) is not less than the mean actual value ({mean_actual_value}). The model may not perform well.\")\n"
   ]
  },
  {
   "cell_type": "code",
   "execution_count": 20,
   "metadata": {},
   "outputs": [
    {
     "data": {
      "text/html": [
       "<div>\n",
       "<style scoped>\n",
       "    .dataframe tbody tr th:only-of-type {\n",
       "        vertical-align: middle;\n",
       "    }\n",
       "\n",
       "    .dataframe tbody tr th {\n",
       "        vertical-align: top;\n",
       "    }\n",
       "\n",
       "    .dataframe thead th {\n",
       "        text-align: right;\n",
       "    }\n",
       "</style>\n",
       "<table border=\"1\" class=\"dataframe\">\n",
       "  <thead>\n",
       "    <tr style=\"text-align: right;\">\n",
       "      <th></th>\n",
       "      <th>temperature_2m (°C)</th>\n",
       "      <th>relative_humidity_2m (%)</th>\n",
       "      <th>precipitation (mm)</th>\n",
       "      <th>ET₀ (mm)</th>\n",
       "      <th>wind_speed_10m (km/h)</th>\n",
       "      <th>soil_temperature_28_to_100cm (°C)</th>\n",
       "      <th>soil_moisture_28_to_100cm (m³/m³)</th>\n",
       "      <th>shortwave_radiation_instant (W/m²)</th>\n",
       "    </tr>\n",
       "  </thead>\n",
       "  <tbody>\n",
       "    <tr>\n",
       "      <th>2024-06-27</th>\n",
       "      <td>33.485684</td>\n",
       "      <td>51.922030</td>\n",
       "      <td>3.175716</td>\n",
       "      <td>6.087267</td>\n",
       "      <td>9.893391</td>\n",
       "      <td>32.159297</td>\n",
       "      <td>0.151301</td>\n",
       "      <td>5532.274992</td>\n",
       "    </tr>\n",
       "    <tr>\n",
       "      <th>2024-06-28</th>\n",
       "      <td>32.916669</td>\n",
       "      <td>51.655830</td>\n",
       "      <td>3.025517</td>\n",
       "      <td>5.924549</td>\n",
       "      <td>8.096456</td>\n",
       "      <td>32.141167</td>\n",
       "      <td>0.151364</td>\n",
       "      <td>5695.346844</td>\n",
       "    </tr>\n",
       "    <tr>\n",
       "      <th>2024-06-29</th>\n",
       "      <td>33.133722</td>\n",
       "      <td>49.130219</td>\n",
       "      <td>1.649165</td>\n",
       "      <td>6.156138</td>\n",
       "      <td>8.050732</td>\n",
       "      <td>32.104967</td>\n",
       "      <td>0.151169</td>\n",
       "      <td>5979.096925</td>\n",
       "    </tr>\n",
       "    <tr>\n",
       "      <th>2024-06-30</th>\n",
       "      <td>33.252638</td>\n",
       "      <td>48.470891</td>\n",
       "      <td>1.525484</td>\n",
       "      <td>6.023618</td>\n",
       "      <td>7.376871</td>\n",
       "      <td>32.072630</td>\n",
       "      <td>0.150937</td>\n",
       "      <td>5814.998824</td>\n",
       "    </tr>\n",
       "    <tr>\n",
       "      <th>2024-07-01</th>\n",
       "      <td>33.679895</td>\n",
       "      <td>48.014429</td>\n",
       "      <td>1.837287</td>\n",
       "      <td>6.266523</td>\n",
       "      <td>8.302632</td>\n",
       "      <td>32.056503</td>\n",
       "      <td>0.150157</td>\n",
       "      <td>5912.318781</td>\n",
       "    </tr>\n",
       "    <tr>\n",
       "      <th>2024-07-02</th>\n",
       "      <td>33.785034</td>\n",
       "      <td>48.126137</td>\n",
       "      <td>1.961745</td>\n",
       "      <td>6.197875</td>\n",
       "      <td>8.637876</td>\n",
       "      <td>32.061240</td>\n",
       "      <td>0.149337</td>\n",
       "      <td>5751.080471</td>\n",
       "    </tr>\n",
       "    <tr>\n",
       "      <th>2024-07-03</th>\n",
       "      <td>33.823935</td>\n",
       "      <td>48.677271</td>\n",
       "      <td>2.280144</td>\n",
       "      <td>6.267097</td>\n",
       "      <td>8.980018</td>\n",
       "      <td>32.074256</td>\n",
       "      <td>0.148624</td>\n",
       "      <td>5781.993430</td>\n",
       "    </tr>\n",
       "    <tr>\n",
       "      <th>2024-07-04</th>\n",
       "      <td>33.771206</td>\n",
       "      <td>49.020186</td>\n",
       "      <td>2.601003</td>\n",
       "      <td>6.223719</td>\n",
       "      <td>8.845173</td>\n",
       "      <td>32.090087</td>\n",
       "      <td>0.148214</td>\n",
       "      <td>5741.477886</td>\n",
       "    </tr>\n",
       "    <tr>\n",
       "      <th>2024-07-05</th>\n",
       "      <td>33.830014</td>\n",
       "      <td>48.810860</td>\n",
       "      <td>2.517737</td>\n",
       "      <td>6.276578</td>\n",
       "      <td>8.764976</td>\n",
       "      <td>32.102863</td>\n",
       "      <td>0.147923</td>\n",
       "      <td>5839.916349</td>\n",
       "    </tr>\n",
       "    <tr>\n",
       "      <th>2024-07-06</th>\n",
       "      <td>33.833332</td>\n",
       "      <td>48.671724</td>\n",
       "      <td>2.279188</td>\n",
       "      <td>6.252110</td>\n",
       "      <td>8.712107</td>\n",
       "      <td>32.118670</td>\n",
       "      <td>0.147792</td>\n",
       "      <td>5829.334885</td>\n",
       "    </tr>\n",
       "    <tr>\n",
       "      <th>2024-07-07</th>\n",
       "      <td>33.767522</td>\n",
       "      <td>48.878786</td>\n",
       "      <td>2.784862</td>\n",
       "      <td>6.203573</td>\n",
       "      <td>8.604933</td>\n",
       "      <td>32.134355</td>\n",
       "      <td>0.147715</td>\n",
       "      <td>5788.800127</td>\n",
       "    </tr>\n",
       "    <tr>\n",
       "      <th>2024-07-08</th>\n",
       "      <td>33.748819</td>\n",
       "      <td>48.777503</td>\n",
       "      <td>2.499896</td>\n",
       "      <td>6.225878</td>\n",
       "      <td>8.629181</td>\n",
       "      <td>32.145842</td>\n",
       "      <td>0.147747</td>\n",
       "      <td>5825.423613</td>\n",
       "    </tr>\n",
       "    <tr>\n",
       "      <th>2024-07-09</th>\n",
       "      <td>33.708929</td>\n",
       "      <td>48.819403</td>\n",
       "      <td>2.556772</td>\n",
       "      <td>6.188375</td>\n",
       "      <td>8.590530</td>\n",
       "      <td>32.153025</td>\n",
       "      <td>0.147687</td>\n",
       "      <td>5775.268744</td>\n",
       "    </tr>\n",
       "    <tr>\n",
       "      <th>2024-07-10</th>\n",
       "      <td>33.747180</td>\n",
       "      <td>48.650944</td>\n",
       "      <td>2.389411</td>\n",
       "      <td>6.222700</td>\n",
       "      <td>8.634587</td>\n",
       "      <td>32.156852</td>\n",
       "      <td>0.147586</td>\n",
       "      <td>5806.439268</td>\n",
       "    </tr>\n",
       "    <tr>\n",
       "      <th>2024-07-11</th>\n",
       "      <td>33.796265</td>\n",
       "      <td>48.575901</td>\n",
       "      <td>2.315302</td>\n",
       "      <td>6.230726</td>\n",
       "      <td>8.621229</td>\n",
       "      <td>32.161814</td>\n",
       "      <td>0.147454</td>\n",
       "      <td>5806.504231</td>\n",
       "    </tr>\n",
       "    <tr>\n",
       "      <th>2024-07-12</th>\n",
       "      <td>33.854133</td>\n",
       "      <td>48.504908</td>\n",
       "      <td>2.327466</td>\n",
       "      <td>6.255432</td>\n",
       "      <td>8.658821</td>\n",
       "      <td>32.170224</td>\n",
       "      <td>0.147274</td>\n",
       "      <td>5825.012520</td>\n",
       "    </tr>\n",
       "  </tbody>\n",
       "</table>\n",
       "</div>"
      ],
      "text/plain": [
       "            temperature_2m (°C)  relative_humidity_2m (%)  precipitation (mm)  \\\n",
       "2024-06-27            33.485684                 51.922030            3.175716   \n",
       "2024-06-28            32.916669                 51.655830            3.025517   \n",
       "2024-06-29            33.133722                 49.130219            1.649165   \n",
       "2024-06-30            33.252638                 48.470891            1.525484   \n",
       "2024-07-01            33.679895                 48.014429            1.837287   \n",
       "2024-07-02            33.785034                 48.126137            1.961745   \n",
       "2024-07-03            33.823935                 48.677271            2.280144   \n",
       "2024-07-04            33.771206                 49.020186            2.601003   \n",
       "2024-07-05            33.830014                 48.810860            2.517737   \n",
       "2024-07-06            33.833332                 48.671724            2.279188   \n",
       "2024-07-07            33.767522                 48.878786            2.784862   \n",
       "2024-07-08            33.748819                 48.777503            2.499896   \n",
       "2024-07-09            33.708929                 48.819403            2.556772   \n",
       "2024-07-10            33.747180                 48.650944            2.389411   \n",
       "2024-07-11            33.796265                 48.575901            2.315302   \n",
       "2024-07-12            33.854133                 48.504908            2.327466   \n",
       "\n",
       "            ET₀ (mm)  wind_speed_10m (km/h)  \\\n",
       "2024-06-27  6.087267               9.893391   \n",
       "2024-06-28  5.924549               8.096456   \n",
       "2024-06-29  6.156138               8.050732   \n",
       "2024-06-30  6.023618               7.376871   \n",
       "2024-07-01  6.266523               8.302632   \n",
       "2024-07-02  6.197875               8.637876   \n",
       "2024-07-03  6.267097               8.980018   \n",
       "2024-07-04  6.223719               8.845173   \n",
       "2024-07-05  6.276578               8.764976   \n",
       "2024-07-06  6.252110               8.712107   \n",
       "2024-07-07  6.203573               8.604933   \n",
       "2024-07-08  6.225878               8.629181   \n",
       "2024-07-09  6.188375               8.590530   \n",
       "2024-07-10  6.222700               8.634587   \n",
       "2024-07-11  6.230726               8.621229   \n",
       "2024-07-12  6.255432               8.658821   \n",
       "\n",
       "            soil_temperature_28_to_100cm (°C)  \\\n",
       "2024-06-27                          32.159297   \n",
       "2024-06-28                          32.141167   \n",
       "2024-06-29                          32.104967   \n",
       "2024-06-30                          32.072630   \n",
       "2024-07-01                          32.056503   \n",
       "2024-07-02                          32.061240   \n",
       "2024-07-03                          32.074256   \n",
       "2024-07-04                          32.090087   \n",
       "2024-07-05                          32.102863   \n",
       "2024-07-06                          32.118670   \n",
       "2024-07-07                          32.134355   \n",
       "2024-07-08                          32.145842   \n",
       "2024-07-09                          32.153025   \n",
       "2024-07-10                          32.156852   \n",
       "2024-07-11                          32.161814   \n",
       "2024-07-12                          32.170224   \n",
       "\n",
       "            soil_moisture_28_to_100cm (m³/m³)  \\\n",
       "2024-06-27                           0.151301   \n",
       "2024-06-28                           0.151364   \n",
       "2024-06-29                           0.151169   \n",
       "2024-06-30                           0.150937   \n",
       "2024-07-01                           0.150157   \n",
       "2024-07-02                           0.149337   \n",
       "2024-07-03                           0.148624   \n",
       "2024-07-04                           0.148214   \n",
       "2024-07-05                           0.147923   \n",
       "2024-07-06                           0.147792   \n",
       "2024-07-07                           0.147715   \n",
       "2024-07-08                           0.147747   \n",
       "2024-07-09                           0.147687   \n",
       "2024-07-10                           0.147586   \n",
       "2024-07-11                           0.147454   \n",
       "2024-07-12                           0.147274   \n",
       "\n",
       "            shortwave_radiation_instant (W/m²)  \n",
       "2024-06-27                         5532.274992  \n",
       "2024-06-28                         5695.346844  \n",
       "2024-06-29                         5979.096925  \n",
       "2024-06-30                         5814.998824  \n",
       "2024-07-01                         5912.318781  \n",
       "2024-07-02                         5751.080471  \n",
       "2024-07-03                         5781.993430  \n",
       "2024-07-04                         5741.477886  \n",
       "2024-07-05                         5839.916349  \n",
       "2024-07-06                         5829.334885  \n",
       "2024-07-07                         5788.800127  \n",
       "2024-07-08                         5825.423613  \n",
       "2024-07-09                         5775.268744  \n",
       "2024-07-10                         5806.439268  \n",
       "2024-07-11                         5806.504231  \n",
       "2024-07-12                         5825.012520  "
      ]
     },
     "execution_count": 20,
     "metadata": {},
     "output_type": "execute_result"
    }
   ],
   "source": [
    "forecasted_values_df"
   ]
  },
  {
   "cell_type": "code",
   "execution_count": 21,
   "metadata": {},
   "outputs": [],
   "source": [
    "# Combine the historical and forecasted data\n",
    "historical_data_with_forcast_data = pd.concat([combined_historical_data_punjab_daily, forecasted_values_df])"
   ]
  },
  {
   "cell_type": "code",
   "execution_count": 22,
   "metadata": {},
   "outputs": [
    {
     "name": "stdout",
     "output_type": "stream",
     "text": [
      "<class 'pandas.core.frame.DataFrame'>\n",
      "DatetimeIndex: 1655 entries, 2020-01-01 to 2024-07-12\n",
      "Data columns (total 8 columns):\n",
      " #   Column                              Non-Null Count  Dtype  \n",
      "---  ------                              --------------  -----  \n",
      " 0   temperature_2m (°C)                 1655 non-null   float64\n",
      " 1   relative_humidity_2m (%)            1655 non-null   float64\n",
      " 2   precipitation (mm)                  1655 non-null   float64\n",
      " 3   ET₀ (mm)                            1655 non-null   float64\n",
      " 4   wind_speed_10m (km/h)               1655 non-null   float64\n",
      " 5   soil_temperature_28_to_100cm (°C)   1655 non-null   float64\n",
      " 6   soil_moisture_28_to_100cm (m³/m³)   1655 non-null   float64\n",
      " 7   shortwave_radiation_instant (W/m²)  1655 non-null   float64\n",
      "dtypes: float64(8)\n",
      "memory usage: 116.4 KB\n"
     ]
    }
   ],
   "source": [
    "historical_data_with_forcast_data.info()"
   ]
  },
  {
   "cell_type": "code",
   "execution_count": 23,
   "metadata": {},
   "outputs": [],
   "source": [
    " \n",
    "# Rename ET₀ column for easier reference\n",
    "future_data_punjab_daily.rename(columns={'et0_fao_evapotranspiration (mm)': 'ET₀ (mm)'}, inplace=True)#Set the date column as the index\n",
    "future_data_punjab_daily.set_index('date', inplace=True)\n",
    "# Ensure the index is in datetime format\n",
    "future_data_punjab_daily.index = pd.to_datetime(future_data_punjab_daily.index)\n",
    "# Rename ET₀ column for easier reference\n",
    "future_data_punjab_daily.rename(columns={'et0_fao_evapotranspiration (mm)': 'ET₀ (mm)'}, inplace=True)"
   ]
  },
  {
   "cell_type": "code",
   "execution_count": 24,
   "metadata": {},
   "outputs": [],
   "source": [
    "# Combine the historical and forecasted data\n",
    "present_data_with_forecast_data = pd.concat([future_data_punjab_daily, forecasted_values_df])\n",
    "# Save the combined data to a new CSV file if needed\n",
    "#present_data_with_forecast_data.to_csv(r\"C:\\Desktop\\Smart Irrigation System\\present_data_with_forecast_data.csv\")\n",
    "\n"
   ]
  },
  {
   "cell_type": "code",
   "execution_count": 25,
   "metadata": {},
   "outputs": [
    {
     "name": "stdout",
     "output_type": "stream",
     "text": [
      "<class 'pandas.core.frame.DataFrame'>\n",
      "DatetimeIndex: 194 entries, 2024-01-01 to 2024-07-12\n",
      "Data columns (total 8 columns):\n",
      " #   Column                              Non-Null Count  Dtype  \n",
      "---  ------                              --------------  -----  \n",
      " 0   temperature_2m (°C)                 194 non-null    float64\n",
      " 1   relative_humidity_2m (%)            194 non-null    float64\n",
      " 2   precipitation (mm)                  194 non-null    float64\n",
      " 3   ET₀ (mm)                            194 non-null    float64\n",
      " 4   wind_speed_10m (km/h)               194 non-null    float64\n",
      " 5   soil_temperature_28_to_100cm (°C)   194 non-null    float64\n",
      " 6   soil_moisture_28_to_100cm (m³/m³)   194 non-null    float64\n",
      " 7   shortwave_radiation_instant (W/m²)  194 non-null    float64\n",
      "dtypes: float64(8)\n",
      "memory usage: 13.6 KB\n"
     ]
    }
   ],
   "source": [
    "present_data_with_forecast_data.info()"
   ]
  },
  {
   "cell_type": "code",
   "execution_count": 26,
   "metadata": {},
   "outputs": [
    {
     "data": {
      "text/html": [
       "<div>\n",
       "<style scoped>\n",
       "    .dataframe tbody tr th:only-of-type {\n",
       "        vertical-align: middle;\n",
       "    }\n",
       "\n",
       "    .dataframe tbody tr th {\n",
       "        vertical-align: top;\n",
       "    }\n",
       "\n",
       "    .dataframe thead th {\n",
       "        text-align: right;\n",
       "    }\n",
       "</style>\n",
       "<table border=\"1\" class=\"dataframe\">\n",
       "  <thead>\n",
       "    <tr style=\"text-align: right;\">\n",
       "      <th></th>\n",
       "      <th>temperature_2m (°C)</th>\n",
       "      <th>relative_humidity_2m (%)</th>\n",
       "      <th>precipitation (mm)</th>\n",
       "      <th>ET₀ (mm)</th>\n",
       "      <th>wind_speed_10m (km/h)</th>\n",
       "      <th>soil_temperature_28_to_100cm (°C)</th>\n",
       "      <th>soil_moisture_28_to_100cm (m³/m³)</th>\n",
       "      <th>shortwave_radiation_instant (W/m²)</th>\n",
       "    </tr>\n",
       "  </thead>\n",
       "  <tbody>\n",
       "    <tr>\n",
       "      <th>2024-06-23</th>\n",
       "      <td>33.887500</td>\n",
       "      <td>42.750000</td>\n",
       "      <td>0.000000</td>\n",
       "      <td>5.900000</td>\n",
       "      <td>6.125000</td>\n",
       "      <td>31.837500</td>\n",
       "      <td>0.154250</td>\n",
       "      <td>5921.500000</td>\n",
       "    </tr>\n",
       "    <tr>\n",
       "      <th>2024-06-24</th>\n",
       "      <td>35.037500</td>\n",
       "      <td>43.541667</td>\n",
       "      <td>0.000000</td>\n",
       "      <td>7.080000</td>\n",
       "      <td>10.483333</td>\n",
       "      <td>31.900000</td>\n",
       "      <td>0.149750</td>\n",
       "      <td>6091.500000</td>\n",
       "    </tr>\n",
       "    <tr>\n",
       "      <th>2024-06-25</th>\n",
       "      <td>34.708333</td>\n",
       "      <td>48.208333</td>\n",
       "      <td>0.000000</td>\n",
       "      <td>6.590000</td>\n",
       "      <td>8.608333</td>\n",
       "      <td>31.987500</td>\n",
       "      <td>0.149000</td>\n",
       "      <td>6145.700000</td>\n",
       "    </tr>\n",
       "    <tr>\n",
       "      <th>2024-06-26</th>\n",
       "      <td>34.425000</td>\n",
       "      <td>51.875000</td>\n",
       "      <td>8.100000</td>\n",
       "      <td>6.480000</td>\n",
       "      <td>11.316667</td>\n",
       "      <td>32.112500</td>\n",
       "      <td>0.149833</td>\n",
       "      <td>5501.700000</td>\n",
       "    </tr>\n",
       "    <tr>\n",
       "      <th>2024-06-27</th>\n",
       "      <td>33.485684</td>\n",
       "      <td>51.922030</td>\n",
       "      <td>3.175716</td>\n",
       "      <td>6.087267</td>\n",
       "      <td>9.893391</td>\n",
       "      <td>32.159297</td>\n",
       "      <td>0.151301</td>\n",
       "      <td>5532.274992</td>\n",
       "    </tr>\n",
       "    <tr>\n",
       "      <th>2024-06-28</th>\n",
       "      <td>32.916669</td>\n",
       "      <td>51.655830</td>\n",
       "      <td>3.025517</td>\n",
       "      <td>5.924549</td>\n",
       "      <td>8.096456</td>\n",
       "      <td>32.141167</td>\n",
       "      <td>0.151364</td>\n",
       "      <td>5695.346844</td>\n",
       "    </tr>\n",
       "    <tr>\n",
       "      <th>2024-06-29</th>\n",
       "      <td>33.133722</td>\n",
       "      <td>49.130219</td>\n",
       "      <td>1.649165</td>\n",
       "      <td>6.156138</td>\n",
       "      <td>8.050732</td>\n",
       "      <td>32.104967</td>\n",
       "      <td>0.151169</td>\n",
       "      <td>5979.096925</td>\n",
       "    </tr>\n",
       "    <tr>\n",
       "      <th>2024-06-30</th>\n",
       "      <td>33.252638</td>\n",
       "      <td>48.470891</td>\n",
       "      <td>1.525484</td>\n",
       "      <td>6.023618</td>\n",
       "      <td>7.376871</td>\n",
       "      <td>32.072630</td>\n",
       "      <td>0.150937</td>\n",
       "      <td>5814.998824</td>\n",
       "    </tr>\n",
       "    <tr>\n",
       "      <th>2024-07-01</th>\n",
       "      <td>33.679895</td>\n",
       "      <td>48.014429</td>\n",
       "      <td>1.837287</td>\n",
       "      <td>6.266523</td>\n",
       "      <td>8.302632</td>\n",
       "      <td>32.056503</td>\n",
       "      <td>0.150157</td>\n",
       "      <td>5912.318781</td>\n",
       "    </tr>\n",
       "    <tr>\n",
       "      <th>2024-07-02</th>\n",
       "      <td>33.785034</td>\n",
       "      <td>48.126137</td>\n",
       "      <td>1.961745</td>\n",
       "      <td>6.197875</td>\n",
       "      <td>8.637876</td>\n",
       "      <td>32.061240</td>\n",
       "      <td>0.149337</td>\n",
       "      <td>5751.080471</td>\n",
       "    </tr>\n",
       "    <tr>\n",
       "      <th>2024-07-03</th>\n",
       "      <td>33.823935</td>\n",
       "      <td>48.677271</td>\n",
       "      <td>2.280144</td>\n",
       "      <td>6.267097</td>\n",
       "      <td>8.980018</td>\n",
       "      <td>32.074256</td>\n",
       "      <td>0.148624</td>\n",
       "      <td>5781.993430</td>\n",
       "    </tr>\n",
       "    <tr>\n",
       "      <th>2024-07-04</th>\n",
       "      <td>33.771206</td>\n",
       "      <td>49.020186</td>\n",
       "      <td>2.601003</td>\n",
       "      <td>6.223719</td>\n",
       "      <td>8.845173</td>\n",
       "      <td>32.090087</td>\n",
       "      <td>0.148214</td>\n",
       "      <td>5741.477886</td>\n",
       "    </tr>\n",
       "    <tr>\n",
       "      <th>2024-07-05</th>\n",
       "      <td>33.830014</td>\n",
       "      <td>48.810860</td>\n",
       "      <td>2.517737</td>\n",
       "      <td>6.276578</td>\n",
       "      <td>8.764976</td>\n",
       "      <td>32.102863</td>\n",
       "      <td>0.147923</td>\n",
       "      <td>5839.916349</td>\n",
       "    </tr>\n",
       "    <tr>\n",
       "      <th>2024-07-06</th>\n",
       "      <td>33.833332</td>\n",
       "      <td>48.671724</td>\n",
       "      <td>2.279188</td>\n",
       "      <td>6.252110</td>\n",
       "      <td>8.712107</td>\n",
       "      <td>32.118670</td>\n",
       "      <td>0.147792</td>\n",
       "      <td>5829.334885</td>\n",
       "    </tr>\n",
       "    <tr>\n",
       "      <th>2024-07-07</th>\n",
       "      <td>33.767522</td>\n",
       "      <td>48.878786</td>\n",
       "      <td>2.784862</td>\n",
       "      <td>6.203573</td>\n",
       "      <td>8.604933</td>\n",
       "      <td>32.134355</td>\n",
       "      <td>0.147715</td>\n",
       "      <td>5788.800127</td>\n",
       "    </tr>\n",
       "    <tr>\n",
       "      <th>2024-07-08</th>\n",
       "      <td>33.748819</td>\n",
       "      <td>48.777503</td>\n",
       "      <td>2.499896</td>\n",
       "      <td>6.225878</td>\n",
       "      <td>8.629181</td>\n",
       "      <td>32.145842</td>\n",
       "      <td>0.147747</td>\n",
       "      <td>5825.423613</td>\n",
       "    </tr>\n",
       "    <tr>\n",
       "      <th>2024-07-09</th>\n",
       "      <td>33.708929</td>\n",
       "      <td>48.819403</td>\n",
       "      <td>2.556772</td>\n",
       "      <td>6.188375</td>\n",
       "      <td>8.590530</td>\n",
       "      <td>32.153025</td>\n",
       "      <td>0.147687</td>\n",
       "      <td>5775.268744</td>\n",
       "    </tr>\n",
       "    <tr>\n",
       "      <th>2024-07-10</th>\n",
       "      <td>33.747180</td>\n",
       "      <td>48.650944</td>\n",
       "      <td>2.389411</td>\n",
       "      <td>6.222700</td>\n",
       "      <td>8.634587</td>\n",
       "      <td>32.156852</td>\n",
       "      <td>0.147586</td>\n",
       "      <td>5806.439268</td>\n",
       "    </tr>\n",
       "    <tr>\n",
       "      <th>2024-07-11</th>\n",
       "      <td>33.796265</td>\n",
       "      <td>48.575901</td>\n",
       "      <td>2.315302</td>\n",
       "      <td>6.230726</td>\n",
       "      <td>8.621229</td>\n",
       "      <td>32.161814</td>\n",
       "      <td>0.147454</td>\n",
       "      <td>5806.504231</td>\n",
       "    </tr>\n",
       "    <tr>\n",
       "      <th>2024-07-12</th>\n",
       "      <td>33.854133</td>\n",
       "      <td>48.504908</td>\n",
       "      <td>2.327466</td>\n",
       "      <td>6.255432</td>\n",
       "      <td>8.658821</td>\n",
       "      <td>32.170224</td>\n",
       "      <td>0.147274</td>\n",
       "      <td>5825.012520</td>\n",
       "    </tr>\n",
       "  </tbody>\n",
       "</table>\n",
       "</div>"
      ],
      "text/plain": [
       "            temperature_2m (°C)  relative_humidity_2m (%)  precipitation (mm)  \\\n",
       "2024-06-23            33.887500                 42.750000            0.000000   \n",
       "2024-06-24            35.037500                 43.541667            0.000000   \n",
       "2024-06-25            34.708333                 48.208333            0.000000   \n",
       "2024-06-26            34.425000                 51.875000            8.100000   \n",
       "2024-06-27            33.485684                 51.922030            3.175716   \n",
       "2024-06-28            32.916669                 51.655830            3.025517   \n",
       "2024-06-29            33.133722                 49.130219            1.649165   \n",
       "2024-06-30            33.252638                 48.470891            1.525484   \n",
       "2024-07-01            33.679895                 48.014429            1.837287   \n",
       "2024-07-02            33.785034                 48.126137            1.961745   \n",
       "2024-07-03            33.823935                 48.677271            2.280144   \n",
       "2024-07-04            33.771206                 49.020186            2.601003   \n",
       "2024-07-05            33.830014                 48.810860            2.517737   \n",
       "2024-07-06            33.833332                 48.671724            2.279188   \n",
       "2024-07-07            33.767522                 48.878786            2.784862   \n",
       "2024-07-08            33.748819                 48.777503            2.499896   \n",
       "2024-07-09            33.708929                 48.819403            2.556772   \n",
       "2024-07-10            33.747180                 48.650944            2.389411   \n",
       "2024-07-11            33.796265                 48.575901            2.315302   \n",
       "2024-07-12            33.854133                 48.504908            2.327466   \n",
       "\n",
       "            ET₀ (mm)  wind_speed_10m (km/h)  \\\n",
       "2024-06-23  5.900000               6.125000   \n",
       "2024-06-24  7.080000              10.483333   \n",
       "2024-06-25  6.590000               8.608333   \n",
       "2024-06-26  6.480000              11.316667   \n",
       "2024-06-27  6.087267               9.893391   \n",
       "2024-06-28  5.924549               8.096456   \n",
       "2024-06-29  6.156138               8.050732   \n",
       "2024-06-30  6.023618               7.376871   \n",
       "2024-07-01  6.266523               8.302632   \n",
       "2024-07-02  6.197875               8.637876   \n",
       "2024-07-03  6.267097               8.980018   \n",
       "2024-07-04  6.223719               8.845173   \n",
       "2024-07-05  6.276578               8.764976   \n",
       "2024-07-06  6.252110               8.712107   \n",
       "2024-07-07  6.203573               8.604933   \n",
       "2024-07-08  6.225878               8.629181   \n",
       "2024-07-09  6.188375               8.590530   \n",
       "2024-07-10  6.222700               8.634587   \n",
       "2024-07-11  6.230726               8.621229   \n",
       "2024-07-12  6.255432               8.658821   \n",
       "\n",
       "            soil_temperature_28_to_100cm (°C)  \\\n",
       "2024-06-23                          31.837500   \n",
       "2024-06-24                          31.900000   \n",
       "2024-06-25                          31.987500   \n",
       "2024-06-26                          32.112500   \n",
       "2024-06-27                          32.159297   \n",
       "2024-06-28                          32.141167   \n",
       "2024-06-29                          32.104967   \n",
       "2024-06-30                          32.072630   \n",
       "2024-07-01                          32.056503   \n",
       "2024-07-02                          32.061240   \n",
       "2024-07-03                          32.074256   \n",
       "2024-07-04                          32.090087   \n",
       "2024-07-05                          32.102863   \n",
       "2024-07-06                          32.118670   \n",
       "2024-07-07                          32.134355   \n",
       "2024-07-08                          32.145842   \n",
       "2024-07-09                          32.153025   \n",
       "2024-07-10                          32.156852   \n",
       "2024-07-11                          32.161814   \n",
       "2024-07-12                          32.170224   \n",
       "\n",
       "            soil_moisture_28_to_100cm (m³/m³)  \\\n",
       "2024-06-23                           0.154250   \n",
       "2024-06-24                           0.149750   \n",
       "2024-06-25                           0.149000   \n",
       "2024-06-26                           0.149833   \n",
       "2024-06-27                           0.151301   \n",
       "2024-06-28                           0.151364   \n",
       "2024-06-29                           0.151169   \n",
       "2024-06-30                           0.150937   \n",
       "2024-07-01                           0.150157   \n",
       "2024-07-02                           0.149337   \n",
       "2024-07-03                           0.148624   \n",
       "2024-07-04                           0.148214   \n",
       "2024-07-05                           0.147923   \n",
       "2024-07-06                           0.147792   \n",
       "2024-07-07                           0.147715   \n",
       "2024-07-08                           0.147747   \n",
       "2024-07-09                           0.147687   \n",
       "2024-07-10                           0.147586   \n",
       "2024-07-11                           0.147454   \n",
       "2024-07-12                           0.147274   \n",
       "\n",
       "            shortwave_radiation_instant (W/m²)  \n",
       "2024-06-23                         5921.500000  \n",
       "2024-06-24                         6091.500000  \n",
       "2024-06-25                         6145.700000  \n",
       "2024-06-26                         5501.700000  \n",
       "2024-06-27                         5532.274992  \n",
       "2024-06-28                         5695.346844  \n",
       "2024-06-29                         5979.096925  \n",
       "2024-06-30                         5814.998824  \n",
       "2024-07-01                         5912.318781  \n",
       "2024-07-02                         5751.080471  \n",
       "2024-07-03                         5781.993430  \n",
       "2024-07-04                         5741.477886  \n",
       "2024-07-05                         5839.916349  \n",
       "2024-07-06                         5829.334885  \n",
       "2024-07-07                         5788.800127  \n",
       "2024-07-08                         5825.423613  \n",
       "2024-07-09                         5775.268744  \n",
       "2024-07-10                         5806.439268  \n",
       "2024-07-11                         5806.504231  \n",
       "2024-07-12                         5825.012520  "
      ]
     },
     "execution_count": 26,
     "metadata": {},
     "output_type": "execute_result"
    }
   ],
   "source": [
    "present_data_with_forecast_data.tail(20)"
   ]
  },
  {
   "cell_type": "markdown",
   "metadata": {},
   "source": [
    "## Visualizing forecasted Soil moisture with Historical data"
   ]
  },
  {
   "cell_type": "code",
   "execution_count": 27,
   "metadata": {},
   "outputs": [
    {
     "data": {
      "application/vnd.plotly.v1+json": {
       "config": {
        "plotlyServerURL": "https://plot.ly"
       },
       "data": [
        {
         "mode": "lines",
         "name": "Historical Soil Moisture",
         "type": "scatter",
         "x": [
          "2020-01-01T00:00:00",
          "2020-01-02T00:00:00",
          "2020-01-03T00:00:00",
          "2020-01-04T00:00:00",
          "2020-01-05T00:00:00",
          "2020-01-06T00:00:00",
          "2020-01-07T00:00:00",
          "2020-01-08T00:00:00",
          "2020-01-09T00:00:00",
          "2020-01-10T00:00:00",
          "2020-01-11T00:00:00",
          "2020-01-12T00:00:00",
          "2020-01-13T00:00:00",
          "2020-01-14T00:00:00",
          "2020-01-15T00:00:00",
          "2020-01-16T00:00:00",
          "2020-01-17T00:00:00",
          "2020-01-18T00:00:00",
          "2020-01-19T00:00:00",
          "2020-01-20T00:00:00",
          "2020-01-21T00:00:00",
          "2020-01-22T00:00:00",
          "2020-01-23T00:00:00",
          "2020-01-24T00:00:00",
          "2020-01-25T00:00:00",
          "2020-01-26T00:00:00",
          "2020-01-27T00:00:00",
          "2020-01-28T00:00:00",
          "2020-01-29T00:00:00",
          "2020-01-30T00:00:00",
          "2020-01-31T00:00:00",
          "2020-02-01T00:00:00",
          "2020-02-02T00:00:00",
          "2020-02-03T00:00:00",
          "2020-02-04T00:00:00",
          "2020-02-05T00:00:00",
          "2020-02-06T00:00:00",
          "2020-02-07T00:00:00",
          "2020-02-08T00:00:00",
          "2020-02-09T00:00:00",
          "2020-02-10T00:00:00",
          "2020-02-11T00:00:00",
          "2020-02-12T00:00:00",
          "2020-02-13T00:00:00",
          "2020-02-14T00:00:00",
          "2020-02-15T00:00:00",
          "2020-02-16T00:00:00",
          "2020-02-17T00:00:00",
          "2020-02-18T00:00:00",
          "2020-02-19T00:00:00",
          "2020-02-20T00:00:00",
          "2020-02-21T00:00:00",
          "2020-02-22T00:00:00",
          "2020-02-23T00:00:00",
          "2020-02-24T00:00:00",
          "2020-02-25T00:00:00",
          "2020-02-26T00:00:00",
          "2020-02-27T00:00:00",
          "2020-02-28T00:00:00",
          "2020-02-29T00:00:00",
          "2020-03-01T00:00:00",
          "2020-03-02T00:00:00",
          "2020-03-03T00:00:00",
          "2020-03-04T00:00:00",
          "2020-03-05T00:00:00",
          "2020-03-06T00:00:00",
          "2020-03-07T00:00:00",
          "2020-03-08T00:00:00",
          "2020-03-09T00:00:00",
          "2020-03-10T00:00:00",
          "2020-03-11T00:00:00",
          "2020-03-12T00:00:00",
          "2020-03-13T00:00:00",
          "2020-03-14T00:00:00",
          "2020-03-15T00:00:00",
          "2020-03-16T00:00:00",
          "2020-03-17T00:00:00",
          "2020-03-18T00:00:00",
          "2020-03-19T00:00:00",
          "2020-03-20T00:00:00",
          "2020-03-21T00:00:00",
          "2020-03-22T00:00:00",
          "2020-03-23T00:00:00",
          "2020-03-24T00:00:00",
          "2020-03-25T00:00:00",
          "2020-03-26T00:00:00",
          "2020-03-27T00:00:00",
          "2020-03-28T00:00:00",
          "2020-03-29T00:00:00",
          "2020-03-30T00:00:00",
          "2020-03-31T00:00:00",
          "2020-04-01T00:00:00",
          "2020-04-02T00:00:00",
          "2020-04-03T00:00:00",
          "2020-04-04T00:00:00",
          "2020-04-05T00:00:00",
          "2020-04-06T00:00:00",
          "2020-04-07T00:00:00",
          "2020-04-08T00:00:00",
          "2020-04-09T00:00:00",
          "2020-04-10T00:00:00",
          "2020-04-11T00:00:00",
          "2020-04-12T00:00:00",
          "2020-04-13T00:00:00",
          "2020-04-14T00:00:00",
          "2020-04-15T00:00:00",
          "2020-04-16T00:00:00",
          "2020-04-17T00:00:00",
          "2020-04-18T00:00:00",
          "2020-04-19T00:00:00",
          "2020-04-20T00:00:00",
          "2020-04-21T00:00:00",
          "2020-04-22T00:00:00",
          "2020-04-23T00:00:00",
          "2020-04-24T00:00:00",
          "2020-04-25T00:00:00",
          "2020-04-26T00:00:00",
          "2020-04-27T00:00:00",
          "2020-04-28T00:00:00",
          "2020-04-29T00:00:00",
          "2020-04-30T00:00:00",
          "2020-05-01T00:00:00",
          "2020-05-02T00:00:00",
          "2020-05-03T00:00:00",
          "2020-05-04T00:00:00",
          "2020-05-05T00:00:00",
          "2020-05-06T00:00:00",
          "2020-05-07T00:00:00",
          "2020-05-08T00:00:00",
          "2020-05-09T00:00:00",
          "2020-05-10T00:00:00",
          "2020-05-11T00:00:00",
          "2020-05-12T00:00:00",
          "2020-05-13T00:00:00",
          "2020-05-14T00:00:00",
          "2020-05-15T00:00:00",
          "2020-05-16T00:00:00",
          "2020-05-17T00:00:00",
          "2020-05-18T00:00:00",
          "2020-05-19T00:00:00",
          "2020-05-20T00:00:00",
          "2020-05-21T00:00:00",
          "2020-05-22T00:00:00",
          "2020-05-23T00:00:00",
          "2020-05-24T00:00:00",
          "2020-05-25T00:00:00",
          "2020-05-26T00:00:00",
          "2020-05-27T00:00:00",
          "2020-05-28T00:00:00",
          "2020-05-29T00:00:00",
          "2020-05-30T00:00:00",
          "2020-05-31T00:00:00",
          "2020-06-01T00:00:00",
          "2020-06-02T00:00:00",
          "2020-06-03T00:00:00",
          "2020-06-04T00:00:00",
          "2020-06-05T00:00:00",
          "2020-06-06T00:00:00",
          "2020-06-07T00:00:00",
          "2020-06-08T00:00:00",
          "2020-06-09T00:00:00",
          "2020-06-10T00:00:00",
          "2020-06-11T00:00:00",
          "2020-06-12T00:00:00",
          "2020-06-13T00:00:00",
          "2020-06-14T00:00:00",
          "2020-06-15T00:00:00",
          "2020-06-16T00:00:00",
          "2020-06-17T00:00:00",
          "2020-06-18T00:00:00",
          "2020-06-19T00:00:00",
          "2020-06-20T00:00:00",
          "2020-06-21T00:00:00",
          "2020-06-22T00:00:00",
          "2020-06-23T00:00:00",
          "2020-06-24T00:00:00",
          "2020-06-25T00:00:00",
          "2020-06-26T00:00:00",
          "2020-06-27T00:00:00",
          "2020-06-28T00:00:00",
          "2020-06-29T00:00:00",
          "2020-06-30T00:00:00",
          "2020-07-01T00:00:00",
          "2020-07-02T00:00:00",
          "2020-07-03T00:00:00",
          "2020-07-04T00:00:00",
          "2020-07-05T00:00:00",
          "2020-07-06T00:00:00",
          "2020-07-07T00:00:00",
          "2020-07-08T00:00:00",
          "2020-07-09T00:00:00",
          "2020-07-10T00:00:00",
          "2020-07-11T00:00:00",
          "2020-07-12T00:00:00",
          "2020-07-13T00:00:00",
          "2020-07-14T00:00:00",
          "2020-07-15T00:00:00",
          "2020-07-16T00:00:00",
          "2020-07-17T00:00:00",
          "2020-07-18T00:00:00",
          "2020-07-19T00:00:00",
          "2020-07-20T00:00:00",
          "2020-07-21T00:00:00",
          "2020-07-22T00:00:00",
          "2020-07-23T00:00:00",
          "2020-07-24T00:00:00",
          "2020-07-25T00:00:00",
          "2020-07-26T00:00:00",
          "2020-07-27T00:00:00",
          "2020-07-28T00:00:00",
          "2020-07-29T00:00:00",
          "2020-07-30T00:00:00",
          "2020-07-31T00:00:00",
          "2020-08-01T00:00:00",
          "2020-08-02T00:00:00",
          "2020-08-03T00:00:00",
          "2020-08-04T00:00:00",
          "2020-08-05T00:00:00",
          "2020-08-06T00:00:00",
          "2020-08-07T00:00:00",
          "2020-08-08T00:00:00",
          "2020-08-09T00:00:00",
          "2020-08-10T00:00:00",
          "2020-08-11T00:00:00",
          "2020-08-12T00:00:00",
          "2020-08-13T00:00:00",
          "2020-08-14T00:00:00",
          "2020-08-15T00:00:00",
          "2020-08-16T00:00:00",
          "2020-08-17T00:00:00",
          "2020-08-18T00:00:00",
          "2020-08-19T00:00:00",
          "2020-08-20T00:00:00",
          "2020-08-21T00:00:00",
          "2020-08-22T00:00:00",
          "2020-08-23T00:00:00",
          "2020-08-24T00:00:00",
          "2020-08-25T00:00:00",
          "2020-08-26T00:00:00",
          "2020-08-27T00:00:00",
          "2020-08-28T00:00:00",
          "2020-08-29T00:00:00",
          "2020-08-30T00:00:00",
          "2020-08-31T00:00:00",
          "2020-09-01T00:00:00",
          "2020-09-02T00:00:00",
          "2020-09-03T00:00:00",
          "2020-09-04T00:00:00",
          "2020-09-05T00:00:00",
          "2020-09-06T00:00:00",
          "2020-09-07T00:00:00",
          "2020-09-08T00:00:00",
          "2020-09-09T00:00:00",
          "2020-09-10T00:00:00",
          "2020-09-11T00:00:00",
          "2020-09-12T00:00:00",
          "2020-09-13T00:00:00",
          "2020-09-14T00:00:00",
          "2020-09-15T00:00:00",
          "2020-09-16T00:00:00",
          "2020-09-17T00:00:00",
          "2020-09-18T00:00:00",
          "2020-09-19T00:00:00",
          "2020-09-20T00:00:00",
          "2020-09-21T00:00:00",
          "2020-09-22T00:00:00",
          "2020-09-23T00:00:00",
          "2020-09-24T00:00:00",
          "2020-09-25T00:00:00",
          "2020-09-26T00:00:00",
          "2020-09-27T00:00:00",
          "2020-09-28T00:00:00",
          "2020-09-29T00:00:00",
          "2020-09-30T00:00:00",
          "2020-10-01T00:00:00",
          "2020-10-02T00:00:00",
          "2020-10-03T00:00:00",
          "2020-10-04T00:00:00",
          "2020-10-05T00:00:00",
          "2020-10-06T00:00:00",
          "2020-10-07T00:00:00",
          "2020-10-08T00:00:00",
          "2020-10-09T00:00:00",
          "2020-10-10T00:00:00",
          "2020-10-11T00:00:00",
          "2020-10-12T00:00:00",
          "2020-10-13T00:00:00",
          "2020-10-14T00:00:00",
          "2020-10-15T00:00:00",
          "2020-10-16T00:00:00",
          "2020-10-17T00:00:00",
          "2020-10-18T00:00:00",
          "2020-10-19T00:00:00",
          "2020-10-20T00:00:00",
          "2020-10-21T00:00:00",
          "2020-10-22T00:00:00",
          "2020-10-23T00:00:00",
          "2020-10-24T00:00:00",
          "2020-10-25T00:00:00",
          "2020-10-26T00:00:00",
          "2020-10-27T00:00:00",
          "2020-10-28T00:00:00",
          "2020-10-29T00:00:00",
          "2020-10-30T00:00:00",
          "2020-10-31T00:00:00",
          "2020-11-01T00:00:00",
          "2020-11-02T00:00:00",
          "2020-11-03T00:00:00",
          "2020-11-04T00:00:00",
          "2020-11-05T00:00:00",
          "2020-11-06T00:00:00",
          "2020-11-07T00:00:00",
          "2020-11-08T00:00:00",
          "2020-11-09T00:00:00",
          "2020-11-10T00:00:00",
          "2020-11-11T00:00:00",
          "2020-11-12T00:00:00",
          "2020-11-13T00:00:00",
          "2020-11-14T00:00:00",
          "2020-11-15T00:00:00",
          "2020-11-16T00:00:00",
          "2020-11-17T00:00:00",
          "2020-11-18T00:00:00",
          "2020-11-19T00:00:00",
          "2020-11-20T00:00:00",
          "2020-11-21T00:00:00",
          "2020-11-22T00:00:00",
          "2020-11-23T00:00:00",
          "2020-11-24T00:00:00",
          "2020-11-25T00:00:00",
          "2020-11-26T00:00:00",
          "2020-11-27T00:00:00",
          "2020-11-28T00:00:00",
          "2020-11-29T00:00:00",
          "2020-11-30T00:00:00",
          "2020-12-01T00:00:00",
          "2020-12-02T00:00:00",
          "2020-12-03T00:00:00",
          "2020-12-04T00:00:00",
          "2020-12-05T00:00:00",
          "2020-12-06T00:00:00",
          "2020-12-07T00:00:00",
          "2020-12-08T00:00:00",
          "2020-12-09T00:00:00",
          "2020-12-10T00:00:00",
          "2020-12-11T00:00:00",
          "2020-12-12T00:00:00",
          "2020-12-13T00:00:00",
          "2020-12-14T00:00:00",
          "2020-12-15T00:00:00",
          "2020-12-16T00:00:00",
          "2020-12-17T00:00:00",
          "2020-12-18T00:00:00",
          "2020-12-19T00:00:00",
          "2020-12-20T00:00:00",
          "2020-12-21T00:00:00",
          "2020-12-22T00:00:00",
          "2020-12-23T00:00:00",
          "2020-12-24T00:00:00",
          "2020-12-25T00:00:00",
          "2020-12-26T00:00:00",
          "2020-12-27T00:00:00",
          "2020-12-28T00:00:00",
          "2020-12-29T00:00:00",
          "2020-12-30T00:00:00",
          "2020-12-31T00:00:00",
          "2021-01-01T00:00:00",
          "2021-01-02T00:00:00",
          "2021-01-03T00:00:00",
          "2021-01-04T00:00:00",
          "2021-01-05T00:00:00",
          "2021-01-06T00:00:00",
          "2021-01-07T00:00:00",
          "2021-01-08T00:00:00",
          "2021-01-09T00:00:00",
          "2021-01-10T00:00:00",
          "2021-01-11T00:00:00",
          "2021-01-12T00:00:00",
          "2021-01-13T00:00:00",
          "2021-01-14T00:00:00",
          "2021-01-15T00:00:00",
          "2021-01-16T00:00:00",
          "2021-01-17T00:00:00",
          "2021-01-18T00:00:00",
          "2021-01-19T00:00:00",
          "2021-01-20T00:00:00",
          "2021-01-21T00:00:00",
          "2021-01-22T00:00:00",
          "2021-01-23T00:00:00",
          "2021-01-24T00:00:00",
          "2021-01-25T00:00:00",
          "2021-01-26T00:00:00",
          "2021-01-27T00:00:00",
          "2021-01-28T00:00:00",
          "2021-01-29T00:00:00",
          "2021-01-30T00:00:00",
          "2021-01-31T00:00:00",
          "2021-02-01T00:00:00",
          "2021-02-02T00:00:00",
          "2021-02-03T00:00:00",
          "2021-02-04T00:00:00",
          "2021-02-05T00:00:00",
          "2021-02-06T00:00:00",
          "2021-02-07T00:00:00",
          "2021-02-08T00:00:00",
          "2021-02-09T00:00:00",
          "2021-02-10T00:00:00",
          "2021-02-11T00:00:00",
          "2021-02-12T00:00:00",
          "2021-02-13T00:00:00",
          "2021-02-14T00:00:00",
          "2021-02-15T00:00:00",
          "2021-02-16T00:00:00",
          "2021-02-17T00:00:00",
          "2021-02-18T00:00:00",
          "2021-02-19T00:00:00",
          "2021-02-20T00:00:00",
          "2021-02-21T00:00:00",
          "2021-02-22T00:00:00",
          "2021-02-23T00:00:00",
          "2021-02-24T00:00:00",
          "2021-02-25T00:00:00",
          "2021-02-26T00:00:00",
          "2021-02-27T00:00:00",
          "2021-02-28T00:00:00",
          "2021-03-01T00:00:00",
          "2021-03-02T00:00:00",
          "2021-03-03T00:00:00",
          "2021-03-04T00:00:00",
          "2021-03-05T00:00:00",
          "2021-03-06T00:00:00",
          "2021-03-07T00:00:00",
          "2021-03-08T00:00:00",
          "2021-03-09T00:00:00",
          "2021-03-10T00:00:00",
          "2021-03-11T00:00:00",
          "2021-03-12T00:00:00",
          "2021-03-13T00:00:00",
          "2021-03-14T00:00:00",
          "2021-03-15T00:00:00",
          "2021-03-16T00:00:00",
          "2021-03-17T00:00:00",
          "2021-03-18T00:00:00",
          "2021-03-19T00:00:00",
          "2021-03-20T00:00:00",
          "2021-03-21T00:00:00",
          "2021-03-22T00:00:00",
          "2021-03-23T00:00:00",
          "2021-03-24T00:00:00",
          "2021-03-25T00:00:00",
          "2021-03-26T00:00:00",
          "2021-03-27T00:00:00",
          "2021-03-28T00:00:00",
          "2021-03-29T00:00:00",
          "2021-03-30T00:00:00",
          "2021-03-31T00:00:00",
          "2021-04-01T00:00:00",
          "2021-04-02T00:00:00",
          "2021-04-03T00:00:00",
          "2021-04-04T00:00:00",
          "2021-04-05T00:00:00",
          "2021-04-06T00:00:00",
          "2021-04-07T00:00:00",
          "2021-04-08T00:00:00",
          "2021-04-09T00:00:00",
          "2021-04-10T00:00:00",
          "2021-04-11T00:00:00",
          "2021-04-12T00:00:00",
          "2021-04-13T00:00:00",
          "2021-04-14T00:00:00",
          "2021-04-15T00:00:00",
          "2021-04-16T00:00:00",
          "2021-04-17T00:00:00",
          "2021-04-18T00:00:00",
          "2021-04-19T00:00:00",
          "2021-04-20T00:00:00",
          "2021-04-21T00:00:00",
          "2021-04-22T00:00:00",
          "2021-04-23T00:00:00",
          "2021-04-24T00:00:00",
          "2021-04-25T00:00:00",
          "2021-04-26T00:00:00",
          "2021-04-27T00:00:00",
          "2021-04-28T00:00:00",
          "2021-04-29T00:00:00",
          "2021-04-30T00:00:00",
          "2021-05-01T00:00:00",
          "2021-05-02T00:00:00",
          "2021-05-03T00:00:00",
          "2021-05-04T00:00:00",
          "2021-05-05T00:00:00",
          "2021-05-06T00:00:00",
          "2021-05-07T00:00:00",
          "2021-05-08T00:00:00",
          "2021-05-09T00:00:00",
          "2021-05-10T00:00:00",
          "2021-05-11T00:00:00",
          "2021-05-12T00:00:00",
          "2021-05-13T00:00:00",
          "2021-05-14T00:00:00",
          "2021-05-15T00:00:00",
          "2021-05-16T00:00:00",
          "2021-05-17T00:00:00",
          "2021-05-18T00:00:00",
          "2021-05-19T00:00:00",
          "2021-05-20T00:00:00",
          "2021-05-21T00:00:00",
          "2021-05-22T00:00:00",
          "2021-05-23T00:00:00",
          "2021-05-24T00:00:00",
          "2021-05-25T00:00:00",
          "2021-05-26T00:00:00",
          "2021-05-27T00:00:00",
          "2021-05-28T00:00:00",
          "2021-05-29T00:00:00",
          "2021-05-30T00:00:00",
          "2021-05-31T00:00:00",
          "2021-06-01T00:00:00",
          "2021-06-02T00:00:00",
          "2021-06-03T00:00:00",
          "2021-06-04T00:00:00",
          "2021-06-05T00:00:00",
          "2021-06-06T00:00:00",
          "2021-06-07T00:00:00",
          "2021-06-08T00:00:00",
          "2021-06-09T00:00:00",
          "2021-06-10T00:00:00",
          "2021-06-11T00:00:00",
          "2021-06-12T00:00:00",
          "2021-06-13T00:00:00",
          "2021-06-14T00:00:00",
          "2021-06-15T00:00:00",
          "2021-06-16T00:00:00",
          "2021-06-17T00:00:00",
          "2021-06-18T00:00:00",
          "2021-06-19T00:00:00",
          "2021-06-20T00:00:00",
          "2021-06-21T00:00:00",
          "2021-06-22T00:00:00",
          "2021-06-23T00:00:00",
          "2021-06-24T00:00:00",
          "2021-06-25T00:00:00",
          "2021-06-26T00:00:00",
          "2021-06-27T00:00:00",
          "2021-06-28T00:00:00",
          "2021-06-29T00:00:00",
          "2021-06-30T00:00:00",
          "2021-07-01T00:00:00",
          "2021-07-02T00:00:00",
          "2021-07-03T00:00:00",
          "2021-07-04T00:00:00",
          "2021-07-05T00:00:00",
          "2021-07-06T00:00:00",
          "2021-07-07T00:00:00",
          "2021-07-08T00:00:00",
          "2021-07-09T00:00:00",
          "2021-07-10T00:00:00",
          "2021-07-11T00:00:00",
          "2021-07-12T00:00:00",
          "2021-07-13T00:00:00",
          "2021-07-14T00:00:00",
          "2021-07-15T00:00:00",
          "2021-07-16T00:00:00",
          "2021-07-17T00:00:00",
          "2021-07-18T00:00:00",
          "2021-07-19T00:00:00",
          "2021-07-20T00:00:00",
          "2021-07-21T00:00:00",
          "2021-07-22T00:00:00",
          "2021-07-23T00:00:00",
          "2021-07-24T00:00:00",
          "2021-07-25T00:00:00",
          "2021-07-26T00:00:00",
          "2021-07-27T00:00:00",
          "2021-07-28T00:00:00",
          "2021-07-29T00:00:00",
          "2021-07-30T00:00:00",
          "2021-07-31T00:00:00",
          "2021-08-01T00:00:00",
          "2021-08-02T00:00:00",
          "2021-08-03T00:00:00",
          "2021-08-04T00:00:00",
          "2021-08-05T00:00:00",
          "2021-08-06T00:00:00",
          "2021-08-07T00:00:00",
          "2021-08-08T00:00:00",
          "2021-08-09T00:00:00",
          "2021-08-10T00:00:00",
          "2021-08-11T00:00:00",
          "2021-08-12T00:00:00",
          "2021-08-13T00:00:00",
          "2021-08-14T00:00:00",
          "2021-08-15T00:00:00",
          "2021-08-16T00:00:00",
          "2021-08-17T00:00:00",
          "2021-08-18T00:00:00",
          "2021-08-19T00:00:00",
          "2021-08-20T00:00:00",
          "2021-08-21T00:00:00",
          "2021-08-22T00:00:00",
          "2021-08-23T00:00:00",
          "2021-08-24T00:00:00",
          "2021-08-25T00:00:00",
          "2021-08-26T00:00:00",
          "2021-08-27T00:00:00",
          "2021-08-28T00:00:00",
          "2021-08-29T00:00:00",
          "2021-08-30T00:00:00",
          "2021-08-31T00:00:00",
          "2021-09-01T00:00:00",
          "2021-09-02T00:00:00",
          "2021-09-03T00:00:00",
          "2021-09-04T00:00:00",
          "2021-09-05T00:00:00",
          "2021-09-06T00:00:00",
          "2021-09-07T00:00:00",
          "2021-09-08T00:00:00",
          "2021-09-09T00:00:00",
          "2021-09-10T00:00:00",
          "2021-09-11T00:00:00",
          "2021-09-12T00:00:00",
          "2021-09-13T00:00:00",
          "2021-09-14T00:00:00",
          "2021-09-15T00:00:00",
          "2021-09-16T00:00:00",
          "2021-09-17T00:00:00",
          "2021-09-18T00:00:00",
          "2021-09-19T00:00:00",
          "2021-09-20T00:00:00",
          "2021-09-21T00:00:00",
          "2021-09-22T00:00:00",
          "2021-09-23T00:00:00",
          "2021-09-24T00:00:00",
          "2021-09-25T00:00:00",
          "2021-09-26T00:00:00",
          "2021-09-27T00:00:00",
          "2021-09-28T00:00:00",
          "2021-09-29T00:00:00",
          "2021-09-30T00:00:00",
          "2021-10-01T00:00:00",
          "2021-10-02T00:00:00",
          "2021-10-03T00:00:00",
          "2021-10-04T00:00:00",
          "2021-10-05T00:00:00",
          "2021-10-06T00:00:00",
          "2021-10-07T00:00:00",
          "2021-10-08T00:00:00",
          "2021-10-09T00:00:00",
          "2021-10-10T00:00:00",
          "2021-10-11T00:00:00",
          "2021-10-12T00:00:00",
          "2021-10-13T00:00:00",
          "2021-10-14T00:00:00",
          "2021-10-15T00:00:00",
          "2021-10-16T00:00:00",
          "2021-10-17T00:00:00",
          "2021-10-18T00:00:00",
          "2021-10-19T00:00:00",
          "2021-10-20T00:00:00",
          "2021-10-21T00:00:00",
          "2021-10-22T00:00:00",
          "2021-10-23T00:00:00",
          "2021-10-24T00:00:00",
          "2021-10-25T00:00:00",
          "2021-10-26T00:00:00",
          "2021-10-27T00:00:00",
          "2021-10-28T00:00:00",
          "2021-10-29T00:00:00",
          "2021-10-30T00:00:00",
          "2021-10-31T00:00:00",
          "2021-11-01T00:00:00",
          "2021-11-02T00:00:00",
          "2021-11-03T00:00:00",
          "2021-11-04T00:00:00",
          "2021-11-05T00:00:00",
          "2021-11-06T00:00:00",
          "2021-11-07T00:00:00",
          "2021-11-08T00:00:00",
          "2021-11-09T00:00:00",
          "2021-11-10T00:00:00",
          "2021-11-11T00:00:00",
          "2021-11-12T00:00:00",
          "2021-11-13T00:00:00",
          "2021-11-14T00:00:00",
          "2021-11-15T00:00:00",
          "2021-11-16T00:00:00",
          "2021-11-17T00:00:00",
          "2021-11-18T00:00:00",
          "2021-11-19T00:00:00",
          "2021-11-20T00:00:00",
          "2021-11-21T00:00:00",
          "2021-11-22T00:00:00",
          "2021-11-23T00:00:00",
          "2021-11-24T00:00:00",
          "2021-11-25T00:00:00",
          "2021-11-26T00:00:00",
          "2021-11-27T00:00:00",
          "2021-11-28T00:00:00",
          "2021-11-29T00:00:00",
          "2021-11-30T00:00:00",
          "2021-12-01T00:00:00",
          "2021-12-02T00:00:00",
          "2021-12-03T00:00:00",
          "2021-12-04T00:00:00",
          "2021-12-05T00:00:00",
          "2021-12-06T00:00:00",
          "2021-12-07T00:00:00",
          "2021-12-08T00:00:00",
          "2021-12-09T00:00:00",
          "2021-12-10T00:00:00",
          "2021-12-11T00:00:00",
          "2021-12-12T00:00:00",
          "2021-12-13T00:00:00",
          "2021-12-14T00:00:00",
          "2021-12-15T00:00:00",
          "2021-12-16T00:00:00",
          "2021-12-17T00:00:00",
          "2021-12-18T00:00:00",
          "2021-12-19T00:00:00",
          "2021-12-20T00:00:00",
          "2021-12-21T00:00:00",
          "2021-12-22T00:00:00",
          "2021-12-23T00:00:00",
          "2021-12-24T00:00:00",
          "2021-12-25T00:00:00",
          "2021-12-26T00:00:00",
          "2021-12-27T00:00:00",
          "2021-12-28T00:00:00",
          "2021-12-29T00:00:00",
          "2021-12-30T00:00:00",
          "2021-12-31T00:00:00",
          "2022-01-01T00:00:00",
          "2022-01-02T00:00:00",
          "2022-01-03T00:00:00",
          "2022-01-04T00:00:00",
          "2022-01-05T00:00:00",
          "2022-01-06T00:00:00",
          "2022-01-07T00:00:00",
          "2022-01-08T00:00:00",
          "2022-01-09T00:00:00",
          "2022-01-10T00:00:00",
          "2022-01-11T00:00:00",
          "2022-01-12T00:00:00",
          "2022-01-13T00:00:00",
          "2022-01-14T00:00:00",
          "2022-01-15T00:00:00",
          "2022-01-16T00:00:00",
          "2022-01-17T00:00:00",
          "2022-01-18T00:00:00",
          "2022-01-19T00:00:00",
          "2022-01-20T00:00:00",
          "2022-01-21T00:00:00",
          "2022-01-22T00:00:00",
          "2022-01-23T00:00:00",
          "2022-01-24T00:00:00",
          "2022-01-25T00:00:00",
          "2022-01-26T00:00:00",
          "2022-01-27T00:00:00",
          "2022-01-28T00:00:00",
          "2022-01-29T00:00:00",
          "2022-01-30T00:00:00",
          "2022-01-31T00:00:00",
          "2022-02-01T00:00:00",
          "2022-02-02T00:00:00",
          "2022-02-03T00:00:00",
          "2022-02-04T00:00:00",
          "2022-02-05T00:00:00",
          "2022-02-06T00:00:00",
          "2022-02-07T00:00:00",
          "2022-02-08T00:00:00",
          "2022-02-09T00:00:00",
          "2022-02-10T00:00:00",
          "2022-02-11T00:00:00",
          "2022-02-12T00:00:00",
          "2022-02-13T00:00:00",
          "2022-02-14T00:00:00",
          "2022-02-15T00:00:00",
          "2022-02-16T00:00:00",
          "2022-02-17T00:00:00",
          "2022-02-18T00:00:00",
          "2022-02-19T00:00:00",
          "2022-02-20T00:00:00",
          "2022-02-21T00:00:00",
          "2022-02-22T00:00:00",
          "2022-02-23T00:00:00",
          "2022-02-24T00:00:00",
          "2022-02-25T00:00:00",
          "2022-02-26T00:00:00",
          "2022-02-27T00:00:00",
          "2022-02-28T00:00:00",
          "2022-03-01T00:00:00",
          "2022-03-02T00:00:00",
          "2022-03-03T00:00:00",
          "2022-03-04T00:00:00",
          "2022-03-05T00:00:00",
          "2022-03-06T00:00:00",
          "2022-03-07T00:00:00",
          "2022-03-08T00:00:00",
          "2022-03-09T00:00:00",
          "2022-03-10T00:00:00",
          "2022-03-11T00:00:00",
          "2022-03-12T00:00:00",
          "2022-03-13T00:00:00",
          "2022-03-14T00:00:00",
          "2022-03-15T00:00:00",
          "2022-03-16T00:00:00",
          "2022-03-17T00:00:00",
          "2022-03-18T00:00:00",
          "2022-03-19T00:00:00",
          "2022-03-20T00:00:00",
          "2022-03-21T00:00:00",
          "2022-03-22T00:00:00",
          "2022-03-23T00:00:00",
          "2022-03-24T00:00:00",
          "2022-03-25T00:00:00",
          "2022-03-26T00:00:00",
          "2022-03-27T00:00:00",
          "2022-03-28T00:00:00",
          "2022-03-29T00:00:00",
          "2022-03-30T00:00:00",
          "2022-03-31T00:00:00",
          "2022-04-01T00:00:00",
          "2022-04-02T00:00:00",
          "2022-04-03T00:00:00",
          "2022-04-04T00:00:00",
          "2022-04-05T00:00:00",
          "2022-04-06T00:00:00",
          "2022-04-07T00:00:00",
          "2022-04-08T00:00:00",
          "2022-04-09T00:00:00",
          "2022-04-10T00:00:00",
          "2022-04-11T00:00:00",
          "2022-04-12T00:00:00",
          "2022-04-13T00:00:00",
          "2022-04-14T00:00:00",
          "2022-04-15T00:00:00",
          "2022-04-16T00:00:00",
          "2022-04-17T00:00:00",
          "2022-04-18T00:00:00",
          "2022-04-19T00:00:00",
          "2022-04-20T00:00:00",
          "2022-04-21T00:00:00",
          "2022-04-22T00:00:00",
          "2022-04-23T00:00:00",
          "2022-04-24T00:00:00",
          "2022-04-25T00:00:00",
          "2022-04-26T00:00:00",
          "2022-04-27T00:00:00",
          "2022-04-28T00:00:00",
          "2022-04-29T00:00:00",
          "2022-04-30T00:00:00",
          "2022-05-01T00:00:00",
          "2022-05-02T00:00:00",
          "2022-05-03T00:00:00",
          "2022-05-04T00:00:00",
          "2022-05-05T00:00:00",
          "2022-05-06T00:00:00",
          "2022-05-07T00:00:00",
          "2022-05-08T00:00:00",
          "2022-05-09T00:00:00",
          "2022-05-10T00:00:00",
          "2022-05-11T00:00:00",
          "2022-05-12T00:00:00",
          "2022-05-13T00:00:00",
          "2022-05-14T00:00:00",
          "2022-05-15T00:00:00",
          "2022-05-16T00:00:00",
          "2022-05-17T00:00:00",
          "2022-05-18T00:00:00",
          "2022-05-19T00:00:00",
          "2022-05-20T00:00:00",
          "2022-05-21T00:00:00",
          "2022-05-22T00:00:00",
          "2022-05-23T00:00:00",
          "2022-05-24T00:00:00",
          "2022-05-25T00:00:00",
          "2022-05-26T00:00:00",
          "2022-05-27T00:00:00",
          "2022-05-28T00:00:00",
          "2022-05-29T00:00:00",
          "2022-05-30T00:00:00",
          "2022-05-31T00:00:00",
          "2022-06-01T00:00:00",
          "2022-06-02T00:00:00",
          "2022-06-03T00:00:00",
          "2022-06-04T00:00:00",
          "2022-06-05T00:00:00",
          "2022-06-06T00:00:00",
          "2022-06-07T00:00:00",
          "2022-06-08T00:00:00",
          "2022-06-09T00:00:00",
          "2022-06-10T00:00:00",
          "2022-06-11T00:00:00",
          "2022-06-12T00:00:00",
          "2022-06-13T00:00:00",
          "2022-06-14T00:00:00",
          "2022-06-15T00:00:00",
          "2022-06-16T00:00:00",
          "2022-06-17T00:00:00",
          "2022-06-18T00:00:00",
          "2022-06-19T00:00:00",
          "2022-06-20T00:00:00",
          "2022-06-21T00:00:00",
          "2022-06-22T00:00:00",
          "2022-06-23T00:00:00",
          "2022-06-24T00:00:00",
          "2022-06-25T00:00:00",
          "2022-06-26T00:00:00",
          "2022-06-27T00:00:00",
          "2022-06-28T00:00:00",
          "2022-06-29T00:00:00",
          "2022-06-30T00:00:00",
          "2022-07-01T00:00:00",
          "2022-07-02T00:00:00",
          "2022-07-03T00:00:00",
          "2022-07-04T00:00:00",
          "2022-07-05T00:00:00",
          "2022-07-06T00:00:00",
          "2022-07-07T00:00:00",
          "2022-07-08T00:00:00",
          "2022-07-09T00:00:00",
          "2022-07-10T00:00:00",
          "2022-07-11T00:00:00",
          "2022-07-12T00:00:00",
          "2022-07-13T00:00:00",
          "2022-07-14T00:00:00",
          "2022-07-15T00:00:00",
          "2022-07-16T00:00:00",
          "2022-07-17T00:00:00",
          "2022-07-18T00:00:00",
          "2022-07-19T00:00:00",
          "2022-07-20T00:00:00",
          "2022-07-21T00:00:00",
          "2022-07-22T00:00:00",
          "2022-07-23T00:00:00",
          "2022-07-24T00:00:00",
          "2022-07-25T00:00:00",
          "2022-07-26T00:00:00",
          "2022-07-27T00:00:00",
          "2022-07-28T00:00:00",
          "2022-07-29T00:00:00",
          "2022-07-30T00:00:00",
          "2022-07-31T00:00:00",
          "2022-08-01T00:00:00",
          "2022-08-02T00:00:00",
          "2022-08-03T00:00:00",
          "2022-08-04T00:00:00",
          "2022-08-05T00:00:00",
          "2022-08-06T00:00:00",
          "2022-08-07T00:00:00",
          "2022-08-08T00:00:00",
          "2022-08-09T00:00:00",
          "2022-08-10T00:00:00",
          "2022-08-11T00:00:00",
          "2022-08-12T00:00:00",
          "2022-08-13T00:00:00",
          "2022-08-14T00:00:00",
          "2022-08-15T00:00:00",
          "2022-08-16T00:00:00",
          "2022-08-17T00:00:00",
          "2022-08-18T00:00:00",
          "2022-08-19T00:00:00",
          "2022-08-20T00:00:00",
          "2022-08-21T00:00:00",
          "2022-08-22T00:00:00",
          "2022-08-23T00:00:00",
          "2022-08-24T00:00:00",
          "2022-08-25T00:00:00",
          "2022-08-26T00:00:00",
          "2022-08-27T00:00:00",
          "2022-08-28T00:00:00",
          "2022-08-29T00:00:00",
          "2022-08-30T00:00:00",
          "2022-08-31T00:00:00",
          "2022-09-01T00:00:00",
          "2022-09-02T00:00:00",
          "2022-09-03T00:00:00",
          "2022-09-04T00:00:00",
          "2022-09-05T00:00:00",
          "2022-09-06T00:00:00",
          "2022-09-07T00:00:00",
          "2022-09-08T00:00:00",
          "2022-09-09T00:00:00",
          "2022-09-10T00:00:00",
          "2022-09-11T00:00:00",
          "2022-09-12T00:00:00",
          "2022-09-13T00:00:00",
          "2022-09-14T00:00:00",
          "2022-09-15T00:00:00",
          "2022-09-16T00:00:00",
          "2022-09-17T00:00:00",
          "2022-09-18T00:00:00",
          "2022-09-19T00:00:00",
          "2022-09-20T00:00:00",
          "2022-09-21T00:00:00",
          "2022-09-22T00:00:00",
          "2022-09-23T00:00:00",
          "2022-09-24T00:00:00",
          "2022-09-25T00:00:00",
          "2022-09-26T00:00:00",
          "2022-09-27T00:00:00",
          "2022-09-28T00:00:00",
          "2022-09-29T00:00:00",
          "2022-09-30T00:00:00",
          "2022-10-01T00:00:00",
          "2022-10-02T00:00:00",
          "2022-10-03T00:00:00",
          "2022-10-04T00:00:00",
          "2022-10-05T00:00:00",
          "2022-10-06T00:00:00",
          "2022-10-07T00:00:00",
          "2022-10-08T00:00:00",
          "2022-10-09T00:00:00",
          "2022-10-10T00:00:00",
          "2022-10-11T00:00:00",
          "2022-10-12T00:00:00",
          "2022-10-13T00:00:00",
          "2022-10-14T00:00:00",
          "2022-10-15T00:00:00",
          "2022-10-16T00:00:00",
          "2022-10-17T00:00:00",
          "2022-10-18T00:00:00",
          "2022-10-19T00:00:00",
          "2022-10-20T00:00:00",
          "2022-10-21T00:00:00",
          "2022-10-22T00:00:00",
          "2022-10-23T00:00:00",
          "2022-10-24T00:00:00",
          "2022-10-25T00:00:00",
          "2022-10-26T00:00:00",
          "2022-10-27T00:00:00",
          "2022-10-28T00:00:00",
          "2022-10-29T00:00:00",
          "2022-10-30T00:00:00",
          "2022-10-31T00:00:00",
          "2022-11-01T00:00:00",
          "2022-11-02T00:00:00",
          "2022-11-03T00:00:00",
          "2022-11-04T00:00:00",
          "2022-11-05T00:00:00",
          "2022-11-06T00:00:00",
          "2022-11-07T00:00:00",
          "2022-11-08T00:00:00",
          "2022-11-09T00:00:00",
          "2022-11-10T00:00:00",
          "2022-11-11T00:00:00",
          "2022-11-12T00:00:00",
          "2022-11-13T00:00:00",
          "2022-11-14T00:00:00",
          "2022-11-15T00:00:00",
          "2022-11-16T00:00:00",
          "2022-11-17T00:00:00",
          "2022-11-18T00:00:00",
          "2022-11-19T00:00:00",
          "2022-11-20T00:00:00",
          "2022-11-21T00:00:00",
          "2022-11-22T00:00:00",
          "2022-11-23T00:00:00",
          "2022-11-24T00:00:00",
          "2022-11-25T00:00:00",
          "2022-11-26T00:00:00",
          "2022-11-27T00:00:00",
          "2022-11-28T00:00:00",
          "2022-11-29T00:00:00",
          "2022-11-30T00:00:00",
          "2022-12-01T00:00:00",
          "2022-12-02T00:00:00",
          "2022-12-03T00:00:00",
          "2022-12-04T00:00:00",
          "2022-12-05T00:00:00",
          "2022-12-06T00:00:00",
          "2022-12-07T00:00:00",
          "2022-12-08T00:00:00",
          "2022-12-09T00:00:00",
          "2022-12-10T00:00:00",
          "2022-12-11T00:00:00",
          "2022-12-12T00:00:00",
          "2022-12-13T00:00:00",
          "2022-12-14T00:00:00",
          "2022-12-15T00:00:00",
          "2022-12-16T00:00:00",
          "2022-12-17T00:00:00",
          "2022-12-18T00:00:00",
          "2022-12-19T00:00:00",
          "2022-12-20T00:00:00",
          "2022-12-21T00:00:00",
          "2022-12-22T00:00:00",
          "2022-12-23T00:00:00",
          "2022-12-24T00:00:00",
          "2022-12-25T00:00:00",
          "2022-12-26T00:00:00",
          "2022-12-27T00:00:00",
          "2022-12-28T00:00:00",
          "2022-12-29T00:00:00",
          "2022-12-30T00:00:00",
          "2022-12-31T00:00:00",
          "2023-01-01T00:00:00",
          "2023-01-02T00:00:00",
          "2023-01-03T00:00:00",
          "2023-01-04T00:00:00",
          "2023-01-05T00:00:00",
          "2023-01-06T00:00:00",
          "2023-01-07T00:00:00",
          "2023-01-08T00:00:00",
          "2023-01-09T00:00:00",
          "2023-01-10T00:00:00",
          "2023-01-11T00:00:00",
          "2023-01-12T00:00:00",
          "2023-01-13T00:00:00",
          "2023-01-14T00:00:00",
          "2023-01-15T00:00:00",
          "2023-01-16T00:00:00",
          "2023-01-17T00:00:00",
          "2023-01-18T00:00:00",
          "2023-01-19T00:00:00",
          "2023-01-20T00:00:00",
          "2023-01-21T00:00:00",
          "2023-01-22T00:00:00",
          "2023-01-23T00:00:00",
          "2023-01-24T00:00:00",
          "2023-01-25T00:00:00",
          "2023-01-26T00:00:00",
          "2023-01-27T00:00:00",
          "2023-01-28T00:00:00",
          "2023-01-29T00:00:00",
          "2023-01-30T00:00:00",
          "2023-01-31T00:00:00",
          "2023-02-01T00:00:00",
          "2023-02-02T00:00:00",
          "2023-02-03T00:00:00",
          "2023-02-04T00:00:00",
          "2023-02-05T00:00:00",
          "2023-02-06T00:00:00",
          "2023-02-07T00:00:00",
          "2023-02-08T00:00:00",
          "2023-02-09T00:00:00",
          "2023-02-10T00:00:00",
          "2023-02-11T00:00:00",
          "2023-02-12T00:00:00",
          "2023-02-13T00:00:00",
          "2023-02-14T00:00:00",
          "2023-02-15T00:00:00",
          "2023-02-16T00:00:00",
          "2023-02-17T00:00:00",
          "2023-02-18T00:00:00",
          "2023-02-19T00:00:00",
          "2023-02-20T00:00:00",
          "2023-02-21T00:00:00",
          "2023-02-22T00:00:00",
          "2023-02-23T00:00:00",
          "2023-02-24T00:00:00",
          "2023-02-25T00:00:00",
          "2023-02-26T00:00:00",
          "2023-02-27T00:00:00",
          "2023-02-28T00:00:00",
          "2023-03-01T00:00:00",
          "2023-03-02T00:00:00",
          "2023-03-03T00:00:00",
          "2023-03-04T00:00:00",
          "2023-03-05T00:00:00",
          "2023-03-06T00:00:00",
          "2023-03-07T00:00:00",
          "2023-03-08T00:00:00",
          "2023-03-09T00:00:00",
          "2023-03-10T00:00:00",
          "2023-03-11T00:00:00",
          "2023-03-12T00:00:00",
          "2023-03-13T00:00:00",
          "2023-03-14T00:00:00",
          "2023-03-15T00:00:00",
          "2023-03-16T00:00:00",
          "2023-03-17T00:00:00",
          "2023-03-18T00:00:00",
          "2023-03-19T00:00:00",
          "2023-03-20T00:00:00",
          "2023-03-21T00:00:00",
          "2023-03-22T00:00:00",
          "2023-03-23T00:00:00",
          "2023-03-24T00:00:00",
          "2023-03-25T00:00:00",
          "2023-03-26T00:00:00",
          "2023-03-27T00:00:00",
          "2023-03-28T00:00:00",
          "2023-03-29T00:00:00",
          "2023-03-30T00:00:00",
          "2023-03-31T00:00:00",
          "2023-04-01T00:00:00",
          "2023-04-02T00:00:00",
          "2023-04-03T00:00:00",
          "2023-04-04T00:00:00",
          "2023-04-05T00:00:00",
          "2023-04-06T00:00:00",
          "2023-04-07T00:00:00",
          "2023-04-08T00:00:00",
          "2023-04-09T00:00:00",
          "2023-04-10T00:00:00",
          "2023-04-11T00:00:00",
          "2023-04-12T00:00:00",
          "2023-04-13T00:00:00",
          "2023-04-14T00:00:00",
          "2023-04-15T00:00:00",
          "2023-04-16T00:00:00",
          "2023-04-17T00:00:00",
          "2023-04-18T00:00:00",
          "2023-04-19T00:00:00",
          "2023-04-20T00:00:00",
          "2023-04-21T00:00:00",
          "2023-04-22T00:00:00",
          "2023-04-23T00:00:00",
          "2023-04-24T00:00:00",
          "2023-04-25T00:00:00",
          "2023-04-26T00:00:00",
          "2023-04-27T00:00:00",
          "2023-04-28T00:00:00",
          "2023-04-29T00:00:00",
          "2023-04-30T00:00:00",
          "2023-05-01T00:00:00",
          "2023-05-02T00:00:00",
          "2023-05-03T00:00:00",
          "2023-05-04T00:00:00",
          "2023-05-05T00:00:00",
          "2023-05-06T00:00:00",
          "2023-05-07T00:00:00",
          "2023-05-08T00:00:00",
          "2023-05-09T00:00:00",
          "2023-05-10T00:00:00",
          "2023-05-11T00:00:00",
          "2023-05-12T00:00:00",
          "2023-05-13T00:00:00",
          "2023-05-14T00:00:00",
          "2023-05-15T00:00:00",
          "2023-05-16T00:00:00",
          "2023-05-17T00:00:00",
          "2023-05-18T00:00:00",
          "2023-05-19T00:00:00",
          "2023-05-20T00:00:00",
          "2023-05-21T00:00:00",
          "2023-05-22T00:00:00",
          "2023-05-23T00:00:00",
          "2023-05-24T00:00:00",
          "2023-05-25T00:00:00",
          "2023-05-26T00:00:00",
          "2023-05-27T00:00:00",
          "2023-05-28T00:00:00",
          "2023-05-29T00:00:00",
          "2023-05-30T00:00:00",
          "2023-05-31T00:00:00",
          "2023-06-01T00:00:00",
          "2023-06-02T00:00:00",
          "2023-06-03T00:00:00",
          "2023-06-04T00:00:00",
          "2023-06-05T00:00:00",
          "2023-06-06T00:00:00",
          "2023-06-07T00:00:00",
          "2023-06-08T00:00:00",
          "2023-06-09T00:00:00",
          "2023-06-10T00:00:00",
          "2023-06-11T00:00:00",
          "2023-06-12T00:00:00",
          "2023-06-13T00:00:00",
          "2023-06-14T00:00:00",
          "2023-06-15T00:00:00",
          "2023-06-16T00:00:00",
          "2023-06-17T00:00:00",
          "2023-06-18T00:00:00",
          "2023-06-19T00:00:00",
          "2023-06-20T00:00:00",
          "2023-06-21T00:00:00",
          "2023-06-22T00:00:00",
          "2023-06-23T00:00:00",
          "2023-06-24T00:00:00",
          "2023-06-25T00:00:00",
          "2023-06-26T00:00:00",
          "2023-06-27T00:00:00",
          "2023-06-28T00:00:00",
          "2023-06-29T00:00:00",
          "2023-06-30T00:00:00",
          "2023-07-01T00:00:00",
          "2023-07-02T00:00:00",
          "2023-07-03T00:00:00",
          "2023-07-04T00:00:00",
          "2023-07-05T00:00:00",
          "2023-07-06T00:00:00",
          "2023-07-07T00:00:00",
          "2023-07-08T00:00:00",
          "2023-07-09T00:00:00",
          "2023-07-10T00:00:00",
          "2023-07-11T00:00:00",
          "2023-07-12T00:00:00",
          "2023-07-13T00:00:00",
          "2023-07-14T00:00:00",
          "2023-07-15T00:00:00",
          "2023-07-16T00:00:00",
          "2023-07-17T00:00:00",
          "2023-07-18T00:00:00",
          "2023-07-19T00:00:00",
          "2023-07-20T00:00:00",
          "2023-07-21T00:00:00",
          "2023-07-22T00:00:00",
          "2023-07-23T00:00:00",
          "2023-07-24T00:00:00",
          "2023-07-25T00:00:00",
          "2023-07-26T00:00:00",
          "2023-07-27T00:00:00",
          "2023-07-28T00:00:00",
          "2023-07-29T00:00:00",
          "2023-07-30T00:00:00",
          "2023-07-31T00:00:00",
          "2023-08-01T00:00:00",
          "2023-08-02T00:00:00",
          "2023-08-03T00:00:00",
          "2023-08-04T00:00:00",
          "2023-08-05T00:00:00",
          "2023-08-06T00:00:00",
          "2023-08-07T00:00:00",
          "2023-08-08T00:00:00",
          "2023-08-09T00:00:00",
          "2023-08-10T00:00:00",
          "2023-08-11T00:00:00",
          "2023-08-12T00:00:00",
          "2023-08-13T00:00:00",
          "2023-08-14T00:00:00",
          "2023-08-15T00:00:00",
          "2023-08-16T00:00:00",
          "2023-08-17T00:00:00",
          "2023-08-18T00:00:00",
          "2023-08-19T00:00:00",
          "2023-08-20T00:00:00",
          "2023-08-21T00:00:00",
          "2023-08-22T00:00:00",
          "2023-08-23T00:00:00",
          "2023-08-24T00:00:00",
          "2023-08-25T00:00:00",
          "2023-08-26T00:00:00",
          "2023-08-27T00:00:00",
          "2023-08-28T00:00:00",
          "2023-08-29T00:00:00",
          "2023-08-30T00:00:00",
          "2023-08-31T00:00:00",
          "2023-09-01T00:00:00",
          "2023-09-02T00:00:00",
          "2023-09-03T00:00:00",
          "2023-09-04T00:00:00",
          "2023-09-05T00:00:00",
          "2023-09-06T00:00:00",
          "2023-09-07T00:00:00",
          "2023-09-08T00:00:00",
          "2023-09-09T00:00:00",
          "2023-09-10T00:00:00",
          "2023-09-11T00:00:00",
          "2023-09-12T00:00:00",
          "2023-09-13T00:00:00",
          "2023-09-14T00:00:00",
          "2023-09-15T00:00:00",
          "2023-09-16T00:00:00",
          "2023-09-17T00:00:00",
          "2023-09-18T00:00:00",
          "2023-09-19T00:00:00",
          "2023-09-20T00:00:00",
          "2023-09-21T00:00:00",
          "2023-09-22T00:00:00",
          "2023-09-23T00:00:00",
          "2023-09-24T00:00:00",
          "2023-09-25T00:00:00",
          "2023-09-26T00:00:00",
          "2023-09-27T00:00:00",
          "2023-09-28T00:00:00",
          "2023-09-29T00:00:00",
          "2023-09-30T00:00:00",
          "2023-10-01T00:00:00",
          "2023-10-02T00:00:00",
          "2023-10-03T00:00:00",
          "2023-10-04T00:00:00",
          "2023-10-05T00:00:00",
          "2023-10-06T00:00:00",
          "2023-10-07T00:00:00",
          "2023-10-08T00:00:00",
          "2023-10-09T00:00:00",
          "2023-10-10T00:00:00",
          "2023-10-11T00:00:00",
          "2023-10-12T00:00:00",
          "2023-10-13T00:00:00",
          "2023-10-14T00:00:00",
          "2023-10-15T00:00:00",
          "2023-10-16T00:00:00",
          "2023-10-17T00:00:00",
          "2023-10-18T00:00:00",
          "2023-10-19T00:00:00",
          "2023-10-20T00:00:00",
          "2023-10-21T00:00:00",
          "2023-10-22T00:00:00",
          "2023-10-23T00:00:00",
          "2023-10-24T00:00:00",
          "2023-10-25T00:00:00",
          "2023-10-26T00:00:00",
          "2023-10-27T00:00:00",
          "2023-10-28T00:00:00",
          "2023-10-29T00:00:00",
          "2023-10-30T00:00:00",
          "2023-10-31T00:00:00",
          "2023-11-01T00:00:00",
          "2023-11-02T00:00:00",
          "2023-11-03T00:00:00",
          "2023-11-04T00:00:00",
          "2023-11-05T00:00:00",
          "2023-11-06T00:00:00",
          "2023-11-07T00:00:00",
          "2023-11-08T00:00:00",
          "2023-11-09T00:00:00",
          "2023-11-10T00:00:00",
          "2023-11-11T00:00:00",
          "2023-11-12T00:00:00",
          "2023-11-13T00:00:00",
          "2023-11-14T00:00:00",
          "2023-11-15T00:00:00",
          "2023-11-16T00:00:00",
          "2023-11-17T00:00:00",
          "2023-11-18T00:00:00",
          "2023-11-19T00:00:00",
          "2023-11-20T00:00:00",
          "2023-11-21T00:00:00",
          "2023-11-22T00:00:00",
          "2023-11-23T00:00:00",
          "2023-11-24T00:00:00",
          "2023-11-25T00:00:00",
          "2023-11-26T00:00:00",
          "2023-11-27T00:00:00",
          "2023-11-28T00:00:00",
          "2023-11-29T00:00:00",
          "2023-11-30T00:00:00",
          "2023-12-01T00:00:00",
          "2023-12-02T00:00:00",
          "2023-12-03T00:00:00",
          "2023-12-04T00:00:00",
          "2023-12-05T00:00:00",
          "2023-12-06T00:00:00",
          "2023-12-07T00:00:00",
          "2023-12-08T00:00:00",
          "2023-12-09T00:00:00",
          "2023-12-10T00:00:00",
          "2023-12-11T00:00:00",
          "2023-12-12T00:00:00",
          "2023-12-13T00:00:00",
          "2023-12-14T00:00:00",
          "2023-12-15T00:00:00",
          "2023-12-16T00:00:00",
          "2023-12-17T00:00:00",
          "2023-12-18T00:00:00",
          "2023-12-19T00:00:00",
          "2023-12-20T00:00:00",
          "2023-12-21T00:00:00",
          "2023-12-22T00:00:00",
          "2023-12-23T00:00:00",
          "2023-12-24T00:00:00",
          "2023-12-25T00:00:00",
          "2023-12-26T00:00:00",
          "2023-12-27T00:00:00",
          "2023-12-28T00:00:00",
          "2023-12-29T00:00:00",
          "2023-12-30T00:00:00",
          "2023-12-31T00:00:00",
          "2024-01-01T00:00:00",
          "2024-01-02T00:00:00",
          "2024-01-03T00:00:00",
          "2024-01-04T00:00:00",
          "2024-01-05T00:00:00",
          "2024-01-06T00:00:00",
          "2024-01-07T00:00:00",
          "2024-01-08T00:00:00",
          "2024-01-09T00:00:00",
          "2024-01-10T00:00:00",
          "2024-01-11T00:00:00",
          "2024-01-12T00:00:00",
          "2024-01-13T00:00:00",
          "2024-01-14T00:00:00",
          "2024-01-15T00:00:00",
          "2024-01-16T00:00:00",
          "2024-01-17T00:00:00",
          "2024-01-18T00:00:00",
          "2024-01-19T00:00:00",
          "2024-01-20T00:00:00",
          "2024-01-21T00:00:00",
          "2024-01-22T00:00:00",
          "2024-01-23T00:00:00",
          "2024-01-24T00:00:00",
          "2024-01-25T00:00:00",
          "2024-01-26T00:00:00",
          "2024-01-27T00:00:00",
          "2024-01-28T00:00:00",
          "2024-01-29T00:00:00",
          "2024-01-30T00:00:00",
          "2024-01-31T00:00:00",
          "2024-02-01T00:00:00",
          "2024-02-02T00:00:00",
          "2024-02-03T00:00:00",
          "2024-02-04T00:00:00",
          "2024-02-05T00:00:00",
          "2024-02-06T00:00:00",
          "2024-02-07T00:00:00",
          "2024-02-08T00:00:00",
          "2024-02-09T00:00:00",
          "2024-02-10T00:00:00",
          "2024-02-11T00:00:00",
          "2024-02-12T00:00:00",
          "2024-02-13T00:00:00",
          "2024-02-14T00:00:00",
          "2024-02-15T00:00:00",
          "2024-02-16T00:00:00",
          "2024-02-17T00:00:00",
          "2024-02-18T00:00:00",
          "2024-02-19T00:00:00",
          "2024-02-20T00:00:00",
          "2024-02-21T00:00:00",
          "2024-02-22T00:00:00",
          "2024-02-23T00:00:00",
          "2024-02-24T00:00:00",
          "2024-02-25T00:00:00",
          "2024-02-26T00:00:00",
          "2024-02-27T00:00:00",
          "2024-02-28T00:00:00",
          "2024-02-29T00:00:00",
          "2024-03-01T00:00:00",
          "2024-03-02T00:00:00",
          "2024-03-03T00:00:00",
          "2024-03-04T00:00:00",
          "2024-03-05T00:00:00",
          "2024-03-06T00:00:00",
          "2024-03-07T00:00:00",
          "2024-03-08T00:00:00",
          "2024-03-09T00:00:00",
          "2024-03-10T00:00:00",
          "2024-03-11T00:00:00",
          "2024-03-12T00:00:00",
          "2024-03-13T00:00:00",
          "2024-03-14T00:00:00",
          "2024-03-15T00:00:00",
          "2024-03-16T00:00:00",
          "2024-03-17T00:00:00",
          "2024-03-18T00:00:00",
          "2024-03-19T00:00:00",
          "2024-03-20T00:00:00",
          "2024-03-21T00:00:00",
          "2024-03-22T00:00:00",
          "2024-03-23T00:00:00",
          "2024-03-24T00:00:00",
          "2024-03-25T00:00:00",
          "2024-03-26T00:00:00",
          "2024-03-27T00:00:00",
          "2024-03-28T00:00:00",
          "2024-03-29T00:00:00",
          "2024-03-30T00:00:00",
          "2024-03-31T00:00:00",
          "2024-04-01T00:00:00",
          "2024-04-02T00:00:00",
          "2024-04-03T00:00:00",
          "2024-04-04T00:00:00",
          "2024-04-05T00:00:00",
          "2024-04-06T00:00:00",
          "2024-04-07T00:00:00",
          "2024-04-08T00:00:00",
          "2024-04-09T00:00:00",
          "2024-04-10T00:00:00",
          "2024-04-11T00:00:00",
          "2024-04-12T00:00:00",
          "2024-04-13T00:00:00",
          "2024-04-14T00:00:00",
          "2024-04-15T00:00:00",
          "2024-04-16T00:00:00",
          "2024-04-17T00:00:00",
          "2024-04-18T00:00:00",
          "2024-04-19T00:00:00",
          "2024-04-20T00:00:00",
          "2024-04-21T00:00:00",
          "2024-04-22T00:00:00",
          "2024-04-23T00:00:00",
          "2024-04-24T00:00:00",
          "2024-04-25T00:00:00",
          "2024-04-26T00:00:00",
          "2024-04-27T00:00:00",
          "2024-04-28T00:00:00",
          "2024-04-29T00:00:00",
          "2024-04-30T00:00:00",
          "2024-05-01T00:00:00",
          "2024-05-02T00:00:00",
          "2024-05-03T00:00:00",
          "2024-05-04T00:00:00",
          "2024-05-05T00:00:00",
          "2024-05-06T00:00:00",
          "2024-05-07T00:00:00",
          "2024-05-08T00:00:00",
          "2024-05-09T00:00:00",
          "2024-05-10T00:00:00",
          "2024-05-11T00:00:00",
          "2024-05-12T00:00:00",
          "2024-05-13T00:00:00",
          "2024-05-14T00:00:00",
          "2024-05-15T00:00:00",
          "2024-05-16T00:00:00",
          "2024-05-17T00:00:00",
          "2024-05-18T00:00:00",
          "2024-05-19T00:00:00",
          "2024-05-20T00:00:00",
          "2024-05-21T00:00:00",
          "2024-05-22T00:00:00",
          "2024-05-23T00:00:00",
          "2024-05-24T00:00:00",
          "2024-05-25T00:00:00",
          "2024-05-26T00:00:00",
          "2024-05-27T00:00:00",
          "2024-05-28T00:00:00",
          "2024-05-29T00:00:00",
          "2024-05-30T00:00:00",
          "2024-05-31T00:00:00",
          "2024-06-01T00:00:00",
          "2024-06-02T00:00:00",
          "2024-06-03T00:00:00",
          "2024-06-04T00:00:00",
          "2024-06-05T00:00:00",
          "2024-06-06T00:00:00",
          "2024-06-07T00:00:00",
          "2024-06-08T00:00:00",
          "2024-06-09T00:00:00",
          "2024-06-10T00:00:00",
          "2024-06-11T00:00:00",
          "2024-06-12T00:00:00",
          "2024-06-13T00:00:00",
          "2024-06-14T00:00:00",
          "2024-06-15T00:00:00",
          "2024-06-16T00:00:00",
          "2024-06-17T00:00:00",
          "2024-06-18T00:00:00",
          "2024-06-19T00:00:00",
          "2024-06-20T00:00:00",
          "2024-06-21T00:00:00",
          "2024-06-22T00:00:00",
          "2024-06-23T00:00:00",
          "2024-06-24T00:00:00",
          "2024-06-25T00:00:00",
          "2024-06-26T00:00:00",
          "2024-06-27T00:00:00",
          "2024-06-28T00:00:00",
          "2024-06-29T00:00:00",
          "2024-06-30T00:00:00",
          "2024-07-01T00:00:00",
          "2024-07-02T00:00:00",
          "2024-07-03T00:00:00",
          "2024-07-04T00:00:00",
          "2024-07-05T00:00:00",
          "2024-07-06T00:00:00",
          "2024-07-07T00:00:00",
          "2024-07-08T00:00:00",
          "2024-07-09T00:00:00",
          "2024-07-10T00:00:00",
          "2024-07-11T00:00:00",
          "2024-07-12T00:00:00"
         ],
         "y": [
          0.3265,
          0.326,
          0.324,
          0.322875,
          0.323,
          0.323,
          0.323,
          0.327125,
          0.33258333333333334,
          0.33483333333333337,
          0.33545833333333336,
          0.336,
          0.338,
          0.34474999999999995,
          0.3481666666666667,
          0.3499999999999999,
          0.35241666666666666,
          0.3539999999999999,
          0.3565,
          0.357,
          0.35775,
          0.35833333333333334,
          0.35733333333333334,
          0.3565,
          0.35600000000000004,
          0.35600000000000004,
          0.355875,
          0.3565833333333333,
          0.36000000000000004,
          0.364125,
          0.3657083333333333,
          0.3675,
          0.3678333333333333,
          0.3685,
          0.3685,
          0.36800000000000005,
          0.36599999999999994,
          0.363875,
          0.3618333333333333,
          0.3605416666666667,
          0.3581666666666667,
          0.35591666666666666,
          0.3537083333333333,
          0.35274999999999995,
          0.3499999999999999,
          0.34883333333333333,
          0.34637499999999993,
          0.342,
          0.33829166666666666,
          0.33275000000000005,
          0.33033333333333337,
          0.3277083333333333,
          0.3253333333333333,
          0.32033333333333336,
          0.3153333333333333,
          0.315125,
          0.31479166666666664,
          0.316625,
          0.31816666666666665,
          0.3145,
          0.3094166666666667,
          0.30575,
          0.3025833333333333,
          0.3007083333333333,
          0.29975,
          0.3005,
          0.30204166666666665,
          0.30233333333333334,
          0.30041666666666667,
          0.2985,
          0.29820833333333335,
          0.30745833333333333,
          0.33770833333333333,
          0.3538333333333333,
          0.35925,
          0.35975,
          0.3592916666666666,
          0.3582916666666667,
          0.3562083333333333,
          0.3546666666666667,
          0.353375,
          0.3516666666666666,
          0.349375,
          0.34725,
          0.345375,
          0.34424999999999994,
          0.34474999999999995,
          0.35033333333333333,
          0.35354166666666664,
          0.353875,
          0.35200000000000004,
          0.3463333333333333,
          0.3428333333333333,
          0.3408333333333333,
          0.33908333333333335,
          0.33558333333333334,
          0.3322916666666667,
          0.33270833333333333,
          0.33025,
          0.326625,
          0.3305,
          0.32416666666666666,
          0.319375,
          0.317125,
          0.31654166666666667,
          0.3157083333333333,
          0.31120833333333336,
          0.3207083333333333,
          0.31616666666666665,
          0.309875,
          0.30433333333333334,
          0.30066666666666664,
          0.29216666666666663,
          0.28633333333333333,
          0.281625,
          0.27820833333333334,
          0.2790416666666667,
          0.2755,
          0.27320833333333333,
          0.26833333333333337,
          0.2608333333333333,
          0.2549166666666667,
          0.26329166666666665,
          0.275125,
          0.2672083333333333,
          0.2620416666666667,
          0.26016666666666666,
          0.25029166666666663,
          0.2535,
          0.2527916666666667,
          0.2511666666666667,
          0.2548333333333333,
          0.255125,
          0.25783333333333336,
          0.2569166666666667,
          0.26295833333333335,
          0.26458333333333334,
          0.261375,
          0.260625,
          0.261,
          0.25945833333333335,
          0.25595833333333334,
          0.253,
          0.2500833333333333,
          0.24762499999999998,
          0.24483333333333332,
          0.2419583333333333,
          0.23908333333333331,
          0.2369583333333333,
          0.232625,
          0.22116666666666665,
          0.215,
          0.211,
          0.21037499999999998,
          0.206,
          0.20433333333333334,
          0.20391666666666666,
          0.211,
          0.22320833333333334,
          0.22487500000000002,
          0.22429166666666667,
          0.2303333333333333,
          0.2380833333333333,
          0.237125,
          0.239125,
          0.23783333333333334,
          0.23625,
          0.23687499999999997,
          0.23779166666666665,
          0.23850000000000002,
          0.23970833333333333,
          0.24083333333333332,
          0.24916666666666668,
          0.2551666666666667,
          0.25625000000000003,
          0.25758333333333333,
          0.2559166666666667,
          0.25370833333333337,
          0.25329166666666664,
          0.25245833333333334,
          0.2517916666666667,
          0.2705416666666666,
          0.2857916666666666,
          0.2855833333333333,
          0.2840833333333333,
          0.2830833333333333,
          0.2847083333333333,
          0.2785416666666667,
          0.2753333333333334,
          0.2775,
          0.2775,
          0.2724166666666667,
          0.2751666666666667,
          0.28220833333333334,
          0.2836666666666667,
          0.28520833333333334,
          0.284375,
          0.2838333333333333,
          0.2848333333333333,
          0.285,
          0.2859583333333333,
          0.2905,
          0.29516666666666663,
          0.30124999999999996,
          0.3030833333333333,
          0.30295833333333333,
          0.3015,
          0.29975,
          0.2969583333333333,
          0.29383333333333334,
          0.292875,
          0.2935,
          0.2932916666666667,
          0.292875,
          0.2932916666666667,
          0.29224999999999995,
          0.2917916666666666,
          0.29112499999999997,
          0.2897916666666666,
          0.2873333333333333,
          0.28624999999999995,
          0.28529166666666667,
          0.285,
          0.28475,
          0.2850833333333333,
          0.307,
          0.3175,
          0.3216666666666667,
          0.32183333333333336,
          0.32204166666666667,
          0.32245833333333335,
          0.3237083333333333,
          0.32666666666666666,
          0.3296666666666667,
          0.3293333333333333,
          0.3293333333333333,
          0.32816666666666666,
          0.3264166666666667,
          0.32525,
          0.326,
          0.3285,
          0.33183333333333337,
          0.3317083333333333,
          0.3312083333333334,
          0.329625,
          0.32716666666666666,
          0.32525,
          0.32358333333333333,
          0.32233333333333336,
          0.3209166666666667,
          0.3176666666666667,
          0.31383333333333335,
          0.31016666666666665,
          0.30620833333333336,
          0.3033333333333333,
          0.3009583333333333,
          0.2976666666666667,
          0.2947083333333333,
          0.2917083333333333,
          0.2907083333333333,
          0.28954166666666664,
          0.28762499999999996,
          0.286375,
          0.2847083333333333,
          0.2825833333333333,
          0.28008333333333335,
          0.27758333333333335,
          0.2760416666666667,
          0.27408333333333335,
          0.27287500000000003,
          0.2710416666666667,
          0.26866666666666666,
          0.266125,
          0.263125,
          0.26104166666666667,
          0.25795833333333335,
          0.255625,
          0.25295833333333334,
          0.250625,
          0.24841666666666665,
          0.24570833333333333,
          0.24362499999999998,
          0.24158333333333334,
          0.23958333333333334,
          0.23766666666666666,
          0.23558333333333334,
          0.2336666666666667,
          0.23175,
          0.23029166666666667,
          0.22804166666666667,
          0.22666666666666668,
          0.22529166666666667,
          0.22354166666666667,
          0.22229166666666667,
          0.220625,
          0.21933333333333335,
          0.21829166666666666,
          0.216875,
          0.21541666666666667,
          0.21437499999999998,
          0.21337499999999998,
          0.21237499999999998,
          0.21137499999999998,
          0.21037499999999998,
          0.20941666666666667,
          0.21037499999999998,
          0.20820833333333333,
          0.20729166666666665,
          0.20637499999999998,
          0.206,
          0.20525000000000002,
          0.20433333333333334,
          0.2045,
          0.20325000000000001,
          0.20258333333333334,
          0.2021666666666667,
          0.2015,
          0.2015,
          0.20099999999999998,
          0.20099999999999998,
          0.2025,
          0.204,
          0.20350000000000001,
          0.20200000000000004,
          0.20624999999999996,
          0.2105,
          0.2105,
          0.2155,
          0.221,
          0.2295,
          0.2315,
          0.23083333333333333,
          0.226,
          0.224,
          0.224,
          0.2205,
          0.2145,
          0.21079166666666668,
          0.2125,
          0.2155,
          0.219,
          0.2225,
          0.2255,
          0.2295,
          0.23520833333333332,
          0.23450000000000001,
          0.2325,
          0.23479166666666665,
          0.24149999999999996,
          0.24549999999999997,
          0.248,
          0.25275,
          0.2585,
          0.259,
          0.255,
          0.2515,
          0.24650000000000002,
          0.24662499999999998,
          0.247,
          0.245,
          0.246,
          0.253,
          0.258,
          0.262,
          0.26508333333333334,
          0.26933333333333337,
          0.2765,
          0.28450000000000003,
          0.28783333333333333,
          0.28812499999999996,
          0.28920833333333335,
          0.30120833333333336,
          0.3136666666666667,
          0.3159166666666667,
          0.3176666666666667,
          0.31879166666666664,
          0.3205,
          0.3215,
          0.3225,
          0.323,
          0.323,
          0.323,
          0.3225,
          0.3215,
          0.321,
          0.32079166666666664,
          0.32033333333333336,
          0.3225,
          0.32375000000000004,
          0.32558333333333334,
          0.3275,
          0.327,
          0.324,
          0.32183333333333336,
          0.3215,
          0.319,
          0.31683333333333336,
          0.313625,
          0.310375,
          0.30920833333333336,
          0.307,
          0.3032916666666667,
          0.3016666666666667,
          0.2999583333333333,
          0.2972916666666667,
          0.29424999999999996,
          0.29229166666666667,
          0.2924583333333333,
          0.29475,
          0.29804166666666665,
          0.29791666666666666,
          0.296875,
          0.2955,
          0.29462499999999997,
          0.2933333333333333,
          0.2937916666666666,
          0.2957916666666666,
          0.29716666666666663,
          0.2959583333333333,
          0.29312499999999997,
          0.2866666666666666,
          0.28250000000000003,
          0.27616666666666667,
          0.2719166666666667,
          0.27195833333333336,
          0.2705,
          0.27075,
          0.267625,
          0.2648333333333333,
          0.26433333333333336,
          0.262625,
          0.259125,
          0.2548333333333333,
          0.252125,
          0.25033333333333335,
          0.24966666666666668,
          0.24970833333333334,
          0.24583333333333335,
          0.24462499999999998,
          0.24366666666666667,
          0.24483333333333332,
          0.24508333333333332,
          0.24366666666666667,
          0.24225,
          0.24066666666666667,
          0.23925,
          0.23691666666666666,
          0.23745833333333333,
          0.23479166666666665,
          0.23183333333333334,
          0.22987500000000002,
          0.22733333333333336,
          0.22454166666666667,
          0.22216666666666665,
          0.22433333333333336,
          0.21933333333333335,
          0.21720833333333334,
          0.21708333333333332,
          0.2177083333333333,
          0.2147083333333333,
          0.21245833333333333,
          0.21224999999999997,
          0.21133333333333335,
          0.20883333333333332,
          0.2058333333333333,
          0.19820833333333335,
          0.19183333333333333,
          0.18833333333333332,
          0.18575,
          0.18270833333333333,
          0.1785,
          0.18099999999999997,
          0.1745,
          0.1645,
          0.1595,
          0.155375,
          0.164,
          0.165,
          0.169,
          0.166,
          0.1645,
          0.161,
          0.15833333333333333,
          0.153,
          0.1505,
          0.1505,
          0.1545,
          0.1545,
          0.15720833333333334,
          0.158625,
          0.16,
          0.15737500000000001,
          0.1585,
          0.160125,
          0.16075,
          0.1625,
          0.1595,
          0.1555,
          0.15295833333333334,
          0.152,
          0.146,
          0.14416666666666667,
          0.144,
          0.144,
          0.1445,
          0.14416666666666667,
          0.149,
          0.1475,
          0.149,
          0.1535,
          0.153,
          0.154,
          0.154,
          0.15404166666666666,
          0.1545,
          0.1565,
          0.157,
          0.15991666666666668,
          0.16566666666666666,
          0.17300000000000001,
          0.1894583333333333,
          0.1945,
          0.19475,
          0.19499999999999998,
          0.195125,
          0.19487500000000002,
          0.19320833333333334,
          0.1895,
          0.19120833333333334,
          0.19899999999999998,
          0.21237499999999998,
          0.21379166666666669,
          0.2215,
          0.22024999999999997,
          0.20941666666666667,
          0.20691666666666667,
          0.21358333333333332,
          0.2157083333333333,
          0.21383333333333332,
          0.216,
          0.21991666666666668,
          0.22254166666666667,
          0.2363333333333333,
          0.24158333333333334,
          0.24066666666666667,
          0.24083333333333332,
          0.23962499999999998,
          0.23579166666666665,
          0.23170833333333332,
          0.23129166666666667,
          0.23408333333333334,
          0.23424999999999999,
          0.2335,
          0.231625,
          0.22929166666666667,
          0.22920833333333335,
          0.23420833333333335,
          0.238375,
          0.2489583333333333,
          0.27720833333333333,
          0.2953333333333333,
          0.2992916666666667,
          0.2980833333333333,
          0.2934583333333333,
          0.29091666666666666,
          0.290875,
          0.29883333333333334,
          0.31224999999999997,
          0.31383333333333335,
          0.31375000000000003,
          0.313375,
          0.3117083333333333,
          0.31195833333333334,
          0.31325,
          0.3428333333333333,
          0.3627916666666666,
          0.37200000000000005,
          0.37845833333333334,
          0.376125,
          0.3737916666666667,
          0.373,
          0.3705416666666667,
          0.36879166666666663,
          0.3665,
          0.36400000000000005,
          0.36133333333333334,
          0.35912499999999997,
          0.3565416666666667,
          0.3546666666666667,
          0.35200000000000004,
          0.3495833333333333,
          0.3467916666666666,
          0.343875,
          0.3403333333333334,
          0.337,
          0.333,
          0.329625,
          0.3273333333333333,
          0.3256666666666667,
          0.32545833333333335,
          0.325375,
          0.32475000000000004,
          0.3234166666666667,
          0.32225,
          0.3212916666666667,
          0.318625,
          0.31575000000000003,
          0.31416666666666665,
          0.312375,
          0.310625,
          0.308875,
          0.307375,
          0.3065,
          0.3045833333333333,
          0.3025,
          0.301,
          0.30116666666666664,
          0.3017916666666666,
          0.30175,
          0.3027083333333333,
          0.3065,
          0.30775,
          0.3062916666666667,
          0.30345833333333333,
          0.301,
          0.3013333333333333,
          0.30120833333333336,
          0.2982916666666667,
          0.29433333333333334,
          0.29391666666666666,
          0.29475,
          0.29983333333333334,
          0.30224999999999996,
          0.3007916666666666,
          0.298875,
          0.296375,
          0.2947916666666666,
          0.29324999999999996,
          0.292875,
          0.29091666666666666,
          0.28929166666666667,
          0.2880833333333333,
          0.28612499999999996,
          0.2837916666666666,
          0.281375,
          0.280125,
          0.28029166666666666,
          0.2789166666666667,
          0.27820833333333334,
          0.2785,
          0.2806666666666667,
          0.28220833333333334,
          0.2783333333333334,
          0.2753333333333334,
          0.2735416666666667,
          0.2715,
          0.2685,
          0.26583333333333337,
          0.260375,
          0.25775,
          0.25625000000000003,
          0.25383333333333336,
          0.25395833333333334,
          0.25533333333333336,
          0.25545833333333334,
          0.25504166666666667,
          0.2530833333333333,
          0.25,
          0.24616666666666664,
          0.244,
          0.24283333333333332,
          0.242,
          0.24379166666666666,
          0.24491666666666667,
          0.24291666666666667,
          0.24179166666666665,
          0.24149999999999996,
          0.23850000000000002,
          0.2363333333333333,
          0.235,
          0.23375,
          0.2325,
          0.23083333333333333,
          0.22929166666666667,
          0.22916666666666666,
          0.22833333333333336,
          0.22670833333333332,
          0.226,
          0.2235,
          0.2205,
          0.218,
          0.21537499999999998,
          0.2135,
          0.21329166666666666,
          0.21329166666666666,
          0.21537499999999998,
          0.217,
          0.2185,
          0.2195,
          0.221,
          0.22370833333333331,
          0.2305,
          0.2317916666666667,
          0.2285,
          0.22745833333333335,
          0.22725000000000004,
          0.22570833333333332,
          0.222,
          0.2195,
          0.2165,
          0.214,
          0.21341666666666667,
          0.2135,
          0.21624999999999997,
          0.22041666666666668,
          0.227,
          0.235,
          0.241,
          0.24429166666666666,
          0.24429166666666666,
          0.24149999999999996,
          0.238,
          0.23450000000000001,
          0.235,
          0.23675,
          0.24,
          0.23850000000000002,
          0.236,
          0.23295833333333335,
          0.23,
          0.227,
          0.2245,
          0.22,
          0.2185,
          0.2215,
          0.223,
          0.223,
          0.223,
          0.24033333333333332,
          0.27266666666666667,
          0.27937500000000004,
          0.28412499999999996,
          0.2880833333333333,
          0.291375,
          0.29341666666666666,
          0.2957916666666666,
          0.2977083333333333,
          0.30066666666666664,
          0.3012916666666667,
          0.30216666666666664,
          0.3047083333333333,
          0.30924999999999997,
          0.3105,
          0.31416666666666665,
          0.32025,
          0.3234166666666667,
          0.323875,
          0.3245,
          0.324875,
          0.32425,
          0.3233333333333333,
          0.322,
          0.3205,
          0.320375,
          0.32025,
          0.323625,
          0.3275,
          0.32808333333333334,
          0.3275,
          0.326,
          0.3225,
          0.31983333333333336,
          0.31745833333333334,
          0.31383333333333335,
          0.31233333333333335,
          0.31066666666666665,
          0.30675,
          0.303875,
          0.30116666666666664,
          0.3005833333333333,
          0.29891666666666666,
          0.2964583333333333,
          0.293375,
          0.291375,
          0.2895,
          0.28991666666666666,
          0.289,
          0.29,
          0.291,
          0.29112499999999997,
          0.29233333333333333,
          0.29024999999999995,
          0.28754166666666664,
          0.287,
          0.2875,
          0.285,
          0.28291666666666665,
          0.28075,
          0.2778333333333334,
          0.27575,
          0.2737916666666667,
          0.2731666666666667,
          0.2709166666666667,
          0.26737500000000003,
          0.26608333333333334,
          0.26737500000000003,
          0.27229166666666665,
          0.27275,
          0.27125000000000005,
          0.27025000000000005,
          0.2730416666666667,
          0.2737083333333334,
          0.27745833333333336,
          0.284,
          0.2867083333333333,
          0.2885833333333333,
          0.28620833333333334,
          0.282625,
          0.28654166666666664,
          0.2867083333333333,
          0.28704166666666664,
          0.2855,
          0.282125,
          0.28020833333333334,
          0.27775,
          0.27366666666666667,
          0.2707916666666667,
          0.26787500000000003,
          0.264875,
          0.261875,
          0.258875,
          0.255875,
          0.25295833333333334,
          0.2505833333333333,
          0.24787499999999998,
          0.24541666666666664,
          0.24454166666666666,
          0.242125,
          0.23841666666666664,
          0.23487500000000003,
          0.233,
          0.23095833333333335,
          0.2295,
          0.2317916666666667,
          0.23058333333333336,
          0.22845833333333335,
          0.22595833333333334,
          0.22370833333333331,
          0.221625,
          0.2195,
          0.217,
          0.21533333333333335,
          0.21366666666666667,
          0.213,
          0.20937499999999998,
          0.20979166666666668,
          0.20575,
          0.20829166666666665,
          0.209,
          0.20675,
          0.204125,
          0.20175,
          0.201375,
          0.19979166666666667,
          0.19866666666666669,
          0.19733333333333336,
          0.19620833333333335,
          0.19520833333333334,
          0.19825,
          0.2011666666666667,
          0.20395833333333332,
          0.20291666666666666,
          0.20804166666666665,
          0.20745833333333333,
          0.208,
          0.20666666666666667,
          0.20529166666666665,
          0.20537499999999997,
          0.20695833333333333,
          0.209875,
          0.21391666666666667,
          0.22670833333333332,
          0.22929166666666667,
          0.22612500000000002,
          0.2255,
          0.22266666666666668,
          0.22108333333333333,
          0.22058333333333335,
          0.21908333333333332,
          0.21658333333333335,
          0.21429166666666666,
          0.21145833333333333,
          0.20933333333333334,
          0.20737499999999998,
          0.20545833333333333,
          0.20454166666666665,
          0.2015416666666667,
          0.19929166666666667,
          0.19820833333333335,
          0.19899999999999998,
          0.1975,
          0.19595833333333335,
          0.19699999999999998,
          0.1985,
          0.19600000000000004,
          0.1885,
          0.1785,
          0.17941666666666667,
          0.1785,
          0.1795,
          0.19079166666666666,
          0.19795833333333335,
          0.22570833333333332,
          0.235,
          0.23858333333333334,
          0.24120833333333333,
          0.24149999999999996,
          0.244375,
          0.24533333333333332,
          0.24479166666666666,
          0.24725,
          0.278125,
          0.288375,
          0.288375,
          0.29062499999999997,
          0.292,
          0.29362499999999997,
          0.2947083333333333,
          0.2977916666666666,
          0.3,
          0.30033333333333334,
          0.29916666666666664,
          0.3264166666666667,
          0.335,
          0.3377916666666667,
          0.33841666666666664,
          0.33808333333333335,
          0.337,
          0.3354166666666667,
          0.33545833333333336,
          0.33795833333333336,
          0.34674999999999995,
          0.36083333333333334,
          0.36362500000000003,
          0.36516666666666664,
          0.3642916666666667,
          0.3637083333333333,
          0.36470833333333336,
          0.3662083333333333,
          0.36720833333333336,
          0.367875,
          0.3682916666666667,
          0.36599999999999994,
          0.36895833333333333,
          0.37083333333333335,
          0.37070833333333336,
          0.369,
          0.36800000000000005,
          0.3665833333333333,
          0.36366666666666664,
          0.36199999999999993,
          0.35954166666666665,
          0.355625,
          0.3511666666666666,
          0.3466666666666667,
          0.3449583333333333,
          0.3415000000000001,
          0.33908333333333335,
          0.33508333333333334,
          0.3305416666666667,
          0.3252916666666667,
          0.3229166666666667,
          0.31954166666666667,
          0.317375,
          0.31504166666666666,
          0.3133333333333333,
          0.31079166666666663,
          0.3087083333333333,
          0.3073333333333333,
          0.30679166666666663,
          0.30591666666666667,
          0.3053333333333333,
          0.305,
          0.302625,
          0.30424999999999996,
          0.3050833333333333,
          0.30724999999999997,
          0.3047083333333333,
          0.303875,
          0.30433333333333334,
          0.30345833333333333,
          0.3016666666666667,
          0.3007083333333333,
          0.3037916666666666,
          0.30683333333333335,
          0.3094166666666667,
          0.31525,
          0.32008333333333333,
          0.34958333333333336,
          0.36695833333333333,
          0.36683333333333334,
          0.36575,
          0.3645416666666667,
          0.3617916666666667,
          0.3597916666666667,
          0.3562916666666667,
          0.35316666666666663,
          0.34829166666666667,
          0.34320833333333334,
          0.341,
          0.34004166666666674,
          0.3385416666666667,
          0.3367083333333334,
          0.3349583333333333,
          0.3337916666666667,
          0.33179166666666665,
          0.32808333333333334,
          0.3252916666666667,
          0.32516666666666666,
          0.3232916666666667,
          0.3213333333333333,
          0.31483333333333335,
          0.308125,
          0.30645833333333333,
          0.3072916666666667,
          0.30579166666666663,
          0.30183333333333334,
          0.297375,
          0.29475,
          0.29416666666666663,
          0.29433333333333334,
          0.297875,
          0.2993333333333333,
          0.2997083333333333,
          0.30116666666666664,
          0.301125,
          0.30483333333333335,
          0.309,
          0.3084166666666667,
          0.30783333333333335,
          0.306375,
          0.304875,
          0.30375,
          0.3042916666666667,
          0.30083333333333334,
          0.298,
          0.29033333333333333,
          0.284,
          0.2895,
          0.2865,
          0.282,
          0.277,
          0.271,
          0.265,
          0.25895833333333335,
          0.25175,
          0.243375,
          0.238,
          0.23299999999999998,
          0.2315,
          0.23129166666666667,
          0.229375,
          0.22870833333333332,
          0.225,
          0.221,
          0.21729166666666666,
          0.219,
          0.221,
          0.2207916666666667,
          0.2175,
          0.2175,
          0.21633333333333335,
          0.216,
          0.219,
          0.218,
          0.218,
          0.222,
          0.22233333333333336,
          0.223,
          0.22370833333333331,
          0.2255,
          0.22891666666666666,
          0.2305,
          0.2315,
          0.236,
          0.24250000000000002,
          0.24887499999999999,
          0.253,
          0.255,
          0.25733333333333336,
          0.263,
          0.2695,
          0.2725,
          0.2735,
          0.274,
          0.274,
          0.272,
          0.27537500000000004,
          0.2805,
          0.287,
          0.2975,
          0.30495833333333333,
          0.3065,
          0.3105,
          0.3135,
          0.316,
          0.3193333333333333,
          0.322,
          0.3233333333333333,
          0.3242083333333334,
          0.3205,
          0.30916666666666665,
          0.29820833333333335,
          0.288,
          0.28154166666666663,
          0.279,
          0.2774166666666667,
          0.273,
          0.2735,
          0.27220833333333333,
          0.2765,
          0.28025000000000005,
          0.2818333333333333,
          0.27991666666666665,
          0.28058333333333335,
          0.28424999999999995,
          0.2896666666666667,
          0.29141666666666666,
          0.2895833333333333,
          0.28724999999999995,
          0.283,
          0.27795833333333336,
          0.27329166666666665,
          0.2715,
          0.2677916666666667,
          0.2655,
          0.26637500000000003,
          0.26533333333333337,
          0.26395833333333335,
          0.2668333333333333,
          0.263875,
          0.26133333333333336,
          0.25845833333333335,
          0.25783333333333336,
          0.2568333333333333,
          0.255,
          0.2545,
          0.2524166666666667,
          0.24970833333333334,
          0.24941666666666665,
          0.24733333333333332,
          0.24579166666666666,
          0.24491666666666667,
          0.24429166666666666,
          0.243,
          0.24083333333333332,
          0.23887499999999998,
          0.23787499999999998,
          0.238125,
          0.2350833333333333,
          0.233375,
          0.23729166666666665,
          0.24075,
          0.23933333333333331,
          0.24170833333333333,
          0.24233333333333332,
          0.24233333333333332,
          0.24466666666666667,
          0.24333333333333332,
          0.24683333333333332,
          0.24725,
          0.248,
          0.25133333333333335,
          0.249375,
          0.24533333333333332,
          0.2419583333333333,
          0.23783333333333334,
          0.23675,
          0.23741666666666664,
          0.24045833333333333,
          0.23575,
          0.23495833333333335,
          0.2315,
          0.22966666666666669,
          0.22125000000000003,
          0.211,
          0.2117083333333333,
          0.21079166666666668,
          0.2095,
          0.2085,
          0.205875,
          0.20070833333333335,
          0.19641666666666668,
          0.18899999999999997,
          0.18529166666666666,
          0.18329166666666666,
          0.1814583333333333,
          0.17929166666666665,
          0.17899999999999996,
          0.1824583333333333,
          0.18225,
          0.18299999999999997,
          0.183875,
          0.1835,
          0.18370833333333333,
          0.1835,
          0.176625,
          0.17174999999999999,
          0.17125,
          0.17579166666666665,
          0.1728333333333333,
          0.17049999999999998,
          0.17225000000000001,
          0.17200000000000001,
          0.17149999999999999,
          0.17400000000000002,
          0.17499999999999996,
          0.173625,
          0.17600000000000002,
          0.17770833333333333,
          0.17495833333333333,
          0.17400000000000002,
          0.17333333333333334,
          0.167,
          0.16337500000000002,
          0.167,
          0.165,
          0.1635,
          0.1645,
          0.16,
          0.161125,
          0.1635,
          0.167,
          0.167,
          0.1735,
          0.17441666666666666,
          0.17400000000000002,
          0.17200000000000001,
          0.168,
          0.164,
          0.1685,
          0.1685,
          0.1535,
          0.1585,
          0.1575,
          0.157,
          0.1595,
          0.16245833333333334,
          0.1655,
          0.165,
          0.1625,
          0.155,
          0.147,
          0.149,
          0.15262499999999998,
          0.15054166666666666,
          0.154,
          0.162,
          0.1675,
          0.167,
          0.1685,
          0.1765,
          0.17699999999999996,
          0.17612499999999998,
          0.17600000000000002,
          0.1785,
          0.18337499999999998,
          0.18379166666666666,
          0.18341666666666667,
          0.184875,
          0.18800000000000003,
          0.18899999999999997,
          0.19308333333333336,
          0.20462499999999997,
          0.21104166666666666,
          0.211,
          0.2145,
          0.217,
          0.217,
          0.21666666666666667,
          0.21862499999999999,
          0.223375,
          0.23408333333333334,
          0.23954166666666665,
          0.255875,
          0.3097083333333333,
          0.3269166666666667,
          0.33045833333333335,
          0.331,
          0.33033333333333337,
          0.3292083333333334,
          0.3282916666666667,
          0.32616666666666666,
          0.32379166666666664,
          0.3233333333333333,
          0.32383333333333336,
          0.32466666666666666,
          0.32433333333333336,
          0.32458333333333333,
          0.32695833333333335,
          0.32708333333333334,
          0.32683333333333336,
          0.3265,
          0.32579166666666665,
          0.32683333333333336,
          0.326375,
          0.32545833333333335,
          0.32283333333333336,
          0.32054166666666667,
          0.3187083333333333,
          0.31783333333333336,
          0.3172916666666667,
          0.314625,
          0.31079166666666663,
          0.31033333333333335,
          0.3102916666666667,
          0.3092916666666667,
          0.3065,
          0.30420833333333336,
          0.3037916666666666,
          0.30424999999999996,
          0.306,
          0.3165,
          0.322,
          0.322875,
          0.3249166666666667,
          0.324125,
          0.3227083333333333,
          0.32183333333333336,
          0.320125,
          0.32025,
          0.32079166666666664,
          0.316875,
          0.31425,
          0.314125,
          0.311125,
          0.30633333333333335,
          0.30654166666666666,
          0.302,
          0.2987083333333333,
          0.29804166666666665,
          0.29875,
          0.3027083333333333,
          0.301125,
          0.299375,
          0.297375,
          0.29741666666666666,
          0.29820833333333335,
          0.2989583333333333,
          0.2995,
          0.302,
          0.30316666666666664,
          0.30083333333333334,
          0.2987916666666666,
          0.29783333333333334,
          0.297375,
          0.299875,
          0.3036666666666667,
          0.30616666666666664,
          0.30545833333333333,
          0.305,
          0.3075,
          0.3092916666666667,
          0.30679166666666663,
          0.30520833333333336,
          0.30383333333333334,
          0.302625,
          0.2997916666666666,
          0.2985,
          0.29904166666666665,
          0.296375,
          0.29824999999999996,
          0.3013333333333333,
          0.299125,
          0.2980833333333333,
          0.30054166666666665,
          0.304875,
          0.30641666666666667,
          0.304125,
          0.30579166666666663,
          0.305875,
          0.307875,
          0.31283333333333335,
          0.31479166666666664,
          0.319,
          0.3192916666666667,
          0.3182916666666667,
          0.3142916666666667,
          0.30779166666666663,
          0.303125,
          0.3032916666666667,
          0.30491666666666667,
          0.3037916666666666,
          0.3025,
          0.2989583333333333,
          0.29441666666666666,
          0.29412499999999997,
          0.293,
          0.2927083333333333,
          0.29554166666666665,
          0.2955,
          0.2967083333333333,
          0.29724999999999996,
          0.29483333333333334,
          0.29391666666666666,
          0.2927083333333333,
          0.29012499999999997,
          0.29120833333333335,
          0.290875,
          0.292875,
          0.2917916666666666,
          0.2886666666666666,
          0.28562499999999996,
          0.28125,
          0.27720833333333333,
          0.2730416666666667,
          0.26895833333333335,
          0.26608333333333334,
          0.26345833333333335,
          0.26095833333333335,
          0.2599166666666667,
          0.25975,
          0.2614166666666667,
          0.2615,
          0.2622083333333333,
          0.2644166666666667,
          0.2697083333333334,
          0.27133333333333337,
          0.2725,
          0.27387500000000004,
          0.27045833333333336,
          0.26658333333333334,
          0.26825000000000004,
          0.26995833333333336,
          0.26987500000000003,
          0.269,
          0.26566666666666666,
          0.2597916666666667,
          0.25508333333333333,
          0.25354166666666667,
          0.2548333333333333,
          0.257375,
          0.2615416666666667,
          0.26633333333333337,
          0.27029166666666665,
          0.27225000000000005,
          0.271,
          0.271,
          0.2691666666666667,
          0.2660416666666667,
          0.2639166666666667,
          0.26245833333333335,
          0.2628333333333333,
          0.2628333333333333,
          0.26325000000000004,
          0.26395833333333335,
          0.2682083333333333,
          0.2784166666666667,
          0.28604166666666664,
          0.28791666666666665,
          0.28991666666666666,
          0.29024999999999995,
          0.29175,
          0.2925,
          0.2917083333333333,
          0.295375,
          0.29775,
          0.30024999999999996,
          0.30320833333333336,
          0.30779166666666663,
          0.312125,
          0.31483333333333335,
          0.3155,
          0.319,
          0.3199166666666667,
          0.32025,
          0.3222083333333334,
          0.32525,
          0.32525,
          0.32158333333333333,
          0.32345833333333335,
          0.32279166666666664,
          0.320375,
          0.3217083333333333,
          0.326,
          0.33225,
          0.33145833333333335,
          0.3229166666666667,
          0.3155,
          0.312625,
          0.30820833333333336,
          0.307875,
          0.30545833333333333,
          0.30424999999999996,
          0.303625,
          0.3075,
          0.31124999999999997,
          0.30724999999999997,
          0.30191666666666667,
          0.298,
          0.29075,
          0.2857083333333333,
          0.27725000000000005,
          0.27225000000000005,
          0.2700416666666667,
          0.26295833333333335,
          0.2535,
          0.24504166666666669,
          0.23866666666666667,
          0.23791666666666667,
          0.24425,
          0.24570833333333333,
          0.245375,
          0.23954166666666665,
          0.23187500000000003,
          0.22175,
          0.21566666666666667,
          0.21075,
          0.21125000000000002,
          0.21091666666666664,
          0.2097083333333333,
          0.21,
          0.21016666666666664,
          0.2097083333333333,
          0.209,
          0.209,
          0.20675,
          0.20291666666666666,
          0.19975,
          0.19708333333333336,
          0.19400000000000003,
          0.1935,
          0.19299999999999998,
          0.19375,
          0.19441666666666668,
          0.19641666666666668,
          0.1955,
          0.1945,
          0.19429166666666667,
          0.19495833333333334,
          0.19725,
          0.19925,
          0.20283333333333334,
          0.20366666666666666,
          0.20525000000000002,
          0.2047083333333333,
          0.206,
          0.207875,
          0.211,
          0.20775,
          0.20691666666666664,
          0.21216666666666664,
          0.21683333333333332,
          0.21720833333333334,
          0.21620833333333334,
          0.21354166666666666,
          0.21004166666666665,
          0.20808333333333331,
          0.20729166666666665,
          0.20595833333333333,
          0.20341666666666666,
          0.20375,
          0.20354166666666665,
          0.2025416666666667,
          0.20108333333333336,
          0.20204166666666667,
          0.21024999999999996,
          0.20962499999999998,
          0.20641666666666666,
          0.20345833333333332,
          0.209125,
          0.20258333333333334,
          0.19570833333333335,
          0.19179166666666667,
          0.19016666666666668,
          0.19058333333333333,
          0.18699999999999997,
          0.18879166666666666,
          0.18833333333333332,
          0.1894583333333333,
          0.1905,
          0.19616666666666668,
          0.19416666666666668,
          0.19279166666666667,
          0.1915,
          0.18875,
          0.18608333333333335,
          0.18412499999999998,
          0.18325,
          0.18037499999999998,
          0.180875,
          0.18299999999999997,
          0.1824583333333333,
          0.18104166666666666,
          0.18099999999999997,
          0.1775,
          0.17725,
          0.17704166666666665,
          0.1754583333333333,
          0.17499999999999996,
          0.17400000000000002,
          0.17337499999999997,
          0.17275,
          0.17191666666666663,
          0.171,
          0.17058333333333334,
          0.17,
          0.1691666666666667,
          0.1682916666666667,
          0.16770833333333335,
          0.167,
          0.1665,
          0.16570833333333335,
          0.165,
          0.16458333333333333,
          0.164,
          0.16358333333333333,
          0.163,
          0.163,
          0.169,
          0.175875,
          0.181625,
          0.17858333333333332,
          0.18104166666666666,
          0.1835416666666667,
          0.18312499999999998,
          0.18195833333333333,
          0.18083333333333332,
          0.179625,
          0.17854166666666668,
          0.1775,
          0.1775,
          0.17554166666666668,
          0.1665,
          0.1615,
          0.15425,
          0.14975,
          0.149,
          0.14983333333333335,
          0.15130131746685593,
          0.1513639378455721,
          0.15116885504017813,
          0.15093710703596389,
          0.15015694885915182,
          0.14933738988509246,
          0.14862354611899803,
          0.14821403761912305,
          0.14792276607470137,
          0.14779232253107197,
          0.14771548316306615,
          0.14774663468998764,
          0.14768721290829617,
          0.147585944791401,
          0.14745411470944297,
          0.14727375735605128
         ]
        },
        {
         "line": {
          "dash": "dash"
         },
         "mode": "lines",
         "name": "Forecasted Soil Moisture",
         "type": "scatter",
         "x": [
          "2024-06-27T00:00:00",
          "2024-06-28T00:00:00",
          "2024-06-29T00:00:00",
          "2024-06-30T00:00:00",
          "2024-07-01T00:00:00",
          "2024-07-02T00:00:00",
          "2024-07-03T00:00:00",
          "2024-07-04T00:00:00",
          "2024-07-05T00:00:00",
          "2024-07-06T00:00:00",
          "2024-07-07T00:00:00",
          "2024-07-08T00:00:00",
          "2024-07-09T00:00:00",
          "2024-07-10T00:00:00",
          "2024-07-11T00:00:00",
          "2024-07-12T00:00:00"
         ],
         "y": [
          0.15130131746685593,
          0.1513639378455721,
          0.15116885504017813,
          0.15093710703596389,
          0.15015694885915182,
          0.14933738988509246,
          0.14862354611899803,
          0.14821403761912305,
          0.14792276607470137,
          0.14779232253107197,
          0.14771548316306615,
          0.14774663468998764,
          0.14768721290829617,
          0.147585944791401,
          0.14745411470944297,
          0.14727375735605128
         ]
        }
       ],
       "layout": {
        "height": 700,
        "legend": {
         "title": {
          "text": "Legend"
         }
        },
        "template": {
         "data": {
          "bar": [
           {
            "error_x": {
             "color": "#2a3f5f"
            },
            "error_y": {
             "color": "#2a3f5f"
            },
            "marker": {
             "line": {
              "color": "white",
              "width": 0.5
             },
             "pattern": {
              "fillmode": "overlay",
              "size": 10,
              "solidity": 0.2
             }
            },
            "type": "bar"
           }
          ],
          "barpolar": [
           {
            "marker": {
             "line": {
              "color": "white",
              "width": 0.5
             },
             "pattern": {
              "fillmode": "overlay",
              "size": 10,
              "solidity": 0.2
             }
            },
            "type": "barpolar"
           }
          ],
          "carpet": [
           {
            "aaxis": {
             "endlinecolor": "#2a3f5f",
             "gridcolor": "#C8D4E3",
             "linecolor": "#C8D4E3",
             "minorgridcolor": "#C8D4E3",
             "startlinecolor": "#2a3f5f"
            },
            "baxis": {
             "endlinecolor": "#2a3f5f",
             "gridcolor": "#C8D4E3",
             "linecolor": "#C8D4E3",
             "minorgridcolor": "#C8D4E3",
             "startlinecolor": "#2a3f5f"
            },
            "type": "carpet"
           }
          ],
          "choropleth": [
           {
            "colorbar": {
             "outlinewidth": 0,
             "ticks": ""
            },
            "type": "choropleth"
           }
          ],
          "contour": [
           {
            "colorbar": {
             "outlinewidth": 0,
             "ticks": ""
            },
            "colorscale": [
             [
              0,
              "#0d0887"
             ],
             [
              0.1111111111111111,
              "#46039f"
             ],
             [
              0.2222222222222222,
              "#7201a8"
             ],
             [
              0.3333333333333333,
              "#9c179e"
             ],
             [
              0.4444444444444444,
              "#bd3786"
             ],
             [
              0.5555555555555556,
              "#d8576b"
             ],
             [
              0.6666666666666666,
              "#ed7953"
             ],
             [
              0.7777777777777778,
              "#fb9f3a"
             ],
             [
              0.8888888888888888,
              "#fdca26"
             ],
             [
              1,
              "#f0f921"
             ]
            ],
            "type": "contour"
           }
          ],
          "contourcarpet": [
           {
            "colorbar": {
             "outlinewidth": 0,
             "ticks": ""
            },
            "type": "contourcarpet"
           }
          ],
          "heatmap": [
           {
            "colorbar": {
             "outlinewidth": 0,
             "ticks": ""
            },
            "colorscale": [
             [
              0,
              "#0d0887"
             ],
             [
              0.1111111111111111,
              "#46039f"
             ],
             [
              0.2222222222222222,
              "#7201a8"
             ],
             [
              0.3333333333333333,
              "#9c179e"
             ],
             [
              0.4444444444444444,
              "#bd3786"
             ],
             [
              0.5555555555555556,
              "#d8576b"
             ],
             [
              0.6666666666666666,
              "#ed7953"
             ],
             [
              0.7777777777777778,
              "#fb9f3a"
             ],
             [
              0.8888888888888888,
              "#fdca26"
             ],
             [
              1,
              "#f0f921"
             ]
            ],
            "type": "heatmap"
           }
          ],
          "heatmapgl": [
           {
            "colorbar": {
             "outlinewidth": 0,
             "ticks": ""
            },
            "colorscale": [
             [
              0,
              "#0d0887"
             ],
             [
              0.1111111111111111,
              "#46039f"
             ],
             [
              0.2222222222222222,
              "#7201a8"
             ],
             [
              0.3333333333333333,
              "#9c179e"
             ],
             [
              0.4444444444444444,
              "#bd3786"
             ],
             [
              0.5555555555555556,
              "#d8576b"
             ],
             [
              0.6666666666666666,
              "#ed7953"
             ],
             [
              0.7777777777777778,
              "#fb9f3a"
             ],
             [
              0.8888888888888888,
              "#fdca26"
             ],
             [
              1,
              "#f0f921"
             ]
            ],
            "type": "heatmapgl"
           }
          ],
          "histogram": [
           {
            "marker": {
             "pattern": {
              "fillmode": "overlay",
              "size": 10,
              "solidity": 0.2
             }
            },
            "type": "histogram"
           }
          ],
          "histogram2d": [
           {
            "colorbar": {
             "outlinewidth": 0,
             "ticks": ""
            },
            "colorscale": [
             [
              0,
              "#0d0887"
             ],
             [
              0.1111111111111111,
              "#46039f"
             ],
             [
              0.2222222222222222,
              "#7201a8"
             ],
             [
              0.3333333333333333,
              "#9c179e"
             ],
             [
              0.4444444444444444,
              "#bd3786"
             ],
             [
              0.5555555555555556,
              "#d8576b"
             ],
             [
              0.6666666666666666,
              "#ed7953"
             ],
             [
              0.7777777777777778,
              "#fb9f3a"
             ],
             [
              0.8888888888888888,
              "#fdca26"
             ],
             [
              1,
              "#f0f921"
             ]
            ],
            "type": "histogram2d"
           }
          ],
          "histogram2dcontour": [
           {
            "colorbar": {
             "outlinewidth": 0,
             "ticks": ""
            },
            "colorscale": [
             [
              0,
              "#0d0887"
             ],
             [
              0.1111111111111111,
              "#46039f"
             ],
             [
              0.2222222222222222,
              "#7201a8"
             ],
             [
              0.3333333333333333,
              "#9c179e"
             ],
             [
              0.4444444444444444,
              "#bd3786"
             ],
             [
              0.5555555555555556,
              "#d8576b"
             ],
             [
              0.6666666666666666,
              "#ed7953"
             ],
             [
              0.7777777777777778,
              "#fb9f3a"
             ],
             [
              0.8888888888888888,
              "#fdca26"
             ],
             [
              1,
              "#f0f921"
             ]
            ],
            "type": "histogram2dcontour"
           }
          ],
          "mesh3d": [
           {
            "colorbar": {
             "outlinewidth": 0,
             "ticks": ""
            },
            "type": "mesh3d"
           }
          ],
          "parcoords": [
           {
            "line": {
             "colorbar": {
              "outlinewidth": 0,
              "ticks": ""
             }
            },
            "type": "parcoords"
           }
          ],
          "pie": [
           {
            "automargin": true,
            "type": "pie"
           }
          ],
          "scatter": [
           {
            "fillpattern": {
             "fillmode": "overlay",
             "size": 10,
             "solidity": 0.2
            },
            "type": "scatter"
           }
          ],
          "scatter3d": [
           {
            "line": {
             "colorbar": {
              "outlinewidth": 0,
              "ticks": ""
             }
            },
            "marker": {
             "colorbar": {
              "outlinewidth": 0,
              "ticks": ""
             }
            },
            "type": "scatter3d"
           }
          ],
          "scattercarpet": [
           {
            "marker": {
             "colorbar": {
              "outlinewidth": 0,
              "ticks": ""
             }
            },
            "type": "scattercarpet"
           }
          ],
          "scattergeo": [
           {
            "marker": {
             "colorbar": {
              "outlinewidth": 0,
              "ticks": ""
             }
            },
            "type": "scattergeo"
           }
          ],
          "scattergl": [
           {
            "marker": {
             "colorbar": {
              "outlinewidth": 0,
              "ticks": ""
             }
            },
            "type": "scattergl"
           }
          ],
          "scattermapbox": [
           {
            "marker": {
             "colorbar": {
              "outlinewidth": 0,
              "ticks": ""
             }
            },
            "type": "scattermapbox"
           }
          ],
          "scatterpolar": [
           {
            "marker": {
             "colorbar": {
              "outlinewidth": 0,
              "ticks": ""
             }
            },
            "type": "scatterpolar"
           }
          ],
          "scatterpolargl": [
           {
            "marker": {
             "colorbar": {
              "outlinewidth": 0,
              "ticks": ""
             }
            },
            "type": "scatterpolargl"
           }
          ],
          "scatterternary": [
           {
            "marker": {
             "colorbar": {
              "outlinewidth": 0,
              "ticks": ""
             }
            },
            "type": "scatterternary"
           }
          ],
          "surface": [
           {
            "colorbar": {
             "outlinewidth": 0,
             "ticks": ""
            },
            "colorscale": [
             [
              0,
              "#0d0887"
             ],
             [
              0.1111111111111111,
              "#46039f"
             ],
             [
              0.2222222222222222,
              "#7201a8"
             ],
             [
              0.3333333333333333,
              "#9c179e"
             ],
             [
              0.4444444444444444,
              "#bd3786"
             ],
             [
              0.5555555555555556,
              "#d8576b"
             ],
             [
              0.6666666666666666,
              "#ed7953"
             ],
             [
              0.7777777777777778,
              "#fb9f3a"
             ],
             [
              0.8888888888888888,
              "#fdca26"
             ],
             [
              1,
              "#f0f921"
             ]
            ],
            "type": "surface"
           }
          ],
          "table": [
           {
            "cells": {
             "fill": {
              "color": "#EBF0F8"
             },
             "line": {
              "color": "white"
             }
            },
            "header": {
             "fill": {
              "color": "#C8D4E3"
             },
             "line": {
              "color": "white"
             }
            },
            "type": "table"
           }
          ]
         },
         "layout": {
          "annotationdefaults": {
           "arrowcolor": "#2a3f5f",
           "arrowhead": 0,
           "arrowwidth": 1
          },
          "autotypenumbers": "strict",
          "coloraxis": {
           "colorbar": {
            "outlinewidth": 0,
            "ticks": ""
           }
          },
          "colorscale": {
           "diverging": [
            [
             0,
             "#8e0152"
            ],
            [
             0.1,
             "#c51b7d"
            ],
            [
             0.2,
             "#de77ae"
            ],
            [
             0.3,
             "#f1b6da"
            ],
            [
             0.4,
             "#fde0ef"
            ],
            [
             0.5,
             "#f7f7f7"
            ],
            [
             0.6,
             "#e6f5d0"
            ],
            [
             0.7,
             "#b8e186"
            ],
            [
             0.8,
             "#7fbc41"
            ],
            [
             0.9,
             "#4d9221"
            ],
            [
             1,
             "#276419"
            ]
           ],
           "sequential": [
            [
             0,
             "#0d0887"
            ],
            [
             0.1111111111111111,
             "#46039f"
            ],
            [
             0.2222222222222222,
             "#7201a8"
            ],
            [
             0.3333333333333333,
             "#9c179e"
            ],
            [
             0.4444444444444444,
             "#bd3786"
            ],
            [
             0.5555555555555556,
             "#d8576b"
            ],
            [
             0.6666666666666666,
             "#ed7953"
            ],
            [
             0.7777777777777778,
             "#fb9f3a"
            ],
            [
             0.8888888888888888,
             "#fdca26"
            ],
            [
             1,
             "#f0f921"
            ]
           ],
           "sequentialminus": [
            [
             0,
             "#0d0887"
            ],
            [
             0.1111111111111111,
             "#46039f"
            ],
            [
             0.2222222222222222,
             "#7201a8"
            ],
            [
             0.3333333333333333,
             "#9c179e"
            ],
            [
             0.4444444444444444,
             "#bd3786"
            ],
            [
             0.5555555555555556,
             "#d8576b"
            ],
            [
             0.6666666666666666,
             "#ed7953"
            ],
            [
             0.7777777777777778,
             "#fb9f3a"
            ],
            [
             0.8888888888888888,
             "#fdca26"
            ],
            [
             1,
             "#f0f921"
            ]
           ]
          },
          "colorway": [
           "#636efa",
           "#EF553B",
           "#00cc96",
           "#ab63fa",
           "#FFA15A",
           "#19d3f3",
           "#FF6692",
           "#B6E880",
           "#FF97FF",
           "#FECB52"
          ],
          "font": {
           "color": "#2a3f5f"
          },
          "geo": {
           "bgcolor": "white",
           "lakecolor": "white",
           "landcolor": "white",
           "showlakes": true,
           "showland": true,
           "subunitcolor": "#C8D4E3"
          },
          "hoverlabel": {
           "align": "left"
          },
          "hovermode": "closest",
          "mapbox": {
           "style": "light"
          },
          "paper_bgcolor": "white",
          "plot_bgcolor": "white",
          "polar": {
           "angularaxis": {
            "gridcolor": "#EBF0F8",
            "linecolor": "#EBF0F8",
            "ticks": ""
           },
           "bgcolor": "white",
           "radialaxis": {
            "gridcolor": "#EBF0F8",
            "linecolor": "#EBF0F8",
            "ticks": ""
           }
          },
          "scene": {
           "xaxis": {
            "backgroundcolor": "white",
            "gridcolor": "#DFE8F3",
            "gridwidth": 2,
            "linecolor": "#EBF0F8",
            "showbackground": true,
            "ticks": "",
            "zerolinecolor": "#EBF0F8"
           },
           "yaxis": {
            "backgroundcolor": "white",
            "gridcolor": "#DFE8F3",
            "gridwidth": 2,
            "linecolor": "#EBF0F8",
            "showbackground": true,
            "ticks": "",
            "zerolinecolor": "#EBF0F8"
           },
           "zaxis": {
            "backgroundcolor": "white",
            "gridcolor": "#DFE8F3",
            "gridwidth": 2,
            "linecolor": "#EBF0F8",
            "showbackground": true,
            "ticks": "",
            "zerolinecolor": "#EBF0F8"
           }
          },
          "shapedefaults": {
           "line": {
            "color": "#2a3f5f"
           }
          },
          "ternary": {
           "aaxis": {
            "gridcolor": "#DFE8F3",
            "linecolor": "#A2B1C6",
            "ticks": ""
           },
           "baxis": {
            "gridcolor": "#DFE8F3",
            "linecolor": "#A2B1C6",
            "ticks": ""
           },
           "bgcolor": "white",
           "caxis": {
            "gridcolor": "#DFE8F3",
            "linecolor": "#A2B1C6",
            "ticks": ""
           }
          },
          "title": {
           "x": 0.05
          },
          "xaxis": {
           "automargin": true,
           "gridcolor": "#EBF0F8",
           "linecolor": "#EBF0F8",
           "ticks": "",
           "title": {
            "standoff": 15
           },
           "zerolinecolor": "#EBF0F8",
           "zerolinewidth": 2
          },
          "yaxis": {
           "automargin": true,
           "gridcolor": "#EBF0F8",
           "linecolor": "#EBF0F8",
           "ticks": "",
           "title": {
            "standoff": 15
           },
           "zerolinecolor": "#EBF0F8",
           "zerolinewidth": 2
          }
         }
        },
        "title": {
         "text": "Soil Moisture Over Time With Prediction"
        },
        "width": 900,
        "xaxis": {
         "title": {
          "text": "Date"
         }
        },
        "yaxis": {
         "title": {
          "text": "Soil Moisture (m³/m³)"
         }
        }
       }
      }
     },
     "metadata": {},
     "output_type": "display_data"
    }
   ],
   "source": [
    "import plotly.graph_objects as go\n",
    "\n",
    "# Create a figure\n",
    "fig = go.Figure()\n",
    "\n",
    "# Add the historical soil moisture line\n",
    "fig.add_trace(go.Scatter(\n",
    "    x=historical_data_with_forcast_data.index, \n",
    "    y=historical_data_with_forcast_data[\"soil_moisture_28_to_100cm (m³/m³)\"],\n",
    "    mode='lines',\n",
    "    name='Historical Soil Moisture'\n",
    "))\n",
    "\n",
    "# Add the forecasted soil moisture line\n",
    "fig.add_trace(go.Scatter(\n",
    "    x=forecasted_values_df.index, \n",
    "    y=forecasted_values_df[\"soil_moisture_28_to_100cm (m³/m³)\"],\n",
    "    mode='lines',\n",
    "    name='Forecasted Soil Moisture',\n",
    "    line=dict(dash='dash')  # This creates a dashed line\n",
    "))\n",
    "\n",
    "# Update layout for the figure\n",
    "fig.update_layout(\n",
    "    title='Soil Moisture Over Time With Prediction',\n",
    "    xaxis_title='Date',\n",
    "    yaxis_title='Soil Moisture (m³/m³)',\n",
    "    legend_title='Legend',\n",
    "    template='plotly_white',  # Optional: set a template\n",
    "    width=900,  # Width of the plot\n",
    "    height=700  # Height of the plot\n",
    ")\n",
    "\n",
    "# Show the figure\n",
    "fig.show()\n"
   ]
  },
  {
   "cell_type": "markdown",
   "metadata": {},
   "source": [
    "## Visualizing forecasted Soil moisture"
   ]
  },
  {
   "cell_type": "code",
   "execution_count": 29,
   "metadata": {},
   "outputs": [
    {
     "data": {
      "application/vnd.plotly.v1+json": {
       "config": {
        "plotlyServerURL": "https://plot.ly"
       },
       "data": [
        {
         "line": {
          "dash": "dash"
         },
         "mode": "lines",
         "name": "Predicted Soil Moisture",
         "type": "scatter",
         "x": [
          "2024-06-27T00:00:00",
          "2024-06-28T00:00:00",
          "2024-06-29T00:00:00",
          "2024-06-30T00:00:00",
          "2024-07-01T00:00:00",
          "2024-07-02T00:00:00",
          "2024-07-03T00:00:00",
          "2024-07-04T00:00:00",
          "2024-07-05T00:00:00",
          "2024-07-06T00:00:00",
          "2024-07-07T00:00:00",
          "2024-07-08T00:00:00",
          "2024-07-09T00:00:00",
          "2024-07-10T00:00:00",
          "2024-07-11T00:00:00",
          "2024-07-12T00:00:00"
         ],
         "y": [
          0.15130131746685593,
          0.1513639378455721,
          0.15116885504017813,
          0.15093710703596389,
          0.15015694885915182,
          0.14933738988509246,
          0.14862354611899803,
          0.14821403761912305,
          0.14792276607470137,
          0.14779232253107197,
          0.14771548316306615,
          0.14774663468998764,
          0.14768721290829617,
          0.147585944791401,
          0.14745411470944297,
          0.14727375735605128
         ]
        }
       ],
       "layout": {
        "height": 700,
        "legend": {
         "title": {
          "text": "Legend"
         }
        },
        "template": {
         "data": {
          "bar": [
           {
            "error_x": {
             "color": "#2a3f5f"
            },
            "error_y": {
             "color": "#2a3f5f"
            },
            "marker": {
             "line": {
              "color": "white",
              "width": 0.5
             },
             "pattern": {
              "fillmode": "overlay",
              "size": 10,
              "solidity": 0.2
             }
            },
            "type": "bar"
           }
          ],
          "barpolar": [
           {
            "marker": {
             "line": {
              "color": "white",
              "width": 0.5
             },
             "pattern": {
              "fillmode": "overlay",
              "size": 10,
              "solidity": 0.2
             }
            },
            "type": "barpolar"
           }
          ],
          "carpet": [
           {
            "aaxis": {
             "endlinecolor": "#2a3f5f",
             "gridcolor": "#C8D4E3",
             "linecolor": "#C8D4E3",
             "minorgridcolor": "#C8D4E3",
             "startlinecolor": "#2a3f5f"
            },
            "baxis": {
             "endlinecolor": "#2a3f5f",
             "gridcolor": "#C8D4E3",
             "linecolor": "#C8D4E3",
             "minorgridcolor": "#C8D4E3",
             "startlinecolor": "#2a3f5f"
            },
            "type": "carpet"
           }
          ],
          "choropleth": [
           {
            "colorbar": {
             "outlinewidth": 0,
             "ticks": ""
            },
            "type": "choropleth"
           }
          ],
          "contour": [
           {
            "colorbar": {
             "outlinewidth": 0,
             "ticks": ""
            },
            "colorscale": [
             [
              0,
              "#0d0887"
             ],
             [
              0.1111111111111111,
              "#46039f"
             ],
             [
              0.2222222222222222,
              "#7201a8"
             ],
             [
              0.3333333333333333,
              "#9c179e"
             ],
             [
              0.4444444444444444,
              "#bd3786"
             ],
             [
              0.5555555555555556,
              "#d8576b"
             ],
             [
              0.6666666666666666,
              "#ed7953"
             ],
             [
              0.7777777777777778,
              "#fb9f3a"
             ],
             [
              0.8888888888888888,
              "#fdca26"
             ],
             [
              1,
              "#f0f921"
             ]
            ],
            "type": "contour"
           }
          ],
          "contourcarpet": [
           {
            "colorbar": {
             "outlinewidth": 0,
             "ticks": ""
            },
            "type": "contourcarpet"
           }
          ],
          "heatmap": [
           {
            "colorbar": {
             "outlinewidth": 0,
             "ticks": ""
            },
            "colorscale": [
             [
              0,
              "#0d0887"
             ],
             [
              0.1111111111111111,
              "#46039f"
             ],
             [
              0.2222222222222222,
              "#7201a8"
             ],
             [
              0.3333333333333333,
              "#9c179e"
             ],
             [
              0.4444444444444444,
              "#bd3786"
             ],
             [
              0.5555555555555556,
              "#d8576b"
             ],
             [
              0.6666666666666666,
              "#ed7953"
             ],
             [
              0.7777777777777778,
              "#fb9f3a"
             ],
             [
              0.8888888888888888,
              "#fdca26"
             ],
             [
              1,
              "#f0f921"
             ]
            ],
            "type": "heatmap"
           }
          ],
          "heatmapgl": [
           {
            "colorbar": {
             "outlinewidth": 0,
             "ticks": ""
            },
            "colorscale": [
             [
              0,
              "#0d0887"
             ],
             [
              0.1111111111111111,
              "#46039f"
             ],
             [
              0.2222222222222222,
              "#7201a8"
             ],
             [
              0.3333333333333333,
              "#9c179e"
             ],
             [
              0.4444444444444444,
              "#bd3786"
             ],
             [
              0.5555555555555556,
              "#d8576b"
             ],
             [
              0.6666666666666666,
              "#ed7953"
             ],
             [
              0.7777777777777778,
              "#fb9f3a"
             ],
             [
              0.8888888888888888,
              "#fdca26"
             ],
             [
              1,
              "#f0f921"
             ]
            ],
            "type": "heatmapgl"
           }
          ],
          "histogram": [
           {
            "marker": {
             "pattern": {
              "fillmode": "overlay",
              "size": 10,
              "solidity": 0.2
             }
            },
            "type": "histogram"
           }
          ],
          "histogram2d": [
           {
            "colorbar": {
             "outlinewidth": 0,
             "ticks": ""
            },
            "colorscale": [
             [
              0,
              "#0d0887"
             ],
             [
              0.1111111111111111,
              "#46039f"
             ],
             [
              0.2222222222222222,
              "#7201a8"
             ],
             [
              0.3333333333333333,
              "#9c179e"
             ],
             [
              0.4444444444444444,
              "#bd3786"
             ],
             [
              0.5555555555555556,
              "#d8576b"
             ],
             [
              0.6666666666666666,
              "#ed7953"
             ],
             [
              0.7777777777777778,
              "#fb9f3a"
             ],
             [
              0.8888888888888888,
              "#fdca26"
             ],
             [
              1,
              "#f0f921"
             ]
            ],
            "type": "histogram2d"
           }
          ],
          "histogram2dcontour": [
           {
            "colorbar": {
             "outlinewidth": 0,
             "ticks": ""
            },
            "colorscale": [
             [
              0,
              "#0d0887"
             ],
             [
              0.1111111111111111,
              "#46039f"
             ],
             [
              0.2222222222222222,
              "#7201a8"
             ],
             [
              0.3333333333333333,
              "#9c179e"
             ],
             [
              0.4444444444444444,
              "#bd3786"
             ],
             [
              0.5555555555555556,
              "#d8576b"
             ],
             [
              0.6666666666666666,
              "#ed7953"
             ],
             [
              0.7777777777777778,
              "#fb9f3a"
             ],
             [
              0.8888888888888888,
              "#fdca26"
             ],
             [
              1,
              "#f0f921"
             ]
            ],
            "type": "histogram2dcontour"
           }
          ],
          "mesh3d": [
           {
            "colorbar": {
             "outlinewidth": 0,
             "ticks": ""
            },
            "type": "mesh3d"
           }
          ],
          "parcoords": [
           {
            "line": {
             "colorbar": {
              "outlinewidth": 0,
              "ticks": ""
             }
            },
            "type": "parcoords"
           }
          ],
          "pie": [
           {
            "automargin": true,
            "type": "pie"
           }
          ],
          "scatter": [
           {
            "fillpattern": {
             "fillmode": "overlay",
             "size": 10,
             "solidity": 0.2
            },
            "type": "scatter"
           }
          ],
          "scatter3d": [
           {
            "line": {
             "colorbar": {
              "outlinewidth": 0,
              "ticks": ""
             }
            },
            "marker": {
             "colorbar": {
              "outlinewidth": 0,
              "ticks": ""
             }
            },
            "type": "scatter3d"
           }
          ],
          "scattercarpet": [
           {
            "marker": {
             "colorbar": {
              "outlinewidth": 0,
              "ticks": ""
             }
            },
            "type": "scattercarpet"
           }
          ],
          "scattergeo": [
           {
            "marker": {
             "colorbar": {
              "outlinewidth": 0,
              "ticks": ""
             }
            },
            "type": "scattergeo"
           }
          ],
          "scattergl": [
           {
            "marker": {
             "colorbar": {
              "outlinewidth": 0,
              "ticks": ""
             }
            },
            "type": "scattergl"
           }
          ],
          "scattermapbox": [
           {
            "marker": {
             "colorbar": {
              "outlinewidth": 0,
              "ticks": ""
             }
            },
            "type": "scattermapbox"
           }
          ],
          "scatterpolar": [
           {
            "marker": {
             "colorbar": {
              "outlinewidth": 0,
              "ticks": ""
             }
            },
            "type": "scatterpolar"
           }
          ],
          "scatterpolargl": [
           {
            "marker": {
             "colorbar": {
              "outlinewidth": 0,
              "ticks": ""
             }
            },
            "type": "scatterpolargl"
           }
          ],
          "scatterternary": [
           {
            "marker": {
             "colorbar": {
              "outlinewidth": 0,
              "ticks": ""
             }
            },
            "type": "scatterternary"
           }
          ],
          "surface": [
           {
            "colorbar": {
             "outlinewidth": 0,
             "ticks": ""
            },
            "colorscale": [
             [
              0,
              "#0d0887"
             ],
             [
              0.1111111111111111,
              "#46039f"
             ],
             [
              0.2222222222222222,
              "#7201a8"
             ],
             [
              0.3333333333333333,
              "#9c179e"
             ],
             [
              0.4444444444444444,
              "#bd3786"
             ],
             [
              0.5555555555555556,
              "#d8576b"
             ],
             [
              0.6666666666666666,
              "#ed7953"
             ],
             [
              0.7777777777777778,
              "#fb9f3a"
             ],
             [
              0.8888888888888888,
              "#fdca26"
             ],
             [
              1,
              "#f0f921"
             ]
            ],
            "type": "surface"
           }
          ],
          "table": [
           {
            "cells": {
             "fill": {
              "color": "#EBF0F8"
             },
             "line": {
              "color": "white"
             }
            },
            "header": {
             "fill": {
              "color": "#C8D4E3"
             },
             "line": {
              "color": "white"
             }
            },
            "type": "table"
           }
          ]
         },
         "layout": {
          "annotationdefaults": {
           "arrowcolor": "#2a3f5f",
           "arrowhead": 0,
           "arrowwidth": 1
          },
          "autotypenumbers": "strict",
          "coloraxis": {
           "colorbar": {
            "outlinewidth": 0,
            "ticks": ""
           }
          },
          "colorscale": {
           "diverging": [
            [
             0,
             "#8e0152"
            ],
            [
             0.1,
             "#c51b7d"
            ],
            [
             0.2,
             "#de77ae"
            ],
            [
             0.3,
             "#f1b6da"
            ],
            [
             0.4,
             "#fde0ef"
            ],
            [
             0.5,
             "#f7f7f7"
            ],
            [
             0.6,
             "#e6f5d0"
            ],
            [
             0.7,
             "#b8e186"
            ],
            [
             0.8,
             "#7fbc41"
            ],
            [
             0.9,
             "#4d9221"
            ],
            [
             1,
             "#276419"
            ]
           ],
           "sequential": [
            [
             0,
             "#0d0887"
            ],
            [
             0.1111111111111111,
             "#46039f"
            ],
            [
             0.2222222222222222,
             "#7201a8"
            ],
            [
             0.3333333333333333,
             "#9c179e"
            ],
            [
             0.4444444444444444,
             "#bd3786"
            ],
            [
             0.5555555555555556,
             "#d8576b"
            ],
            [
             0.6666666666666666,
             "#ed7953"
            ],
            [
             0.7777777777777778,
             "#fb9f3a"
            ],
            [
             0.8888888888888888,
             "#fdca26"
            ],
            [
             1,
             "#f0f921"
            ]
           ],
           "sequentialminus": [
            [
             0,
             "#0d0887"
            ],
            [
             0.1111111111111111,
             "#46039f"
            ],
            [
             0.2222222222222222,
             "#7201a8"
            ],
            [
             0.3333333333333333,
             "#9c179e"
            ],
            [
             0.4444444444444444,
             "#bd3786"
            ],
            [
             0.5555555555555556,
             "#d8576b"
            ],
            [
             0.6666666666666666,
             "#ed7953"
            ],
            [
             0.7777777777777778,
             "#fb9f3a"
            ],
            [
             0.8888888888888888,
             "#fdca26"
            ],
            [
             1,
             "#f0f921"
            ]
           ]
          },
          "colorway": [
           "#636efa",
           "#EF553B",
           "#00cc96",
           "#ab63fa",
           "#FFA15A",
           "#19d3f3",
           "#FF6692",
           "#B6E880",
           "#FF97FF",
           "#FECB52"
          ],
          "font": {
           "color": "#2a3f5f"
          },
          "geo": {
           "bgcolor": "white",
           "lakecolor": "white",
           "landcolor": "white",
           "showlakes": true,
           "showland": true,
           "subunitcolor": "#C8D4E3"
          },
          "hoverlabel": {
           "align": "left"
          },
          "hovermode": "closest",
          "mapbox": {
           "style": "light"
          },
          "paper_bgcolor": "white",
          "plot_bgcolor": "white",
          "polar": {
           "angularaxis": {
            "gridcolor": "#EBF0F8",
            "linecolor": "#EBF0F8",
            "ticks": ""
           },
           "bgcolor": "white",
           "radialaxis": {
            "gridcolor": "#EBF0F8",
            "linecolor": "#EBF0F8",
            "ticks": ""
           }
          },
          "scene": {
           "xaxis": {
            "backgroundcolor": "white",
            "gridcolor": "#DFE8F3",
            "gridwidth": 2,
            "linecolor": "#EBF0F8",
            "showbackground": true,
            "ticks": "",
            "zerolinecolor": "#EBF0F8"
           },
           "yaxis": {
            "backgroundcolor": "white",
            "gridcolor": "#DFE8F3",
            "gridwidth": 2,
            "linecolor": "#EBF0F8",
            "showbackground": true,
            "ticks": "",
            "zerolinecolor": "#EBF0F8"
           },
           "zaxis": {
            "backgroundcolor": "white",
            "gridcolor": "#DFE8F3",
            "gridwidth": 2,
            "linecolor": "#EBF0F8",
            "showbackground": true,
            "ticks": "",
            "zerolinecolor": "#EBF0F8"
           }
          },
          "shapedefaults": {
           "line": {
            "color": "#2a3f5f"
           }
          },
          "ternary": {
           "aaxis": {
            "gridcolor": "#DFE8F3",
            "linecolor": "#A2B1C6",
            "ticks": ""
           },
           "baxis": {
            "gridcolor": "#DFE8F3",
            "linecolor": "#A2B1C6",
            "ticks": ""
           },
           "bgcolor": "white",
           "caxis": {
            "gridcolor": "#DFE8F3",
            "linecolor": "#A2B1C6",
            "ticks": ""
           }
          },
          "title": {
           "x": 0.05
          },
          "xaxis": {
           "automargin": true,
           "gridcolor": "#EBF0F8",
           "linecolor": "#EBF0F8",
           "ticks": "",
           "title": {
            "standoff": 15
           },
           "zerolinecolor": "#EBF0F8",
           "zerolinewidth": 2
          },
          "yaxis": {
           "automargin": true,
           "gridcolor": "#EBF0F8",
           "linecolor": "#EBF0F8",
           "ticks": "",
           "title": {
            "standoff": 15
           },
           "zerolinecolor": "#EBF0F8",
           "zerolinewidth": 2
          }
         }
        },
        "title": {
         "text": "16 days forecasted  Soil Moisture"
        },
        "width": 900,
        "xaxis": {
         "title": {
          "text": "Date"
         }
        },
        "yaxis": {
         "title": {
          "text": "Forecasted Soil Moisture"
         }
        }
       }
      }
     },
     "metadata": {},
     "output_type": "display_data"
    }
   ],
   "source": [
    "import plotly.graph_objects as go\n",
    "\n",
    "# Create a figure\n",
    "fig = go.Figure()\n",
    "\n",
    "# Add the predicted soil moisture line\n",
    "fig.add_trace(go.Scatter(\n",
    "    x=forecasted_values_df.index, \n",
    "    y=forecasted_values_df[\"soil_moisture_28_to_100cm (m³/m³)\"],\n",
    "    mode='lines',\n",
    "    name='Predicted Soil Moisture',\n",
    "    line=dict(dash='dash')  # This creates a dashed line\n",
    "))\n",
    "\n",
    "# Update layout for the figure\n",
    "fig.update_layout(\n",
    "    title='16 days forecasted  Soil Moisture',\n",
    "    xaxis_title='Date',\n",
    "    yaxis_title='Forecasted Soil Moisture',\n",
    "    legend_title='Legend',\n",
    "    template='plotly_white',  # Optional: set a template\n",
    "    width=900,  # Width of the plot\n",
    "    height=700  # Height of the plot\n",
    ")\n",
    "\n",
    "# Show the figure\n",
    "fig.show()\n"
   ]
  },
  {
   "cell_type": "code",
   "execution_count": null,
   "metadata": {},
   "outputs": [],
   "source": []
  },
  {
   "cell_type": "code",
   "execution_count": 30,
   "metadata": {},
   "outputs": [
    {
     "data": {
      "application/vnd.plotly.v1+json": {
       "config": {
        "plotlyServerURL": "https://plot.ly"
       },
       "data": [
        {
         "line": {
          "dash": "dash"
         },
         "mode": "lines",
         "name": "Predicted Soil Moisture",
         "type": "scatter",
         "x": [
          "2024-06-27T00:00:00",
          "2024-06-28T00:00:00",
          "2024-06-29T00:00:00",
          "2024-06-30T00:00:00",
          "2024-07-01T00:00:00",
          "2024-07-02T00:00:00",
          "2024-07-03T00:00:00",
          "2024-07-04T00:00:00",
          "2024-07-05T00:00:00",
          "2024-07-06T00:00:00",
          "2024-07-07T00:00:00",
          "2024-07-08T00:00:00",
          "2024-07-09T00:00:00",
          "2024-07-10T00:00:00",
          "2024-07-11T00:00:00",
          "2024-07-12T00:00:00"
         ],
         "y": [
          33.48568385461585,
          32.9166690003677,
          33.13372227916948,
          33.252638187617784,
          33.67989538131617,
          33.785034144130904,
          33.82393486144328,
          33.771206123834226,
          33.830013638181825,
          33.83333204590311,
          33.767521894915674,
          33.74881869184803,
          33.70892908756161,
          33.74718032531122,
          33.79626489687455,
          33.85413335559908
         ]
        }
       ],
       "layout": {
        "height": 700,
        "legend": {
         "title": {
          "text": "Legend"
         }
        },
        "template": {
         "data": {
          "bar": [
           {
            "error_x": {
             "color": "#2a3f5f"
            },
            "error_y": {
             "color": "#2a3f5f"
            },
            "marker": {
             "line": {
              "color": "white",
              "width": 0.5
             },
             "pattern": {
              "fillmode": "overlay",
              "size": 10,
              "solidity": 0.2
             }
            },
            "type": "bar"
           }
          ],
          "barpolar": [
           {
            "marker": {
             "line": {
              "color": "white",
              "width": 0.5
             },
             "pattern": {
              "fillmode": "overlay",
              "size": 10,
              "solidity": 0.2
             }
            },
            "type": "barpolar"
           }
          ],
          "carpet": [
           {
            "aaxis": {
             "endlinecolor": "#2a3f5f",
             "gridcolor": "#C8D4E3",
             "linecolor": "#C8D4E3",
             "minorgridcolor": "#C8D4E3",
             "startlinecolor": "#2a3f5f"
            },
            "baxis": {
             "endlinecolor": "#2a3f5f",
             "gridcolor": "#C8D4E3",
             "linecolor": "#C8D4E3",
             "minorgridcolor": "#C8D4E3",
             "startlinecolor": "#2a3f5f"
            },
            "type": "carpet"
           }
          ],
          "choropleth": [
           {
            "colorbar": {
             "outlinewidth": 0,
             "ticks": ""
            },
            "type": "choropleth"
           }
          ],
          "contour": [
           {
            "colorbar": {
             "outlinewidth": 0,
             "ticks": ""
            },
            "colorscale": [
             [
              0,
              "#0d0887"
             ],
             [
              0.1111111111111111,
              "#46039f"
             ],
             [
              0.2222222222222222,
              "#7201a8"
             ],
             [
              0.3333333333333333,
              "#9c179e"
             ],
             [
              0.4444444444444444,
              "#bd3786"
             ],
             [
              0.5555555555555556,
              "#d8576b"
             ],
             [
              0.6666666666666666,
              "#ed7953"
             ],
             [
              0.7777777777777778,
              "#fb9f3a"
             ],
             [
              0.8888888888888888,
              "#fdca26"
             ],
             [
              1,
              "#f0f921"
             ]
            ],
            "type": "contour"
           }
          ],
          "contourcarpet": [
           {
            "colorbar": {
             "outlinewidth": 0,
             "ticks": ""
            },
            "type": "contourcarpet"
           }
          ],
          "heatmap": [
           {
            "colorbar": {
             "outlinewidth": 0,
             "ticks": ""
            },
            "colorscale": [
             [
              0,
              "#0d0887"
             ],
             [
              0.1111111111111111,
              "#46039f"
             ],
             [
              0.2222222222222222,
              "#7201a8"
             ],
             [
              0.3333333333333333,
              "#9c179e"
             ],
             [
              0.4444444444444444,
              "#bd3786"
             ],
             [
              0.5555555555555556,
              "#d8576b"
             ],
             [
              0.6666666666666666,
              "#ed7953"
             ],
             [
              0.7777777777777778,
              "#fb9f3a"
             ],
             [
              0.8888888888888888,
              "#fdca26"
             ],
             [
              1,
              "#f0f921"
             ]
            ],
            "type": "heatmap"
           }
          ],
          "heatmapgl": [
           {
            "colorbar": {
             "outlinewidth": 0,
             "ticks": ""
            },
            "colorscale": [
             [
              0,
              "#0d0887"
             ],
             [
              0.1111111111111111,
              "#46039f"
             ],
             [
              0.2222222222222222,
              "#7201a8"
             ],
             [
              0.3333333333333333,
              "#9c179e"
             ],
             [
              0.4444444444444444,
              "#bd3786"
             ],
             [
              0.5555555555555556,
              "#d8576b"
             ],
             [
              0.6666666666666666,
              "#ed7953"
             ],
             [
              0.7777777777777778,
              "#fb9f3a"
             ],
             [
              0.8888888888888888,
              "#fdca26"
             ],
             [
              1,
              "#f0f921"
             ]
            ],
            "type": "heatmapgl"
           }
          ],
          "histogram": [
           {
            "marker": {
             "pattern": {
              "fillmode": "overlay",
              "size": 10,
              "solidity": 0.2
             }
            },
            "type": "histogram"
           }
          ],
          "histogram2d": [
           {
            "colorbar": {
             "outlinewidth": 0,
             "ticks": ""
            },
            "colorscale": [
             [
              0,
              "#0d0887"
             ],
             [
              0.1111111111111111,
              "#46039f"
             ],
             [
              0.2222222222222222,
              "#7201a8"
             ],
             [
              0.3333333333333333,
              "#9c179e"
             ],
             [
              0.4444444444444444,
              "#bd3786"
             ],
             [
              0.5555555555555556,
              "#d8576b"
             ],
             [
              0.6666666666666666,
              "#ed7953"
             ],
             [
              0.7777777777777778,
              "#fb9f3a"
             ],
             [
              0.8888888888888888,
              "#fdca26"
             ],
             [
              1,
              "#f0f921"
             ]
            ],
            "type": "histogram2d"
           }
          ],
          "histogram2dcontour": [
           {
            "colorbar": {
             "outlinewidth": 0,
             "ticks": ""
            },
            "colorscale": [
             [
              0,
              "#0d0887"
             ],
             [
              0.1111111111111111,
              "#46039f"
             ],
             [
              0.2222222222222222,
              "#7201a8"
             ],
             [
              0.3333333333333333,
              "#9c179e"
             ],
             [
              0.4444444444444444,
              "#bd3786"
             ],
             [
              0.5555555555555556,
              "#d8576b"
             ],
             [
              0.6666666666666666,
              "#ed7953"
             ],
             [
              0.7777777777777778,
              "#fb9f3a"
             ],
             [
              0.8888888888888888,
              "#fdca26"
             ],
             [
              1,
              "#f0f921"
             ]
            ],
            "type": "histogram2dcontour"
           }
          ],
          "mesh3d": [
           {
            "colorbar": {
             "outlinewidth": 0,
             "ticks": ""
            },
            "type": "mesh3d"
           }
          ],
          "parcoords": [
           {
            "line": {
             "colorbar": {
              "outlinewidth": 0,
              "ticks": ""
             }
            },
            "type": "parcoords"
           }
          ],
          "pie": [
           {
            "automargin": true,
            "type": "pie"
           }
          ],
          "scatter": [
           {
            "fillpattern": {
             "fillmode": "overlay",
             "size": 10,
             "solidity": 0.2
            },
            "type": "scatter"
           }
          ],
          "scatter3d": [
           {
            "line": {
             "colorbar": {
              "outlinewidth": 0,
              "ticks": ""
             }
            },
            "marker": {
             "colorbar": {
              "outlinewidth": 0,
              "ticks": ""
             }
            },
            "type": "scatter3d"
           }
          ],
          "scattercarpet": [
           {
            "marker": {
             "colorbar": {
              "outlinewidth": 0,
              "ticks": ""
             }
            },
            "type": "scattercarpet"
           }
          ],
          "scattergeo": [
           {
            "marker": {
             "colorbar": {
              "outlinewidth": 0,
              "ticks": ""
             }
            },
            "type": "scattergeo"
           }
          ],
          "scattergl": [
           {
            "marker": {
             "colorbar": {
              "outlinewidth": 0,
              "ticks": ""
             }
            },
            "type": "scattergl"
           }
          ],
          "scattermapbox": [
           {
            "marker": {
             "colorbar": {
              "outlinewidth": 0,
              "ticks": ""
             }
            },
            "type": "scattermapbox"
           }
          ],
          "scatterpolar": [
           {
            "marker": {
             "colorbar": {
              "outlinewidth": 0,
              "ticks": ""
             }
            },
            "type": "scatterpolar"
           }
          ],
          "scatterpolargl": [
           {
            "marker": {
             "colorbar": {
              "outlinewidth": 0,
              "ticks": ""
             }
            },
            "type": "scatterpolargl"
           }
          ],
          "scatterternary": [
           {
            "marker": {
             "colorbar": {
              "outlinewidth": 0,
              "ticks": ""
             }
            },
            "type": "scatterternary"
           }
          ],
          "surface": [
           {
            "colorbar": {
             "outlinewidth": 0,
             "ticks": ""
            },
            "colorscale": [
             [
              0,
              "#0d0887"
             ],
             [
              0.1111111111111111,
              "#46039f"
             ],
             [
              0.2222222222222222,
              "#7201a8"
             ],
             [
              0.3333333333333333,
              "#9c179e"
             ],
             [
              0.4444444444444444,
              "#bd3786"
             ],
             [
              0.5555555555555556,
              "#d8576b"
             ],
             [
              0.6666666666666666,
              "#ed7953"
             ],
             [
              0.7777777777777778,
              "#fb9f3a"
             ],
             [
              0.8888888888888888,
              "#fdca26"
             ],
             [
              1,
              "#f0f921"
             ]
            ],
            "type": "surface"
           }
          ],
          "table": [
           {
            "cells": {
             "fill": {
              "color": "#EBF0F8"
             },
             "line": {
              "color": "white"
             }
            },
            "header": {
             "fill": {
              "color": "#C8D4E3"
             },
             "line": {
              "color": "white"
             }
            },
            "type": "table"
           }
          ]
         },
         "layout": {
          "annotationdefaults": {
           "arrowcolor": "#2a3f5f",
           "arrowhead": 0,
           "arrowwidth": 1
          },
          "autotypenumbers": "strict",
          "coloraxis": {
           "colorbar": {
            "outlinewidth": 0,
            "ticks": ""
           }
          },
          "colorscale": {
           "diverging": [
            [
             0,
             "#8e0152"
            ],
            [
             0.1,
             "#c51b7d"
            ],
            [
             0.2,
             "#de77ae"
            ],
            [
             0.3,
             "#f1b6da"
            ],
            [
             0.4,
             "#fde0ef"
            ],
            [
             0.5,
             "#f7f7f7"
            ],
            [
             0.6,
             "#e6f5d0"
            ],
            [
             0.7,
             "#b8e186"
            ],
            [
             0.8,
             "#7fbc41"
            ],
            [
             0.9,
             "#4d9221"
            ],
            [
             1,
             "#276419"
            ]
           ],
           "sequential": [
            [
             0,
             "#0d0887"
            ],
            [
             0.1111111111111111,
             "#46039f"
            ],
            [
             0.2222222222222222,
             "#7201a8"
            ],
            [
             0.3333333333333333,
             "#9c179e"
            ],
            [
             0.4444444444444444,
             "#bd3786"
            ],
            [
             0.5555555555555556,
             "#d8576b"
            ],
            [
             0.6666666666666666,
             "#ed7953"
            ],
            [
             0.7777777777777778,
             "#fb9f3a"
            ],
            [
             0.8888888888888888,
             "#fdca26"
            ],
            [
             1,
             "#f0f921"
            ]
           ],
           "sequentialminus": [
            [
             0,
             "#0d0887"
            ],
            [
             0.1111111111111111,
             "#46039f"
            ],
            [
             0.2222222222222222,
             "#7201a8"
            ],
            [
             0.3333333333333333,
             "#9c179e"
            ],
            [
             0.4444444444444444,
             "#bd3786"
            ],
            [
             0.5555555555555556,
             "#d8576b"
            ],
            [
             0.6666666666666666,
             "#ed7953"
            ],
            [
             0.7777777777777778,
             "#fb9f3a"
            ],
            [
             0.8888888888888888,
             "#fdca26"
            ],
            [
             1,
             "#f0f921"
            ]
           ]
          },
          "colorway": [
           "#636efa",
           "#EF553B",
           "#00cc96",
           "#ab63fa",
           "#FFA15A",
           "#19d3f3",
           "#FF6692",
           "#B6E880",
           "#FF97FF",
           "#FECB52"
          ],
          "font": {
           "color": "#2a3f5f"
          },
          "geo": {
           "bgcolor": "white",
           "lakecolor": "white",
           "landcolor": "white",
           "showlakes": true,
           "showland": true,
           "subunitcolor": "#C8D4E3"
          },
          "hoverlabel": {
           "align": "left"
          },
          "hovermode": "closest",
          "mapbox": {
           "style": "light"
          },
          "paper_bgcolor": "white",
          "plot_bgcolor": "white",
          "polar": {
           "angularaxis": {
            "gridcolor": "#EBF0F8",
            "linecolor": "#EBF0F8",
            "ticks": ""
           },
           "bgcolor": "white",
           "radialaxis": {
            "gridcolor": "#EBF0F8",
            "linecolor": "#EBF0F8",
            "ticks": ""
           }
          },
          "scene": {
           "xaxis": {
            "backgroundcolor": "white",
            "gridcolor": "#DFE8F3",
            "gridwidth": 2,
            "linecolor": "#EBF0F8",
            "showbackground": true,
            "ticks": "",
            "zerolinecolor": "#EBF0F8"
           },
           "yaxis": {
            "backgroundcolor": "white",
            "gridcolor": "#DFE8F3",
            "gridwidth": 2,
            "linecolor": "#EBF0F8",
            "showbackground": true,
            "ticks": "",
            "zerolinecolor": "#EBF0F8"
           },
           "zaxis": {
            "backgroundcolor": "white",
            "gridcolor": "#DFE8F3",
            "gridwidth": 2,
            "linecolor": "#EBF0F8",
            "showbackground": true,
            "ticks": "",
            "zerolinecolor": "#EBF0F8"
           }
          },
          "shapedefaults": {
           "line": {
            "color": "#2a3f5f"
           }
          },
          "ternary": {
           "aaxis": {
            "gridcolor": "#DFE8F3",
            "linecolor": "#A2B1C6",
            "ticks": ""
           },
           "baxis": {
            "gridcolor": "#DFE8F3",
            "linecolor": "#A2B1C6",
            "ticks": ""
           },
           "bgcolor": "white",
           "caxis": {
            "gridcolor": "#DFE8F3",
            "linecolor": "#A2B1C6",
            "ticks": ""
           }
          },
          "title": {
           "x": 0.05
          },
          "xaxis": {
           "automargin": true,
           "gridcolor": "#EBF0F8",
           "linecolor": "#EBF0F8",
           "ticks": "",
           "title": {
            "standoff": 15
           },
           "zerolinecolor": "#EBF0F8",
           "zerolinewidth": 2
          },
          "yaxis": {
           "automargin": true,
           "gridcolor": "#EBF0F8",
           "linecolor": "#EBF0F8",
           "ticks": "",
           "title": {
            "standoff": 15
           },
           "zerolinecolor": "#EBF0F8",
           "zerolinewidth": 2
          }
         }
        },
        "title": {
         "text": "16 days forecasted  Temperature"
        },
        "width": 900,
        "xaxis": {
         "title": {
          "text": "Date"
         }
        },
        "yaxis": {
         "title": {
          "text": "Forecasted Temperature"
         }
        }
       }
      }
     },
     "metadata": {},
     "output_type": "display_data"
    }
   ],
   "source": [
    "import plotly.graph_objects as go\n",
    "\n",
    "# Create a figure\n",
    "fig = go.Figure()\n",
    "\n",
    "# Add the predicted soil moisture line\n",
    "fig.add_trace(go.Scatter(\n",
    "    x=forecasted_values_df.index, \n",
    "    y=forecasted_values_df[\"temperature_2m (°C)\"],\n",
    "    mode='lines',\n",
    "    name='Predicted Soil Moisture',\n",
    "    line=dict(dash='dash')  # This creates a dashed line\n",
    "))\n",
    "\n",
    "# Update layout for the figure\n",
    "fig.update_layout(\n",
    "    title='16 days forecasted  Temperature',\n",
    "    xaxis_title='Date',\n",
    "    yaxis_title='Forecasted Temperature',\n",
    "    legend_title='Legend',\n",
    "    template='plotly_white',  # Optional: set a template\n",
    "    width=900,  # Width of the plot\n",
    "    height=700  # Height of the plot\n",
    ")\n",
    "\n",
    "# Show the figure\n",
    "fig.show()\n"
   ]
  },
  {
   "cell_type": "code",
   "execution_count": 31,
   "metadata": {},
   "outputs": [
    {
     "data": {
      "application/vnd.plotly.v1+json": {
       "config": {
        "plotlyServerURL": "https://plot.ly"
       },
       "data": [
        {
         "line": {
          "dash": "dash"
         },
         "mode": "lines",
         "name": "Predicted Soil Moisture",
         "type": "scatter",
         "x": [
          "2024-06-27T00:00:00",
          "2024-06-28T00:00:00",
          "2024-06-29T00:00:00",
          "2024-06-30T00:00:00",
          "2024-07-01T00:00:00",
          "2024-07-02T00:00:00",
          "2024-07-03T00:00:00",
          "2024-07-04T00:00:00",
          "2024-07-05T00:00:00",
          "2024-07-06T00:00:00",
          "2024-07-07T00:00:00",
          "2024-07-08T00:00:00",
          "2024-07-09T00:00:00",
          "2024-07-10T00:00:00",
          "2024-07-11T00:00:00",
          "2024-07-12T00:00:00"
         ],
         "y": [
          33.48568385461585,
          32.9166690003677,
          33.13372227916948,
          33.252638187617784,
          33.67989538131617,
          33.785034144130904,
          33.82393486144328,
          33.771206123834226,
          33.830013638181825,
          33.83333204590311,
          33.767521894915674,
          33.74881869184803,
          33.70892908756161,
          33.74718032531122,
          33.79626489687455,
          33.85413335559908
         ]
        }
       ],
       "layout": {
        "height": 700,
        "legend": {
         "title": {
          "text": "Legend"
         }
        },
        "template": {
         "data": {
          "bar": [
           {
            "error_x": {
             "color": "#2a3f5f"
            },
            "error_y": {
             "color": "#2a3f5f"
            },
            "marker": {
             "line": {
              "color": "white",
              "width": 0.5
             },
             "pattern": {
              "fillmode": "overlay",
              "size": 10,
              "solidity": 0.2
             }
            },
            "type": "bar"
           }
          ],
          "barpolar": [
           {
            "marker": {
             "line": {
              "color": "white",
              "width": 0.5
             },
             "pattern": {
              "fillmode": "overlay",
              "size": 10,
              "solidity": 0.2
             }
            },
            "type": "barpolar"
           }
          ],
          "carpet": [
           {
            "aaxis": {
             "endlinecolor": "#2a3f5f",
             "gridcolor": "#C8D4E3",
             "linecolor": "#C8D4E3",
             "minorgridcolor": "#C8D4E3",
             "startlinecolor": "#2a3f5f"
            },
            "baxis": {
             "endlinecolor": "#2a3f5f",
             "gridcolor": "#C8D4E3",
             "linecolor": "#C8D4E3",
             "minorgridcolor": "#C8D4E3",
             "startlinecolor": "#2a3f5f"
            },
            "type": "carpet"
           }
          ],
          "choropleth": [
           {
            "colorbar": {
             "outlinewidth": 0,
             "ticks": ""
            },
            "type": "choropleth"
           }
          ],
          "contour": [
           {
            "colorbar": {
             "outlinewidth": 0,
             "ticks": ""
            },
            "colorscale": [
             [
              0,
              "#0d0887"
             ],
             [
              0.1111111111111111,
              "#46039f"
             ],
             [
              0.2222222222222222,
              "#7201a8"
             ],
             [
              0.3333333333333333,
              "#9c179e"
             ],
             [
              0.4444444444444444,
              "#bd3786"
             ],
             [
              0.5555555555555556,
              "#d8576b"
             ],
             [
              0.6666666666666666,
              "#ed7953"
             ],
             [
              0.7777777777777778,
              "#fb9f3a"
             ],
             [
              0.8888888888888888,
              "#fdca26"
             ],
             [
              1,
              "#f0f921"
             ]
            ],
            "type": "contour"
           }
          ],
          "contourcarpet": [
           {
            "colorbar": {
             "outlinewidth": 0,
             "ticks": ""
            },
            "type": "contourcarpet"
           }
          ],
          "heatmap": [
           {
            "colorbar": {
             "outlinewidth": 0,
             "ticks": ""
            },
            "colorscale": [
             [
              0,
              "#0d0887"
             ],
             [
              0.1111111111111111,
              "#46039f"
             ],
             [
              0.2222222222222222,
              "#7201a8"
             ],
             [
              0.3333333333333333,
              "#9c179e"
             ],
             [
              0.4444444444444444,
              "#bd3786"
             ],
             [
              0.5555555555555556,
              "#d8576b"
             ],
             [
              0.6666666666666666,
              "#ed7953"
             ],
             [
              0.7777777777777778,
              "#fb9f3a"
             ],
             [
              0.8888888888888888,
              "#fdca26"
             ],
             [
              1,
              "#f0f921"
             ]
            ],
            "type": "heatmap"
           }
          ],
          "heatmapgl": [
           {
            "colorbar": {
             "outlinewidth": 0,
             "ticks": ""
            },
            "colorscale": [
             [
              0,
              "#0d0887"
             ],
             [
              0.1111111111111111,
              "#46039f"
             ],
             [
              0.2222222222222222,
              "#7201a8"
             ],
             [
              0.3333333333333333,
              "#9c179e"
             ],
             [
              0.4444444444444444,
              "#bd3786"
             ],
             [
              0.5555555555555556,
              "#d8576b"
             ],
             [
              0.6666666666666666,
              "#ed7953"
             ],
             [
              0.7777777777777778,
              "#fb9f3a"
             ],
             [
              0.8888888888888888,
              "#fdca26"
             ],
             [
              1,
              "#f0f921"
             ]
            ],
            "type": "heatmapgl"
           }
          ],
          "histogram": [
           {
            "marker": {
             "pattern": {
              "fillmode": "overlay",
              "size": 10,
              "solidity": 0.2
             }
            },
            "type": "histogram"
           }
          ],
          "histogram2d": [
           {
            "colorbar": {
             "outlinewidth": 0,
             "ticks": ""
            },
            "colorscale": [
             [
              0,
              "#0d0887"
             ],
             [
              0.1111111111111111,
              "#46039f"
             ],
             [
              0.2222222222222222,
              "#7201a8"
             ],
             [
              0.3333333333333333,
              "#9c179e"
             ],
             [
              0.4444444444444444,
              "#bd3786"
             ],
             [
              0.5555555555555556,
              "#d8576b"
             ],
             [
              0.6666666666666666,
              "#ed7953"
             ],
             [
              0.7777777777777778,
              "#fb9f3a"
             ],
             [
              0.8888888888888888,
              "#fdca26"
             ],
             [
              1,
              "#f0f921"
             ]
            ],
            "type": "histogram2d"
           }
          ],
          "histogram2dcontour": [
           {
            "colorbar": {
             "outlinewidth": 0,
             "ticks": ""
            },
            "colorscale": [
             [
              0,
              "#0d0887"
             ],
             [
              0.1111111111111111,
              "#46039f"
             ],
             [
              0.2222222222222222,
              "#7201a8"
             ],
             [
              0.3333333333333333,
              "#9c179e"
             ],
             [
              0.4444444444444444,
              "#bd3786"
             ],
             [
              0.5555555555555556,
              "#d8576b"
             ],
             [
              0.6666666666666666,
              "#ed7953"
             ],
             [
              0.7777777777777778,
              "#fb9f3a"
             ],
             [
              0.8888888888888888,
              "#fdca26"
             ],
             [
              1,
              "#f0f921"
             ]
            ],
            "type": "histogram2dcontour"
           }
          ],
          "mesh3d": [
           {
            "colorbar": {
             "outlinewidth": 0,
             "ticks": ""
            },
            "type": "mesh3d"
           }
          ],
          "parcoords": [
           {
            "line": {
             "colorbar": {
              "outlinewidth": 0,
              "ticks": ""
             }
            },
            "type": "parcoords"
           }
          ],
          "pie": [
           {
            "automargin": true,
            "type": "pie"
           }
          ],
          "scatter": [
           {
            "fillpattern": {
             "fillmode": "overlay",
             "size": 10,
             "solidity": 0.2
            },
            "type": "scatter"
           }
          ],
          "scatter3d": [
           {
            "line": {
             "colorbar": {
              "outlinewidth": 0,
              "ticks": ""
             }
            },
            "marker": {
             "colorbar": {
              "outlinewidth": 0,
              "ticks": ""
             }
            },
            "type": "scatter3d"
           }
          ],
          "scattercarpet": [
           {
            "marker": {
             "colorbar": {
              "outlinewidth": 0,
              "ticks": ""
             }
            },
            "type": "scattercarpet"
           }
          ],
          "scattergeo": [
           {
            "marker": {
             "colorbar": {
              "outlinewidth": 0,
              "ticks": ""
             }
            },
            "type": "scattergeo"
           }
          ],
          "scattergl": [
           {
            "marker": {
             "colorbar": {
              "outlinewidth": 0,
              "ticks": ""
             }
            },
            "type": "scattergl"
           }
          ],
          "scattermapbox": [
           {
            "marker": {
             "colorbar": {
              "outlinewidth": 0,
              "ticks": ""
             }
            },
            "type": "scattermapbox"
           }
          ],
          "scatterpolar": [
           {
            "marker": {
             "colorbar": {
              "outlinewidth": 0,
              "ticks": ""
             }
            },
            "type": "scatterpolar"
           }
          ],
          "scatterpolargl": [
           {
            "marker": {
             "colorbar": {
              "outlinewidth": 0,
              "ticks": ""
             }
            },
            "type": "scatterpolargl"
           }
          ],
          "scatterternary": [
           {
            "marker": {
             "colorbar": {
              "outlinewidth": 0,
              "ticks": ""
             }
            },
            "type": "scatterternary"
           }
          ],
          "surface": [
           {
            "colorbar": {
             "outlinewidth": 0,
             "ticks": ""
            },
            "colorscale": [
             [
              0,
              "#0d0887"
             ],
             [
              0.1111111111111111,
              "#46039f"
             ],
             [
              0.2222222222222222,
              "#7201a8"
             ],
             [
              0.3333333333333333,
              "#9c179e"
             ],
             [
              0.4444444444444444,
              "#bd3786"
             ],
             [
              0.5555555555555556,
              "#d8576b"
             ],
             [
              0.6666666666666666,
              "#ed7953"
             ],
             [
              0.7777777777777778,
              "#fb9f3a"
             ],
             [
              0.8888888888888888,
              "#fdca26"
             ],
             [
              1,
              "#f0f921"
             ]
            ],
            "type": "surface"
           }
          ],
          "table": [
           {
            "cells": {
             "fill": {
              "color": "#EBF0F8"
             },
             "line": {
              "color": "white"
             }
            },
            "header": {
             "fill": {
              "color": "#C8D4E3"
             },
             "line": {
              "color": "white"
             }
            },
            "type": "table"
           }
          ]
         },
         "layout": {
          "annotationdefaults": {
           "arrowcolor": "#2a3f5f",
           "arrowhead": 0,
           "arrowwidth": 1
          },
          "autotypenumbers": "strict",
          "coloraxis": {
           "colorbar": {
            "outlinewidth": 0,
            "ticks": ""
           }
          },
          "colorscale": {
           "diverging": [
            [
             0,
             "#8e0152"
            ],
            [
             0.1,
             "#c51b7d"
            ],
            [
             0.2,
             "#de77ae"
            ],
            [
             0.3,
             "#f1b6da"
            ],
            [
             0.4,
             "#fde0ef"
            ],
            [
             0.5,
             "#f7f7f7"
            ],
            [
             0.6,
             "#e6f5d0"
            ],
            [
             0.7,
             "#b8e186"
            ],
            [
             0.8,
             "#7fbc41"
            ],
            [
             0.9,
             "#4d9221"
            ],
            [
             1,
             "#276419"
            ]
           ],
           "sequential": [
            [
             0,
             "#0d0887"
            ],
            [
             0.1111111111111111,
             "#46039f"
            ],
            [
             0.2222222222222222,
             "#7201a8"
            ],
            [
             0.3333333333333333,
             "#9c179e"
            ],
            [
             0.4444444444444444,
             "#bd3786"
            ],
            [
             0.5555555555555556,
             "#d8576b"
            ],
            [
             0.6666666666666666,
             "#ed7953"
            ],
            [
             0.7777777777777778,
             "#fb9f3a"
            ],
            [
             0.8888888888888888,
             "#fdca26"
            ],
            [
             1,
             "#f0f921"
            ]
           ],
           "sequentialminus": [
            [
             0,
             "#0d0887"
            ],
            [
             0.1111111111111111,
             "#46039f"
            ],
            [
             0.2222222222222222,
             "#7201a8"
            ],
            [
             0.3333333333333333,
             "#9c179e"
            ],
            [
             0.4444444444444444,
             "#bd3786"
            ],
            [
             0.5555555555555556,
             "#d8576b"
            ],
            [
             0.6666666666666666,
             "#ed7953"
            ],
            [
             0.7777777777777778,
             "#fb9f3a"
            ],
            [
             0.8888888888888888,
             "#fdca26"
            ],
            [
             1,
             "#f0f921"
            ]
           ]
          },
          "colorway": [
           "#636efa",
           "#EF553B",
           "#00cc96",
           "#ab63fa",
           "#FFA15A",
           "#19d3f3",
           "#FF6692",
           "#B6E880",
           "#FF97FF",
           "#FECB52"
          ],
          "font": {
           "color": "#2a3f5f"
          },
          "geo": {
           "bgcolor": "white",
           "lakecolor": "white",
           "landcolor": "white",
           "showlakes": true,
           "showland": true,
           "subunitcolor": "#C8D4E3"
          },
          "hoverlabel": {
           "align": "left"
          },
          "hovermode": "closest",
          "mapbox": {
           "style": "light"
          },
          "paper_bgcolor": "white",
          "plot_bgcolor": "white",
          "polar": {
           "angularaxis": {
            "gridcolor": "#EBF0F8",
            "linecolor": "#EBF0F8",
            "ticks": ""
           },
           "bgcolor": "white",
           "radialaxis": {
            "gridcolor": "#EBF0F8",
            "linecolor": "#EBF0F8",
            "ticks": ""
           }
          },
          "scene": {
           "xaxis": {
            "backgroundcolor": "white",
            "gridcolor": "#DFE8F3",
            "gridwidth": 2,
            "linecolor": "#EBF0F8",
            "showbackground": true,
            "ticks": "",
            "zerolinecolor": "#EBF0F8"
           },
           "yaxis": {
            "backgroundcolor": "white",
            "gridcolor": "#DFE8F3",
            "gridwidth": 2,
            "linecolor": "#EBF0F8",
            "showbackground": true,
            "ticks": "",
            "zerolinecolor": "#EBF0F8"
           },
           "zaxis": {
            "backgroundcolor": "white",
            "gridcolor": "#DFE8F3",
            "gridwidth": 2,
            "linecolor": "#EBF0F8",
            "showbackground": true,
            "ticks": "",
            "zerolinecolor": "#EBF0F8"
           }
          },
          "shapedefaults": {
           "line": {
            "color": "#2a3f5f"
           }
          },
          "ternary": {
           "aaxis": {
            "gridcolor": "#DFE8F3",
            "linecolor": "#A2B1C6",
            "ticks": ""
           },
           "baxis": {
            "gridcolor": "#DFE8F3",
            "linecolor": "#A2B1C6",
            "ticks": ""
           },
           "bgcolor": "white",
           "caxis": {
            "gridcolor": "#DFE8F3",
            "linecolor": "#A2B1C6",
            "ticks": ""
           }
          },
          "title": {
           "x": 0.05
          },
          "xaxis": {
           "automargin": true,
           "gridcolor": "#EBF0F8",
           "linecolor": "#EBF0F8",
           "ticks": "",
           "title": {
            "standoff": 15
           },
           "zerolinecolor": "#EBF0F8",
           "zerolinewidth": 2
          },
          "yaxis": {
           "automargin": true,
           "gridcolor": "#EBF0F8",
           "linecolor": "#EBF0F8",
           "ticks": "",
           "title": {
            "standoff": 15
           },
           "zerolinecolor": "#EBF0F8",
           "zerolinewidth": 2
          }
         }
        },
        "title": {
         "text": "16 days forecasted  Temperature"
        },
        "width": 900,
        "xaxis": {
         "title": {
          "text": "Date"
         }
        },
        "yaxis": {
         "title": {
          "text": "Forecasted Temperature"
         }
        }
       }
      }
     },
     "metadata": {},
     "output_type": "display_data"
    }
   ],
   "source": [
    "import plotly.graph_objects as go\n",
    "\n",
    "# Create a figure\n",
    "fig = go.Figure()\n",
    "\n",
    "# Add the predicted soil moisture line\n",
    "fig.add_trace(go.Scatter(\n",
    "    x=forecasted_values_df.index, \n",
    "    y=forecasted_values_df[\"temperature_2m (°C)\"],\n",
    "    mode='lines',\n",
    "    name='Predicted Soil Moisture',\n",
    "    line=dict(dash='dash')  # This creates a dashed line\n",
    "))\n",
    "\n",
    "# Update layout for the figure\n",
    "fig.update_layout(\n",
    "    title='16 days forecasted  Temperature',\n",
    "    xaxis_title='Date',\n",
    "    yaxis_title='Forecasted Temperature',\n",
    "    legend_title='Legend',\n",
    "    template='plotly_white',  # Optional: set a template\n",
    "    width=900,  # Width of the plot\n",
    "    height=700  # Height of the plot\n",
    ")\n",
    "\n",
    "# Show the figure\n",
    "fig.show()\n"
   ]
  }
 ],
 "metadata": {
  "kernelspec": {
   "display_name": "base",
   "language": "python",
   "name": "python3"
  },
  "language_info": {
   "codemirror_mode": {
    "name": "ipython",
    "version": 3
   },
   "file_extension": ".py",
   "mimetype": "text/x-python",
   "name": "python",
   "nbconvert_exporter": "python",
   "pygments_lexer": "ipython3",
   "version": "3.11.7"
  }
 },
 "nbformat": 4,
 "nbformat_minor": 2
}
