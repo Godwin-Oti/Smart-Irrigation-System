{
 "cells": [
  {
   "cell_type": "code",
   "execution_count": 39,
   "metadata": {},
   "outputs": [
    {
     "name": "stdout",
     "output_type": "stream",
     "text": [
      "Hello World!\n"
     ]
    }
   ],
   "source": [
    "print(\"Hello World!\")"
   ]
  },
  {
   "cell_type": "code",
   "execution_count": 40,
   "metadata": {},
   "outputs": [],
   "source": [
    "import pandas as pd\n",
    "import numpy as np\n",
    "from sklearn.model_selection import train_test_split\n",
    "import matplotlib.pyplot as plt\n",
    "import seaborn as sns\n",
    "from statsmodels.tsa.api import VAR\n",
    "from sklearn.metrics import mean_absolute_error, mean_squared_error\n"
   ]
  },
  {
   "cell_type": "markdown",
   "metadata": {},
   "source": []
  },
  {
   "cell_type": "code",
   "execution_count": 41,
   "metadata": {},
   "outputs": [],
   "source": [
    "historical_data_punjab=pd.read_csv(\"C:\\Desktop\\Smart Irrigation System\\Punjab_India\\PUNJAB_2_open-meteo-31.39N75.93E285m.csv\")\n"
   ]
  },
  {
   "cell_type": "code",
   "execution_count": 42,
   "metadata": {},
   "outputs": [
    {
     "name": "stdout",
     "output_type": "stream",
     "text": [
      "<class 'pandas.core.frame.DataFrame'>\n",
      "RangeIndex: 35064 entries, 0 to 35063\n",
      "Data columns (total 9 columns):\n",
      " #   Column                              Non-Null Count  Dtype  \n",
      "---  ------                              --------------  -----  \n",
      " 0   time                                35064 non-null  object \n",
      " 1   temperature_2m (°C)                 35064 non-null  float64\n",
      " 2   relative_humidity_2m (%)            35064 non-null  int64  \n",
      " 3   precipitation (mm)                  35064 non-null  float64\n",
      " 4   et0_fao_evapotranspiration (mm)     35064 non-null  float64\n",
      " 5   wind_speed_10m (km/h)               35064 non-null  float64\n",
      " 6   soil_temperature_28_to_100cm (°C)   35064 non-null  float64\n",
      " 7   soil_moisture_28_to_100cm (m³/m³)   35064 non-null  float64\n",
      " 8   shortwave_radiation_instant (W/m²)  35064 non-null  float64\n",
      "dtypes: float64(7), int64(1), object(1)\n",
      "memory usage: 2.4+ MB\n"
     ]
    }
   ],
   "source": [
    "historical_data_punjab.info()"
   ]
  },
  {
   "cell_type": "code",
   "execution_count": 43,
   "metadata": {},
   "outputs": [],
   "source": [
    "\n",
    "# Convert timestamp to datetime\n",
    "historical_data_punjab['timestamp'] = pd.to_datetime(historical_data_punjab['time'])\n",
    "\n",
    "# Extract date\n",
    "historical_data_punjab['date'] = historical_data_punjab['timestamp'].dt.date\n",
    "\n",
    "# Aggregate to daily data\n",
    "historical_data_punjab_daily = historical_data_punjab.groupby('date').agg({\n",
    "    'temperature_2m (°C)': 'mean',\n",
    "    'relative_humidity_2m (%)': 'mean',\n",
    "    'precipitation (mm)': 'sum',\n",
    "    'et0_fao_evapotranspiration (mm)': 'sum',\n",
    "    'wind_speed_10m (km/h)': 'mean',\n",
    "    'soil_temperature_28_to_100cm (°C)': 'mean',\n",
    "    'soil_moisture_28_to_100cm (m³/m³)': 'mean',\n",
    "    'shortwave_radiation_instant (W/m²)': 'sum'\n",
    "}).reset_index()\n"
   ]
  },
  {
   "cell_type": "code",
   "execution_count": 75,
   "metadata": {},
   "outputs": [],
   "source": [
    "future_data_punjab = pd.read_csv(r\"C:\\Desktop\\Smart Irrigation System\\future_data_current_open-meteo-31.39N75.93E285m.csv\")\n",
    "## from peroid 2024 Jan 1 to 2024 Jun 26"
   ]
  },
  {
   "cell_type": "code",
   "execution_count": 77,
   "metadata": {},
   "outputs": [
    {
     "name": "stdout",
     "output_type": "stream",
     "text": [
      "<class 'pandas.core.frame.DataFrame'>\n",
      "RangeIndex: 4368 entries, 0 to 4367\n",
      "Data columns (total 9 columns):\n",
      " #   Column                              Non-Null Count  Dtype  \n",
      "---  ------                              --------------  -----  \n",
      " 0   time                                4368 non-null   object \n",
      " 1   temperature_2m (°C)                 4368 non-null   float64\n",
      " 2   relative_humidity_2m (%)            4368 non-null   int64  \n",
      " 3   precipitation (mm)                  4368 non-null   float64\n",
      " 4   et0_fao_evapotranspiration (mm)     4368 non-null   float64\n",
      " 5   wind_speed_10m (km/h)               4368 non-null   float64\n",
      " 6   soil_temperature_28_to_100cm (°C)   4368 non-null   float64\n",
      " 7   soil_moisture_28_to_100cm (m³/m³)   4368 non-null   float64\n",
      " 8   shortwave_radiation_instant (W/m²)  4368 non-null   float64\n",
      "dtypes: float64(7), int64(1), object(1)\n",
      "memory usage: 307.3+ KB\n"
     ]
    }
   ],
   "source": [
    "future_data_punjab.info()"
   ]
  },
  {
   "cell_type": "code",
   "execution_count": 78,
   "metadata": {},
   "outputs": [],
   "source": [
    "\n",
    "# Convert timestamp to datetime\n",
    "future_data_punjab['timestamp'] = pd.to_datetime(future_data_punjab['time'])\n",
    "\n",
    "# Extract date\n",
    "future_data_punjab['date'] = future_data_punjab['timestamp'].dt.date\n",
    "\n",
    "# Aggregate to daily data\n",
    "future_data_punjab_daily = future_data_punjab.groupby('date').agg({\n",
    "    'temperature_2m (°C)': 'mean',\n",
    "    'relative_humidity_2m (%)': 'mean',\n",
    "    'precipitation (mm)': 'sum',\n",
    "    'et0_fao_evapotranspiration (mm)': 'sum',\n",
    "    'wind_speed_10m (km/h)': 'mean',\n",
    "    'soil_temperature_28_to_100cm (°C)': 'mean',\n",
    "    'soil_moisture_28_to_100cm (m³/m³)': 'mean',\n",
    "    'shortwave_radiation_instant (W/m²)': 'sum'\n",
    "}).reset_index()\n"
   ]
  },
  {
   "cell_type": "code",
   "execution_count": 79,
   "metadata": {},
   "outputs": [
    {
     "name": "stdout",
     "output_type": "stream",
     "text": [
      "<class 'pandas.core.frame.DataFrame'>\n",
      "RangeIndex: 182 entries, 0 to 181\n",
      "Data columns (total 9 columns):\n",
      " #   Column                              Non-Null Count  Dtype  \n",
      "---  ------                              --------------  -----  \n",
      " 0   date                                182 non-null    object \n",
      " 1   temperature_2m (°C)                 182 non-null    float64\n",
      " 2   relative_humidity_2m (%)            182 non-null    float64\n",
      " 3   precipitation (mm)                  182 non-null    float64\n",
      " 4   et0_fao_evapotranspiration (mm)     182 non-null    float64\n",
      " 5   wind_speed_10m (km/h)               182 non-null    float64\n",
      " 6   soil_temperature_28_to_100cm (°C)   182 non-null    float64\n",
      " 7   soil_moisture_28_to_100cm (m³/m³)   182 non-null    float64\n",
      " 8   shortwave_radiation_instant (W/m²)  182 non-null    float64\n",
      "dtypes: float64(8), object(1)\n",
      "memory usage: 12.9+ KB\n"
     ]
    }
   ],
   "source": [
    "future_data_punjab_daily.info()"
   ]
  },
  {
   "cell_type": "code",
   "execution_count": 80,
   "metadata": {},
   "outputs": [],
   "source": [
    "# Concatenate the DataFrames\n",
    "combined_historical_data_punjab_daily = pd.concat([historical_data_punjab_daily, future_data_punjab_daily], ignore_index=True)\n"
   ]
  },
  {
   "cell_type": "code",
   "execution_count": 81,
   "metadata": {},
   "outputs": [
    {
     "name": "stdout",
     "output_type": "stream",
     "text": [
      "<class 'pandas.core.frame.DataFrame'>\n",
      "RangeIndex: 1643 entries, 0 to 1642\n",
      "Data columns (total 9 columns):\n",
      " #   Column                              Non-Null Count  Dtype  \n",
      "---  ------                              --------------  -----  \n",
      " 0   date                                1643 non-null   object \n",
      " 1   temperature_2m (°C)                 1643 non-null   float64\n",
      " 2   relative_humidity_2m (%)            1643 non-null   float64\n",
      " 3   precipitation (mm)                  1643 non-null   float64\n",
      " 4   et0_fao_evapotranspiration (mm)     1643 non-null   float64\n",
      " 5   wind_speed_10m (km/h)               1643 non-null   float64\n",
      " 6   soil_temperature_28_to_100cm (°C)   1643 non-null   float64\n",
      " 7   soil_moisture_28_to_100cm (m³/m³)   1643 non-null   float64\n",
      " 8   shortwave_radiation_instant (W/m²)  1643 non-null   float64\n",
      "dtypes: float64(8), object(1)\n",
      "memory usage: 115.7+ KB\n"
     ]
    }
   ],
   "source": [
    "combined_historical_data_punjab_daily.info()"
   ]
  },
  {
   "cell_type": "code",
   "execution_count": 82,
   "metadata": {},
   "outputs": [],
   "source": [
    "# Rename ET₀ column for easier reference\n",
    "combined_historical_data_punjab_daily.rename(columns={'et0_fao_evapotranspiration (mm)': 'ET₀ (mm)'}, inplace=True)"
   ]
  },
  {
   "cell_type": "code",
   "execution_count": 83,
   "metadata": {},
   "outputs": [],
   "source": [
    " #Set the date column as the index\n",
    "combined_historical_data_punjab_daily.set_index('date', inplace=True)\n",
    "# Ensure the index is in datetime format\n",
    "combined_historical_data_punjab_daily.index = pd.to_datetime(combined_historical_data_punjab_daily.index)\n",
    "\n"
   ]
  },
  {
   "cell_type": "markdown",
   "metadata": {},
   "source": [
    "## Examine Historical Soil Moisture Data\n"
   ]
  },
  {
   "cell_type": "code",
   "execution_count": 84,
   "metadata": {},
   "outputs": [
    {
     "data": {
      "image/png": "[encoded data removed]",
      "text/plain": [
       "<Figure size 1000x600 with 1 Axes>"
      ]
     },
     "metadata": {},
     "output_type": "display_data"
    },
    {
     "data": {
      "text/plain": [
       "count    1643.000000\n",
       "mean        0.262726\n",
       "std         0.056177\n",
       "min         0.144000\n",
       "25%         0.217208\n",
       "50%         0.268958\n",
       "75%         0.306354\n",
       "max         0.378458\n",
       "Name: soil_moisture_28_to_100cm (m³/m³), dtype: float64"
      ]
     },
     "execution_count": 84,
     "metadata": {},
     "output_type": "execute_result"
    }
   ],
   "source": [
    "# Plot historical soil moisture data\n",
    "combined_historical_data_punjab_daily['soil_moisture_28_to_100cm (m³/m³)'].plot(figsize=(10, 6), title='Historical Soil Moisture')\n",
    "plt.ylabel('Soil Moisture (m³/m³)')\n",
    "plt.show()\n",
    "\n",
    "# Describe the soil moisture data\n",
    "combined_historical_data_punjab_daily['soil_moisture_28_to_100cm (m³/m³)'].describe()\n",
    "\n"
   ]
  },
  {
   "cell_type": "code",
   "execution_count": 85,
   "metadata": {},
   "outputs": [],
   "source": [
    "\n",
    "# Drop any rows with missing values\n",
    "combined_historical_data_punjab_daily.dropna(inplace=True)\n"
   ]
  },
  {
   "cell_type": "code",
   "execution_count": 86,
   "metadata": {},
   "outputs": [],
   "source": [
    "combined_historical_data_punjab_daily_save=combined_historical_data_punjab_daily.copy()"
   ]
  },
  {
   "cell_type": "code",
   "execution_count": 87,
   "metadata": {},
   "outputs": [
    {
     "data": {
      "text/plain": [
       "Index(['temperature_2m (°C)', 'relative_humidity_2m (%)', 'precipitation (mm)',\n",
       "       'ET₀ (mm)', 'wind_speed_10m (km/h)',\n",
       "       'soil_temperature_28_to_100cm (°C)',\n",
       "       'soil_moisture_28_to_100cm (m³/m³)',\n",
       "       'shortwave_radiation_instant (W/m²)'],\n",
       "      dtype='object')"
      ]
     },
     "execution_count": 87,
     "metadata": {},
     "output_type": "execute_result"
    }
   ],
   "source": [
    " \n",
    "combined_historical_data_punjab_daily.columns"
   ]
  },
  {
   "cell_type": "markdown",
   "metadata": {},
   "source": [
    "## Check Stationarity and Differencing\n"
   ]
  },
  {
   "cell_type": "code",
   "execution_count": 88,
   "metadata": {},
   "outputs": [
    {
     "name": "stdout",
     "output_type": "stream",
     "text": [
      "Checking stationarity for temperature_2m (°C)\n",
      "ADF Statistic: -2.4001253016899735\n",
      "p-value: 0.14170104633465275\n",
      "The series is not stationary, differencing needed\n",
      "Checking stationarity for relative_humidity_2m (%)\n",
      "ADF Statistic: -4.316594709658715\n",
      "p-value: 0.0004157199128765317\n",
      "The series is stationary\n",
      "Checking stationarity for precipitation (mm)\n",
      "ADF Statistic: -19.377949801585856\n",
      "p-value: 0.0\n",
      "The series is stationary\n",
      "Checking stationarity for ET₀ (mm)\n",
      "ADF Statistic: -2.7492376054729846\n",
      "p-value: 0.06589861695373285\n",
      "The series is not stationary, differencing needed\n",
      "Checking stationarity for wind_speed_10m (km/h)\n",
      "ADF Statistic: -4.546428186065186\n",
      "p-value: 0.0001619519168739187\n",
      "The series is stationary\n",
      "Checking stationarity for soil_temperature_28_to_100cm (°C)\n",
      "ADF Statistic: -4.411767285588888\n",
      "p-value: 0.0002829179688439604\n",
      "The series is stationary\n",
      "Checking stationarity for soil_moisture_28_to_100cm (m³/m³)\n",
      "ADF Statistic: -4.214721012550078\n",
      "p-value: 0.000622096969474663\n",
      "The series is stationary\n",
      "Checking stationarity for shortwave_radiation_instant (W/m²)\n",
      "ADF Statistic: -3.0834157556880113\n",
      "p-value: 0.027805090009762737\n",
      "The series is stationary\n",
      "Checking stationarity for differenced temperature_2m (°C)\n",
      "ADF Statistic: -18.116565442735354\n",
      "p-value: 2.5286054438854325e-30\n",
      "The series is stationary\n",
      "Checking stationarity for differenced relative_humidity_2m (%)\n",
      "ADF Statistic: -15.167676750612104\n",
      "p-value: 6.456770253599759e-28\n",
      "The series is stationary\n",
      "Checking stationarity for differenced precipitation (mm)\n",
      "ADF Statistic: -13.609074015630284\n",
      "p-value: 1.8884634111501234e-25\n",
      "The series is stationary\n",
      "Checking stationarity for differenced ET₀ (mm)\n",
      "ADF Statistic: -11.721944377735088\n",
      "p-value: 1.406560273466181e-21\n",
      "The series is stationary\n",
      "Checking stationarity for differenced wind_speed_10m (km/h)\n",
      "ADF Statistic: -14.657695382285986\n",
      "p-value: 3.420474825821578e-27\n",
      "The series is stationary\n",
      "Checking stationarity for differenced soil_temperature_28_to_100cm (°C)\n",
      "ADF Statistic: -3.779606439914441\n",
      "p-value: 0.003122996936076725\n",
      "The series is stationary\n",
      "Checking stationarity for differenced soil_moisture_28_to_100cm (m³/m³)\n",
      "ADF Statistic: -9.883591608219946\n",
      "p-value: 3.714203167530165e-17\n",
      "The series is stationary\n",
      "Checking stationarity for differenced shortwave_radiation_instant (W/m²)\n",
      "ADF Statistic: -17.738425240617897\n",
      "p-value: 3.410584206448741e-30\n",
      "The series is stationary\n"
     ]
    }
   ],
   "source": [
    "from statsmodels.tsa.stattools import adfuller\n",
    "\n",
    "def check_stationarity(timeseries):\n",
    "    result = adfuller(timeseries.dropna())\n",
    "    print(f'ADF Statistic: {result[0]}')\n",
    "    print(f'p-value: {result[1]}')\n",
    "    if result[1] < 0.05:\n",
    "        print(\"The series is stationary\")\n",
    "    else:\n",
    "        print(\"The series is not stationary, differencing needed\")\n",
    "\n",
    "# Check for each column in the dataset\n",
    "for column in combined_historical_data_punjab_daily.columns:\n",
    "    print(f'Checking stationarity for {column}')\n",
    "    check_stationarity(combined_historical_data_punjab_daily[column])\n",
    "\n",
    "# Apply differencing if needed\n",
    "combined_historical_data_punjab_daily_diff = combined_historical_data_punjab_daily.diff().dropna()\n",
    "\n",
    "# Re-check stationarity after differencing\n",
    "for column in combined_historical_data_punjab_daily_diff.columns:\n",
    "    print(f'Checking stationarity for differenced {column}')\n",
    "    check_stationarity(combined_historical_data_punjab_daily_diff[column])\n",
    "\n"
   ]
  },
  {
   "cell_type": "markdown",
   "metadata": {},
   "source": [
    "## Fitting Vector Autoregresion (VAR) Time series Model\n"
   ]
  },
  {
   "cell_type": "code",
   "execution_count": 89,
   "metadata": {},
   "outputs": [
    {
     "data": {
      "text/plain": [
       "'\"Using this because it take multiple variables simultaneously'"
      ]
     },
     "execution_count": 89,
     "metadata": {},
     "output_type": "execute_result"
    }
   ],
   "source": [
    "\"\"\"\"Using this because it take multiple variables simultaneously\"\"\""
   ]
  },
  {
   "cell_type": "code",
   "execution_count": 90,
   "metadata": {},
   "outputs": [
    {
     "name": "stderr",
     "output_type": "stream",
     "text": [
      "c:\\Users\\godwi\\Downloads\\Anconda\\Lib\\site-packages\\statsmodels\\tsa\\base\\tsa_model.py:473: ValueWarning:\n",
      "\n",
      "No frequency information was provided, so inferred frequency D will be used.\n",
      "\n"
     ]
    },
    {
     "data": {
      "text/plain": [
       "  Summary of Regression Results   \n",
       "==================================\n",
       "Model:                         VAR\n",
       "Method:                        OLS\n",
       "Date:           Tue, 02, Jul, 2024\n",
       "Time:                     14:23:14\n",
       "--------------------------------------------------------------------\n",
       "No. of Equations:         8.00000    BIC:                    1.18336\n",
       "Nobs:                     1635.00    HQIC:                  0.236056\n",
       "Log likelihood:          -17840.1    FPE:                   0.724484\n",
       "AIC:                    -0.322522    Det(Omega_mle):        0.550767\n",
       "--------------------------------------------------------------------\n",
       "Results for equation temperature_2m (°C)\n",
       "========================================================================================================\n",
       "                                           coefficient       std. error           t-stat            prob\n",
       "--------------------------------------------------------------------------------------------------------\n",
       "const                                         0.018713         0.028906            0.647           0.517\n",
       "L1.temperature_2m (°C)                        0.087044         0.040160            2.167           0.030\n",
       "L1.relative_humidity_2m (%)                   0.003777         0.009068            0.417           0.677\n",
       "L1.precipitation (mm)                        -0.015978         0.005185           -3.082           0.002\n",
       "L1.ET₀ (mm)                                  -0.183934         0.160620           -1.145           0.252\n",
       "L1.wind_speed_10m (km/h)                     -0.096921         0.018976           -5.108           0.000\n",
       "L1.soil_temperature_28_to_100cm (°C)         -2.986117         0.805403           -3.708           0.000\n",
       "L1.soil_moisture_28_to_100cm (m³/m³)         -8.886839         9.328517           -0.953           0.341\n",
       "L1.shortwave_radiation_instant (W/m²)        -0.000067         0.000106           -0.637           0.524\n",
       "L2.temperature_2m (°C)                        0.104348         0.058211            1.793           0.073\n",
       "L2.relative_humidity_2m (%)                  -0.016447         0.009427           -1.745           0.081\n",
       "L2.precipitation (mm)                        -0.002024         0.006772           -0.299           0.765\n",
       "L2.ET₀ (mm)                                  -0.519896         0.181826           -2.859           0.004\n",
       "L2.wind_speed_10m (km/h)                     -0.066709         0.021520           -3.100           0.002\n",
       "L2.soil_temperature_28_to_100cm (°C)          0.371301         0.901286            0.412           0.680\n",
       "L2.soil_moisture_28_to_100cm (m³/m³)          7.594476        10.545719            0.720           0.471\n",
       "L2.shortwave_radiation_instant (W/m²)         0.000334         0.000120            2.769           0.006\n",
       "L3.temperature_2m (°C)                        0.020403         0.066187            0.308           0.758\n",
       "L3.relative_humidity_2m (%)                  -0.028581         0.009635           -2.966           0.003\n",
       "L3.precipitation (mm)                         0.006460         0.007675            0.842           0.400\n",
       "L3.ET₀ (mm)                                  -0.482093         0.191527           -2.517           0.012\n",
       "L3.wind_speed_10m (km/h)                     -0.056635         0.023111           -2.451           0.014\n",
       "L3.soil_temperature_28_to_100cm (°C)          1.214125         0.899692            1.349           0.177\n",
       "L3.soil_moisture_28_to_100cm (m³/m³)         -3.942680        10.570782           -0.373           0.709\n",
       "L3.shortwave_radiation_instant (W/m²)         0.000454         0.000129            3.513           0.000\n",
       "L4.temperature_2m (°C)                        0.120090         0.069381            1.731           0.083\n",
       "L4.relative_humidity_2m (%)                  -0.011752         0.009749           -1.205           0.228\n",
       "L4.precipitation (mm)                         0.012569         0.007941            1.583           0.113\n",
       "L4.ET₀ (mm)                                  -0.403284         0.195677           -2.061           0.039\n",
       "L4.wind_speed_10m (km/h)                     -0.066933         0.023631           -2.832           0.005\n",
       "L4.soil_temperature_28_to_100cm (°C)         -0.720596         0.898991           -0.802           0.423\n",
       "L4.soil_moisture_28_to_100cm (m³/m³)          7.867410        10.593735            0.743           0.458\n",
       "L4.shortwave_radiation_instant (W/m²)         0.000315         0.000132            2.394           0.017\n",
       "L5.temperature_2m (°C)                        0.026923         0.068816            0.391           0.696\n",
       "L5.relative_humidity_2m (%)                  -0.004374         0.009628           -0.454           0.650\n",
       "L5.precipitation (mm)                         0.007581         0.007836            0.967           0.333\n",
       "L5.ET₀ (mm)                                  -0.185414         0.191414           -0.969           0.333\n",
       "L5.wind_speed_10m (km/h)                     -0.041341         0.023085           -1.791           0.073\n",
       "L5.soil_temperature_28_to_100cm (°C)          0.425189         0.893375            0.476           0.634\n",
       "L5.soil_moisture_28_to_100cm (m³/m³)        -10.019494        10.500094           -0.954           0.340\n",
       "L5.shortwave_radiation_instant (W/m²)         0.000181         0.000129            1.401           0.161\n",
       "L6.temperature_2m (°C)                        0.097235         0.065475            1.485           0.138\n",
       "L6.relative_humidity_2m (%)                  -0.015769         0.009446           -1.669           0.095\n",
       "L6.precipitation (mm)                         0.005767         0.007034            0.820           0.412\n",
       "L6.ET₀ (mm)                                  -0.191874         0.182356           -1.052           0.293\n",
       "L6.wind_speed_10m (km/h)                     -0.029018         0.021645           -1.341           0.180\n",
       "L6.soil_temperature_28_to_100cm (°C)          0.689143         0.866008            0.796           0.426\n",
       "L6.soil_moisture_28_to_100cm (m³/m³)         29.168033        10.479464            2.783           0.005\n",
       "L6.shortwave_radiation_instant (W/m²)         0.000170         0.000121            1.414           0.157\n",
       "L7.temperature_2m (°C)                       -0.030458         0.059190           -0.515           0.607\n",
       "L7.relative_humidity_2m (%)                  -0.012136         0.008791           -1.380           0.167\n",
       "L7.precipitation (mm)                        -0.002227         0.005604           -0.397           0.691\n",
       "L7.ET₀ (mm)                                  -0.065307         0.160990           -0.406           0.685\n",
       "L7.wind_speed_10m (km/h)                     -0.016119         0.019111           -0.843           0.399\n",
       "L7.soil_temperature_28_to_100cm (°C)          0.139703         0.659918            0.212           0.832\n",
       "L7.soil_moisture_28_to_100cm (m³/m³)        -28.287282         9.174460           -3.083           0.002\n",
       "L7.shortwave_radiation_instant (W/m²)         0.000085         0.000104            0.812           0.417\n",
       "========================================================================================================\n",
       "\n",
       "Results for equation relative_humidity_2m (%)\n",
       "========================================================================================================\n",
       "                                           coefficient       std. error           t-stat            prob\n",
       "--------------------------------------------------------------------------------------------------------\n",
       "const                                        -0.048812         0.137713           -0.354           0.723\n",
       "L1.temperature_2m (°C)                        0.939818         0.191330            4.912           0.000\n",
       "L1.relative_humidity_2m (%)                  -0.067872         0.043200           -1.571           0.116\n",
       "L1.precipitation (mm)                        -0.013507         0.024701           -0.547           0.584\n",
       "L1.ET₀ (mm)                                  -1.052340         0.765224           -1.375           0.169\n",
       "L1.wind_speed_10m (km/h)                      0.388334         0.090405            4.296           0.000\n",
       "L1.soil_temperature_28_to_100cm (°C)         11.418160         3.837098            2.976           0.003\n",
       "L1.soil_moisture_28_to_100cm (m³/m³)        105.181101        44.442881            2.367           0.018\n",
       "L1.shortwave_radiation_instant (W/m²)         0.000193         0.000504            0.383           0.702\n",
       "L2.temperature_2m (°C)                       -0.578219         0.277328           -2.085           0.037\n",
       "L2.relative_humidity_2m (%)                  -0.034088         0.044911           -0.759           0.448\n",
       "L2.precipitation (mm)                        -0.062207         0.032264           -1.928           0.054\n",
       "L2.ET₀ (mm)                                   1.420839         0.866252            1.640           0.101\n",
       "L2.wind_speed_10m (km/h)                      0.150011         0.102524            1.463           0.143\n",
       "L2.soil_temperature_28_to_100cm (°C)         -4.207627         4.293904           -0.980           0.327\n",
       "L2.soil_moisture_28_to_100cm (m³/m³)       -125.577230        50.241868           -2.499           0.012\n",
       "L2.shortwave_radiation_instant (W/m²)        -0.001259         0.000574           -2.193           0.028\n",
       "L3.temperature_2m (°C)                       -0.305452         0.315327           -0.969           0.333\n",
       "L3.relative_humidity_2m (%)                  -0.054387         0.045902           -1.185           0.236\n",
       "L3.precipitation (mm)                        -0.019565         0.036566           -0.535           0.593\n",
       "L3.ET₀ (mm)                                   1.108426         0.912471            1.215           0.224\n",
       "L3.wind_speed_10m (km/h)                      0.127954         0.110104            1.162           0.245\n",
       "L3.soil_temperature_28_to_100cm (°C)         -4.997704         4.286307           -1.166           0.244\n",
       "L3.soil_moisture_28_to_100cm (m³/m³)         41.427895        50.361275            0.823           0.411\n",
       "L3.shortwave_radiation_instant (W/m²)        -0.001303         0.000616           -2.114           0.035\n",
       "L4.temperature_2m (°C)                       -0.310196         0.330543           -0.938           0.348\n",
       "L4.relative_humidity_2m (%)                  -0.047073         0.046444           -1.014           0.311\n",
       "L4.precipitation (mm)                        -0.042346         0.037830           -1.119           0.263\n",
       "L4.ET₀ (mm)                                   1.438643         0.932245            1.543           0.123\n",
       "L4.wind_speed_10m (km/h)                      0.165061         0.112583            1.466           0.143\n",
       "L4.soil_temperature_28_to_100cm (°C)          3.608475         4.282968            0.843           0.399\n",
       "L4.soil_moisture_28_to_100cm (m³/m³)        -15.537457        50.470627           -0.308           0.758\n",
       "L4.shortwave_radiation_instant (W/m²)        -0.001197         0.000627           -1.907           0.057\n",
       "L5.temperature_2m (°C)                       -0.137198         0.327854           -0.418           0.676\n",
       "L5.relative_humidity_2m (%)                  -0.062641         0.045871           -1.366           0.172\n",
       "L5.precipitation (mm)                        -0.032381         0.037331           -0.867           0.386\n",
       "L5.ET₀ (mm)                                   0.484006         0.911932            0.531           0.596\n",
       "L5.wind_speed_10m (km/h)                      0.102727         0.109980            0.934           0.350\n",
       "L5.soil_temperature_28_to_100cm (°C)          3.481194         4.256213            0.818           0.413\n",
       "L5.soil_moisture_28_to_100cm (m³/m³)         38.817707        50.024504            0.776           0.438\n",
       "L5.shortwave_radiation_instant (W/m²)        -0.000727         0.000614           -1.184           0.236\n",
       "L6.temperature_2m (°C)                       -0.525552         0.311938           -1.685           0.092\n",
       "L6.relative_humidity_2m (%)                  -0.011508         0.045001           -0.256           0.798\n",
       "L6.precipitation (mm)                        -0.034507         0.033509           -1.030           0.303\n",
       "L6.ET₀ (mm)                                   0.254366         0.868779            0.293           0.770\n",
       "L6.wind_speed_10m (km/h)                      0.133012         0.103119            1.290           0.197\n",
       "L6.soil_temperature_28_to_100cm (°C)         -8.321023         4.125829           -2.017           0.044\n",
       "L6.soil_moisture_28_to_100cm (m³/m³)       -126.865910        49.926214           -2.541           0.011\n",
       "L6.shortwave_radiation_instant (W/m²)        -0.000491         0.000574           -0.856           0.392\n",
       "L7.temperature_2m (°C)                        0.114645         0.281993            0.407           0.684\n",
       "L7.relative_humidity_2m (%)                   0.002445         0.041884            0.058           0.953\n",
       "L7.precipitation (mm)                         0.005740         0.026700            0.215           0.830\n",
       "L7.ET₀ (mm)                                   0.098083         0.766988            0.128           0.898\n",
       "L7.wind_speed_10m (km/h)                      0.024544         0.091047            0.270           0.787\n",
       "L7.soil_temperature_28_to_100cm (°C)          3.083176         3.143979            0.981           0.327\n",
       "L7.soil_moisture_28_to_100cm (m³/m³)        116.802378        43.708920            2.672           0.008\n",
       "L7.shortwave_radiation_instant (W/m²)        -0.000377         0.000497           -0.759           0.448\n",
       "========================================================================================================\n",
       "\n",
       "Results for equation precipitation (mm)\n",
       "========================================================================================================\n",
       "                                           coefficient       std. error           t-stat            prob\n",
       "--------------------------------------------------------------------------------------------------------\n",
       "const                                        -0.065287         0.166853           -0.391           0.696\n",
       "L1.temperature_2m (°C)                        1.358680         0.231815            5.861           0.000\n",
       "L1.relative_humidity_2m (%)                  -0.008765         0.052340           -0.167           0.867\n",
       "L1.precipitation (mm)                        -0.679081         0.029928          -22.690           0.000\n",
       "L1.ET₀ (mm)                                  -3.007002         0.927144           -3.243           0.001\n",
       "L1.wind_speed_10m (km/h)                      0.606188         0.109534            5.534           0.000\n",
       "L1.soil_temperature_28_to_100cm (°C)          1.990523         4.649016            0.428           0.669\n",
       "L1.soil_moisture_28_to_100cm (m³/m³)        -29.151287        53.846860           -0.541           0.588\n",
       "L1.shortwave_radiation_instant (W/m²)         0.001114         0.000610            1.825           0.068\n",
       "L2.temperature_2m (°C)                       -0.030163         0.336010           -0.090           0.928\n",
       "L2.relative_humidity_2m (%)                   0.018183         0.054415            0.334           0.738\n",
       "L2.precipitation (mm)                        -0.660576         0.039091          -16.898           0.000\n",
       "L2.ET₀ (mm)                                  -1.276479         1.049549           -1.216           0.224\n",
       "L2.wind_speed_10m (km/h)                      0.345369         0.124218            2.780           0.005\n",
       "L2.soil_temperature_28_to_100cm (°C)          2.286964         5.202481            0.440           0.660\n",
       "L2.soil_moisture_28_to_100cm (m³/m³)        -40.295557        60.872895           -0.662           0.508\n",
       "L2.shortwave_radiation_instant (W/m²)         0.000341         0.000696            0.490           0.624\n",
       "L3.temperature_2m (°C)                        0.323506         0.382049            0.847           0.397\n",
       "L3.relative_humidity_2m (%)                   0.024323         0.055614            0.437           0.662\n",
       "L3.precipitation (mm)                        -0.520440         0.044303          -11.747           0.000\n",
       "L3.ET₀ (mm)                                  -0.578214         1.105547           -0.523           0.601\n",
       "L3.wind_speed_10m (km/h)                      0.181502         0.133401            1.361           0.174\n",
       "L3.soil_temperature_28_to_100cm (°C)        -10.266747         5.193276           -1.977           0.048\n",
       "L3.soil_moisture_28_to_100cm (m³/m³)        -63.995432        61.017568           -1.049           0.294\n",
       "L3.shortwave_radiation_instant (W/m²)        -0.000775         0.000747           -1.038           0.299\n",
       "L4.temperature_2m (°C)                        0.441132         0.400485            1.101           0.271\n",
       "L4.relative_humidity_2m (%)                   0.059780         0.056271            1.062           0.288\n",
       "L4.precipitation (mm)                        -0.477853         0.045835          -10.425           0.000\n",
       "L4.ET₀ (mm)                                  -0.151388         1.129505           -0.134           0.893\n",
       "L4.wind_speed_10m (km/h)                      0.233067         0.136406            1.709           0.088\n",
       "L4.soil_temperature_28_to_100cm (°C)          3.210139         5.189231            0.619           0.536\n",
       "L4.soil_moisture_28_to_100cm (m³/m³)        -84.875032        61.150058           -1.388           0.165\n",
       "L4.shortwave_radiation_instant (W/m²)        -0.000602         0.000760           -0.792           0.428\n",
       "L5.temperature_2m (°C)                        0.674200         0.397227            1.697           0.090\n",
       "L5.relative_humidity_2m (%)                  -0.042418         0.055577           -0.763           0.445\n",
       "L5.precipitation (mm)                        -0.348253         0.045230           -7.700           0.000\n",
       "L5.ET₀ (mm)                                  -1.300819         1.104893           -1.177           0.239\n",
       "L5.wind_speed_10m (km/h)                      0.258967         0.133252            1.943           0.052\n",
       "L5.soil_temperature_28_to_100cm (°C)          7.411388         5.156814            1.437           0.151\n",
       "L5.soil_moisture_28_to_100cm (m³/m³)       -103.341235        60.609537           -1.705           0.088\n",
       "L5.shortwave_radiation_instant (W/m²)        -0.000052         0.000744           -0.070           0.944\n",
       "L6.temperature_2m (°C)                       -0.010937         0.377943           -0.029           0.977\n",
       "L6.relative_humidity_2m (%)                  -0.020045         0.054523           -0.368           0.713\n",
       "L6.precipitation (mm)                        -0.232190         0.040600           -5.719           0.000\n",
       "L6.ET₀ (mm)                                  -0.954089         1.052611           -0.906           0.365\n",
       "L6.wind_speed_10m (km/h)                      0.282007         0.124939            2.257           0.024\n",
       "L6.soil_temperature_28_to_100cm (°C)         -3.765720         4.998842           -0.753           0.451\n",
       "L6.soil_moisture_28_to_100cm (m³/m³)        -46.257517        60.490450           -0.765           0.444\n",
       "L6.shortwave_radiation_instant (W/m²)        -0.000134         0.000696           -0.192           0.848\n",
       "L7.temperature_2m (°C)                       -0.037221         0.341661           -0.109           0.913\n",
       "L7.relative_humidity_2m (%)                  -0.004748         0.050747           -0.094           0.925\n",
       "L7.precipitation (mm)                        -0.099284         0.032350           -3.069           0.002\n",
       "L7.ET₀ (mm)                                   0.345780         0.929280            0.372           0.710\n",
       "L7.wind_speed_10m (km/h)                      0.051787         0.110312            0.469           0.639\n",
       "L7.soil_temperature_28_to_100cm (°C)         -0.363409         3.809236           -0.095           0.924\n",
       "L7.soil_moisture_28_to_100cm (m³/m³)         55.146800        52.957595            1.041           0.298\n",
       "L7.shortwave_radiation_instant (W/m²)        -0.000669         0.000602           -1.112           0.266\n",
       "========================================================================================================\n",
       "\n",
       "Results for equation ET₀ (mm)\n",
       "========================================================================================================\n",
       "                                           coefficient       std. error           t-stat            prob\n",
       "--------------------------------------------------------------------------------------------------------\n",
       "const                                         0.008815         0.016476            0.535           0.593\n",
       "L1.temperature_2m (°C)                       -0.011761         0.022891           -0.514           0.607\n",
       "L1.relative_humidity_2m (%)                  -0.016406         0.005169           -3.174           0.002\n",
       "L1.precipitation (mm)                        -0.008716         0.002955           -2.949           0.003\n",
       "L1.ET₀ (mm)                                  -0.339625         0.091554           -3.710           0.000\n",
       "L1.wind_speed_10m (km/h)                     -0.067205         0.010816           -6.213           0.000\n",
       "L1.soil_temperature_28_to_100cm (°C)         -1.426655         0.459083           -3.108           0.002\n",
       "L1.soil_moisture_28_to_100cm (m³/m³)         -5.617051         5.317296           -1.056           0.291\n",
       "L1.shortwave_radiation_instant (W/m²)        -0.000213         0.000060           -3.527           0.000\n",
       "L2.temperature_2m (°C)                        0.107246         0.033180            3.232           0.001\n",
       "L2.relative_humidity_2m (%)                  -0.016158         0.005373           -3.007           0.003\n",
       "L2.precipitation (mm)                        -0.000328         0.003860           -0.085           0.932\n",
       "L2.ET₀ (mm)                                  -0.375202         0.103641           -3.620           0.000\n",
       "L2.wind_speed_10m (km/h)                     -0.039655         0.012266           -3.233           0.001\n",
       "L2.soil_temperature_28_to_100cm (°C)         -0.090012         0.513737           -0.175           0.861\n",
       "L2.soil_moisture_28_to_100cm (m³/m³)          3.726759         6.011106            0.620           0.535\n",
       "L2.shortwave_radiation_instant (W/m²)        -0.000077         0.000069           -1.128           0.259\n",
       "L3.temperature_2m (°C)                        0.076810         0.037727            2.036           0.042\n",
       "L3.relative_humidity_2m (%)                  -0.014337         0.005492           -2.611           0.009\n",
       "L3.precipitation (mm)                         0.002324         0.004375            0.531           0.595\n",
       "L3.ET₀ (mm)                                  -0.362461         0.109171           -3.320           0.001\n",
       "L3.wind_speed_10m (km/h)                     -0.027246         0.013173           -2.068           0.039\n",
       "L3.soil_temperature_28_to_100cm (°C)          0.703601         0.512828            1.372           0.170\n",
       "L3.soil_moisture_28_to_100cm (m³/m³)          4.987601         6.025393            0.828           0.408\n",
       "L3.shortwave_radiation_instant (W/m²)         0.000049         0.000074            0.659           0.510\n",
       "L4.temperature_2m (°C)                        0.089805         0.039547            2.271           0.023\n",
       "L4.relative_humidity_2m (%)                  -0.005644         0.005557           -1.016           0.310\n",
       "L4.precipitation (mm)                         0.005238         0.004526            1.157           0.247\n",
       "L4.ET₀ (mm)                                  -0.237943         0.111537           -2.133           0.033\n",
       "L4.wind_speed_10m (km/h)                     -0.040384         0.013470           -2.998           0.003\n",
       "L4.soil_temperature_28_to_100cm (°C)         -0.688419         0.512429           -1.343           0.179\n",
       "L4.soil_moisture_28_to_100cm (m³/m³)          7.153770         6.038476            1.185           0.236\n",
       "L4.shortwave_radiation_instant (W/m²)         0.000001         0.000075            0.007           0.994\n",
       "L5.temperature_2m (°C)                        0.060063         0.039226            1.531           0.126\n",
       "L5.relative_humidity_2m (%)                  -0.001416         0.005488           -0.258           0.796\n",
       "L5.precipitation (mm)                         0.002139         0.004466            0.479           0.632\n",
       "L5.ET₀ (mm)                                  -0.137787         0.109107           -1.263           0.207\n",
       "L5.wind_speed_10m (km/h)                     -0.028547         0.013158           -2.169           0.030\n",
       "L5.soil_temperature_28_to_100cm (°C)          0.278666         0.509228            0.547           0.584\n",
       "L5.soil_moisture_28_to_100cm (m³/m³)         -0.831780         5.985100           -0.139           0.889\n",
       "L5.shortwave_radiation_instant (W/m²)        -0.000017         0.000073           -0.226           0.821\n",
       "L6.temperature_2m (°C)                        0.096378         0.037321            2.582           0.010\n",
       "L6.relative_humidity_2m (%)                  -0.005006         0.005384           -0.930           0.352\n",
       "L6.precipitation (mm)                         0.001856         0.004009            0.463           0.643\n",
       "L6.ET₀ (mm)                                  -0.165973         0.103944           -1.597           0.110\n",
       "L6.wind_speed_10m (km/h)                     -0.012003         0.012338           -0.973           0.331\n",
       "L6.soil_temperature_28_to_100cm (°C)          0.376851         0.493628            0.763           0.445\n",
       "L6.soil_moisture_28_to_100cm (m³/m³)         15.272373         5.973340            2.557           0.011\n",
       "L6.shortwave_radiation_instant (W/m²)         0.000030         0.000069            0.441           0.659\n",
       "L7.temperature_2m (°C)                        0.018215         0.033739            0.540           0.589\n",
       "L7.relative_humidity_2m (%)                   0.002061         0.005011            0.411           0.681\n",
       "L7.precipitation (mm)                        -0.002843         0.003195           -0.890           0.373\n",
       "L7.ET₀ (mm)                                  -0.020091         0.091765           -0.219           0.827\n",
       "L7.wind_speed_10m (km/h)                     -0.007823         0.010893           -0.718           0.473\n",
       "L7.soil_temperature_28_to_100cm (°C)          0.195763         0.376156            0.520           0.603\n",
       "L7.soil_moisture_28_to_100cm (m³/m³)        -18.435017         5.229482           -3.525           0.000\n",
       "L7.shortwave_radiation_instant (W/m²)        -0.000003         0.000059           -0.058           0.954\n",
       "========================================================================================================\n",
       "\n",
       "Results for equation wind_speed_10m (km/h)\n",
       "========================================================================================================\n",
       "                                           coefficient       std. error           t-stat            prob\n",
       "--------------------------------------------------------------------------------------------------------\n",
       "const                                        -0.012688         0.053640           -0.237           0.813\n",
       "L1.temperature_2m (°C)                        0.519462         0.074524            6.970           0.000\n",
       "L1.relative_humidity_2m (%)                   0.003629         0.016826            0.216           0.829\n",
       "L1.precipitation (mm)                         0.017377         0.009621            1.806           0.071\n",
       "L1.ET₀ (mm)                                  -0.147308         0.298057           -0.494           0.621\n",
       "L1.wind_speed_10m (km/h)                     -0.531510         0.035213          -15.094           0.000\n",
       "L1.soil_temperature_28_to_100cm (°C)         -2.386297         1.494562           -1.597           0.110\n",
       "L1.soil_moisture_28_to_100cm (m³/m³)        -15.588561        17.310648           -0.901           0.368\n",
       "L1.shortwave_radiation_instant (W/m²)        -0.000186         0.000196           -0.949           0.343\n",
       "L2.temperature_2m (°C)                        0.113695         0.108020            1.053           0.293\n",
       "L2.relative_humidity_2m (%)                   0.013235         0.017493            0.757           0.449\n",
       "L2.precipitation (mm)                        -0.001784         0.012567           -0.142           0.887\n",
       "L2.ET₀ (mm)                                   0.763082         0.337408            2.262           0.024\n",
       "L2.wind_speed_10m (km/h)                     -0.563624         0.039933          -14.114           0.000\n",
       "L2.soil_temperature_28_to_100cm (°C)          1.006439         1.672489            0.602           0.547\n",
       "L2.soil_moisture_28_to_100cm (m³/m³)        -16.070763        19.569372           -0.821           0.412\n",
       "L2.shortwave_radiation_instant (W/m²)        -0.000550         0.000224           -2.458           0.014\n",
       "L3.temperature_2m (°C)                        0.301937         0.122821            2.458           0.014\n",
       "L3.relative_humidity_2m (%)                   0.027085         0.017879            1.515           0.130\n",
       "L3.precipitation (mm)                        -0.006610         0.014243           -0.464           0.643\n",
       "L3.ET₀ (mm)                                   0.443652         0.355410            1.248           0.212\n",
       "L3.wind_speed_10m (km/h)                     -0.443120         0.042886          -10.333           0.000\n",
       "L3.soil_temperature_28_to_100cm (°C)         -2.279094         1.669531           -1.365           0.172\n",
       "L3.soil_moisture_28_to_100cm (m³/m³)         15.355058        19.615881            0.783           0.434\n",
       "L3.shortwave_radiation_instant (W/m²)        -0.000331         0.000240           -1.381           0.167\n",
       "L4.temperature_2m (°C)                        0.434493         0.128747            3.375           0.001\n",
       "L4.relative_humidity_2m (%)                   0.007775         0.018090            0.430           0.667\n",
       "L4.precipitation (mm)                        -0.021152         0.014735           -1.435           0.151\n",
       "L4.ET₀ (mm)                                   0.144891         0.363112            0.399           0.690\n",
       "L4.wind_speed_10m (km/h)                     -0.333679         0.043852           -7.609           0.000\n",
       "L4.soil_temperature_28_to_100cm (°C)         -1.872841         1.668230           -1.123           0.262\n",
       "L4.soil_moisture_28_to_100cm (m³/m³)        -19.936312        19.658474           -1.014           0.311\n",
       "L4.shortwave_radiation_instant (W/m²)        -0.000202         0.000244           -0.827           0.408\n",
       "L5.temperature_2m (°C)                        0.242416         0.127700            1.898           0.058\n",
       "L5.relative_humidity_2m (%)                  -0.009364         0.017867           -0.524           0.600\n",
       "L5.precipitation (mm)                        -0.016253         0.014541           -1.118           0.264\n",
       "L5.ET₀ (mm)                                   0.369018         0.355200            1.039           0.299\n",
       "L5.wind_speed_10m (km/h)                     -0.298495         0.042838           -6.968           0.000\n",
       "L5.soil_temperature_28_to_100cm (°C)          3.950522         1.657809            2.383           0.017\n",
       "L5.soil_moisture_28_to_100cm (m³/m³)        -30.932881        19.484708           -1.588           0.112\n",
       "L5.shortwave_radiation_instant (W/m²)        -0.000353         0.000239           -1.476           0.140\n",
       "L6.temperature_2m (°C)                        0.314044         0.121501            2.585           0.010\n",
       "L6.relative_humidity_2m (%)                   0.013595         0.017528            0.776           0.438\n",
       "L6.precipitation (mm)                        -0.012241         0.013052           -0.938           0.348\n",
       "L6.ET₀ (mm)                                  -0.053831         0.338392           -0.159           0.874\n",
       "L6.wind_speed_10m (km/h)                     -0.202856         0.040165           -5.051           0.000\n",
       "L6.soil_temperature_28_to_100cm (°C)          0.106170         1.607024            0.066           0.947\n",
       "L6.soil_moisture_28_to_100cm (m³/m³)          7.595144        19.446424            0.391           0.696\n",
       "L6.shortwave_radiation_instant (W/m²)        -0.000339         0.000224           -1.517           0.129\n",
       "L7.temperature_2m (°C)                        0.165821         0.109837            1.510           0.131\n",
       "L7.relative_humidity_2m (%)                   0.022824         0.016314            1.399           0.162\n",
       "L7.precipitation (mm)                        -0.000814         0.010400           -0.078           0.938\n",
       "L7.ET₀ (mm)                                   0.203150         0.298744            0.680           0.496\n",
       "L7.wind_speed_10m (km/h)                     -0.110246         0.035463           -3.109           0.002\n",
       "L7.soil_temperature_28_to_100cm (°C)          0.108900         1.224590            0.089           0.929\n",
       "L7.soil_moisture_28_to_100cm (m³/m³)          0.112967        17.024768            0.007           0.995\n",
       "L7.shortwave_radiation_instant (W/m²)        -0.000268         0.000194           -1.386           0.166\n",
       "========================================================================================================\n",
       "\n",
       "Results for equation soil_temperature_28_to_100cm (°C)\n",
       "========================================================================================================\n",
       "                                           coefficient       std. error           t-stat            prob\n",
       "--------------------------------------------------------------------------------------------------------\n",
       "const                                         0.000415         0.001001            0.415           0.678\n",
       "L1.temperature_2m (°C)                        0.047618         0.001391           34.233           0.000\n",
       "L1.relative_humidity_2m (%)                   0.001349         0.000314            4.294           0.000\n",
       "L1.precipitation (mm)                        -0.001215         0.000180           -6.763           0.000\n",
       "L1.ET₀ (mm)                                   0.001776         0.005563            0.319           0.750\n",
       "L1.wind_speed_10m (km/h)                     -0.003283         0.000657           -4.995           0.000\n",
       "L1.soil_temperature_28_to_100cm (°C)          0.456047         0.027896           16.348           0.000\n",
       "L1.soil_moisture_28_to_100cm (m³/m³)         -0.438314         0.323105           -1.357           0.175\n",
       "L1.shortwave_radiation_instant (W/m²)         0.000009         0.000004            2.520           0.012\n",
       "L2.temperature_2m (°C)                        0.040811         0.002016           20.242           0.000\n",
       "L2.relative_humidity_2m (%)                   0.000610         0.000327            1.870           0.062\n",
       "L2.precipitation (mm)                        -0.001463         0.000235           -6.238           0.000\n",
       "L2.ET₀ (mm)                                  -0.003322         0.006298           -0.527           0.598\n",
       "L2.wind_speed_10m (km/h)                     -0.002280         0.000745           -3.058           0.002\n",
       "L2.soil_temperature_28_to_100cm (°C)          0.035925         0.031217            1.151           0.250\n",
       "L2.soil_moisture_28_to_100cm (m³/m³)          0.072222         0.365265            0.198           0.843\n",
       "L2.shortwave_radiation_instant (W/m²)         0.000005         0.000004            1.225           0.221\n",
       "L3.temperature_2m (°C)                        0.027565         0.002292           12.024           0.000\n",
       "L3.relative_humidity_2m (%)                   0.000513         0.000334            1.538           0.124\n",
       "L3.precipitation (mm)                        -0.000950         0.000266           -3.572           0.000\n",
       "L3.ET₀ (mm)                                   0.000805         0.006634            0.121           0.903\n",
       "L3.wind_speed_10m (km/h)                     -0.001452         0.000800           -1.814           0.070\n",
       "L3.soil_temperature_28_to_100cm (°C)          0.061396         0.031162            1.970           0.049\n",
       "L3.soil_moisture_28_to_100cm (m³/m³)          0.526415         0.366133            1.438           0.150\n",
       "L3.shortwave_radiation_instant (W/m²)         0.000001         0.000004            0.238           0.812\n",
       "L4.temperature_2m (°C)                        0.020776         0.002403            8.646           0.000\n",
       "L4.relative_humidity_2m (%)                   0.000456         0.000338            1.349           0.177\n",
       "L4.precipitation (mm)                        -0.000843         0.000275           -3.064           0.002\n",
       "L4.ET₀ (mm)                                   0.002027         0.006778            0.299           0.765\n",
       "L4.wind_speed_10m (km/h)                     -0.001615         0.000818           -1.973           0.048\n",
       "L4.soil_temperature_28_to_100cm (°C)          0.040205         0.031138            1.291           0.197\n",
       "L4.soil_moisture_28_to_100cm (m³/m³)         -0.187215         0.366928           -0.510           0.610\n",
       "L4.shortwave_radiation_instant (W/m²)        -0.000002         0.000005           -0.348           0.728\n",
       "L5.temperature_2m (°C)                        0.014806         0.002384            6.212           0.000\n",
       "L5.relative_humidity_2m (%)                   0.000633         0.000333            1.899           0.058\n",
       "L5.precipitation (mm)                        -0.000611         0.000271           -2.252           0.024\n",
       "L5.ET₀ (mm)                                   0.007585         0.006630            1.144           0.253\n",
       "L5.wind_speed_10m (km/h)                     -0.001842         0.000800           -2.304           0.021\n",
       "L5.soil_temperature_28_to_100cm (°C)          0.040430         0.030943            1.307           0.191\n",
       "L5.soil_moisture_28_to_100cm (m³/m³)          0.118968         0.363684            0.327           0.744\n",
       "L5.shortwave_radiation_instant (W/m²)        -0.000006         0.000004           -1.377           0.168\n",
       "L6.temperature_2m (°C)                        0.012033         0.002268            5.306           0.000\n",
       "L6.relative_humidity_2m (%)                   0.000140         0.000327            0.427           0.670\n",
       "L6.precipitation (mm)                        -0.000445         0.000244           -1.826           0.068\n",
       "L6.ET₀ (mm)                                   0.002173         0.006316            0.344           0.731\n",
       "L6.wind_speed_10m (km/h)                     -0.000451         0.000750           -0.602           0.547\n",
       "L6.soil_temperature_28_to_100cm (°C)          0.055270         0.029995            1.843           0.065\n",
       "L6.soil_moisture_28_to_100cm (m³/m³)          0.270148         0.362970            0.744           0.457\n",
       "L6.shortwave_radiation_instant (W/m²)        -0.000003         0.000004           -0.754           0.451\n",
       "L7.temperature_2m (°C)                        0.004596         0.002050            2.242           0.025\n",
       "L7.relative_humidity_2m (%)                   0.000364         0.000305            1.194           0.232\n",
       "L7.precipitation (mm)                        -0.000267         0.000194           -1.374           0.169\n",
       "L7.ET₀ (mm)                                   0.009994         0.005576            1.792           0.073\n",
       "L7.wind_speed_10m (km/h)                     -0.000918         0.000662           -1.387           0.165\n",
       "L7.soil_temperature_28_to_100cm (°C)          0.064763         0.022857            2.833           0.005\n",
       "L7.soil_moisture_28_to_100cm (m³/m³)         -0.700772         0.317769           -2.205           0.027\n",
       "L7.shortwave_radiation_instant (W/m²)        -0.000007         0.000004           -1.887           0.059\n",
       "========================================================================================================\n",
       "\n",
       "Results for equation soil_moisture_28_to_100cm (m³/m³)\n",
       "========================================================================================================\n",
       "                                           coefficient       std. error           t-stat            prob\n",
       "--------------------------------------------------------------------------------------------------------\n",
       "const                                        -0.000027         0.000080           -0.339           0.735\n",
       "L1.temperature_2m (°C)                       -0.000033         0.000112           -0.293           0.770\n",
       "L1.relative_humidity_2m (%)                  -0.000055         0.000025           -2.170           0.030\n",
       "L1.precipitation (mm)                         0.000222         0.000014           15.398           0.000\n",
       "L1.ET₀ (mm)                                  -0.000299         0.000447           -0.670           0.503\n",
       "L1.wind_speed_10m (km/h)                      0.000008         0.000053            0.145           0.885\n",
       "L1.soil_temperature_28_to_100cm (°C)          0.000985         0.002240            0.440           0.660\n",
       "L1.soil_moisture_28_to_100cm (m³/m³)          0.530240         0.025946           20.437           0.000\n",
       "L1.shortwave_radiation_instant (W/m²)         0.000000         0.000000            0.130           0.897\n",
       "L2.temperature_2m (°C)                       -0.000019         0.000162           -0.116           0.908\n",
       "L2.relative_humidity_2m (%)                   0.000034         0.000026            1.291           0.197\n",
       "L2.precipitation (mm)                         0.000172         0.000019            9.157           0.000\n",
       "L2.ET₀ (mm)                                   0.000082         0.000506            0.162           0.871\n",
       "L2.wind_speed_10m (km/h)                      0.000020         0.000060            0.329           0.742\n",
       "L2.soil_temperature_28_to_100cm (°C)          0.000305         0.002507            0.122           0.903\n",
       "L2.soil_moisture_28_to_100cm (m³/m³)         -0.070387         0.029331           -2.400           0.016\n",
       "L2.shortwave_radiation_instant (W/m²)         0.000000         0.000000            0.164           0.870\n",
       "L3.temperature_2m (°C)                        0.000042         0.000184            0.229           0.819\n",
       "L3.relative_humidity_2m (%)                   0.000013         0.000027            0.480           0.631\n",
       "L3.precipitation (mm)                         0.000170         0.000021            7.944           0.000\n",
       "L3.ET₀ (mm)                                   0.000423         0.000533            0.795           0.427\n",
       "L3.wind_speed_10m (km/h)                     -0.000080         0.000064           -1.243           0.214\n",
       "L3.soil_temperature_28_to_100cm (°C)          0.000544         0.002502            0.217           0.828\n",
       "L3.soil_moisture_28_to_100cm (m³/m³)          0.108396         0.029401            3.687           0.000\n",
       "L3.shortwave_radiation_instant (W/m²)        -0.000000         0.000000           -0.244           0.807\n",
       "L4.temperature_2m (°C)                       -0.000192         0.000193           -0.996           0.319\n",
       "L4.relative_humidity_2m (%)                   0.000021         0.000027            0.761           0.447\n",
       "L4.precipitation (mm)                         0.000135         0.000022            6.098           0.000\n",
       "L4.ET₀ (mm)                                   0.000190         0.000544            0.349           0.727\n",
       "L4.wind_speed_10m (km/h)                      0.000001         0.000066            0.018           0.986\n",
       "L4.soil_temperature_28_to_100cm (°C)          0.001067         0.002500            0.427           0.670\n",
       "L4.soil_moisture_28_to_100cm (m³/m³)         -0.006756         0.029465           -0.229           0.819\n",
       "L4.shortwave_radiation_instant (W/m²)        -0.000000         0.000000           -0.400           0.689\n",
       "L5.temperature_2m (°C)                       -0.000082         0.000191           -0.426           0.670\n",
       "L5.relative_humidity_2m (%)                   0.000037         0.000027            1.388           0.165\n",
       "L5.precipitation (mm)                         0.000094         0.000022            4.334           0.000\n",
       "L5.ET₀ (mm)                                   0.000252         0.000532            0.474           0.636\n",
       "L5.wind_speed_10m (km/h)                     -0.000095         0.000064           -1.485           0.137\n",
       "L5.soil_temperature_28_to_100cm (°C)          0.001210         0.002485            0.487           0.626\n",
       "L5.soil_moisture_28_to_100cm (m³/m³)          0.044227         0.029204            1.514           0.130\n",
       "L5.shortwave_radiation_instant (W/m²)        -0.000000         0.000000           -0.340           0.734\n",
       "L6.temperature_2m (°C)                       -0.000206         0.000182           -1.130           0.258\n",
       "L6.relative_humidity_2m (%)                   0.000000         0.000026            0.001           0.999\n",
       "L6.precipitation (mm)                         0.000070         0.000020            3.558           0.000\n",
       "L6.ET₀ (mm)                                  -0.000032         0.000507           -0.063           0.950\n",
       "L6.wind_speed_10m (km/h)                     -0.000052         0.000060           -0.867           0.386\n",
       "L6.soil_temperature_28_to_100cm (°C)         -0.002065         0.002409           -0.857           0.391\n",
       "L6.soil_moisture_28_to_100cm (m³/m³)         -0.017194         0.029147           -0.590           0.555\n",
       "L6.shortwave_radiation_instant (W/m²)        -0.000000         0.000000           -0.061           0.951\n",
       "L7.temperature_2m (°C)                       -0.000028         0.000165           -0.167           0.867\n",
       "L7.relative_humidity_2m (%)                  -0.000015         0.000024           -0.613           0.540\n",
       "L7.precipitation (mm)                         0.000044         0.000016            2.836           0.005\n",
       "L7.ET₀ (mm)                                  -0.000297         0.000448           -0.663           0.507\n",
       "L7.wind_speed_10m (km/h)                     -0.000014         0.000053           -0.271           0.786\n",
       "L7.soil_temperature_28_to_100cm (°C)         -0.002216         0.001835           -1.207           0.227\n",
       "L7.soil_moisture_28_to_100cm (m³/m³)          0.075496         0.025517            2.959           0.003\n",
       "L7.shortwave_radiation_instant (W/m²)         0.000000         0.000000            0.344           0.731\n",
       "========================================================================================================\n",
       "\n",
       "Results for equation shortwave_radiation_instant (W/m²)\n",
       "========================================================================================================\n",
       "                                           coefficient       std. error           t-stat            prob\n",
       "--------------------------------------------------------------------------------------------------------\n",
       "const                                        11.914642        19.920013            0.598           0.550\n",
       "L1.temperature_2m (°C)                     -167.125531        27.675580           -6.039           0.000\n",
       "L1.relative_humidity_2m (%)                  -6.676429         6.248744           -1.068           0.285\n",
       "L1.precipitation (mm)                       -13.908409         3.573009           -3.893           0.000\n",
       "L1.ET₀ (mm)                                 315.441992       110.688488            2.850           0.004\n",
       "L1.wind_speed_10m (km/h)                    -65.490873        13.076903           -5.008           0.000\n",
       "L1.soil_temperature_28_to_100cm (°C)       -711.042839       555.030080           -1.281           0.200\n",
       "L1.soil_moisture_28_to_100cm (m³/m³)      -1483.283201      6428.592243           -0.231           0.818\n",
       "L1.shortwave_radiation_instant (W/m²)        -0.800808         0.072846          -10.993           0.000\n",
       "L2.temperature_2m (°C)                       38.015114        40.115071            0.948           0.343\n",
       "L2.relative_humidity_2m (%)                  -3.757140         6.496376           -0.578           0.563\n",
       "L2.precipitation (mm)                        -6.009272         4.666987           -1.288           0.198\n",
       "L2.ET₀ (mm)                                 130.148701       125.302041            1.039           0.299\n",
       "L2.wind_speed_10m (km/h)                    -23.869419        14.829956           -1.610           0.107\n",
       "L2.soil_temperature_28_to_100cm (°C)       -563.293728       621.106334           -0.907           0.364\n",
       "L2.soil_moisture_28_to_100cm (m³/m³)      -1260.457133      7267.406521           -0.173           0.862\n",
       "L2.shortwave_radiation_instant (W/m²)        -0.604238         0.083038           -7.277           0.000\n",
       "L3.temperature_2m (°C)                      -23.248569        45.611523           -0.510           0.610\n",
       "L3.relative_humidity_2m (%)                  -9.424050         6.639603           -1.419           0.156\n",
       "L3.precipitation (mm)                        -1.027661         5.289206           -0.194           0.846\n",
       "L3.ET₀ (mm)                                  48.789091       131.987414            0.370           0.712\n",
       "L3.wind_speed_10m (km/h)                    -10.856128        15.926304           -0.682           0.495\n",
       "L3.soil_temperature_28_to_100cm (°C)       1078.887693       620.007468            1.740           0.082\n",
       "L3.soil_moisture_28_to_100cm (m³/m³)       8533.969974      7284.678503            1.171           0.241\n",
       "L3.shortwave_radiation_instant (W/m²)        -0.361223         0.089164           -4.051           0.000\n",
       "L4.temperature_2m (°C)                       10.260079        47.812475            0.215           0.830\n",
       "L4.relative_humidity_2m (%)                   4.329563         6.718061            0.644           0.519\n",
       "L4.precipitation (mm)                         2.926959         5.472113            0.535           0.593\n",
       "L4.ET₀ (mm)                                 132.192747       134.847710            0.980           0.327\n",
       "L4.wind_speed_10m (km/h)                    -29.150408        16.285006           -1.790           0.073\n",
       "L4.soil_temperature_28_to_100cm (°C)       -729.887555       619.524481           -1.178           0.239\n",
       "L4.soil_moisture_28_to_100cm (m³/m³)      10253.194422      7300.496059            1.404           0.160\n",
       "L4.shortwave_radiation_instant (W/m²)        -0.343941         0.090759           -3.790           0.000\n",
       "L5.temperature_2m (°C)                       12.587175        47.423563            0.265           0.791\n",
       "L5.relative_humidity_2m (%)                   8.748467         6.635100            1.319           0.187\n",
       "L5.precipitation (mm)                         0.374015         5.399902            0.069           0.945\n",
       "L5.ET₀ (mm)                                 142.440409       131.909451            1.080           0.280\n",
       "L5.wind_speed_10m (km/h)                    -20.121539        15.908463           -1.265           0.206\n",
       "L5.soil_temperature_28_to_100cm (°C)         10.162392       615.654393            0.017           0.987\n",
       "L5.soil_moisture_28_to_100cm (m³/m³)       4037.529337      7235.965129            0.558           0.577\n",
       "L5.shortwave_radiation_instant (W/m²)        -0.260428         0.088823           -2.932           0.003\n",
       "L6.temperature_2m (°C)                       58.811718        45.121296            1.303           0.192\n",
       "L6.relative_humidity_2m (%)                   2.198326         6.509299            0.338           0.736\n",
       "L6.precipitation (mm)                         1.583151         4.847072            0.327           0.744\n",
       "L6.ET₀ (mm)                                  34.368728       125.667572            0.273           0.784\n",
       "L6.wind_speed_10m (km/h)                      4.516136        14.916042            0.303           0.762\n",
       "L6.soil_temperature_28_to_100cm (°C)        179.683334       596.794681            0.301           0.763\n",
       "L6.soil_moisture_28_to_100cm (m³/m³)      15271.593947      7221.747708            2.115           0.034\n",
       "L6.shortwave_radiation_instant (W/m²)        -0.114725         0.083076           -1.381           0.167\n",
       "L7.temperature_2m (°C)                      -14.964040        40.789788           -0.367           0.714\n",
       "L7.relative_humidity_2m (%)                   6.085050         6.058475            1.004           0.315\n",
       "L7.precipitation (mm)                        -3.767745         3.862151           -0.976           0.329\n",
       "L7.ET₀ (mm)                                  77.010454       110.943563            0.694           0.488\n",
       "L7.wind_speed_10m (km/h)                      0.505469        13.169823            0.038           0.969\n",
       "L7.soil_temperature_28_to_100cm (°C)        358.916147       454.771631            0.789           0.430\n",
       "L7.soil_moisture_28_to_100cm (m³/m³)     -20699.828461      6322.425979           -3.274           0.001\n",
       "L7.shortwave_radiation_instant (W/m²)        -0.058320         0.071887           -0.811           0.417\n",
       "========================================================================================================\n",
       "\n",
       "Correlation matrix of residuals\n",
       "                                      temperature_2m (°C)  relative_humidity_2m (%)  precipitation (mm)  ET₀ (mm)  wind_speed_10m (km/h)  soil_temperature_28_to_100cm (°C)  soil_moisture_28_to_100cm (m³/m³)  shortwave_radiation_instant (W/m²)\n",
       "temperature_2m (°C)                              1.000000                 -0.695788           -0.335728  0.689316              -0.152582                           0.396053                          -0.123999                            0.536210\n",
       "relative_humidity_2m (%)                        -0.695788                  1.000000            0.364734 -0.720841               0.100225                          -0.298637                           0.161095                           -0.521837\n",
       "precipitation (mm)                              -0.335728                  0.364734            1.000000 -0.458427               0.285426                          -0.249965                           0.162921                           -0.494228\n",
       "ET₀ (mm)                                         0.689316                 -0.720841           -0.458427  1.000000               0.000912                           0.359410                          -0.177849                            0.872259\n",
       "wind_speed_10m (km/h)                           -0.152582                  0.100225            0.285426  0.000912               1.000000                          -0.084933                           0.073735                           -0.271230\n",
       "soil_temperature_28_to_100cm (°C)                0.396053                 -0.298637           -0.249965  0.359410              -0.084933                           1.000000                          -0.185010                            0.333523\n",
       "soil_moisture_28_to_100cm (m³/m³)               -0.123999                  0.161095            0.162921 -0.177849               0.073735                          -0.185010                           1.000000                           -0.203347\n",
       "shortwave_radiation_instant (W/m²)               0.536210                 -0.521837           -0.494228  0.872259              -0.271230                           0.333523                          -0.203347                            1.000000\n",
       "\n"
      ]
     },
     "execution_count": 90,
     "metadata": {},
     "output_type": "execute_result"
    }
   ],
   "source": [
    "## Fit the VAR model to the differenced data.\n",
    "# Fit the VAR model\n",
    "model = VAR(combined_historical_data_punjab_daily_diff)\n",
    "model_fit = model.fit(maxlags=15, ic='aic')\n",
    "\n",
    "# Summary of the model\n",
    "model_fit.summary()\n"
   ]
  },
  {
   "cell_type": "markdown",
   "metadata": {},
   "source": [
    "##  Forecast Future Values"
   ]
  },
  {
   "cell_type": "code",
   "execution_count": 103,
   "metadata": {},
   "outputs": [],
   "source": [
    "\n",
    "# Forecast the next 14 days\n",
    "forecast_steps = 14\n",
    "lag_order = model_fit.k_ar\n",
    "forecast_diff = model_fit.forecast(y=combined_historical_data_punjab_daily_diff.values[-lag_order:], steps=forecast_steps)\n",
    "\n",
    "# Create a DataFrame for the forecasted differenced values\n",
    "forecast_dates = pd.date_range(start=combined_historical_data_punjab_daily.index[-1] + pd.Timedelta(days=1), periods=forecast_steps, freq='D')\n",
    "forecasted_diff_df = pd.DataFrame(data=forecast_diff, index=forecast_dates, columns=combined_historical_data_punjab_daily_diff.columns)\n",
    "\n",
    "# Reverse the differencing to get the actual forecasted values\n",
    "# Get the last value from the original data\n",
    "last_values = combined_historical_data_punjab_daily.iloc[-1]\n",
    "\n",
    "# Initialize the DataFrame for the actual forecasted values\n",
    "forecasted_values_df = forecasted_diff_df.cumsum() + last_values\n",
    "\n"
   ]
  },
  {
   "cell_type": "code",
   "execution_count": 104,
   "metadata": {},
   "outputs": [
    {
     "name": "stdout",
     "output_type": "stream",
     "text": [
      "The model includes 7 lags.\n"
     ]
    }
   ],
   "source": [
    "\n",
    "# Number of lags included in the model\n",
    "number_of_lags = model_fit.k_ar\n",
    "print(f\"The model includes {number_of_lags} lags.\")\n"
   ]
  },
  {
   "cell_type": "markdown",
   "metadata": {},
   "source": [
    "## Time Series Model Evaluation "
   ]
  },
  {
   "cell_type": "code",
   "execution_count": 105,
   "metadata": {},
   "outputs": [
    {
     "name": "stdout",
     "output_type": "stream",
     "text": [
      "MAE: 78.36295232971692\n",
      "MSE: 85789.11342671407\n",
      "RMSE: 292.89778665383267\n",
      "Mean Actual: \n",
      "temperature_2m (°C)                     33.563988\n",
      "relative_humidity_2m (%)                48.482143\n",
      "precipitation (mm)                       1.728571\n",
      "ET₀ (mm)                                 6.135000\n",
      "wind_speed_10m (km/h)                    8.649107\n",
      "soil_temperature_28_to_100cm (°C)       32.036012\n",
      "soil_moisture_28_to_100cm (m³/m³)        0.159994\n",
      "shortwave_radiation_instant (W/m²)    5587.885714\n",
      "dtype: float64\n",
      "Mean Forecasted: \n",
      "temperature_2m (°C)                     32.537290\n",
      "relative_humidity_2m (%)                61.609255\n",
      "precipitation (mm)                       3.008437\n",
      "ET₀ (mm)                                 5.463496\n",
      "wind_speed_10m (km/h)                    8.690277\n",
      "soil_temperature_28_to_100cm (°C)       31.873747\n",
      "soil_moisture_28_to_100cm (m³/m³)        0.148909\n",
      "shortwave_radiation_instant (W/m²)    5497.089685\n",
      "dtype: float64\n",
      "RMSE (292.89778665383267) is less than the mean actual value (714.8300662202381). The model performs well.\n"
     ]
    }
   ],
   "source": [
    "from sklearn.metrics import mean_absolute_error, mean_squared_error\n",
    "import numpy as np\n",
    "import pandas as pd\n",
    "# Evaluate the forecasted values against the test set\n",
    "test = combined_historical_data_punjab_daily[-forecast_steps:]  # Take the last 16 days from your actual data for evaluation\n",
    "\n",
    "# Calculate accuracy metrics\n",
    "mae = mean_absolute_error(test, forecasted_values_df)\n",
    "mse = mean_squared_error(test, forecasted_values_df)\n",
    "rmse = np.sqrt(mse)\n",
    "\n",
    "# Calculate means\n",
    "mean_actual = test.mean()\n",
    "mean_forecasted = forecasted_values_df.mean()\n",
    "\n",
    "print(f'MAE: {mae}')\n",
    "print(f'MSE: {mse}')\n",
    "print(f'RMSE: {rmse}')\n",
    "print(f'Mean Actual: \\n{mean_actual}')\n",
    "print(f'Mean Forecasted: \\n{mean_forecasted}')\n",
    "\n",
    "# Compare RMSE with Mean Actual Values\n",
    "mean_actual_value = mean_actual.mean()  # Overall mean of actual values\n",
    "if rmse < mean_actual_value:\n",
    "    print(f\"RMSE ({rmse}) is less than the mean actual value ({mean_actual_value}). The model performs well.\")\n",
    "else:\n",
    "    print(f\"RMSE ({rmse}) is not less than the mean actual value ({mean_actual_value}). The model may not perform well.\")\n"
   ]
  },
  {
   "cell_type": "code",
   "execution_count": 106,
   "metadata": {},
   "outputs": [
    {
     "data": {
      "text/html": [
       "<div>\n",
       "<style scoped>\n",
       "    .dataframe tbody tr th:only-of-type {\n",
       "        vertical-align: middle;\n",
       "    }\n",
       "\n",
       "    .dataframe tbody tr th {\n",
       "        vertical-align: top;\n",
       "    }\n",
       "\n",
       "    .dataframe thead th {\n",
       "        text-align: right;\n",
       "    }\n",
       "</style>\n",
       "<table border=\"1\" class=\"dataframe\">\n",
       "  <thead>\n",
       "    <tr style=\"text-align: right;\">\n",
       "      <th></th>\n",
       "      <th>temperature_2m (°C)</th>\n",
       "      <th>relative_humidity_2m (%)</th>\n",
       "      <th>precipitation (mm)</th>\n",
       "      <th>ET₀ (mm)</th>\n",
       "      <th>wind_speed_10m (km/h)</th>\n",
       "      <th>soil_temperature_28_to_100cm (°C)</th>\n",
       "      <th>soil_moisture_28_to_100cm (m³/m³)</th>\n",
       "      <th>shortwave_radiation_instant (W/m²)</th>\n",
       "    </tr>\n",
       "  </thead>\n",
       "  <tbody>\n",
       "    <tr>\n",
       "      <th>2024-07-01</th>\n",
       "      <td>32.471460</td>\n",
       "      <td>61.933412</td>\n",
       "      <td>2.353124</td>\n",
       "      <td>5.401128</td>\n",
       "      <td>7.910916</td>\n",
       "      <td>31.868967</td>\n",
       "      <td>0.150037</td>\n",
       "      <td>5597.352220</td>\n",
       "    </tr>\n",
       "    <tr>\n",
       "      <th>2024-07-02</th>\n",
       "      <td>32.947420</td>\n",
       "      <td>60.869032</td>\n",
       "      <td>3.052023</td>\n",
       "      <td>5.613910</td>\n",
       "      <td>8.841123</td>\n",
       "      <td>31.864693</td>\n",
       "      <td>0.149421</td>\n",
       "      <td>5572.805145</td>\n",
       "    </tr>\n",
       "    <tr>\n",
       "      <th>2024-07-03</th>\n",
       "      <td>32.536204</td>\n",
       "      <td>61.912877</td>\n",
       "      <td>3.951594</td>\n",
       "      <td>5.427128</td>\n",
       "      <td>9.492058</td>\n",
       "      <td>31.880532</td>\n",
       "      <td>0.149187</td>\n",
       "      <td>5306.701384</td>\n",
       "    </tr>\n",
       "    <tr>\n",
       "      <th>2024-07-04</th>\n",
       "      <td>32.565757</td>\n",
       "      <td>61.688090</td>\n",
       "      <td>2.586284</td>\n",
       "      <td>5.473859</td>\n",
       "      <td>8.590569</td>\n",
       "      <td>31.881079</td>\n",
       "      <td>0.149061</td>\n",
       "      <td>5494.642222</td>\n",
       "    </tr>\n",
       "    <tr>\n",
       "      <th>2024-07-05</th>\n",
       "      <td>32.577451</td>\n",
       "      <td>61.261709</td>\n",
       "      <td>2.553310</td>\n",
       "      <td>5.468408</td>\n",
       "      <td>8.770404</td>\n",
       "      <td>31.884821</td>\n",
       "      <td>0.148893</td>\n",
       "      <td>5470.559963</td>\n",
       "    </tr>\n",
       "    <tr>\n",
       "      <th>2024-07-06</th>\n",
       "      <td>32.415397</td>\n",
       "      <td>62.070242</td>\n",
       "      <td>3.509333</td>\n",
       "      <td>5.436316</td>\n",
       "      <td>8.852618</td>\n",
       "      <td>31.887415</td>\n",
       "      <td>0.148818</td>\n",
       "      <td>5473.200552</td>\n",
       "    </tr>\n",
       "    <tr>\n",
       "      <th>2024-07-07</th>\n",
       "      <td>32.355383</td>\n",
       "      <td>61.928845</td>\n",
       "      <td>3.396761</td>\n",
       "      <td>5.419534</td>\n",
       "      <td>8.576585</td>\n",
       "      <td>31.883189</td>\n",
       "      <td>0.148850</td>\n",
       "      <td>5504.027466</td>\n",
       "    </tr>\n",
       "    <tr>\n",
       "      <th>2024-07-08</th>\n",
       "      <td>32.388407</td>\n",
       "      <td>61.727130</td>\n",
       "      <td>2.904941</td>\n",
       "      <td>5.429176</td>\n",
       "      <td>8.550731</td>\n",
       "      <td>31.874416</td>\n",
       "      <td>0.148901</td>\n",
       "      <td>5510.918967</td>\n",
       "    </tr>\n",
       "    <tr>\n",
       "      <th>2024-07-09</th>\n",
       "      <td>32.417853</td>\n",
       "      <td>61.708356</td>\n",
       "      <td>3.086779</td>\n",
       "      <td>5.441802</td>\n",
       "      <td>8.641106</td>\n",
       "      <td>31.867158</td>\n",
       "      <td>0.148833</td>\n",
       "      <td>5500.242234</td>\n",
       "    </tr>\n",
       "    <tr>\n",
       "      <th>2024-07-10</th>\n",
       "      <td>32.500177</td>\n",
       "      <td>61.560098</td>\n",
       "      <td>2.967845</td>\n",
       "      <td>5.459809</td>\n",
       "      <td>8.638029</td>\n",
       "      <td>31.860905</td>\n",
       "      <td>0.148771</td>\n",
       "      <td>5500.273728</td>\n",
       "    </tr>\n",
       "    <tr>\n",
       "      <th>2024-07-11</th>\n",
       "      <td>32.588125</td>\n",
       "      <td>61.376803</td>\n",
       "      <td>2.815655</td>\n",
       "      <td>5.485709</td>\n",
       "      <td>8.691072</td>\n",
       "      <td>31.860552</td>\n",
       "      <td>0.148664</td>\n",
       "      <td>5507.341183</td>\n",
       "    </tr>\n",
       "    <tr>\n",
       "      <th>2024-07-12</th>\n",
       "      <td>32.594293</td>\n",
       "      <td>61.464774</td>\n",
       "      <td>2.928403</td>\n",
       "      <td>5.479879</td>\n",
       "      <td>8.693364</td>\n",
       "      <td>31.865863</td>\n",
       "      <td>0.148533</td>\n",
       "      <td>5505.214625</td>\n",
       "    </tr>\n",
       "    <tr>\n",
       "      <th>2024-07-13</th>\n",
       "      <td>32.581893</td>\n",
       "      <td>61.512038</td>\n",
       "      <td>2.969795</td>\n",
       "      <td>5.476476</td>\n",
       "      <td>8.704710</td>\n",
       "      <td>31.873047</td>\n",
       "      <td>0.148432</td>\n",
       "      <td>5507.172418</td>\n",
       "    </tr>\n",
       "    <tr>\n",
       "      <th>2024-07-14</th>\n",
       "      <td>32.582238</td>\n",
       "      <td>61.516166</td>\n",
       "      <td>3.042269</td>\n",
       "      <td>5.475813</td>\n",
       "      <td>8.710592</td>\n",
       "      <td>31.879815</td>\n",
       "      <td>0.148329</td>\n",
       "      <td>5508.803491</td>\n",
       "    </tr>\n",
       "  </tbody>\n",
       "</table>\n",
       "</div>"
      ],
      "text/plain": [
       "            temperature_2m (°C)  relative_humidity_2m (%)  precipitation (mm)  \\\n",
       "2024-07-01            32.471460                 61.933412            2.353124   \n",
       "2024-07-02            32.947420                 60.869032            3.052023   \n",
       "2024-07-03            32.536204                 61.912877            3.951594   \n",
       "2024-07-04            32.565757                 61.688090            2.586284   \n",
       "2024-07-05            32.577451                 61.261709            2.553310   \n",
       "2024-07-06            32.415397                 62.070242            3.509333   \n",
       "2024-07-07            32.355383                 61.928845            3.396761   \n",
       "2024-07-08            32.388407                 61.727130            2.904941   \n",
       "2024-07-09            32.417853                 61.708356            3.086779   \n",
       "2024-07-10            32.500177                 61.560098            2.967845   \n",
       "2024-07-11            32.588125                 61.376803            2.815655   \n",
       "2024-07-12            32.594293                 61.464774            2.928403   \n",
       "2024-07-13            32.581893                 61.512038            2.969795   \n",
       "2024-07-14            32.582238                 61.516166            3.042269   \n",
       "\n",
       "            ET₀ (mm)  wind_speed_10m (km/h)  \\\n",
       "2024-07-01  5.401128               7.910916   \n",
       "2024-07-02  5.613910               8.841123   \n",
       "2024-07-03  5.427128               9.492058   \n",
       "2024-07-04  5.473859               8.590569   \n",
       "2024-07-05  5.468408               8.770404   \n",
       "2024-07-06  5.436316               8.852618   \n",
       "2024-07-07  5.419534               8.576585   \n",
       "2024-07-08  5.429176               8.550731   \n",
       "2024-07-09  5.441802               8.641106   \n",
       "2024-07-10  5.459809               8.638029   \n",
       "2024-07-11  5.485709               8.691072   \n",
       "2024-07-12  5.479879               8.693364   \n",
       "2024-07-13  5.476476               8.704710   \n",
       "2024-07-14  5.475813               8.710592   \n",
       "\n",
       "            soil_temperature_28_to_100cm (°C)  \\\n",
       "2024-07-01                          31.868967   \n",
       "2024-07-02                          31.864693   \n",
       "2024-07-03                          31.880532   \n",
       "2024-07-04                          31.881079   \n",
       "2024-07-05                          31.884821   \n",
       "2024-07-06                          31.887415   \n",
       "2024-07-07                          31.883189   \n",
       "2024-07-08                          31.874416   \n",
       "2024-07-09                          31.867158   \n",
       "2024-07-10                          31.860905   \n",
       "2024-07-11                          31.860552   \n",
       "2024-07-12                          31.865863   \n",
       "2024-07-13                          31.873047   \n",
       "2024-07-14                          31.879815   \n",
       "\n",
       "            soil_moisture_28_to_100cm (m³/m³)  \\\n",
       "2024-07-01                           0.150037   \n",
       "2024-07-02                           0.149421   \n",
       "2024-07-03                           0.149187   \n",
       "2024-07-04                           0.149061   \n",
       "2024-07-05                           0.148893   \n",
       "2024-07-06                           0.148818   \n",
       "2024-07-07                           0.148850   \n",
       "2024-07-08                           0.148901   \n",
       "2024-07-09                           0.148833   \n",
       "2024-07-10                           0.148771   \n",
       "2024-07-11                           0.148664   \n",
       "2024-07-12                           0.148533   \n",
       "2024-07-13                           0.148432   \n",
       "2024-07-14                           0.148329   \n",
       "\n",
       "            shortwave_radiation_instant (W/m²)  \n",
       "2024-07-01                         5597.352220  \n",
       "2024-07-02                         5572.805145  \n",
       "2024-07-03                         5306.701384  \n",
       "2024-07-04                         5494.642222  \n",
       "2024-07-05                         5470.559963  \n",
       "2024-07-06                         5473.200552  \n",
       "2024-07-07                         5504.027466  \n",
       "2024-07-08                         5510.918967  \n",
       "2024-07-09                         5500.242234  \n",
       "2024-07-10                         5500.273728  \n",
       "2024-07-11                         5507.341183  \n",
       "2024-07-12                         5505.214625  \n",
       "2024-07-13                         5507.172418  \n",
       "2024-07-14                         5508.803491  "
      ]
     },
     "execution_count": 106,
     "metadata": {},
     "output_type": "execute_result"
    }
   ],
   "source": [
    "forecasted_values_df"
   ]
  },
  {
   "cell_type": "code",
   "execution_count": 107,
   "metadata": {},
   "outputs": [],
   "source": [
    "# Combine the historical and forecasted data\n",
    "historical_data_with_forcast_data = pd.concat([combined_historical_data_punjab_daily, forecasted_values_df])"
   ]
  },
  {
   "cell_type": "code",
   "execution_count": 108,
   "metadata": {},
   "outputs": [
    {
     "name": "stdout",
     "output_type": "stream",
     "text": [
      "<class 'pandas.core.frame.DataFrame'>\n",
      "DatetimeIndex: 1657 entries, 2020-01-01 to 2024-07-14\n",
      "Data columns (total 8 columns):\n",
      " #   Column                              Non-Null Count  Dtype  \n",
      "---  ------                              --------------  -----  \n",
      " 0   temperature_2m (°C)                 1657 non-null   float64\n",
      " 1   relative_humidity_2m (%)            1657 non-null   float64\n",
      " 2   precipitation (mm)                  1657 non-null   float64\n",
      " 3   ET₀ (mm)                            1657 non-null   float64\n",
      " 4   wind_speed_10m (km/h)               1657 non-null   float64\n",
      " 5   soil_temperature_28_to_100cm (°C)   1657 non-null   float64\n",
      " 6   soil_moisture_28_to_100cm (m³/m³)   1657 non-null   float64\n",
      " 7   shortwave_radiation_instant (W/m²)  1657 non-null   float64\n",
      "dtypes: float64(8)\n",
      "memory usage: 116.5 KB\n"
     ]
    }
   ],
   "source": [
    "historical_data_with_forcast_data.info()"
   ]
  },
  {
   "cell_type": "code",
   "execution_count": 109,
   "metadata": {},
   "outputs": [],
   "source": [
    " \n",
    "# Rename ET₀ column for easier reference\n",
    "future_data_punjab_daily.rename(columns={'et0_fao_evapotranspiration (mm)': 'ET₀ (mm)'}, inplace=True)#Set the date column as the index\n",
    "future_data_punjab_daily.set_index('date', inplace=True)\n",
    "# Ensure the index is in datetime format\n",
    "future_data_punjab_daily.index = pd.to_datetime(future_data_punjab_daily.index)\n",
    "# Rename ET₀ column for easier reference\n",
    "future_data_punjab_daily.rename(columns={'et0_fao_evapotranspiration (mm)': 'ET₀ (mm)'}, inplace=True)"
   ]
  },
  {
   "cell_type": "code",
   "execution_count": 110,
   "metadata": {},
   "outputs": [],
   "source": [
    "# Combine the historical and forecasted data\n",
    "present_data_with_forecast_data = pd.concat([future_data_punjab_daily, forecasted_values_df])\n",
    "# Save the combined data to a new CSV file if needed\n",
    "present_data_with_forecast_data.to_csv(r\"C:\\Desktop\\Smart Irrigation System\\present_data_with_forecast_data.csv\")\n",
    "\n"
   ]
  },
  {
   "cell_type": "code",
   "execution_count": 112,
   "metadata": {},
   "outputs": [
    {
     "data": {
      "text/html": [
       "<div>\n",
       "<style scoped>\n",
       "    .dataframe tbody tr th:only-of-type {\n",
       "        vertical-align: middle;\n",
       "    }\n",
       "\n",
       "    .dataframe tbody tr th {\n",
       "        vertical-align: top;\n",
       "    }\n",
       "\n",
       "    .dataframe thead th {\n",
       "        text-align: right;\n",
       "    }\n",
       "</style>\n",
       "<table border=\"1\" class=\"dataframe\">\n",
       "  <thead>\n",
       "    <tr style=\"text-align: right;\">\n",
       "      <th></th>\n",
       "      <th>temperature_2m (°C)</th>\n",
       "      <th>relative_humidity_2m (%)</th>\n",
       "      <th>precipitation (mm)</th>\n",
       "      <th>ET₀ (mm)</th>\n",
       "      <th>wind_speed_10m (km/h)</th>\n",
       "      <th>soil_temperature_28_to_100cm (°C)</th>\n",
       "      <th>soil_moisture_28_to_100cm (m³/m³)</th>\n",
       "      <th>shortwave_radiation_instant (W/m²)</th>\n",
       "    </tr>\n",
       "    <tr>\n",
       "      <th>date</th>\n",
       "      <th></th>\n",
       "      <th></th>\n",
       "      <th></th>\n",
       "      <th></th>\n",
       "      <th></th>\n",
       "      <th></th>\n",
       "      <th></th>\n",
       "      <th></th>\n",
       "    </tr>\n",
       "  </thead>\n",
       "  <tbody>\n",
       "    <tr>\n",
       "      <th>2024-06-26</th>\n",
       "      <td>34.425000</td>\n",
       "      <td>51.875000</td>\n",
       "      <td>8.1</td>\n",
       "      <td>6.48</td>\n",
       "      <td>11.316667</td>\n",
       "      <td>32.112500</td>\n",
       "      <td>0.149833</td>\n",
       "      <td>5501.7</td>\n",
       "    </tr>\n",
       "    <tr>\n",
       "      <th>2024-06-27</th>\n",
       "      <td>30.179167</td>\n",
       "      <td>70.458333</td>\n",
       "      <td>8.2</td>\n",
       "      <td>3.69</td>\n",
       "      <td>11.254167</td>\n",
       "      <td>32.200000</td>\n",
       "      <td>0.150000</td>\n",
       "      <td>3221.4</td>\n",
       "    </tr>\n",
       "    <tr>\n",
       "      <th>2024-06-28</th>\n",
       "      <td>31.758333</td>\n",
       "      <td>61.083333</td>\n",
       "      <td>0.0</td>\n",
       "      <td>5.78</td>\n",
       "      <td>8.408333</td>\n",
       "      <td>32.058333</td>\n",
       "      <td>0.150000</td>\n",
       "      <td>6075.2</td>\n",
       "    </tr>\n",
       "    <tr>\n",
       "      <th>2024-06-29</th>\n",
       "      <td>31.483333</td>\n",
       "      <td>64.708333</td>\n",
       "      <td>7.0</td>\n",
       "      <td>5.14</td>\n",
       "      <td>7.504167</td>\n",
       "      <td>31.966667</td>\n",
       "      <td>0.150000</td>\n",
       "      <td>5451.8</td>\n",
       "    </tr>\n",
       "    <tr>\n",
       "      <th>2024-06-30</th>\n",
       "      <td>32.008333</td>\n",
       "      <td>64.166667</td>\n",
       "      <td>0.2</td>\n",
       "      <td>5.25</td>\n",
       "      <td>7.400000</td>\n",
       "      <td>31.900000</td>\n",
       "      <td>0.150000</td>\n",
       "      <td>5695.4</td>\n",
       "    </tr>\n",
       "  </tbody>\n",
       "</table>\n",
       "</div>"
      ],
      "text/plain": [
       "            temperature_2m (°C)  relative_humidity_2m (%)  precipitation (mm)  \\\n",
       "date                                                                            \n",
       "2024-06-26            34.425000                 51.875000                 8.1   \n",
       "2024-06-27            30.179167                 70.458333                 8.2   \n",
       "2024-06-28            31.758333                 61.083333                 0.0   \n",
       "2024-06-29            31.483333                 64.708333                 7.0   \n",
       "2024-06-30            32.008333                 64.166667                 0.2   \n",
       "\n",
       "            ET₀ (mm)  wind_speed_10m (km/h)  \\\n",
       "date                                          \n",
       "2024-06-26      6.48              11.316667   \n",
       "2024-06-27      3.69              11.254167   \n",
       "2024-06-28      5.78               8.408333   \n",
       "2024-06-29      5.14               7.504167   \n",
       "2024-06-30      5.25               7.400000   \n",
       "\n",
       "            soil_temperature_28_to_100cm (°C)  \\\n",
       "date                                            \n",
       "2024-06-26                          32.112500   \n",
       "2024-06-27                          32.200000   \n",
       "2024-06-28                          32.058333   \n",
       "2024-06-29                          31.966667   \n",
       "2024-06-30                          31.900000   \n",
       "\n",
       "            soil_moisture_28_to_100cm (m³/m³)  \\\n",
       "date                                            \n",
       "2024-06-26                           0.149833   \n",
       "2024-06-27                           0.150000   \n",
       "2024-06-28                           0.150000   \n",
       "2024-06-29                           0.150000   \n",
       "2024-06-30                           0.150000   \n",
       "\n",
       "            shortwave_radiation_instant (W/m²)  \n",
       "date                                            \n",
       "2024-06-26                              5501.7  \n",
       "2024-06-27                              3221.4  \n",
       "2024-06-28                              6075.2  \n",
       "2024-06-29                              5451.8  \n",
       "2024-06-30                              5695.4  "
      ]
     },
     "execution_count": 112,
     "metadata": {},
     "output_type": "execute_result"
    }
   ],
   "source": [
    "future_data_punjab_daily.tail()"
   ]
  },
  {
   "cell_type": "code",
   "execution_count": 113,
   "metadata": {},
   "outputs": [
    {
     "name": "stdout",
     "output_type": "stream",
     "text": [
      "<class 'pandas.core.frame.DataFrame'>\n",
      "DatetimeIndex: 196 entries, 2024-01-01 to 2024-07-14\n",
      "Data columns (total 8 columns):\n",
      " #   Column                              Non-Null Count  Dtype  \n",
      "---  ------                              --------------  -----  \n",
      " 0   temperature_2m (°C)                 196 non-null    float64\n",
      " 1   relative_humidity_2m (%)            196 non-null    float64\n",
      " 2   precipitation (mm)                  196 non-null    float64\n",
      " 3   ET₀ (mm)                            196 non-null    float64\n",
      " 4   wind_speed_10m (km/h)               196 non-null    float64\n",
      " 5   soil_temperature_28_to_100cm (°C)   196 non-null    float64\n",
      " 6   soil_moisture_28_to_100cm (m³/m³)   196 non-null    float64\n",
      " 7   shortwave_radiation_instant (W/m²)  196 non-null    float64\n",
      "dtypes: float64(8)\n",
      "memory usage: 13.8 KB\n"
     ]
    }
   ],
   "source": [
    "present_data_with_forecast_data.info()"
   ]
  },
  {
   "cell_type": "code",
   "execution_count": 114,
   "metadata": {},
   "outputs": [
    {
     "data": {
      "text/html": [
       "<div>\n",
       "<style scoped>\n",
       "    .dataframe tbody tr th:only-of-type {\n",
       "        vertical-align: middle;\n",
       "    }\n",
       "\n",
       "    .dataframe tbody tr th {\n",
       "        vertical-align: top;\n",
       "    }\n",
       "\n",
       "    .dataframe thead th {\n",
       "        text-align: right;\n",
       "    }\n",
       "</style>\n",
       "<table border=\"1\" class=\"dataframe\">\n",
       "  <thead>\n",
       "    <tr style=\"text-align: right;\">\n",
       "      <th></th>\n",
       "      <th>temperature_2m (°C)</th>\n",
       "      <th>relative_humidity_2m (%)</th>\n",
       "      <th>precipitation (mm)</th>\n",
       "      <th>ET₀ (mm)</th>\n",
       "      <th>wind_speed_10m (km/h)</th>\n",
       "      <th>soil_temperature_28_to_100cm (°C)</th>\n",
       "      <th>soil_moisture_28_to_100cm (m³/m³)</th>\n",
       "      <th>shortwave_radiation_instant (W/m²)</th>\n",
       "    </tr>\n",
       "  </thead>\n",
       "  <tbody>\n",
       "    <tr>\n",
       "      <th>2024-06-20</th>\n",
       "      <td>32.662500</td>\n",
       "      <td>45.125000</td>\n",
       "      <td>0.500000</td>\n",
       "      <td>6.090000</td>\n",
       "      <td>8.170833</td>\n",
       "      <td>32.300000</td>\n",
       "      <td>0.175542</td>\n",
       "      <td>5727.800000</td>\n",
       "    </tr>\n",
       "    <tr>\n",
       "      <th>2024-06-21</th>\n",
       "      <td>30.950000</td>\n",
       "      <td>52.958333</td>\n",
       "      <td>0.000000</td>\n",
       "      <td>4.450000</td>\n",
       "      <td>6.483333</td>\n",
       "      <td>32.191667</td>\n",
       "      <td>0.166500</td>\n",
       "      <td>4311.200000</td>\n",
       "    </tr>\n",
       "    <tr>\n",
       "      <th>2024-06-22</th>\n",
       "      <td>32.329167</td>\n",
       "      <td>51.708333</td>\n",
       "      <td>0.000000</td>\n",
       "      <td>5.930000</td>\n",
       "      <td>5.604167</td>\n",
       "      <td>31.966667</td>\n",
       "      <td>0.161500</td>\n",
       "      <td>6344.000000</td>\n",
       "    </tr>\n",
       "    <tr>\n",
       "      <th>2024-06-23</th>\n",
       "      <td>33.887500</td>\n",
       "      <td>42.750000</td>\n",
       "      <td>0.000000</td>\n",
       "      <td>5.900000</td>\n",
       "      <td>6.125000</td>\n",
       "      <td>31.837500</td>\n",
       "      <td>0.154250</td>\n",
       "      <td>5921.500000</td>\n",
       "    </tr>\n",
       "    <tr>\n",
       "      <th>2024-06-24</th>\n",
       "      <td>35.037500</td>\n",
       "      <td>43.541667</td>\n",
       "      <td>0.000000</td>\n",
       "      <td>7.080000</td>\n",
       "      <td>10.483333</td>\n",
       "      <td>31.900000</td>\n",
       "      <td>0.149750</td>\n",
       "      <td>6091.500000</td>\n",
       "    </tr>\n",
       "    <tr>\n",
       "      <th>2024-06-25</th>\n",
       "      <td>34.708333</td>\n",
       "      <td>48.208333</td>\n",
       "      <td>0.000000</td>\n",
       "      <td>6.590000</td>\n",
       "      <td>8.608333</td>\n",
       "      <td>31.987500</td>\n",
       "      <td>0.149000</td>\n",
       "      <td>6145.700000</td>\n",
       "    </tr>\n",
       "    <tr>\n",
       "      <th>2024-06-26</th>\n",
       "      <td>34.425000</td>\n",
       "      <td>51.875000</td>\n",
       "      <td>8.100000</td>\n",
       "      <td>6.480000</td>\n",
       "      <td>11.316667</td>\n",
       "      <td>32.112500</td>\n",
       "      <td>0.149833</td>\n",
       "      <td>5501.700000</td>\n",
       "    </tr>\n",
       "    <tr>\n",
       "      <th>2024-06-27</th>\n",
       "      <td>30.179167</td>\n",
       "      <td>70.458333</td>\n",
       "      <td>8.200000</td>\n",
       "      <td>3.690000</td>\n",
       "      <td>11.254167</td>\n",
       "      <td>32.200000</td>\n",
       "      <td>0.150000</td>\n",
       "      <td>3221.400000</td>\n",
       "    </tr>\n",
       "    <tr>\n",
       "      <th>2024-06-28</th>\n",
       "      <td>31.758333</td>\n",
       "      <td>61.083333</td>\n",
       "      <td>0.000000</td>\n",
       "      <td>5.780000</td>\n",
       "      <td>8.408333</td>\n",
       "      <td>32.058333</td>\n",
       "      <td>0.150000</td>\n",
       "      <td>6075.200000</td>\n",
       "    </tr>\n",
       "    <tr>\n",
       "      <th>2024-06-29</th>\n",
       "      <td>31.483333</td>\n",
       "      <td>64.708333</td>\n",
       "      <td>7.000000</td>\n",
       "      <td>5.140000</td>\n",
       "      <td>7.504167</td>\n",
       "      <td>31.966667</td>\n",
       "      <td>0.150000</td>\n",
       "      <td>5451.800000</td>\n",
       "    </tr>\n",
       "    <tr>\n",
       "      <th>2024-06-30</th>\n",
       "      <td>32.008333</td>\n",
       "      <td>64.166667</td>\n",
       "      <td>0.200000</td>\n",
       "      <td>5.250000</td>\n",
       "      <td>7.400000</td>\n",
       "      <td>31.900000</td>\n",
       "      <td>0.150000</td>\n",
       "      <td>5695.400000</td>\n",
       "    </tr>\n",
       "    <tr>\n",
       "      <th>2024-07-01</th>\n",
       "      <td>32.471460</td>\n",
       "      <td>61.933412</td>\n",
       "      <td>2.353124</td>\n",
       "      <td>5.401128</td>\n",
       "      <td>7.910916</td>\n",
       "      <td>31.868967</td>\n",
       "      <td>0.150037</td>\n",
       "      <td>5597.352220</td>\n",
       "    </tr>\n",
       "    <tr>\n",
       "      <th>2024-07-02</th>\n",
       "      <td>32.947420</td>\n",
       "      <td>60.869032</td>\n",
       "      <td>3.052023</td>\n",
       "      <td>5.613910</td>\n",
       "      <td>8.841123</td>\n",
       "      <td>31.864693</td>\n",
       "      <td>0.149421</td>\n",
       "      <td>5572.805145</td>\n",
       "    </tr>\n",
       "    <tr>\n",
       "      <th>2024-07-03</th>\n",
       "      <td>32.536204</td>\n",
       "      <td>61.912877</td>\n",
       "      <td>3.951594</td>\n",
       "      <td>5.427128</td>\n",
       "      <td>9.492058</td>\n",
       "      <td>31.880532</td>\n",
       "      <td>0.149187</td>\n",
       "      <td>5306.701384</td>\n",
       "    </tr>\n",
       "    <tr>\n",
       "      <th>2024-07-04</th>\n",
       "      <td>32.565757</td>\n",
       "      <td>61.688090</td>\n",
       "      <td>2.586284</td>\n",
       "      <td>5.473859</td>\n",
       "      <td>8.590569</td>\n",
       "      <td>31.881079</td>\n",
       "      <td>0.149061</td>\n",
       "      <td>5494.642222</td>\n",
       "    </tr>\n",
       "    <tr>\n",
       "      <th>2024-07-05</th>\n",
       "      <td>32.577451</td>\n",
       "      <td>61.261709</td>\n",
       "      <td>2.553310</td>\n",
       "      <td>5.468408</td>\n",
       "      <td>8.770404</td>\n",
       "      <td>31.884821</td>\n",
       "      <td>0.148893</td>\n",
       "      <td>5470.559963</td>\n",
       "    </tr>\n",
       "    <tr>\n",
       "      <th>2024-07-06</th>\n",
       "      <td>32.415397</td>\n",
       "      <td>62.070242</td>\n",
       "      <td>3.509333</td>\n",
       "      <td>5.436316</td>\n",
       "      <td>8.852618</td>\n",
       "      <td>31.887415</td>\n",
       "      <td>0.148818</td>\n",
       "      <td>5473.200552</td>\n",
       "    </tr>\n",
       "    <tr>\n",
       "      <th>2024-07-07</th>\n",
       "      <td>32.355383</td>\n",
       "      <td>61.928845</td>\n",
       "      <td>3.396761</td>\n",
       "      <td>5.419534</td>\n",
       "      <td>8.576585</td>\n",
       "      <td>31.883189</td>\n",
       "      <td>0.148850</td>\n",
       "      <td>5504.027466</td>\n",
       "    </tr>\n",
       "    <tr>\n",
       "      <th>2024-07-08</th>\n",
       "      <td>32.388407</td>\n",
       "      <td>61.727130</td>\n",
       "      <td>2.904941</td>\n",
       "      <td>5.429176</td>\n",
       "      <td>8.550731</td>\n",
       "      <td>31.874416</td>\n",
       "      <td>0.148901</td>\n",
       "      <td>5510.918967</td>\n",
       "    </tr>\n",
       "    <tr>\n",
       "      <th>2024-07-09</th>\n",
       "      <td>32.417853</td>\n",
       "      <td>61.708356</td>\n",
       "      <td>3.086779</td>\n",
       "      <td>5.441802</td>\n",
       "      <td>8.641106</td>\n",
       "      <td>31.867158</td>\n",
       "      <td>0.148833</td>\n",
       "      <td>5500.242234</td>\n",
       "    </tr>\n",
       "    <tr>\n",
       "      <th>2024-07-10</th>\n",
       "      <td>32.500177</td>\n",
       "      <td>61.560098</td>\n",
       "      <td>2.967845</td>\n",
       "      <td>5.459809</td>\n",
       "      <td>8.638029</td>\n",
       "      <td>31.860905</td>\n",
       "      <td>0.148771</td>\n",
       "      <td>5500.273728</td>\n",
       "    </tr>\n",
       "    <tr>\n",
       "      <th>2024-07-11</th>\n",
       "      <td>32.588125</td>\n",
       "      <td>61.376803</td>\n",
       "      <td>2.815655</td>\n",
       "      <td>5.485709</td>\n",
       "      <td>8.691072</td>\n",
       "      <td>31.860552</td>\n",
       "      <td>0.148664</td>\n",
       "      <td>5507.341183</td>\n",
       "    </tr>\n",
       "    <tr>\n",
       "      <th>2024-07-12</th>\n",
       "      <td>32.594293</td>\n",
       "      <td>61.464774</td>\n",
       "      <td>2.928403</td>\n",
       "      <td>5.479879</td>\n",
       "      <td>8.693364</td>\n",
       "      <td>31.865863</td>\n",
       "      <td>0.148533</td>\n",
       "      <td>5505.214625</td>\n",
       "    </tr>\n",
       "    <tr>\n",
       "      <th>2024-07-13</th>\n",
       "      <td>32.581893</td>\n",
       "      <td>61.512038</td>\n",
       "      <td>2.969795</td>\n",
       "      <td>5.476476</td>\n",
       "      <td>8.704710</td>\n",
       "      <td>31.873047</td>\n",
       "      <td>0.148432</td>\n",
       "      <td>5507.172418</td>\n",
       "    </tr>\n",
       "    <tr>\n",
       "      <th>2024-07-14</th>\n",
       "      <td>32.582238</td>\n",
       "      <td>61.516166</td>\n",
       "      <td>3.042269</td>\n",
       "      <td>5.475813</td>\n",
       "      <td>8.710592</td>\n",
       "      <td>31.879815</td>\n",
       "      <td>0.148329</td>\n",
       "      <td>5508.803491</td>\n",
       "    </tr>\n",
       "  </tbody>\n",
       "</table>\n",
       "</div>"
      ],
      "text/plain": [
       "            temperature_2m (°C)  relative_humidity_2m (%)  precipitation (mm)  \\\n",
       "2024-06-20            32.662500                 45.125000            0.500000   \n",
       "2024-06-21            30.950000                 52.958333            0.000000   \n",
       "2024-06-22            32.329167                 51.708333            0.000000   \n",
       "2024-06-23            33.887500                 42.750000            0.000000   \n",
       "2024-06-24            35.037500                 43.541667            0.000000   \n",
       "2024-06-25            34.708333                 48.208333            0.000000   \n",
       "2024-06-26            34.425000                 51.875000            8.100000   \n",
       "2024-06-27            30.179167                 70.458333            8.200000   \n",
       "2024-06-28            31.758333                 61.083333            0.000000   \n",
       "2024-06-29            31.483333                 64.708333            7.000000   \n",
       "2024-06-30            32.008333                 64.166667            0.200000   \n",
       "2024-07-01            32.471460                 61.933412            2.353124   \n",
       "2024-07-02            32.947420                 60.869032            3.052023   \n",
       "2024-07-03            32.536204                 61.912877            3.951594   \n",
       "2024-07-04            32.565757                 61.688090            2.586284   \n",
       "2024-07-05            32.577451                 61.261709            2.553310   \n",
       "2024-07-06            32.415397                 62.070242            3.509333   \n",
       "2024-07-07            32.355383                 61.928845            3.396761   \n",
       "2024-07-08            32.388407                 61.727130            2.904941   \n",
       "2024-07-09            32.417853                 61.708356            3.086779   \n",
       "2024-07-10            32.500177                 61.560098            2.967845   \n",
       "2024-07-11            32.588125                 61.376803            2.815655   \n",
       "2024-07-12            32.594293                 61.464774            2.928403   \n",
       "2024-07-13            32.581893                 61.512038            2.969795   \n",
       "2024-07-14            32.582238                 61.516166            3.042269   \n",
       "\n",
       "            ET₀ (mm)  wind_speed_10m (km/h)  \\\n",
       "2024-06-20  6.090000               8.170833   \n",
       "2024-06-21  4.450000               6.483333   \n",
       "2024-06-22  5.930000               5.604167   \n",
       "2024-06-23  5.900000               6.125000   \n",
       "2024-06-24  7.080000              10.483333   \n",
       "2024-06-25  6.590000               8.608333   \n",
       "2024-06-26  6.480000              11.316667   \n",
       "2024-06-27  3.690000              11.254167   \n",
       "2024-06-28  5.780000               8.408333   \n",
       "2024-06-29  5.140000               7.504167   \n",
       "2024-06-30  5.250000               7.400000   \n",
       "2024-07-01  5.401128               7.910916   \n",
       "2024-07-02  5.613910               8.841123   \n",
       "2024-07-03  5.427128               9.492058   \n",
       "2024-07-04  5.473859               8.590569   \n",
       "2024-07-05  5.468408               8.770404   \n",
       "2024-07-06  5.436316               8.852618   \n",
       "2024-07-07  5.419534               8.576585   \n",
       "2024-07-08  5.429176               8.550731   \n",
       "2024-07-09  5.441802               8.641106   \n",
       "2024-07-10  5.459809               8.638029   \n",
       "2024-07-11  5.485709               8.691072   \n",
       "2024-07-12  5.479879               8.693364   \n",
       "2024-07-13  5.476476               8.704710   \n",
       "2024-07-14  5.475813               8.710592   \n",
       "\n",
       "            soil_temperature_28_to_100cm (°C)  \\\n",
       "2024-06-20                          32.300000   \n",
       "2024-06-21                          32.191667   \n",
       "2024-06-22                          31.966667   \n",
       "2024-06-23                          31.837500   \n",
       "2024-06-24                          31.900000   \n",
       "2024-06-25                          31.987500   \n",
       "2024-06-26                          32.112500   \n",
       "2024-06-27                          32.200000   \n",
       "2024-06-28                          32.058333   \n",
       "2024-06-29                          31.966667   \n",
       "2024-06-30                          31.900000   \n",
       "2024-07-01                          31.868967   \n",
       "2024-07-02                          31.864693   \n",
       "2024-07-03                          31.880532   \n",
       "2024-07-04                          31.881079   \n",
       "2024-07-05                          31.884821   \n",
       "2024-07-06                          31.887415   \n",
       "2024-07-07                          31.883189   \n",
       "2024-07-08                          31.874416   \n",
       "2024-07-09                          31.867158   \n",
       "2024-07-10                          31.860905   \n",
       "2024-07-11                          31.860552   \n",
       "2024-07-12                          31.865863   \n",
       "2024-07-13                          31.873047   \n",
       "2024-07-14                          31.879815   \n",
       "\n",
       "            soil_moisture_28_to_100cm (m³/m³)  \\\n",
       "2024-06-20                           0.175542   \n",
       "2024-06-21                           0.166500   \n",
       "2024-06-22                           0.161500   \n",
       "2024-06-23                           0.154250   \n",
       "2024-06-24                           0.149750   \n",
       "2024-06-25                           0.149000   \n",
       "2024-06-26                           0.149833   \n",
       "2024-06-27                           0.150000   \n",
       "2024-06-28                           0.150000   \n",
       "2024-06-29                           0.150000   \n",
       "2024-06-30                           0.150000   \n",
       "2024-07-01                           0.150037   \n",
       "2024-07-02                           0.149421   \n",
       "2024-07-03                           0.149187   \n",
       "2024-07-04                           0.149061   \n",
       "2024-07-05                           0.148893   \n",
       "2024-07-06                           0.148818   \n",
       "2024-07-07                           0.148850   \n",
       "2024-07-08                           0.148901   \n",
       "2024-07-09                           0.148833   \n",
       "2024-07-10                           0.148771   \n",
       "2024-07-11                           0.148664   \n",
       "2024-07-12                           0.148533   \n",
       "2024-07-13                           0.148432   \n",
       "2024-07-14                           0.148329   \n",
       "\n",
       "            shortwave_radiation_instant (W/m²)  \n",
       "2024-06-20                         5727.800000  \n",
       "2024-06-21                         4311.200000  \n",
       "2024-06-22                         6344.000000  \n",
       "2024-06-23                         5921.500000  \n",
       "2024-06-24                         6091.500000  \n",
       "2024-06-25                         6145.700000  \n",
       "2024-06-26                         5501.700000  \n",
       "2024-06-27                         3221.400000  \n",
       "2024-06-28                         6075.200000  \n",
       "2024-06-29                         5451.800000  \n",
       "2024-06-30                         5695.400000  \n",
       "2024-07-01                         5597.352220  \n",
       "2024-07-02                         5572.805145  \n",
       "2024-07-03                         5306.701384  \n",
       "2024-07-04                         5494.642222  \n",
       "2024-07-05                         5470.559963  \n",
       "2024-07-06                         5473.200552  \n",
       "2024-07-07                         5504.027466  \n",
       "2024-07-08                         5510.918967  \n",
       "2024-07-09                         5500.242234  \n",
       "2024-07-10                         5500.273728  \n",
       "2024-07-11                         5507.341183  \n",
       "2024-07-12                         5505.214625  \n",
       "2024-07-13                         5507.172418  \n",
       "2024-07-14                         5508.803491  "
      ]
     },
     "execution_count": 114,
     "metadata": {},
     "output_type": "execute_result"
    }
   ],
   "source": [
    "present_data_with_forecast_data.tail(25)"
   ]
  },
  {
   "cell_type": "markdown",
   "metadata": {},
   "source": [
    "## Visualizing forecasted Soil moisture with Historical data"
   ]
  },
  {
   "cell_type": "code",
   "execution_count": 115,
   "metadata": {},
   "outputs": [
    {
     "data": {
      "application/vnd.plotly.v1+json": {
       "config": {
        "plotlyServerURL": "https://plot.ly"
       },
       "data": [
        {
         "mode": "lines",
         "name": "Historical Soil Moisture",
         "type": "scatter",
         "x": [
          "2020-01-01T00:00:00",
          "2020-01-02T00:00:00",
          "2020-01-03T00:00:00",
          "2020-01-04T00:00:00",
          "2020-01-05T00:00:00",
          "2020-01-06T00:00:00",
          "2020-01-07T00:00:00",
          "2020-01-08T00:00:00",
          "2020-01-09T00:00:00",
          "2020-01-10T00:00:00",
          "2020-01-11T00:00:00",
          "2020-01-12T00:00:00",
          "2020-01-13T00:00:00",
          "2020-01-14T00:00:00",
          "2020-01-15T00:00:00",
          "2020-01-16T00:00:00",
          "2020-01-17T00:00:00",
          "2020-01-18T00:00:00",
          "2020-01-19T00:00:00",
          "2020-01-20T00:00:00",
          "2020-01-21T00:00:00",
          "2020-01-22T00:00:00",
          "2020-01-23T00:00:00",
          "2020-01-24T00:00:00",
          "2020-01-25T00:00:00",
          "2020-01-26T00:00:00",
          "2020-01-27T00:00:00",
          "2020-01-28T00:00:00",
          "2020-01-29T00:00:00",
          "2020-01-30T00:00:00",
          "2020-01-31T00:00:00",
          "2020-02-01T00:00:00",
          "2020-02-02T00:00:00",
          "2020-02-03T00:00:00",
          "2020-02-04T00:00:00",
          "2020-02-05T00:00:00",
          "2020-02-06T00:00:00",
          "2020-02-07T00:00:00",
          "2020-02-08T00:00:00",
          "2020-02-09T00:00:00",
          "2020-02-10T00:00:00",
          "2020-02-11T00:00:00",
          "2020-02-12T00:00:00",
          "2020-02-13T00:00:00",
          "2020-02-14T00:00:00",
          "2020-02-15T00:00:00",
          "2020-02-16T00:00:00",
          "2020-02-17T00:00:00",
          "2020-02-18T00:00:00",
          "2020-02-19T00:00:00",
          "2020-02-20T00:00:00",
          "2020-02-21T00:00:00",
          "2020-02-22T00:00:00",
          "2020-02-23T00:00:00",
          "2020-02-24T00:00:00",
          "2020-02-25T00:00:00",
          "2020-02-26T00:00:00",
          "2020-02-27T00:00:00",
          "2020-02-28T00:00:00",
          "2020-02-29T00:00:00",
          "2020-03-01T00:00:00",
          "2020-03-02T00:00:00",
          "2020-03-03T00:00:00",
          "2020-03-04T00:00:00",
          "2020-03-05T00:00:00",
          "2020-03-06T00:00:00",
          "2020-03-07T00:00:00",
          "2020-03-08T00:00:00",
          "2020-03-09T00:00:00",
          "2020-03-10T00:00:00",
          "2020-03-11T00:00:00",
          "2020-03-12T00:00:00",
          "2020-03-13T00:00:00",
          "2020-03-14T00:00:00",
          "2020-03-15T00:00:00",
          "2020-03-16T00:00:00",
          "2020-03-17T00:00:00",
          "2020-03-18T00:00:00",
          "2020-03-19T00:00:00",
          "2020-03-20T00:00:00",
          "2020-03-21T00:00:00",
          "2020-03-22T00:00:00",
          "2020-03-23T00:00:00",
          "2020-03-24T00:00:00",
          "2020-03-25T00:00:00",
          "2020-03-26T00:00:00",
          "2020-03-27T00:00:00",
          "2020-03-28T00:00:00",
          "2020-03-29T00:00:00",
          "2020-03-30T00:00:00",
          "2020-03-31T00:00:00",
          "2020-04-01T00:00:00",
          "2020-04-02T00:00:00",
          "2020-04-03T00:00:00",
          "2020-04-04T00:00:00",
          "2020-04-05T00:00:00",
          "2020-04-06T00:00:00",
          "2020-04-07T00:00:00",
          "2020-04-08T00:00:00",
          "2020-04-09T00:00:00",
          "2020-04-10T00:00:00",
          "2020-04-11T00:00:00",
          "2020-04-12T00:00:00",
          "2020-04-13T00:00:00",
          "2020-04-14T00:00:00",
          "2020-04-15T00:00:00",
          "2020-04-16T00:00:00",
          "2020-04-17T00:00:00",
          "2020-04-18T00:00:00",
          "2020-04-19T00:00:00",
          "2020-04-20T00:00:00",
          "2020-04-21T00:00:00",
          "2020-04-22T00:00:00",
          "2020-04-23T00:00:00",
          "2020-04-24T00:00:00",
          "2020-04-25T00:00:00",
          "2020-04-26T00:00:00",
          "2020-04-27T00:00:00",
          "2020-04-28T00:00:00",
          "2020-04-29T00:00:00",
          "2020-04-30T00:00:00",
          "2020-05-01T00:00:00",
          "2020-05-02T00:00:00",
          "2020-05-03T00:00:00",
          "2020-05-04T00:00:00",
          "2020-05-05T00:00:00",
          "2020-05-06T00:00:00",
          "2020-05-07T00:00:00",
          "2020-05-08T00:00:00",
          "2020-05-09T00:00:00",
          "2020-05-10T00:00:00",
          "2020-05-11T00:00:00",
          "2020-05-12T00:00:00",
          "2020-05-13T00:00:00",
          "2020-05-14T00:00:00",
          "2020-05-15T00:00:00",
          "2020-05-16T00:00:00",
          "2020-05-17T00:00:00",
          "2020-05-18T00:00:00",
          "2020-05-19T00:00:00",
          "2020-05-20T00:00:00",
          "2020-05-21T00:00:00",
          "2020-05-22T00:00:00",
          "2020-05-23T00:00:00",
          "2020-05-24T00:00:00",
          "2020-05-25T00:00:00",
          "2020-05-26T00:00:00",
          "2020-05-27T00:00:00",
          "2020-05-28T00:00:00",
          "2020-05-29T00:00:00",
          "2020-05-30T00:00:00",
          "2020-05-31T00:00:00",
          "2020-06-01T00:00:00",
          "2020-06-02T00:00:00",
          "2020-06-03T00:00:00",
          "2020-06-04T00:00:00",
          "2020-06-05T00:00:00",
          "2020-06-06T00:00:00",
          "2020-06-07T00:00:00",
          "2020-06-08T00:00:00",
          "2020-06-09T00:00:00",
          "2020-06-10T00:00:00",
          "2020-06-11T00:00:00",
          "2020-06-12T00:00:00",
          "2020-06-13T00:00:00",
          "2020-06-14T00:00:00",
          "2020-06-15T00:00:00",
          "2020-06-16T00:00:00",
          "2020-06-17T00:00:00",
          "2020-06-18T00:00:00",
          "2020-06-19T00:00:00",
          "2020-06-20T00:00:00",
          "2020-06-21T00:00:00",
          "2020-06-22T00:00:00",
          "2020-06-23T00:00:00",
          "2020-06-24T00:00:00",
          "2020-06-25T00:00:00",
          "2020-06-26T00:00:00",
          "2020-06-27T00:00:00",
          "2020-06-28T00:00:00",
          "2020-06-29T00:00:00",
          "2020-06-30T00:00:00",
          "2020-07-01T00:00:00",
          "2020-07-02T00:00:00",
          "2020-07-03T00:00:00",
          "2020-07-04T00:00:00",
          "2020-07-05T00:00:00",
          "2020-07-06T00:00:00",
          "2020-07-07T00:00:00",
          "2020-07-08T00:00:00",
          "2020-07-09T00:00:00",
          "2020-07-10T00:00:00",
          "2020-07-11T00:00:00",
          "2020-07-12T00:00:00",
          "2020-07-13T00:00:00",
          "2020-07-14T00:00:00",
          "2020-07-15T00:00:00",
          "2020-07-16T00:00:00",
          "2020-07-17T00:00:00",
          "2020-07-18T00:00:00",
          "2020-07-19T00:00:00",
          "2020-07-20T00:00:00",
          "2020-07-21T00:00:00",
          "2020-07-22T00:00:00",
          "2020-07-23T00:00:00",
          "2020-07-24T00:00:00",
          "2020-07-25T00:00:00",
          "2020-07-26T00:00:00",
          "2020-07-27T00:00:00",
          "2020-07-28T00:00:00",
          "2020-07-29T00:00:00",
          "2020-07-30T00:00:00",
          "2020-07-31T00:00:00",
          "2020-08-01T00:00:00",
          "2020-08-02T00:00:00",
          "2020-08-03T00:00:00",
          "2020-08-04T00:00:00",
          "2020-08-05T00:00:00",
          "2020-08-06T00:00:00",
          "2020-08-07T00:00:00",
          "2020-08-08T00:00:00",
          "2020-08-09T00:00:00",
          "2020-08-10T00:00:00",
          "2020-08-11T00:00:00",
          "2020-08-12T00:00:00",
          "2020-08-13T00:00:00",
          "2020-08-14T00:00:00",
          "2020-08-15T00:00:00",
          "2020-08-16T00:00:00",
          "2020-08-17T00:00:00",
          "2020-08-18T00:00:00",
          "2020-08-19T00:00:00",
          "2020-08-20T00:00:00",
          "2020-08-21T00:00:00",
          "2020-08-22T00:00:00",
          "2020-08-23T00:00:00",
          "2020-08-24T00:00:00",
          "2020-08-25T00:00:00",
          "2020-08-26T00:00:00",
          "2020-08-27T00:00:00",
          "2020-08-28T00:00:00",
          "2020-08-29T00:00:00",
          "2020-08-30T00:00:00",
          "2020-08-31T00:00:00",
          "2020-09-01T00:00:00",
          "2020-09-02T00:00:00",
          "2020-09-03T00:00:00",
          "2020-09-04T00:00:00",
          "2020-09-05T00:00:00",
          "2020-09-06T00:00:00",
          "2020-09-07T00:00:00",
          "2020-09-08T00:00:00",
          "2020-09-09T00:00:00",
          "2020-09-10T00:00:00",
          "2020-09-11T00:00:00",
          "2020-09-12T00:00:00",
          "2020-09-13T00:00:00",
          "2020-09-14T00:00:00",
          "2020-09-15T00:00:00",
          "2020-09-16T00:00:00",
          "2020-09-17T00:00:00",
          "2020-09-18T00:00:00",
          "2020-09-19T00:00:00",
          "2020-09-20T00:00:00",
          "2020-09-21T00:00:00",
          "2020-09-22T00:00:00",
          "2020-09-23T00:00:00",
          "2020-09-24T00:00:00",
          "2020-09-25T00:00:00",
          "2020-09-26T00:00:00",
          "2020-09-27T00:00:00",
          "2020-09-28T00:00:00",
          "2020-09-29T00:00:00",
          "2020-09-30T00:00:00",
          "2020-10-01T00:00:00",
          "2020-10-02T00:00:00",
          "2020-10-03T00:00:00",
          "2020-10-04T00:00:00",
          "2020-10-05T00:00:00",
          "2020-10-06T00:00:00",
          "2020-10-07T00:00:00",
          "2020-10-08T00:00:00",
          "2020-10-09T00:00:00",
          "2020-10-10T00:00:00",
          "2020-10-11T00:00:00",
          "2020-10-12T00:00:00",
          "2020-10-13T00:00:00",
          "2020-10-14T00:00:00",
          "2020-10-15T00:00:00",
          "2020-10-16T00:00:00",
          "2020-10-17T00:00:00",
          "2020-10-18T00:00:00",
          "2020-10-19T00:00:00",
          "2020-10-20T00:00:00",
          "2020-10-21T00:00:00",
          "2020-10-22T00:00:00",
          "2020-10-23T00:00:00",
          "2020-10-24T00:00:00",
          "2020-10-25T00:00:00",
          "2020-10-26T00:00:00",
          "2020-10-27T00:00:00",
          "2020-10-28T00:00:00",
          "2020-10-29T00:00:00",
          "2020-10-30T00:00:00",
          "2020-10-31T00:00:00",
          "2020-11-01T00:00:00",
          "2020-11-02T00:00:00",
          "2020-11-03T00:00:00",
          "2020-11-04T00:00:00",
          "2020-11-05T00:00:00",
          "2020-11-06T00:00:00",
          "2020-11-07T00:00:00",
          "2020-11-08T00:00:00",
          "2020-11-09T00:00:00",
          "2020-11-10T00:00:00",
          "2020-11-11T00:00:00",
          "2020-11-12T00:00:00",
          "2020-11-13T00:00:00",
          "2020-11-14T00:00:00",
          "2020-11-15T00:00:00",
          "2020-11-16T00:00:00",
          "2020-11-17T00:00:00",
          "2020-11-18T00:00:00",
          "2020-11-19T00:00:00",
          "2020-11-20T00:00:00",
          "2020-11-21T00:00:00",
          "2020-11-22T00:00:00",
          "2020-11-23T00:00:00",
          "2020-11-24T00:00:00",
          "2020-11-25T00:00:00",
          "2020-11-26T00:00:00",
          "2020-11-27T00:00:00",
          "2020-11-28T00:00:00",
          "2020-11-29T00:00:00",
          "2020-11-30T00:00:00",
          "2020-12-01T00:00:00",
          "2020-12-02T00:00:00",
          "2020-12-03T00:00:00",
          "2020-12-04T00:00:00",
          "2020-12-05T00:00:00",
          "2020-12-06T00:00:00",
          "2020-12-07T00:00:00",
          "2020-12-08T00:00:00",
          "2020-12-09T00:00:00",
          "2020-12-10T00:00:00",
          "2020-12-11T00:00:00",
          "2020-12-12T00:00:00",
          "2020-12-13T00:00:00",
          "2020-12-14T00:00:00",
          "2020-12-15T00:00:00",
          "2020-12-16T00:00:00",
          "2020-12-17T00:00:00",
          "2020-12-18T00:00:00",
          "2020-12-19T00:00:00",
          "2020-12-20T00:00:00",
          "2020-12-21T00:00:00",
          "2020-12-22T00:00:00",
          "2020-12-23T00:00:00",
          "2020-12-24T00:00:00",
          "2020-12-25T00:00:00",
          "2020-12-26T00:00:00",
          "2020-12-27T00:00:00",
          "2020-12-28T00:00:00",
          "2020-12-29T00:00:00",
          "2020-12-30T00:00:00",
          "2020-12-31T00:00:00",
          "2021-01-01T00:00:00",
          "2021-01-02T00:00:00",
          "2021-01-03T00:00:00",
          "2021-01-04T00:00:00",
          "2021-01-05T00:00:00",
          "2021-01-06T00:00:00",
          "2021-01-07T00:00:00",
          "2021-01-08T00:00:00",
          "2021-01-09T00:00:00",
          "2021-01-10T00:00:00",
          "2021-01-11T00:00:00",
          "2021-01-12T00:00:00",
          "2021-01-13T00:00:00",
          "2021-01-14T00:00:00",
          "2021-01-15T00:00:00",
          "2021-01-16T00:00:00",
          "2021-01-17T00:00:00",
          "2021-01-18T00:00:00",
          "2021-01-19T00:00:00",
          "2021-01-20T00:00:00",
          "2021-01-21T00:00:00",
          "2021-01-22T00:00:00",
          "2021-01-23T00:00:00",
          "2021-01-24T00:00:00",
          "2021-01-25T00:00:00",
          "2021-01-26T00:00:00",
          "2021-01-27T00:00:00",
          "2021-01-28T00:00:00",
          "2021-01-29T00:00:00",
          "2021-01-30T00:00:00",
          "2021-01-31T00:00:00",
          "2021-02-01T00:00:00",
          "2021-02-02T00:00:00",
          "2021-02-03T00:00:00",
          "2021-02-04T00:00:00",
          "2021-02-05T00:00:00",
          "2021-02-06T00:00:00",
          "2021-02-07T00:00:00",
          "2021-02-08T00:00:00",
          "2021-02-09T00:00:00",
          "2021-02-10T00:00:00",
          "2021-02-11T00:00:00",
          "2021-02-12T00:00:00",
          "2021-02-13T00:00:00",
          "2021-02-14T00:00:00",
          "2021-02-15T00:00:00",
          "2021-02-16T00:00:00",
          "2021-02-17T00:00:00",
          "2021-02-18T00:00:00",
          "2021-02-19T00:00:00",
          "2021-02-20T00:00:00",
          "2021-02-21T00:00:00",
          "2021-02-22T00:00:00",
          "2021-02-23T00:00:00",
          "2021-02-24T00:00:00",
          "2021-02-25T00:00:00",
          "2021-02-26T00:00:00",
          "2021-02-27T00:00:00",
          "2021-02-28T00:00:00",
          "2021-03-01T00:00:00",
          "2021-03-02T00:00:00",
          "2021-03-03T00:00:00",
          "2021-03-04T00:00:00",
          "2021-03-05T00:00:00",
          "2021-03-06T00:00:00",
          "2021-03-07T00:00:00",
          "2021-03-08T00:00:00",
          "2021-03-09T00:00:00",
          "2021-03-10T00:00:00",
          "2021-03-11T00:00:00",
          "2021-03-12T00:00:00",
          "2021-03-13T00:00:00",
          "2021-03-14T00:00:00",
          "2021-03-15T00:00:00",
          "2021-03-16T00:00:00",
          "2021-03-17T00:00:00",
          "2021-03-18T00:00:00",
          "2021-03-19T00:00:00",
          "2021-03-20T00:00:00",
          "2021-03-21T00:00:00",
          "2021-03-22T00:00:00",
          "2021-03-23T00:00:00",
          "2021-03-24T00:00:00",
          "2021-03-25T00:00:00",
          "2021-03-26T00:00:00",
          "2021-03-27T00:00:00",
          "2021-03-28T00:00:00",
          "2021-03-29T00:00:00",
          "2021-03-30T00:00:00",
          "2021-03-31T00:00:00",
          "2021-04-01T00:00:00",
          "2021-04-02T00:00:00",
          "2021-04-03T00:00:00",
          "2021-04-04T00:00:00",
          "2021-04-05T00:00:00",
          "2021-04-06T00:00:00",
          "2021-04-07T00:00:00",
          "2021-04-08T00:00:00",
          "2021-04-09T00:00:00",
          "2021-04-10T00:00:00",
          "2021-04-11T00:00:00",
          "2021-04-12T00:00:00",
          "2021-04-13T00:00:00",
          "2021-04-14T00:00:00",
          "2021-04-15T00:00:00",
          "2021-04-16T00:00:00",
          "2021-04-17T00:00:00",
          "2021-04-18T00:00:00",
          "2021-04-19T00:00:00",
          "2021-04-20T00:00:00",
          "2021-04-21T00:00:00",
          "2021-04-22T00:00:00",
          "2021-04-23T00:00:00",
          "2021-04-24T00:00:00",
          "2021-04-25T00:00:00",
          "2021-04-26T00:00:00",
          "2021-04-27T00:00:00",
          "2021-04-28T00:00:00",
          "2021-04-29T00:00:00",
          "2021-04-30T00:00:00",
          "2021-05-01T00:00:00",
          "2021-05-02T00:00:00",
          "2021-05-03T00:00:00",
          "2021-05-04T00:00:00",
          "2021-05-05T00:00:00",
          "2021-05-06T00:00:00",
          "2021-05-07T00:00:00",
          "2021-05-08T00:00:00",
          "2021-05-09T00:00:00",
          "2021-05-10T00:00:00",
          "2021-05-11T00:00:00",
          "2021-05-12T00:00:00",
          "2021-05-13T00:00:00",
          "2021-05-14T00:00:00",
          "2021-05-15T00:00:00",
          "2021-05-16T00:00:00",
          "2021-05-17T00:00:00",
          "2021-05-18T00:00:00",
          "2021-05-19T00:00:00",
          "2021-05-20T00:00:00",
          "2021-05-21T00:00:00",
          "2021-05-22T00:00:00",
          "2021-05-23T00:00:00",
          "2021-05-24T00:00:00",
          "2021-05-25T00:00:00",
          "2021-05-26T00:00:00",
          "2021-05-27T00:00:00",
          "2021-05-28T00:00:00",
          "2021-05-29T00:00:00",
          "2021-05-30T00:00:00",
          "2021-05-31T00:00:00",
          "2021-06-01T00:00:00",
          "2021-06-02T00:00:00",
          "2021-06-03T00:00:00",
          "2021-06-04T00:00:00",
          "2021-06-05T00:00:00",
          "2021-06-06T00:00:00",
          "2021-06-07T00:00:00",
          "2021-06-08T00:00:00",
          "2021-06-09T00:00:00",
          "2021-06-10T00:00:00",
          "2021-06-11T00:00:00",
          "2021-06-12T00:00:00",
          "2021-06-13T00:00:00",
          "2021-06-14T00:00:00",
          "2021-06-15T00:00:00",
          "2021-06-16T00:00:00",
          "2021-06-17T00:00:00",
          "2021-06-18T00:00:00",
          "2021-06-19T00:00:00",
          "2021-06-20T00:00:00",
          "2021-06-21T00:00:00",
          "2021-06-22T00:00:00",
          "2021-06-23T00:00:00",
          "2021-06-24T00:00:00",
          "2021-06-25T00:00:00",
          "2021-06-26T00:00:00",
          "2021-06-27T00:00:00",
          "2021-06-28T00:00:00",
          "2021-06-29T00:00:00",
          "2021-06-30T00:00:00",
          "2021-07-01T00:00:00",
          "2021-07-02T00:00:00",
          "2021-07-03T00:00:00",
          "2021-07-04T00:00:00",
          "2021-07-05T00:00:00",
          "2021-07-06T00:00:00",
          "2021-07-07T00:00:00",
          "2021-07-08T00:00:00",
          "2021-07-09T00:00:00",
          "2021-07-10T00:00:00",
          "2021-07-11T00:00:00",
          "2021-07-12T00:00:00",
          "2021-07-13T00:00:00",
          "2021-07-14T00:00:00",
          "2021-07-15T00:00:00",
          "2021-07-16T00:00:00",
          "2021-07-17T00:00:00",
          "2021-07-18T00:00:00",
          "2021-07-19T00:00:00",
          "2021-07-20T00:00:00",
          "2021-07-21T00:00:00",
          "2021-07-22T00:00:00",
          "2021-07-23T00:00:00",
          "2021-07-24T00:00:00",
          "2021-07-25T00:00:00",
          "2021-07-26T00:00:00",
          "2021-07-27T00:00:00",
          "2021-07-28T00:00:00",
          "2021-07-29T00:00:00",
          "2021-07-30T00:00:00",
          "2021-07-31T00:00:00",
          "2021-08-01T00:00:00",
          "2021-08-02T00:00:00",
          "2021-08-03T00:00:00",
          "2021-08-04T00:00:00",
          "2021-08-05T00:00:00",
          "2021-08-06T00:00:00",
          "2021-08-07T00:00:00",
          "2021-08-08T00:00:00",
          "2021-08-09T00:00:00",
          "2021-08-10T00:00:00",
          "2021-08-11T00:00:00",
          "2021-08-12T00:00:00",
          "2021-08-13T00:00:00",
          "2021-08-14T00:00:00",
          "2021-08-15T00:00:00",
          "2021-08-16T00:00:00",
          "2021-08-17T00:00:00",
          "2021-08-18T00:00:00",
          "2021-08-19T00:00:00",
          "2021-08-20T00:00:00",
          "2021-08-21T00:00:00",
          "2021-08-22T00:00:00",
          "2021-08-23T00:00:00",
          "2021-08-24T00:00:00",
          "2021-08-25T00:00:00",
          "2021-08-26T00:00:00",
          "2021-08-27T00:00:00",
          "2021-08-28T00:00:00",
          "2021-08-29T00:00:00",
          "2021-08-30T00:00:00",
          "2021-08-31T00:00:00",
          "2021-09-01T00:00:00",
          "2021-09-02T00:00:00",
          "2021-09-03T00:00:00",
          "2021-09-04T00:00:00",
          "2021-09-05T00:00:00",
          "2021-09-06T00:00:00",
          "2021-09-07T00:00:00",
          "2021-09-08T00:00:00",
          "2021-09-09T00:00:00",
          "2021-09-10T00:00:00",
          "2021-09-11T00:00:00",
          "2021-09-12T00:00:00",
          "2021-09-13T00:00:00",
          "2021-09-14T00:00:00",
          "2021-09-15T00:00:00",
          "2021-09-16T00:00:00",
          "2021-09-17T00:00:00",
          "2021-09-18T00:00:00",
          "2021-09-19T00:00:00",
          "2021-09-20T00:00:00",
          "2021-09-21T00:00:00",
          "2021-09-22T00:00:00",
          "2021-09-23T00:00:00",
          "2021-09-24T00:00:00",
          "2021-09-25T00:00:00",
          "2021-09-26T00:00:00",
          "2021-09-27T00:00:00",
          "2021-09-28T00:00:00",
          "2021-09-29T00:00:00",
          "2021-09-30T00:00:00",
          "2021-10-01T00:00:00",
          "2021-10-02T00:00:00",
          "2021-10-03T00:00:00",
          "2021-10-04T00:00:00",
          "2021-10-05T00:00:00",
          "2021-10-06T00:00:00",
          "2021-10-07T00:00:00",
          "2021-10-08T00:00:00",
          "2021-10-09T00:00:00",
          "2021-10-10T00:00:00",
          "2021-10-11T00:00:00",
          "2021-10-12T00:00:00",
          "2021-10-13T00:00:00",
          "2021-10-14T00:00:00",
          "2021-10-15T00:00:00",
          "2021-10-16T00:00:00",
          "2021-10-17T00:00:00",
          "2021-10-18T00:00:00",
          "2021-10-19T00:00:00",
          "2021-10-20T00:00:00",
          "2021-10-21T00:00:00",
          "2021-10-22T00:00:00",
          "2021-10-23T00:00:00",
          "2021-10-24T00:00:00",
          "2021-10-25T00:00:00",
          "2021-10-26T00:00:00",
          "2021-10-27T00:00:00",
          "2021-10-28T00:00:00",
          "2021-10-29T00:00:00",
          "2021-10-30T00:00:00",
          "2021-10-31T00:00:00",
          "2021-11-01T00:00:00",
          "2021-11-02T00:00:00",
          "2021-11-03T00:00:00",
          "2021-11-04T00:00:00",
          "2021-11-05T00:00:00",
          "2021-11-06T00:00:00",
          "2021-11-07T00:00:00",
          "2021-11-08T00:00:00",
          "2021-11-09T00:00:00",
          "2021-11-10T00:00:00",
          "2021-11-11T00:00:00",
          "2021-11-12T00:00:00",
          "2021-11-13T00:00:00",
          "2021-11-14T00:00:00",
          "2021-11-15T00:00:00",
          "2021-11-16T00:00:00",
          "2021-11-17T00:00:00",
          "2021-11-18T00:00:00",
          "2021-11-19T00:00:00",
          "2021-11-20T00:00:00",
          "2021-11-21T00:00:00",
          "2021-11-22T00:00:00",
          "2021-11-23T00:00:00",
          "2021-11-24T00:00:00",
          "2021-11-25T00:00:00",
          "2021-11-26T00:00:00",
          "2021-11-27T00:00:00",
          "2021-11-28T00:00:00",
          "2021-11-29T00:00:00",
          "2021-11-30T00:00:00",
          "2021-12-01T00:00:00",
          "2021-12-02T00:00:00",
          "2021-12-03T00:00:00",
          "2021-12-04T00:00:00",
          "2021-12-05T00:00:00",
          "2021-12-06T00:00:00",
          "2021-12-07T00:00:00",
          "2021-12-08T00:00:00",
          "2021-12-09T00:00:00",
          "2021-12-10T00:00:00",
          "2021-12-11T00:00:00",
          "2021-12-12T00:00:00",
          "2021-12-13T00:00:00",
          "2021-12-14T00:00:00",
          "2021-12-15T00:00:00",
          "2021-12-16T00:00:00",
          "2021-12-17T00:00:00",
          "2021-12-18T00:00:00",
          "2021-12-19T00:00:00",
          "2021-12-20T00:00:00",
          "2021-12-21T00:00:00",
          "2021-12-22T00:00:00",
          "2021-12-23T00:00:00",
          "2021-12-24T00:00:00",
          "2021-12-25T00:00:00",
          "2021-12-26T00:00:00",
          "2021-12-27T00:00:00",
          "2021-12-28T00:00:00",
          "2021-12-29T00:00:00",
          "2021-12-30T00:00:00",
          "2021-12-31T00:00:00",
          "2022-01-01T00:00:00",
          "2022-01-02T00:00:00",
          "2022-01-03T00:00:00",
          "2022-01-04T00:00:00",
          "2022-01-05T00:00:00",
          "2022-01-06T00:00:00",
          "2022-01-07T00:00:00",
          "2022-01-08T00:00:00",
          "2022-01-09T00:00:00",
          "2022-01-10T00:00:00",
          "2022-01-11T00:00:00",
          "2022-01-12T00:00:00",
          "2022-01-13T00:00:00",
          "2022-01-14T00:00:00",
          "2022-01-15T00:00:00",
          "2022-01-16T00:00:00",
          "2022-01-17T00:00:00",
          "2022-01-18T00:00:00",
          "2022-01-19T00:00:00",
          "2022-01-20T00:00:00",
          "2022-01-21T00:00:00",
          "2022-01-22T00:00:00",
          "2022-01-23T00:00:00",
          "2022-01-24T00:00:00",
          "2022-01-25T00:00:00",
          "2022-01-26T00:00:00",
          "2022-01-27T00:00:00",
          "2022-01-28T00:00:00",
          "2022-01-29T00:00:00",
          "2022-01-30T00:00:00",
          "2022-01-31T00:00:00",
          "2022-02-01T00:00:00",
          "2022-02-02T00:00:00",
          "2022-02-03T00:00:00",
          "2022-02-04T00:00:00",
          "2022-02-05T00:00:00",
          "2022-02-06T00:00:00",
          "2022-02-07T00:00:00",
          "2022-02-08T00:00:00",
          "2022-02-09T00:00:00",
          "2022-02-10T00:00:00",
          "2022-02-11T00:00:00",
          "2022-02-12T00:00:00",
          "2022-02-13T00:00:00",
          "2022-02-14T00:00:00",
          "2022-02-15T00:00:00",
          "2022-02-16T00:00:00",
          "2022-02-17T00:00:00",
          "2022-02-18T00:00:00",
          "2022-02-19T00:00:00",
          "2022-02-20T00:00:00",
          "2022-02-21T00:00:00",
          "2022-02-22T00:00:00",
          "2022-02-23T00:00:00",
          "2022-02-24T00:00:00",
          "2022-02-25T00:00:00",
          "2022-02-26T00:00:00",
          "2022-02-27T00:00:00",
          "2022-02-28T00:00:00",
          "2022-03-01T00:00:00",
          "2022-03-02T00:00:00",
          "2022-03-03T00:00:00",
          "2022-03-04T00:00:00",
          "2022-03-05T00:00:00",
          "2022-03-06T00:00:00",
          "2022-03-07T00:00:00",
          "2022-03-08T00:00:00",
          "2022-03-09T00:00:00",
          "2022-03-10T00:00:00",
          "2022-03-11T00:00:00",
          "2022-03-12T00:00:00",
          "2022-03-13T00:00:00",
          "2022-03-14T00:00:00",
          "2022-03-15T00:00:00",
          "2022-03-16T00:00:00",
          "2022-03-17T00:00:00",
          "2022-03-18T00:00:00",
          "2022-03-19T00:00:00",
          "2022-03-20T00:00:00",
          "2022-03-21T00:00:00",
          "2022-03-22T00:00:00",
          "2022-03-23T00:00:00",
          "2022-03-24T00:00:00",
          "2022-03-25T00:00:00",
          "2022-03-26T00:00:00",
          "2022-03-27T00:00:00",
          "2022-03-28T00:00:00",
          "2022-03-29T00:00:00",
          "2022-03-30T00:00:00",
          "2022-03-31T00:00:00",
          "2022-04-01T00:00:00",
          "2022-04-02T00:00:00",
          "2022-04-03T00:00:00",
          "2022-04-04T00:00:00",
          "2022-04-05T00:00:00",
          "2022-04-06T00:00:00",
          "2022-04-07T00:00:00",
          "2022-04-08T00:00:00",
          "2022-04-09T00:00:00",
          "2022-04-10T00:00:00",
          "2022-04-11T00:00:00",
          "2022-04-12T00:00:00",
          "2022-04-13T00:00:00",
          "2022-04-14T00:00:00",
          "2022-04-15T00:00:00",
          "2022-04-16T00:00:00",
          "2022-04-17T00:00:00",
          "2022-04-18T00:00:00",
          "2022-04-19T00:00:00",
          "2022-04-20T00:00:00",
          "2022-04-21T00:00:00",
          "2022-04-22T00:00:00",
          "2022-04-23T00:00:00",
          "2022-04-24T00:00:00",
          "2022-04-25T00:00:00",
          "2022-04-26T00:00:00",
          "2022-04-27T00:00:00",
          "2022-04-28T00:00:00",
          "2022-04-29T00:00:00",
          "2022-04-30T00:00:00",
          "2022-05-01T00:00:00",
          "2022-05-02T00:00:00",
          "2022-05-03T00:00:00",
          "2022-05-04T00:00:00",
          "2022-05-05T00:00:00",
          "2022-05-06T00:00:00",
          "2022-05-07T00:00:00",
          "2022-05-08T00:00:00",
          "2022-05-09T00:00:00",
          "2022-05-10T00:00:00",
          "2022-05-11T00:00:00",
          "2022-05-12T00:00:00",
          "2022-05-13T00:00:00",
          "2022-05-14T00:00:00",
          "2022-05-15T00:00:00",
          "2022-05-16T00:00:00",
          "2022-05-17T00:00:00",
          "2022-05-18T00:00:00",
          "2022-05-19T00:00:00",
          "2022-05-20T00:00:00",
          "2022-05-21T00:00:00",
          "2022-05-22T00:00:00",
          "2022-05-23T00:00:00",
          "2022-05-24T00:00:00",
          "2022-05-25T00:00:00",
          "2022-05-26T00:00:00",
          "2022-05-27T00:00:00",
          "2022-05-28T00:00:00",
          "2022-05-29T00:00:00",
          "2022-05-30T00:00:00",
          "2022-05-31T00:00:00",
          "2022-06-01T00:00:00",
          "2022-06-02T00:00:00",
          "2022-06-03T00:00:00",
          "2022-06-04T00:00:00",
          "2022-06-05T00:00:00",
          "2022-06-06T00:00:00",
          "2022-06-07T00:00:00",
          "2022-06-08T00:00:00",
          "2022-06-09T00:00:00",
          "2022-06-10T00:00:00",
          "2022-06-11T00:00:00",
          "2022-06-12T00:00:00",
          "2022-06-13T00:00:00",
          "2022-06-14T00:00:00",
          "2022-06-15T00:00:00",
          "2022-06-16T00:00:00",
          "2022-06-17T00:00:00",
          "2022-06-18T00:00:00",
          "2022-06-19T00:00:00",
          "2022-06-20T00:00:00",
          "2022-06-21T00:00:00",
          "2022-06-22T00:00:00",
          "2022-06-23T00:00:00",
          "2022-06-24T00:00:00",
          "2022-06-25T00:00:00",
          "2022-06-26T00:00:00",
          "2022-06-27T00:00:00",
          "2022-06-28T00:00:00",
          "2022-06-29T00:00:00",
          "2022-06-30T00:00:00",
          "2022-07-01T00:00:00",
          "2022-07-02T00:00:00",
          "2022-07-03T00:00:00",
          "2022-07-04T00:00:00",
          "2022-07-05T00:00:00",
          "2022-07-06T00:00:00",
          "2022-07-07T00:00:00",
          "2022-07-08T00:00:00",
          "2022-07-09T00:00:00",
          "2022-07-10T00:00:00",
          "2022-07-11T00:00:00",
          "2022-07-12T00:00:00",
          "2022-07-13T00:00:00",
          "2022-07-14T00:00:00",
          "2022-07-15T00:00:00",
          "2022-07-16T00:00:00",
          "2022-07-17T00:00:00",
          "2022-07-18T00:00:00",
          "2022-07-19T00:00:00",
          "2022-07-20T00:00:00",
          "2022-07-21T00:00:00",
          "2022-07-22T00:00:00",
          "2022-07-23T00:00:00",
          "2022-07-24T00:00:00",
          "2022-07-25T00:00:00",
          "2022-07-26T00:00:00",
          "2022-07-27T00:00:00",
          "2022-07-28T00:00:00",
          "2022-07-29T00:00:00",
          "2022-07-30T00:00:00",
          "2022-07-31T00:00:00",
          "2022-08-01T00:00:00",
          "2022-08-02T00:00:00",
          "2022-08-03T00:00:00",
          "2022-08-04T00:00:00",
          "2022-08-05T00:00:00",
          "2022-08-06T00:00:00",
          "2022-08-07T00:00:00",
          "2022-08-08T00:00:00",
          "2022-08-09T00:00:00",
          "2022-08-10T00:00:00",
          "2022-08-11T00:00:00",
          "2022-08-12T00:00:00",
          "2022-08-13T00:00:00",
          "2022-08-14T00:00:00",
          "2022-08-15T00:00:00",
          "2022-08-16T00:00:00",
          "2022-08-17T00:00:00",
          "2022-08-18T00:00:00",
          "2022-08-19T00:00:00",
          "2022-08-20T00:00:00",
          "2022-08-21T00:00:00",
          "2022-08-22T00:00:00",
          "2022-08-23T00:00:00",
          "2022-08-24T00:00:00",
          "2022-08-25T00:00:00",
          "2022-08-26T00:00:00",
          "2022-08-27T00:00:00",
          "2022-08-28T00:00:00",
          "2022-08-29T00:00:00",
          "2022-08-30T00:00:00",
          "2022-08-31T00:00:00",
          "2022-09-01T00:00:00",
          "2022-09-02T00:00:00",
          "2022-09-03T00:00:00",
          "2022-09-04T00:00:00",
          "2022-09-05T00:00:00",
          "2022-09-06T00:00:00",
          "2022-09-07T00:00:00",
          "2022-09-08T00:00:00",
          "2022-09-09T00:00:00",
          "2022-09-10T00:00:00",
          "2022-09-11T00:00:00",
          "2022-09-12T00:00:00",
          "2022-09-13T00:00:00",
          "2022-09-14T00:00:00",
          "2022-09-15T00:00:00",
          "2022-09-16T00:00:00",
          "2022-09-17T00:00:00",
          "2022-09-18T00:00:00",
          "2022-09-19T00:00:00",
          "2022-09-20T00:00:00",
          "2022-09-21T00:00:00",
          "2022-09-22T00:00:00",
          "2022-09-23T00:00:00",
          "2022-09-24T00:00:00",
          "2022-09-25T00:00:00",
          "2022-09-26T00:00:00",
          "2022-09-27T00:00:00",
          "2022-09-28T00:00:00",
          "2022-09-29T00:00:00",
          "2022-09-30T00:00:00",
          "2022-10-01T00:00:00",
          "2022-10-02T00:00:00",
          "2022-10-03T00:00:00",
          "2022-10-04T00:00:00",
          "2022-10-05T00:00:00",
          "2022-10-06T00:00:00",
          "2022-10-07T00:00:00",
          "2022-10-08T00:00:00",
          "2022-10-09T00:00:00",
          "2022-10-10T00:00:00",
          "2022-10-11T00:00:00",
          "2022-10-12T00:00:00",
          "2022-10-13T00:00:00",
          "2022-10-14T00:00:00",
          "2022-10-15T00:00:00",
          "2022-10-16T00:00:00",
          "2022-10-17T00:00:00",
          "2022-10-18T00:00:00",
          "2022-10-19T00:00:00",
          "2022-10-20T00:00:00",
          "2022-10-21T00:00:00",
          "2022-10-22T00:00:00",
          "2022-10-23T00:00:00",
          "2022-10-24T00:00:00",
          "2022-10-25T00:00:00",
          "2022-10-26T00:00:00",
          "2022-10-27T00:00:00",
          "2022-10-28T00:00:00",
          "2022-10-29T00:00:00",
          "2022-10-30T00:00:00",
          "2022-10-31T00:00:00",
          "2022-11-01T00:00:00",
          "2022-11-02T00:00:00",
          "2022-11-03T00:00:00",
          "2022-11-04T00:00:00",
          "2022-11-05T00:00:00",
          "2022-11-06T00:00:00",
          "2022-11-07T00:00:00",
          "2022-11-08T00:00:00",
          "2022-11-09T00:00:00",
          "2022-11-10T00:00:00",
          "2022-11-11T00:00:00",
          "2022-11-12T00:00:00",
          "2022-11-13T00:00:00",
          "2022-11-14T00:00:00",
          "2022-11-15T00:00:00",
          "2022-11-16T00:00:00",
          "2022-11-17T00:00:00",
          "2022-11-18T00:00:00",
          "2022-11-19T00:00:00",
          "2022-11-20T00:00:00",
          "2022-11-21T00:00:00",
          "2022-11-22T00:00:00",
          "2022-11-23T00:00:00",
          "2022-11-24T00:00:00",
          "2022-11-25T00:00:00",
          "2022-11-26T00:00:00",
          "2022-11-27T00:00:00",
          "2022-11-28T00:00:00",
          "2022-11-29T00:00:00",
          "2022-11-30T00:00:00",
          "2022-12-01T00:00:00",
          "2022-12-02T00:00:00",
          "2022-12-03T00:00:00",
          "2022-12-04T00:00:00",
          "2022-12-05T00:00:00",
          "2022-12-06T00:00:00",
          "2022-12-07T00:00:00",
          "2022-12-08T00:00:00",
          "2022-12-09T00:00:00",
          "2022-12-10T00:00:00",
          "2022-12-11T00:00:00",
          "2022-12-12T00:00:00",
          "2022-12-13T00:00:00",
          "2022-12-14T00:00:00",
          "2022-12-15T00:00:00",
          "2022-12-16T00:00:00",
          "2022-12-17T00:00:00",
          "2022-12-18T00:00:00",
          "2022-12-19T00:00:00",
          "2022-12-20T00:00:00",
          "2022-12-21T00:00:00",
          "2022-12-22T00:00:00",
          "2022-12-23T00:00:00",
          "2022-12-24T00:00:00",
          "2022-12-25T00:00:00",
          "2022-12-26T00:00:00",
          "2022-12-27T00:00:00",
          "2022-12-28T00:00:00",
          "2022-12-29T00:00:00",
          "2022-12-30T00:00:00",
          "2022-12-31T00:00:00",
          "2023-01-01T00:00:00",
          "2023-01-02T00:00:00",
          "2023-01-03T00:00:00",
          "2023-01-04T00:00:00",
          "2023-01-05T00:00:00",
          "2023-01-06T00:00:00",
          "2023-01-07T00:00:00",
          "2023-01-08T00:00:00",
          "2023-01-09T00:00:00",
          "2023-01-10T00:00:00",
          "2023-01-11T00:00:00",
          "2023-01-12T00:00:00",
          "2023-01-13T00:00:00",
          "2023-01-14T00:00:00",
          "2023-01-15T00:00:00",
          "2023-01-16T00:00:00",
          "2023-01-17T00:00:00",
          "2023-01-18T00:00:00",
          "2023-01-19T00:00:00",
          "2023-01-20T00:00:00",
          "2023-01-21T00:00:00",
          "2023-01-22T00:00:00",
          "2023-01-23T00:00:00",
          "2023-01-24T00:00:00",
          "2023-01-25T00:00:00",
          "2023-01-26T00:00:00",
          "2023-01-27T00:00:00",
          "2023-01-28T00:00:00",
          "2023-01-29T00:00:00",
          "2023-01-30T00:00:00",
          "2023-01-31T00:00:00",
          "2023-02-01T00:00:00",
          "2023-02-02T00:00:00",
          "2023-02-03T00:00:00",
          "2023-02-04T00:00:00",
          "2023-02-05T00:00:00",
          "2023-02-06T00:00:00",
          "2023-02-07T00:00:00",
          "2023-02-08T00:00:00",
          "2023-02-09T00:00:00",
          "2023-02-10T00:00:00",
          "2023-02-11T00:00:00",
          "2023-02-12T00:00:00",
          "2023-02-13T00:00:00",
          "2023-02-14T00:00:00",
          "2023-02-15T00:00:00",
          "2023-02-16T00:00:00",
          "2023-02-17T00:00:00",
          "2023-02-18T00:00:00",
          "2023-02-19T00:00:00",
          "2023-02-20T00:00:00",
          "2023-02-21T00:00:00",
          "2023-02-22T00:00:00",
          "2023-02-23T00:00:00",
          "2023-02-24T00:00:00",
          "2023-02-25T00:00:00",
          "2023-02-26T00:00:00",
          "2023-02-27T00:00:00",
          "2023-02-28T00:00:00",
          "2023-03-01T00:00:00",
          "2023-03-02T00:00:00",
          "2023-03-03T00:00:00",
          "2023-03-04T00:00:00",
          "2023-03-05T00:00:00",
          "2023-03-06T00:00:00",
          "2023-03-07T00:00:00",
          "2023-03-08T00:00:00",
          "2023-03-09T00:00:00",
          "2023-03-10T00:00:00",
          "2023-03-11T00:00:00",
          "2023-03-12T00:00:00",
          "2023-03-13T00:00:00",
          "2023-03-14T00:00:00",
          "2023-03-15T00:00:00",
          "2023-03-16T00:00:00",
          "2023-03-17T00:00:00",
          "2023-03-18T00:00:00",
          "2023-03-19T00:00:00",
          "2023-03-20T00:00:00",
          "2023-03-21T00:00:00",
          "2023-03-22T00:00:00",
          "2023-03-23T00:00:00",
          "2023-03-24T00:00:00",
          "2023-03-25T00:00:00",
          "2023-03-26T00:00:00",
          "2023-03-27T00:00:00",
          "2023-03-28T00:00:00",
          "2023-03-29T00:00:00",
          "2023-03-30T00:00:00",
          "2023-03-31T00:00:00",
          "2023-04-01T00:00:00",
          "2023-04-02T00:00:00",
          "2023-04-03T00:00:00",
          "2023-04-04T00:00:00",
          "2023-04-05T00:00:00",
          "2023-04-06T00:00:00",
          "2023-04-07T00:00:00",
          "2023-04-08T00:00:00",
          "2023-04-09T00:00:00",
          "2023-04-10T00:00:00",
          "2023-04-11T00:00:00",
          "2023-04-12T00:00:00",
          "2023-04-13T00:00:00",
          "2023-04-14T00:00:00",
          "2023-04-15T00:00:00",
          "2023-04-16T00:00:00",
          "2023-04-17T00:00:00",
          "2023-04-18T00:00:00",
          "2023-04-19T00:00:00",
          "2023-04-20T00:00:00",
          "2023-04-21T00:00:00",
          "2023-04-22T00:00:00",
          "2023-04-23T00:00:00",
          "2023-04-24T00:00:00",
          "2023-04-25T00:00:00",
          "2023-04-26T00:00:00",
          "2023-04-27T00:00:00",
          "2023-04-28T00:00:00",
          "2023-04-29T00:00:00",
          "2023-04-30T00:00:00",
          "2023-05-01T00:00:00",
          "2023-05-02T00:00:00",
          "2023-05-03T00:00:00",
          "2023-05-04T00:00:00",
          "2023-05-05T00:00:00",
          "2023-05-06T00:00:00",
          "2023-05-07T00:00:00",
          "2023-05-08T00:00:00",
          "2023-05-09T00:00:00",
          "2023-05-10T00:00:00",
          "2023-05-11T00:00:00",
          "2023-05-12T00:00:00",
          "2023-05-13T00:00:00",
          "2023-05-14T00:00:00",
          "2023-05-15T00:00:00",
          "2023-05-16T00:00:00",
          "2023-05-17T00:00:00",
          "2023-05-18T00:00:00",
          "2023-05-19T00:00:00",
          "2023-05-20T00:00:00",
          "2023-05-21T00:00:00",
          "2023-05-22T00:00:00",
          "2023-05-23T00:00:00",
          "2023-05-24T00:00:00",
          "2023-05-25T00:00:00",
          "2023-05-26T00:00:00",
          "2023-05-27T00:00:00",
          "2023-05-28T00:00:00",
          "2023-05-29T00:00:00",
          "2023-05-30T00:00:00",
          "2023-05-31T00:00:00",
          "2023-06-01T00:00:00",
          "2023-06-02T00:00:00",
          "2023-06-03T00:00:00",
          "2023-06-04T00:00:00",
          "2023-06-05T00:00:00",
          "2023-06-06T00:00:00",
          "2023-06-07T00:00:00",
          "2023-06-08T00:00:00",
          "2023-06-09T00:00:00",
          "2023-06-10T00:00:00",
          "2023-06-11T00:00:00",
          "2023-06-12T00:00:00",
          "2023-06-13T00:00:00",
          "2023-06-14T00:00:00",
          "2023-06-15T00:00:00",
          "2023-06-16T00:00:00",
          "2023-06-17T00:00:00",
          "2023-06-18T00:00:00",
          "2023-06-19T00:00:00",
          "2023-06-20T00:00:00",
          "2023-06-21T00:00:00",
          "2023-06-22T00:00:00",
          "2023-06-23T00:00:00",
          "2023-06-24T00:00:00",
          "2023-06-25T00:00:00",
          "2023-06-26T00:00:00",
          "2023-06-27T00:00:00",
          "2023-06-28T00:00:00",
          "2023-06-29T00:00:00",
          "2023-06-30T00:00:00",
          "2023-07-01T00:00:00",
          "2023-07-02T00:00:00",
          "2023-07-03T00:00:00",
          "2023-07-04T00:00:00",
          "2023-07-05T00:00:00",
          "2023-07-06T00:00:00",
          "2023-07-07T00:00:00",
          "2023-07-08T00:00:00",
          "2023-07-09T00:00:00",
          "2023-07-10T00:00:00",
          "2023-07-11T00:00:00",
          "2023-07-12T00:00:00",
          "2023-07-13T00:00:00",
          "2023-07-14T00:00:00",
          "2023-07-15T00:00:00",
          "2023-07-16T00:00:00",
          "2023-07-17T00:00:00",
          "2023-07-18T00:00:00",
          "2023-07-19T00:00:00",
          "2023-07-20T00:00:00",
          "2023-07-21T00:00:00",
          "2023-07-22T00:00:00",
          "2023-07-23T00:00:00",
          "2023-07-24T00:00:00",
          "2023-07-25T00:00:00",
          "2023-07-26T00:00:00",
          "2023-07-27T00:00:00",
          "2023-07-28T00:00:00",
          "2023-07-29T00:00:00",
          "2023-07-30T00:00:00",
          "2023-07-31T00:00:00",
          "2023-08-01T00:00:00",
          "2023-08-02T00:00:00",
          "2023-08-03T00:00:00",
          "2023-08-04T00:00:00",
          "2023-08-05T00:00:00",
          "2023-08-06T00:00:00",
          "2023-08-07T00:00:00",
          "2023-08-08T00:00:00",
          "2023-08-09T00:00:00",
          "2023-08-10T00:00:00",
          "2023-08-11T00:00:00",
          "2023-08-12T00:00:00",
          "2023-08-13T00:00:00",
          "2023-08-14T00:00:00",
          "2023-08-15T00:00:00",
          "2023-08-16T00:00:00",
          "2023-08-17T00:00:00",
          "2023-08-18T00:00:00",
          "2023-08-19T00:00:00",
          "2023-08-20T00:00:00",
          "2023-08-21T00:00:00",
          "2023-08-22T00:00:00",
          "2023-08-23T00:00:00",
          "2023-08-24T00:00:00",
          "2023-08-25T00:00:00",
          "2023-08-26T00:00:00",
          "2023-08-27T00:00:00",
          "2023-08-28T00:00:00",
          "2023-08-29T00:00:00",
          "2023-08-30T00:00:00",
          "2023-08-31T00:00:00",
          "2023-09-01T00:00:00",
          "2023-09-02T00:00:00",
          "2023-09-03T00:00:00",
          "2023-09-04T00:00:00",
          "2023-09-05T00:00:00",
          "2023-09-06T00:00:00",
          "2023-09-07T00:00:00",
          "2023-09-08T00:00:00",
          "2023-09-09T00:00:00",
          "2023-09-10T00:00:00",
          "2023-09-11T00:00:00",
          "2023-09-12T00:00:00",
          "2023-09-13T00:00:00",
          "2023-09-14T00:00:00",
          "2023-09-15T00:00:00",
          "2023-09-16T00:00:00",
          "2023-09-17T00:00:00",
          "2023-09-18T00:00:00",
          "2023-09-19T00:00:00",
          "2023-09-20T00:00:00",
          "2023-09-21T00:00:00",
          "2023-09-22T00:00:00",
          "2023-09-23T00:00:00",
          "2023-09-24T00:00:00",
          "2023-09-25T00:00:00",
          "2023-09-26T00:00:00",
          "2023-09-27T00:00:00",
          "2023-09-28T00:00:00",
          "2023-09-29T00:00:00",
          "2023-09-30T00:00:00",
          "2023-10-01T00:00:00",
          "2023-10-02T00:00:00",
          "2023-10-03T00:00:00",
          "2023-10-04T00:00:00",
          "2023-10-05T00:00:00",
          "2023-10-06T00:00:00",
          "2023-10-07T00:00:00",
          "2023-10-08T00:00:00",
          "2023-10-09T00:00:00",
          "2023-10-10T00:00:00",
          "2023-10-11T00:00:00",
          "2023-10-12T00:00:00",
          "2023-10-13T00:00:00",
          "2023-10-14T00:00:00",
          "2023-10-15T00:00:00",
          "2023-10-16T00:00:00",
          "2023-10-17T00:00:00",
          "2023-10-18T00:00:00",
          "2023-10-19T00:00:00",
          "2023-10-20T00:00:00",
          "2023-10-21T00:00:00",
          "2023-10-22T00:00:00",
          "2023-10-23T00:00:00",
          "2023-10-24T00:00:00",
          "2023-10-25T00:00:00",
          "2023-10-26T00:00:00",
          "2023-10-27T00:00:00",
          "2023-10-28T00:00:00",
          "2023-10-29T00:00:00",
          "2023-10-30T00:00:00",
          "2023-10-31T00:00:00",
          "2023-11-01T00:00:00",
          "2023-11-02T00:00:00",
          "2023-11-03T00:00:00",
          "2023-11-04T00:00:00",
          "2023-11-05T00:00:00",
          "2023-11-06T00:00:00",
          "2023-11-07T00:00:00",
          "2023-11-08T00:00:00",
          "2023-11-09T00:00:00",
          "2023-11-10T00:00:00",
          "2023-11-11T00:00:00",
          "2023-11-12T00:00:00",
          "2023-11-13T00:00:00",
          "2023-11-14T00:00:00",
          "2023-11-15T00:00:00",
          "2023-11-16T00:00:00",
          "2023-11-17T00:00:00",
          "2023-11-18T00:00:00",
          "2023-11-19T00:00:00",
          "2023-11-20T00:00:00",
          "2023-11-21T00:00:00",
          "2023-11-22T00:00:00",
          "2023-11-23T00:00:00",
          "2023-11-24T00:00:00",
          "2023-11-25T00:00:00",
          "2023-11-26T00:00:00",
          "2023-11-27T00:00:00",
          "2023-11-28T00:00:00",
          "2023-11-29T00:00:00",
          "2023-11-30T00:00:00",
          "2023-12-01T00:00:00",
          "2023-12-02T00:00:00",
          "2023-12-03T00:00:00",
          "2023-12-04T00:00:00",
          "2023-12-05T00:00:00",
          "2023-12-06T00:00:00",
          "2023-12-07T00:00:00",
          "2023-12-08T00:00:00",
          "2023-12-09T00:00:00",
          "2023-12-10T00:00:00",
          "2023-12-11T00:00:00",
          "2023-12-12T00:00:00",
          "2023-12-13T00:00:00",
          "2023-12-14T00:00:00",
          "2023-12-15T00:00:00",
          "2023-12-16T00:00:00",
          "2023-12-17T00:00:00",
          "2023-12-18T00:00:00",
          "2023-12-19T00:00:00",
          "2023-12-20T00:00:00",
          "2023-12-21T00:00:00",
          "2023-12-22T00:00:00",
          "2023-12-23T00:00:00",
          "2023-12-24T00:00:00",
          "2023-12-25T00:00:00",
          "2023-12-26T00:00:00",
          "2023-12-27T00:00:00",
          "2023-12-28T00:00:00",
          "2023-12-29T00:00:00",
          "2023-12-30T00:00:00",
          "2023-12-31T00:00:00",
          "2024-01-01T00:00:00",
          "2024-01-02T00:00:00",
          "2024-01-03T00:00:00",
          "2024-01-04T00:00:00",
          "2024-01-05T00:00:00",
          "2024-01-06T00:00:00",
          "2024-01-07T00:00:00",
          "2024-01-08T00:00:00",
          "2024-01-09T00:00:00",
          "2024-01-10T00:00:00",
          "2024-01-11T00:00:00",
          "2024-01-12T00:00:00",
          "2024-01-13T00:00:00",
          "2024-01-14T00:00:00",
          "2024-01-15T00:00:00",
          "2024-01-16T00:00:00",
          "2024-01-17T00:00:00",
          "2024-01-18T00:00:00",
          "2024-01-19T00:00:00",
          "2024-01-20T00:00:00",
          "2024-01-21T00:00:00",
          "2024-01-22T00:00:00",
          "2024-01-23T00:00:00",
          "2024-01-24T00:00:00",
          "2024-01-25T00:00:00",
          "2024-01-26T00:00:00",
          "2024-01-27T00:00:00",
          "2024-01-28T00:00:00",
          "2024-01-29T00:00:00",
          "2024-01-30T00:00:00",
          "2024-01-31T00:00:00",
          "2024-02-01T00:00:00",
          "2024-02-02T00:00:00",
          "2024-02-03T00:00:00",
          "2024-02-04T00:00:00",
          "2024-02-05T00:00:00",
          "2024-02-06T00:00:00",
          "2024-02-07T00:00:00",
          "2024-02-08T00:00:00",
          "2024-02-09T00:00:00",
          "2024-02-10T00:00:00",
          "2024-02-11T00:00:00",
          "2024-02-12T00:00:00",
          "2024-02-13T00:00:00",
          "2024-02-14T00:00:00",
          "2024-02-15T00:00:00",
          "2024-02-16T00:00:00",
          "2024-02-17T00:00:00",
          "2024-02-18T00:00:00",
          "2024-02-19T00:00:00",
          "2024-02-20T00:00:00",
          "2024-02-21T00:00:00",
          "2024-02-22T00:00:00",
          "2024-02-23T00:00:00",
          "2024-02-24T00:00:00",
          "2024-02-25T00:00:00",
          "2024-02-26T00:00:00",
          "2024-02-27T00:00:00",
          "2024-02-28T00:00:00",
          "2024-02-29T00:00:00",
          "2024-03-01T00:00:00",
          "2024-03-02T00:00:00",
          "2024-03-03T00:00:00",
          "2024-03-04T00:00:00",
          "2024-03-05T00:00:00",
          "2024-03-06T00:00:00",
          "2024-03-07T00:00:00",
          "2024-03-08T00:00:00",
          "2024-03-09T00:00:00",
          "2024-03-10T00:00:00",
          "2024-03-11T00:00:00",
          "2024-03-12T00:00:00",
          "2024-03-13T00:00:00",
          "2024-03-14T00:00:00",
          "2024-03-15T00:00:00",
          "2024-03-16T00:00:00",
          "2024-03-17T00:00:00",
          "2024-03-18T00:00:00",
          "2024-03-19T00:00:00",
          "2024-03-20T00:00:00",
          "2024-03-21T00:00:00",
          "2024-03-22T00:00:00",
          "2024-03-23T00:00:00",
          "2024-03-24T00:00:00",
          "2024-03-25T00:00:00",
          "2024-03-26T00:00:00",
          "2024-03-27T00:00:00",
          "2024-03-28T00:00:00",
          "2024-03-29T00:00:00",
          "2024-03-30T00:00:00",
          "2024-03-31T00:00:00",
          "2024-04-01T00:00:00",
          "2024-04-02T00:00:00",
          "2024-04-03T00:00:00",
          "2024-04-04T00:00:00",
          "2024-04-05T00:00:00",
          "2024-04-06T00:00:00",
          "2024-04-07T00:00:00",
          "2024-04-08T00:00:00",
          "2024-04-09T00:00:00",
          "2024-04-10T00:00:00",
          "2024-04-11T00:00:00",
          "2024-04-12T00:00:00",
          "2024-04-13T00:00:00",
          "2024-04-14T00:00:00",
          "2024-04-15T00:00:00",
          "2024-04-16T00:00:00",
          "2024-04-17T00:00:00",
          "2024-04-18T00:00:00",
          "2024-04-19T00:00:00",
          "2024-04-20T00:00:00",
          "2024-04-21T00:00:00",
          "2024-04-22T00:00:00",
          "2024-04-23T00:00:00",
          "2024-04-24T00:00:00",
          "2024-04-25T00:00:00",
          "2024-04-26T00:00:00",
          "2024-04-27T00:00:00",
          "2024-04-28T00:00:00",
          "2024-04-29T00:00:00",
          "2024-04-30T00:00:00",
          "2024-05-01T00:00:00",
          "2024-05-02T00:00:00",
          "2024-05-03T00:00:00",
          "2024-05-04T00:00:00",
          "2024-05-05T00:00:00",
          "2024-05-06T00:00:00",
          "2024-05-07T00:00:00",
          "2024-05-08T00:00:00",
          "2024-05-09T00:00:00",
          "2024-05-10T00:00:00",
          "2024-05-11T00:00:00",
          "2024-05-12T00:00:00",
          "2024-05-13T00:00:00",
          "2024-05-14T00:00:00",
          "2024-05-15T00:00:00",
          "2024-05-16T00:00:00",
          "2024-05-17T00:00:00",
          "2024-05-18T00:00:00",
          "2024-05-19T00:00:00",
          "2024-05-20T00:00:00",
          "2024-05-21T00:00:00",
          "2024-05-22T00:00:00",
          "2024-05-23T00:00:00",
          "2024-05-24T00:00:00",
          "2024-05-25T00:00:00",
          "2024-05-26T00:00:00",
          "2024-05-27T00:00:00",
          "2024-05-28T00:00:00",
          "2024-05-29T00:00:00",
          "2024-05-30T00:00:00",
          "2024-05-31T00:00:00",
          "2024-06-01T00:00:00",
          "2024-06-02T00:00:00",
          "2024-06-03T00:00:00",
          "2024-06-04T00:00:00",
          "2024-06-05T00:00:00",
          "2024-06-06T00:00:00",
          "2024-06-07T00:00:00",
          "2024-06-08T00:00:00",
          "2024-06-09T00:00:00",
          "2024-06-10T00:00:00",
          "2024-06-11T00:00:00",
          "2024-06-12T00:00:00",
          "2024-06-13T00:00:00",
          "2024-06-14T00:00:00",
          "2024-06-15T00:00:00",
          "2024-06-16T00:00:00",
          "2024-06-17T00:00:00",
          "2024-06-18T00:00:00",
          "2024-06-19T00:00:00",
          "2024-06-20T00:00:00",
          "2024-06-21T00:00:00",
          "2024-06-22T00:00:00",
          "2024-06-23T00:00:00",
          "2024-06-24T00:00:00",
          "2024-06-25T00:00:00",
          "2024-06-26T00:00:00",
          "2024-06-27T00:00:00",
          "2024-06-28T00:00:00",
          "2024-06-29T00:00:00",
          "2024-06-30T00:00:00",
          "2024-07-01T00:00:00",
          "2024-07-02T00:00:00",
          "2024-07-03T00:00:00",
          "2024-07-04T00:00:00",
          "2024-07-05T00:00:00",
          "2024-07-06T00:00:00",
          "2024-07-07T00:00:00",
          "2024-07-08T00:00:00",
          "2024-07-09T00:00:00",
          "2024-07-10T00:00:00",
          "2024-07-11T00:00:00",
          "2024-07-12T00:00:00",
          "2024-07-13T00:00:00",
          "2024-07-14T00:00:00"
         ],
         "y": [
          0.3265,
          0.326,
          0.324,
          0.322875,
          0.323,
          0.323,
          0.323,
          0.327125,
          0.33258333333333334,
          0.33483333333333337,
          0.33545833333333336,
          0.336,
          0.338,
          0.34474999999999995,
          0.3481666666666667,
          0.3499999999999999,
          0.35241666666666666,
          0.3539999999999999,
          0.3565,
          0.357,
          0.35775,
          0.35833333333333334,
          0.35733333333333334,
          0.3565,
          0.35600000000000004,
          0.35600000000000004,
          0.355875,
          0.3565833333333333,
          0.36000000000000004,
          0.364125,
          0.3657083333333333,
          0.3675,
          0.3678333333333333,
          0.3685,
          0.3685,
          0.36800000000000005,
          0.36599999999999994,
          0.363875,
          0.3618333333333333,
          0.3605416666666667,
          0.3581666666666667,
          0.35591666666666666,
          0.3537083333333333,
          0.35274999999999995,
          0.3499999999999999,
          0.34883333333333333,
          0.34637499999999993,
          0.342,
          0.33829166666666666,
          0.33275000000000005,
          0.33033333333333337,
          0.3277083333333333,
          0.3253333333333333,
          0.32033333333333336,
          0.3153333333333333,
          0.315125,
          0.31479166666666664,
          0.316625,
          0.31816666666666665,
          0.3145,
          0.3094166666666667,
          0.30575,
          0.3025833333333333,
          0.3007083333333333,
          0.29975,
          0.3005,
          0.30204166666666665,
          0.30233333333333334,
          0.30041666666666667,
          0.2985,
          0.29820833333333335,
          0.30745833333333333,
          0.33770833333333333,
          0.3538333333333333,
          0.35925,
          0.35975,
          0.3592916666666666,
          0.3582916666666667,
          0.3562083333333333,
          0.3546666666666667,
          0.353375,
          0.3516666666666666,
          0.349375,
          0.34725,
          0.345375,
          0.34424999999999994,
          0.34474999999999995,
          0.35033333333333333,
          0.35354166666666664,
          0.353875,
          0.35200000000000004,
          0.3463333333333333,
          0.3428333333333333,
          0.3408333333333333,
          0.33908333333333335,
          0.33558333333333334,
          0.3322916666666667,
          0.33270833333333333,
          0.33025,
          0.326625,
          0.3305,
          0.32416666666666666,
          0.319375,
          0.317125,
          0.31654166666666667,
          0.3157083333333333,
          0.31120833333333336,
          0.3207083333333333,
          0.31616666666666665,
          0.309875,
          0.30433333333333334,
          0.30066666666666664,
          0.29216666666666663,
          0.28633333333333333,
          0.281625,
          0.27820833333333334,
          0.2790416666666667,
          0.2755,
          0.27320833333333333,
          0.26833333333333337,
          0.2608333333333333,
          0.2549166666666667,
          0.26329166666666665,
          0.275125,
          0.2672083333333333,
          0.2620416666666667,
          0.26016666666666666,
          0.25029166666666663,
          0.2535,
          0.2527916666666667,
          0.2511666666666667,
          0.2548333333333333,
          0.255125,
          0.25783333333333336,
          0.2569166666666667,
          0.26295833333333335,
          0.26458333333333334,
          0.261375,
          0.260625,
          0.261,
          0.25945833333333335,
          0.25595833333333334,
          0.253,
          0.2500833333333333,
          0.24762499999999998,
          0.24483333333333332,
          0.2419583333333333,
          0.23908333333333331,
          0.2369583333333333,
          0.232625,
          0.22116666666666665,
          0.215,
          0.211,
          0.21037499999999998,
          0.206,
          0.20433333333333334,
          0.20391666666666666,
          0.211,
          0.22320833333333334,
          0.22487500000000002,
          0.22429166666666667,
          0.2303333333333333,
          0.2380833333333333,
          0.237125,
          0.239125,
          0.23783333333333334,
          0.23625,
          0.23687499999999997,
          0.23779166666666665,
          0.23850000000000002,
          0.23970833333333333,
          0.24083333333333332,
          0.24916666666666668,
          0.2551666666666667,
          0.25625000000000003,
          0.25758333333333333,
          0.2559166666666667,
          0.25370833333333337,
          0.25329166666666664,
          0.25245833333333334,
          0.2517916666666667,
          0.2705416666666666,
          0.2857916666666666,
          0.2855833333333333,
          0.2840833333333333,
          0.2830833333333333,
          0.2847083333333333,
          0.2785416666666667,
          0.2753333333333334,
          0.2775,
          0.2775,
          0.2724166666666667,
          0.2751666666666667,
          0.28220833333333334,
          0.2836666666666667,
          0.28520833333333334,
          0.284375,
          0.2838333333333333,
          0.2848333333333333,
          0.285,
          0.2859583333333333,
          0.2905,
          0.29516666666666663,
          0.30124999999999996,
          0.3030833333333333,
          0.30295833333333333,
          0.3015,
          0.29975,
          0.2969583333333333,
          0.29383333333333334,
          0.292875,
          0.2935,
          0.2932916666666667,
          0.292875,
          0.2932916666666667,
          0.29224999999999995,
          0.2917916666666666,
          0.29112499999999997,
          0.2897916666666666,
          0.2873333333333333,
          0.28624999999999995,
          0.28529166666666667,
          0.285,
          0.28475,
          0.2850833333333333,
          0.307,
          0.3175,
          0.3216666666666667,
          0.32183333333333336,
          0.32204166666666667,
          0.32245833333333335,
          0.3237083333333333,
          0.32666666666666666,
          0.3296666666666667,
          0.3293333333333333,
          0.3293333333333333,
          0.32816666666666666,
          0.3264166666666667,
          0.32525,
          0.326,
          0.3285,
          0.33183333333333337,
          0.3317083333333333,
          0.3312083333333334,
          0.329625,
          0.32716666666666666,
          0.32525,
          0.32358333333333333,
          0.32233333333333336,
          0.3209166666666667,
          0.3176666666666667,
          0.31383333333333335,
          0.31016666666666665,
          0.30620833333333336,
          0.3033333333333333,
          0.3009583333333333,
          0.2976666666666667,
          0.2947083333333333,
          0.2917083333333333,
          0.2907083333333333,
          0.28954166666666664,
          0.28762499999999996,
          0.286375,
          0.2847083333333333,
          0.2825833333333333,
          0.28008333333333335,
          0.27758333333333335,
          0.2760416666666667,
          0.27408333333333335,
          0.27287500000000003,
          0.2710416666666667,
          0.26866666666666666,
          0.266125,
          0.263125,
          0.26104166666666667,
          0.25795833333333335,
          0.255625,
          0.25295833333333334,
          0.250625,
          0.24841666666666665,
          0.24570833333333333,
          0.24362499999999998,
          0.24158333333333334,
          0.23958333333333334,
          0.23766666666666666,
          0.23558333333333334,
          0.2336666666666667,
          0.23175,
          0.23029166666666667,
          0.22804166666666667,
          0.22666666666666668,
          0.22529166666666667,
          0.22354166666666667,
          0.22229166666666667,
          0.220625,
          0.21933333333333335,
          0.21829166666666666,
          0.216875,
          0.21541666666666667,
          0.21437499999999998,
          0.21337499999999998,
          0.21237499999999998,
          0.21137499999999998,
          0.21037499999999998,
          0.20941666666666667,
          0.21037499999999998,
          0.20820833333333333,
          0.20729166666666665,
          0.20637499999999998,
          0.206,
          0.20525000000000002,
          0.20433333333333334,
          0.2045,
          0.20325000000000001,
          0.20258333333333334,
          0.2021666666666667,
          0.2015,
          0.2015,
          0.20099999999999998,
          0.20099999999999998,
          0.2025,
          0.204,
          0.20350000000000001,
          0.20200000000000004,
          0.20624999999999996,
          0.2105,
          0.2105,
          0.2155,
          0.221,
          0.2295,
          0.2315,
          0.23083333333333333,
          0.226,
          0.224,
          0.224,
          0.2205,
          0.2145,
          0.21079166666666668,
          0.2125,
          0.2155,
          0.219,
          0.2225,
          0.2255,
          0.2295,
          0.23520833333333332,
          0.23450000000000001,
          0.2325,
          0.23479166666666665,
          0.24149999999999996,
          0.24549999999999997,
          0.248,
          0.25275,
          0.2585,
          0.259,
          0.255,
          0.2515,
          0.24650000000000002,
          0.24662499999999998,
          0.247,
          0.245,
          0.246,
          0.253,
          0.258,
          0.262,
          0.26508333333333334,
          0.26933333333333337,
          0.2765,
          0.28450000000000003,
          0.28783333333333333,
          0.28812499999999996,
          0.28920833333333335,
          0.30120833333333336,
          0.3136666666666667,
          0.3159166666666667,
          0.3176666666666667,
          0.31879166666666664,
          0.3205,
          0.3215,
          0.3225,
          0.323,
          0.323,
          0.323,
          0.3225,
          0.3215,
          0.321,
          0.32079166666666664,
          0.32033333333333336,
          0.3225,
          0.32375000000000004,
          0.32558333333333334,
          0.3275,
          0.327,
          0.324,
          0.32183333333333336,
          0.3215,
          0.319,
          0.31683333333333336,
          0.313625,
          0.310375,
          0.30920833333333336,
          0.307,
          0.3032916666666667,
          0.3016666666666667,
          0.2999583333333333,
          0.2972916666666667,
          0.29424999999999996,
          0.29229166666666667,
          0.2924583333333333,
          0.29475,
          0.29804166666666665,
          0.29791666666666666,
          0.296875,
          0.2955,
          0.29462499999999997,
          0.2933333333333333,
          0.2937916666666666,
          0.2957916666666666,
          0.29716666666666663,
          0.2959583333333333,
          0.29312499999999997,
          0.2866666666666666,
          0.28250000000000003,
          0.27616666666666667,
          0.2719166666666667,
          0.27195833333333336,
          0.2705,
          0.27075,
          0.267625,
          0.2648333333333333,
          0.26433333333333336,
          0.262625,
          0.259125,
          0.2548333333333333,
          0.252125,
          0.25033333333333335,
          0.24966666666666668,
          0.24970833333333334,
          0.24583333333333335,
          0.24462499999999998,
          0.24366666666666667,
          0.24483333333333332,
          0.24508333333333332,
          0.24366666666666667,
          0.24225,
          0.24066666666666667,
          0.23925,
          0.23691666666666666,
          0.23745833333333333,
          0.23479166666666665,
          0.23183333333333334,
          0.22987500000000002,
          0.22733333333333336,
          0.22454166666666667,
          0.22216666666666665,
          0.22433333333333336,
          0.21933333333333335,
          0.21720833333333334,
          0.21708333333333332,
          0.2177083333333333,
          0.2147083333333333,
          0.21245833333333333,
          0.21224999999999997,
          0.21133333333333335,
          0.20883333333333332,
          0.2058333333333333,
          0.19820833333333335,
          0.19183333333333333,
          0.18833333333333332,
          0.18575,
          0.18270833333333333,
          0.1785,
          0.18099999999999997,
          0.1745,
          0.1645,
          0.1595,
          0.155375,
          0.164,
          0.165,
          0.169,
          0.166,
          0.1645,
          0.161,
          0.15833333333333333,
          0.153,
          0.1505,
          0.1505,
          0.1545,
          0.1545,
          0.15720833333333334,
          0.158625,
          0.16,
          0.15737500000000001,
          0.1585,
          0.160125,
          0.16075,
          0.1625,
          0.1595,
          0.1555,
          0.15295833333333334,
          0.152,
          0.146,
          0.14416666666666667,
          0.144,
          0.144,
          0.1445,
          0.14416666666666667,
          0.149,
          0.1475,
          0.149,
          0.1535,
          0.153,
          0.154,
          0.154,
          0.15404166666666666,
          0.1545,
          0.1565,
          0.157,
          0.15991666666666668,
          0.16566666666666666,
          0.17300000000000001,
          0.1894583333333333,
          0.1945,
          0.19475,
          0.19499999999999998,
          0.195125,
          0.19487500000000002,
          0.19320833333333334,
          0.1895,
          0.19120833333333334,
          0.19899999999999998,
          0.21237499999999998,
          0.21379166666666669,
          0.2215,
          0.22024999999999997,
          0.20941666666666667,
          0.20691666666666667,
          0.21358333333333332,
          0.2157083333333333,
          0.21383333333333332,
          0.216,
          0.21991666666666668,
          0.22254166666666667,
          0.2363333333333333,
          0.24158333333333334,
          0.24066666666666667,
          0.24083333333333332,
          0.23962499999999998,
          0.23579166666666665,
          0.23170833333333332,
          0.23129166666666667,
          0.23408333333333334,
          0.23424999999999999,
          0.2335,
          0.231625,
          0.22929166666666667,
          0.22920833333333335,
          0.23420833333333335,
          0.238375,
          0.2489583333333333,
          0.27720833333333333,
          0.2953333333333333,
          0.2992916666666667,
          0.2980833333333333,
          0.2934583333333333,
          0.29091666666666666,
          0.290875,
          0.29883333333333334,
          0.31224999999999997,
          0.31383333333333335,
          0.31375000000000003,
          0.313375,
          0.3117083333333333,
          0.31195833333333334,
          0.31325,
          0.3428333333333333,
          0.3627916666666666,
          0.37200000000000005,
          0.37845833333333334,
          0.376125,
          0.3737916666666667,
          0.373,
          0.3705416666666667,
          0.36879166666666663,
          0.3665,
          0.36400000000000005,
          0.36133333333333334,
          0.35912499999999997,
          0.3565416666666667,
          0.3546666666666667,
          0.35200000000000004,
          0.3495833333333333,
          0.3467916666666666,
          0.343875,
          0.3403333333333334,
          0.337,
          0.333,
          0.329625,
          0.3273333333333333,
          0.3256666666666667,
          0.32545833333333335,
          0.325375,
          0.32475000000000004,
          0.3234166666666667,
          0.32225,
          0.3212916666666667,
          0.318625,
          0.31575000000000003,
          0.31416666666666665,
          0.312375,
          0.310625,
          0.308875,
          0.307375,
          0.3065,
          0.3045833333333333,
          0.3025,
          0.301,
          0.30116666666666664,
          0.3017916666666666,
          0.30175,
          0.3027083333333333,
          0.3065,
          0.30775,
          0.3062916666666667,
          0.30345833333333333,
          0.301,
          0.3013333333333333,
          0.30120833333333336,
          0.2982916666666667,
          0.29433333333333334,
          0.29391666666666666,
          0.29475,
          0.29983333333333334,
          0.30224999999999996,
          0.3007916666666666,
          0.298875,
          0.296375,
          0.2947916666666666,
          0.29324999999999996,
          0.292875,
          0.29091666666666666,
          0.28929166666666667,
          0.2880833333333333,
          0.28612499999999996,
          0.2837916666666666,
          0.281375,
          0.280125,
          0.28029166666666666,
          0.2789166666666667,
          0.27820833333333334,
          0.2785,
          0.2806666666666667,
          0.28220833333333334,
          0.2783333333333334,
          0.2753333333333334,
          0.2735416666666667,
          0.2715,
          0.2685,
          0.26583333333333337,
          0.260375,
          0.25775,
          0.25625000000000003,
          0.25383333333333336,
          0.25395833333333334,
          0.25533333333333336,
          0.25545833333333334,
          0.25504166666666667,
          0.2530833333333333,
          0.25,
          0.24616666666666664,
          0.244,
          0.24283333333333332,
          0.242,
          0.24379166666666666,
          0.24491666666666667,
          0.24291666666666667,
          0.24179166666666665,
          0.24149999999999996,
          0.23850000000000002,
          0.2363333333333333,
          0.235,
          0.23375,
          0.2325,
          0.23083333333333333,
          0.22929166666666667,
          0.22916666666666666,
          0.22833333333333336,
          0.22670833333333332,
          0.226,
          0.2235,
          0.2205,
          0.218,
          0.21537499999999998,
          0.2135,
          0.21329166666666666,
          0.21329166666666666,
          0.21537499999999998,
          0.217,
          0.2185,
          0.2195,
          0.221,
          0.22370833333333331,
          0.2305,
          0.2317916666666667,
          0.2285,
          0.22745833333333335,
          0.22725000000000004,
          0.22570833333333332,
          0.222,
          0.2195,
          0.2165,
          0.214,
          0.21341666666666667,
          0.2135,
          0.21624999999999997,
          0.22041666666666668,
          0.227,
          0.235,
          0.241,
          0.24429166666666666,
          0.24429166666666666,
          0.24149999999999996,
          0.238,
          0.23450000000000001,
          0.235,
          0.23675,
          0.24,
          0.23850000000000002,
          0.236,
          0.23295833333333335,
          0.23,
          0.227,
          0.2245,
          0.22,
          0.2185,
          0.2215,
          0.223,
          0.223,
          0.223,
          0.24033333333333332,
          0.27266666666666667,
          0.27937500000000004,
          0.28412499999999996,
          0.2880833333333333,
          0.291375,
          0.29341666666666666,
          0.2957916666666666,
          0.2977083333333333,
          0.30066666666666664,
          0.3012916666666667,
          0.30216666666666664,
          0.3047083333333333,
          0.30924999999999997,
          0.3105,
          0.31416666666666665,
          0.32025,
          0.3234166666666667,
          0.323875,
          0.3245,
          0.324875,
          0.32425,
          0.3233333333333333,
          0.322,
          0.3205,
          0.320375,
          0.32025,
          0.323625,
          0.3275,
          0.32808333333333334,
          0.3275,
          0.326,
          0.3225,
          0.31983333333333336,
          0.31745833333333334,
          0.31383333333333335,
          0.31233333333333335,
          0.31066666666666665,
          0.30675,
          0.303875,
          0.30116666666666664,
          0.3005833333333333,
          0.29891666666666666,
          0.2964583333333333,
          0.293375,
          0.291375,
          0.2895,
          0.28991666666666666,
          0.289,
          0.29,
          0.291,
          0.29112499999999997,
          0.29233333333333333,
          0.29024999999999995,
          0.28754166666666664,
          0.287,
          0.2875,
          0.285,
          0.28291666666666665,
          0.28075,
          0.2778333333333334,
          0.27575,
          0.2737916666666667,
          0.2731666666666667,
          0.2709166666666667,
          0.26737500000000003,
          0.26608333333333334,
          0.26737500000000003,
          0.27229166666666665,
          0.27275,
          0.27125000000000005,
          0.27025000000000005,
          0.2730416666666667,
          0.2737083333333334,
          0.27745833333333336,
          0.284,
          0.2867083333333333,
          0.2885833333333333,
          0.28620833333333334,
          0.282625,
          0.28654166666666664,
          0.2867083333333333,
          0.28704166666666664,
          0.2855,
          0.282125,
          0.28020833333333334,
          0.27775,
          0.27366666666666667,
          0.2707916666666667,
          0.26787500000000003,
          0.264875,
          0.261875,
          0.258875,
          0.255875,
          0.25295833333333334,
          0.2505833333333333,
          0.24787499999999998,
          0.24541666666666664,
          0.24454166666666666,
          0.242125,
          0.23841666666666664,
          0.23487500000000003,
          0.233,
          0.23095833333333335,
          0.2295,
          0.2317916666666667,
          0.23058333333333336,
          0.22845833333333335,
          0.22595833333333334,
          0.22370833333333331,
          0.221625,
          0.2195,
          0.217,
          0.21533333333333335,
          0.21366666666666667,
          0.213,
          0.20937499999999998,
          0.20979166666666668,
          0.20575,
          0.20829166666666665,
          0.209,
          0.20675,
          0.204125,
          0.20175,
          0.201375,
          0.19979166666666667,
          0.19866666666666669,
          0.19733333333333336,
          0.19620833333333335,
          0.19520833333333334,
          0.19825,
          0.2011666666666667,
          0.20395833333333332,
          0.20291666666666666,
          0.20804166666666665,
          0.20745833333333333,
          0.208,
          0.20666666666666667,
          0.20529166666666665,
          0.20537499999999997,
          0.20695833333333333,
          0.209875,
          0.21391666666666667,
          0.22670833333333332,
          0.22929166666666667,
          0.22612500000000002,
          0.2255,
          0.22266666666666668,
          0.22108333333333333,
          0.22058333333333335,
          0.21908333333333332,
          0.21658333333333335,
          0.21429166666666666,
          0.21145833333333333,
          0.20933333333333334,
          0.20737499999999998,
          0.20545833333333333,
          0.20454166666666665,
          0.2015416666666667,
          0.19929166666666667,
          0.19820833333333335,
          0.19899999999999998,
          0.1975,
          0.19595833333333335,
          0.19699999999999998,
          0.1985,
          0.19600000000000004,
          0.1885,
          0.1785,
          0.17941666666666667,
          0.1785,
          0.1795,
          0.19079166666666666,
          0.19795833333333335,
          0.22570833333333332,
          0.235,
          0.23858333333333334,
          0.24120833333333333,
          0.24149999999999996,
          0.244375,
          0.24533333333333332,
          0.24479166666666666,
          0.24725,
          0.278125,
          0.288375,
          0.288375,
          0.29062499999999997,
          0.292,
          0.29362499999999997,
          0.2947083333333333,
          0.2977916666666666,
          0.3,
          0.30033333333333334,
          0.29916666666666664,
          0.3264166666666667,
          0.335,
          0.3377916666666667,
          0.33841666666666664,
          0.33808333333333335,
          0.337,
          0.3354166666666667,
          0.33545833333333336,
          0.33795833333333336,
          0.34674999999999995,
          0.36083333333333334,
          0.36362500000000003,
          0.36516666666666664,
          0.3642916666666667,
          0.3637083333333333,
          0.36470833333333336,
          0.3662083333333333,
          0.36720833333333336,
          0.367875,
          0.3682916666666667,
          0.36599999999999994,
          0.36895833333333333,
          0.37083333333333335,
          0.37070833333333336,
          0.369,
          0.36800000000000005,
          0.3665833333333333,
          0.36366666666666664,
          0.36199999999999993,
          0.35954166666666665,
          0.355625,
          0.3511666666666666,
          0.3466666666666667,
          0.3449583333333333,
          0.3415000000000001,
          0.33908333333333335,
          0.33508333333333334,
          0.3305416666666667,
          0.3252916666666667,
          0.3229166666666667,
          0.31954166666666667,
          0.317375,
          0.31504166666666666,
          0.3133333333333333,
          0.31079166666666663,
          0.3087083333333333,
          0.3073333333333333,
          0.30679166666666663,
          0.30591666666666667,
          0.3053333333333333,
          0.305,
          0.302625,
          0.30424999999999996,
          0.3050833333333333,
          0.30724999999999997,
          0.3047083333333333,
          0.303875,
          0.30433333333333334,
          0.30345833333333333,
          0.3016666666666667,
          0.3007083333333333,
          0.3037916666666666,
          0.30683333333333335,
          0.3094166666666667,
          0.31525,
          0.32008333333333333,
          0.34958333333333336,
          0.36695833333333333,
          0.36683333333333334,
          0.36575,
          0.3645416666666667,
          0.3617916666666667,
          0.3597916666666667,
          0.3562916666666667,
          0.35316666666666663,
          0.34829166666666667,
          0.34320833333333334,
          0.341,
          0.34004166666666674,
          0.3385416666666667,
          0.3367083333333334,
          0.3349583333333333,
          0.3337916666666667,
          0.33179166666666665,
          0.32808333333333334,
          0.3252916666666667,
          0.32516666666666666,
          0.3232916666666667,
          0.3213333333333333,
          0.31483333333333335,
          0.308125,
          0.30645833333333333,
          0.3072916666666667,
          0.30579166666666663,
          0.30183333333333334,
          0.297375,
          0.29475,
          0.29416666666666663,
          0.29433333333333334,
          0.297875,
          0.2993333333333333,
          0.2997083333333333,
          0.30116666666666664,
          0.301125,
          0.30483333333333335,
          0.309,
          0.3084166666666667,
          0.30783333333333335,
          0.306375,
          0.304875,
          0.30375,
          0.3042916666666667,
          0.30083333333333334,
          0.298,
          0.29033333333333333,
          0.284,
          0.2895,
          0.2865,
          0.282,
          0.277,
          0.271,
          0.265,
          0.25895833333333335,
          0.25175,
          0.243375,
          0.238,
          0.23299999999999998,
          0.2315,
          0.23129166666666667,
          0.229375,
          0.22870833333333332,
          0.225,
          0.221,
          0.21729166666666666,
          0.219,
          0.221,
          0.2207916666666667,
          0.2175,
          0.2175,
          0.21633333333333335,
          0.216,
          0.219,
          0.218,
          0.218,
          0.222,
          0.22233333333333336,
          0.223,
          0.22370833333333331,
          0.2255,
          0.22891666666666666,
          0.2305,
          0.2315,
          0.236,
          0.24250000000000002,
          0.24887499999999999,
          0.253,
          0.255,
          0.25733333333333336,
          0.263,
          0.2695,
          0.2725,
          0.2735,
          0.274,
          0.274,
          0.272,
          0.27537500000000004,
          0.2805,
          0.287,
          0.2975,
          0.30495833333333333,
          0.3065,
          0.3105,
          0.3135,
          0.316,
          0.3193333333333333,
          0.322,
          0.3233333333333333,
          0.3242083333333334,
          0.3205,
          0.30916666666666665,
          0.29820833333333335,
          0.288,
          0.28154166666666663,
          0.279,
          0.2774166666666667,
          0.273,
          0.2735,
          0.27220833333333333,
          0.2765,
          0.28025000000000005,
          0.2818333333333333,
          0.27991666666666665,
          0.28058333333333335,
          0.28424999999999995,
          0.2896666666666667,
          0.29141666666666666,
          0.2895833333333333,
          0.28724999999999995,
          0.283,
          0.27795833333333336,
          0.27329166666666665,
          0.2715,
          0.2677916666666667,
          0.2655,
          0.26637500000000003,
          0.26533333333333337,
          0.26395833333333335,
          0.2668333333333333,
          0.263875,
          0.26133333333333336,
          0.25845833333333335,
          0.25783333333333336,
          0.2568333333333333,
          0.255,
          0.2545,
          0.2524166666666667,
          0.24970833333333334,
          0.24941666666666665,
          0.24733333333333332,
          0.24579166666666666,
          0.24491666666666667,
          0.24429166666666666,
          0.243,
          0.24083333333333332,
          0.23887499999999998,
          0.23787499999999998,
          0.238125,
          0.2350833333333333,
          0.233375,
          0.23729166666666665,
          0.24075,
          0.23933333333333331,
          0.24170833333333333,
          0.24233333333333332,
          0.24233333333333332,
          0.24466666666666667,
          0.24333333333333332,
          0.24683333333333332,
          0.24725,
          0.248,
          0.25133333333333335,
          0.249375,
          0.24533333333333332,
          0.2419583333333333,
          0.23783333333333334,
          0.23675,
          0.23741666666666664,
          0.24045833333333333,
          0.23575,
          0.23495833333333335,
          0.2315,
          0.22966666666666669,
          0.22125000000000003,
          0.211,
          0.2117083333333333,
          0.21079166666666668,
          0.2095,
          0.2085,
          0.205875,
          0.20070833333333335,
          0.19641666666666668,
          0.18899999999999997,
          0.18529166666666666,
          0.18329166666666666,
          0.1814583333333333,
          0.17929166666666665,
          0.17899999999999996,
          0.1824583333333333,
          0.18225,
          0.18299999999999997,
          0.183875,
          0.1835,
          0.18370833333333333,
          0.1835,
          0.176625,
          0.17174999999999999,
          0.17125,
          0.17579166666666665,
          0.1728333333333333,
          0.17049999999999998,
          0.17225000000000001,
          0.17200000000000001,
          0.17149999999999999,
          0.17400000000000002,
          0.17499999999999996,
          0.173625,
          0.17600000000000002,
          0.17770833333333333,
          0.17495833333333333,
          0.17400000000000002,
          0.17333333333333334,
          0.167,
          0.16337500000000002,
          0.167,
          0.165,
          0.1635,
          0.1645,
          0.16,
          0.161125,
          0.1635,
          0.167,
          0.167,
          0.1735,
          0.17441666666666666,
          0.17400000000000002,
          0.17200000000000001,
          0.168,
          0.164,
          0.1685,
          0.1685,
          0.1535,
          0.1585,
          0.1575,
          0.157,
          0.1595,
          0.16245833333333334,
          0.1655,
          0.165,
          0.1625,
          0.155,
          0.147,
          0.149,
          0.15262499999999998,
          0.15054166666666666,
          0.154,
          0.162,
          0.1675,
          0.167,
          0.1685,
          0.1765,
          0.17699999999999996,
          0.17612499999999998,
          0.17600000000000002,
          0.1785,
          0.18337499999999998,
          0.18379166666666666,
          0.18341666666666667,
          0.184875,
          0.18800000000000003,
          0.18899999999999997,
          0.19308333333333336,
          0.20462499999999997,
          0.21104166666666666,
          0.211,
          0.2145,
          0.217,
          0.217,
          0.21666666666666667,
          0.21862499999999999,
          0.223375,
          0.23408333333333334,
          0.23954166666666665,
          0.255875,
          0.3097083333333333,
          0.3269166666666667,
          0.33045833333333335,
          0.331,
          0.33033333333333337,
          0.3292083333333334,
          0.3282916666666667,
          0.32616666666666666,
          0.32379166666666664,
          0.3233333333333333,
          0.32383333333333336,
          0.32466666666666666,
          0.32433333333333336,
          0.32458333333333333,
          0.32695833333333335,
          0.32708333333333334,
          0.32683333333333336,
          0.3265,
          0.32579166666666665,
          0.32683333333333336,
          0.326375,
          0.32545833333333335,
          0.32283333333333336,
          0.32054166666666667,
          0.3187083333333333,
          0.31783333333333336,
          0.3172916666666667,
          0.314625,
          0.31079166666666663,
          0.31033333333333335,
          0.3102916666666667,
          0.3092916666666667,
          0.3065,
          0.30420833333333336,
          0.3037916666666666,
          0.30424999999999996,
          0.306,
          0.3165,
          0.322,
          0.322875,
          0.3249166666666667,
          0.324125,
          0.3227083333333333,
          0.32183333333333336,
          0.320125,
          0.32025,
          0.32079166666666664,
          0.316875,
          0.31425,
          0.314125,
          0.311125,
          0.30633333333333335,
          0.30654166666666666,
          0.302,
          0.2987083333333333,
          0.29804166666666665,
          0.29875,
          0.3027083333333333,
          0.301125,
          0.299375,
          0.297375,
          0.29741666666666666,
          0.29820833333333335,
          0.2989583333333333,
          0.2995,
          0.302,
          0.30316666666666664,
          0.30083333333333334,
          0.2987916666666666,
          0.29783333333333334,
          0.297375,
          0.299875,
          0.3036666666666667,
          0.30616666666666664,
          0.30545833333333333,
          0.305,
          0.3075,
          0.3092916666666667,
          0.30679166666666663,
          0.30520833333333336,
          0.30383333333333334,
          0.302625,
          0.2997916666666666,
          0.2985,
          0.29904166666666665,
          0.296375,
          0.29824999999999996,
          0.3013333333333333,
          0.299125,
          0.2980833333333333,
          0.30054166666666665,
          0.304875,
          0.30641666666666667,
          0.304125,
          0.30579166666666663,
          0.305875,
          0.307875,
          0.31283333333333335,
          0.31479166666666664,
          0.319,
          0.3192916666666667,
          0.3182916666666667,
          0.3142916666666667,
          0.30779166666666663,
          0.303125,
          0.3032916666666667,
          0.30491666666666667,
          0.3037916666666666,
          0.3025,
          0.2989583333333333,
          0.29441666666666666,
          0.29412499999999997,
          0.293,
          0.2927083333333333,
          0.29554166666666665,
          0.2955,
          0.2967083333333333,
          0.29724999999999996,
          0.29483333333333334,
          0.29391666666666666,
          0.2927083333333333,
          0.29012499999999997,
          0.29120833333333335,
          0.290875,
          0.292875,
          0.2917916666666666,
          0.2886666666666666,
          0.28562499999999996,
          0.28125,
          0.27720833333333333,
          0.2730416666666667,
          0.26895833333333335,
          0.26608333333333334,
          0.26345833333333335,
          0.26095833333333335,
          0.2599166666666667,
          0.25975,
          0.2614166666666667,
          0.2615,
          0.2622083333333333,
          0.2644166666666667,
          0.2697083333333334,
          0.27133333333333337,
          0.2725,
          0.27387500000000004,
          0.27045833333333336,
          0.26658333333333334,
          0.26825000000000004,
          0.26995833333333336,
          0.26987500000000003,
          0.269,
          0.26566666666666666,
          0.2597916666666667,
          0.25508333333333333,
          0.25354166666666667,
          0.2548333333333333,
          0.257375,
          0.2615416666666667,
          0.26633333333333337,
          0.27029166666666665,
          0.27225000000000005,
          0.271,
          0.271,
          0.2691666666666667,
          0.2660416666666667,
          0.2639166666666667,
          0.26245833333333335,
          0.2628333333333333,
          0.2628333333333333,
          0.26325000000000004,
          0.26395833333333335,
          0.2682083333333333,
          0.2784166666666667,
          0.28604166666666664,
          0.28791666666666665,
          0.28991666666666666,
          0.29024999999999995,
          0.29175,
          0.2925,
          0.2917083333333333,
          0.295375,
          0.29775,
          0.30024999999999996,
          0.30320833333333336,
          0.30779166666666663,
          0.312125,
          0.31483333333333335,
          0.3155,
          0.319,
          0.3199166666666667,
          0.32025,
          0.3222083333333334,
          0.32525,
          0.32525,
          0.32158333333333333,
          0.32345833333333335,
          0.32279166666666664,
          0.320375,
          0.3217083333333333,
          0.326,
          0.33225,
          0.33145833333333335,
          0.3229166666666667,
          0.3155,
          0.312625,
          0.30820833333333336,
          0.307875,
          0.30545833333333333,
          0.30424999999999996,
          0.303625,
          0.3075,
          0.31124999999999997,
          0.30724999999999997,
          0.30191666666666667,
          0.298,
          0.29075,
          0.2857083333333333,
          0.27725000000000005,
          0.27225000000000005,
          0.2700416666666667,
          0.26295833333333335,
          0.2535,
          0.24504166666666669,
          0.23866666666666667,
          0.23791666666666667,
          0.24425,
          0.24570833333333333,
          0.245375,
          0.23954166666666665,
          0.23187500000000003,
          0.22175,
          0.21566666666666667,
          0.21075,
          0.21125000000000002,
          0.21091666666666664,
          0.2097083333333333,
          0.21,
          0.21016666666666664,
          0.2097083333333333,
          0.209,
          0.209,
          0.20675,
          0.20291666666666666,
          0.19975,
          0.19708333333333336,
          0.19400000000000003,
          0.1935,
          0.19299999999999998,
          0.19375,
          0.19441666666666668,
          0.19641666666666668,
          0.1955,
          0.1945,
          0.19429166666666667,
          0.19495833333333334,
          0.19725,
          0.19925,
          0.20283333333333334,
          0.20366666666666666,
          0.20525000000000002,
          0.2047083333333333,
          0.206,
          0.207875,
          0.211,
          0.20775,
          0.20691666666666664,
          0.21216666666666664,
          0.21683333333333332,
          0.21720833333333334,
          0.21620833333333334,
          0.21354166666666666,
          0.21004166666666665,
          0.20808333333333331,
          0.20729166666666665,
          0.20595833333333333,
          0.20341666666666666,
          0.20375,
          0.20354166666666665,
          0.2025416666666667,
          0.20108333333333336,
          0.20204166666666667,
          0.21024999999999996,
          0.20962499999999998,
          0.20641666666666666,
          0.20345833333333332,
          0.209125,
          0.20258333333333334,
          0.19570833333333335,
          0.19179166666666667,
          0.19016666666666668,
          0.19058333333333333,
          0.18699999999999997,
          0.18879166666666666,
          0.18833333333333332,
          0.1894583333333333,
          0.1905,
          0.19616666666666668,
          0.19416666666666668,
          0.19279166666666667,
          0.1915,
          0.18875,
          0.18608333333333335,
          0.18412499999999998,
          0.18325,
          0.18037499999999998,
          0.180875,
          0.18299999999999997,
          0.1824583333333333,
          0.18104166666666666,
          0.18099999999999997,
          0.1775,
          0.17725,
          0.17704166666666665,
          0.1754583333333333,
          0.17499999999999996,
          0.17400000000000002,
          0.17337499999999997,
          0.17275,
          0.17191666666666663,
          0.171,
          0.17058333333333334,
          0.17,
          0.1691666666666667,
          0.1682916666666667,
          0.16770833333333335,
          0.167,
          0.1665,
          0.16570833333333335,
          0.165,
          0.16458333333333333,
          0.164,
          0.16358333333333333,
          0.163,
          0.163,
          0.169,
          0.175875,
          0.181625,
          0.17858333333333332,
          0.18104166666666666,
          0.1835416666666667,
          0.18312499999999998,
          0.18195833333333333,
          0.18083333333333332,
          0.179625,
          0.17854166666666668,
          0.1775,
          0.1775,
          0.17554166666666668,
          0.1665,
          0.1615,
          0.15425,
          0.14975,
          0.149,
          0.14983333333333335,
          0.15,
          0.15,
          0.15,
          0.15,
          0.15003699189196634,
          0.14942106559283522,
          0.14918664385464403,
          0.14906098150174382,
          0.14889328265303256,
          0.14881754869330815,
          0.14884961615469605,
          0.14890087276748037,
          0.148833220611935,
          0.14877081632940636,
          0.14866357185563156,
          0.1485326817067,
          0.14843198279716965,
          0.1483291883895859
         ]
        },
        {
         "line": {
          "dash": "dash"
         },
         "mode": "lines",
         "name": "Forecasted Soil Moisture",
         "type": "scatter",
         "x": [
          "2024-07-01T00:00:00",
          "2024-07-02T00:00:00",
          "2024-07-03T00:00:00",
          "2024-07-04T00:00:00",
          "2024-07-05T00:00:00",
          "2024-07-06T00:00:00",
          "2024-07-07T00:00:00",
          "2024-07-08T00:00:00",
          "2024-07-09T00:00:00",
          "2024-07-10T00:00:00",
          "2024-07-11T00:00:00",
          "2024-07-12T00:00:00",
          "2024-07-13T00:00:00",
          "2024-07-14T00:00:00"
         ],
         "y": [
          0.15003699189196634,
          0.14942106559283522,
          0.14918664385464403,
          0.14906098150174382,
          0.14889328265303256,
          0.14881754869330815,
          0.14884961615469605,
          0.14890087276748037,
          0.148833220611935,
          0.14877081632940636,
          0.14866357185563156,
          0.1485326817067,
          0.14843198279716965,
          0.1483291883895859
         ]
        }
       ],
       "layout": {
        "height": 700,
        "legend": {
         "title": {
          "text": "Legend"
         }
        },
        "template": {
         "data": {
          "bar": [
           {
            "error_x": {
             "color": "#2a3f5f"
            },
            "error_y": {
             "color": "#2a3f5f"
            },
            "marker": {
             "line": {
              "color": "white",
              "width": 0.5
             },
             "pattern": {
              "fillmode": "overlay",
              "size": 10,
              "solidity": 0.2
             }
            },
            "type": "bar"
           }
          ],
          "barpolar": [
           {
            "marker": {
             "line": {
              "color": "white",
              "width": 0.5
             },
             "pattern": {
              "fillmode": "overlay",
              "size": 10,
              "solidity": 0.2
             }
            },
            "type": "barpolar"
           }
          ],
          "carpet": [
           {
            "aaxis": {
             "endlinecolor": "#2a3f5f",
             "gridcolor": "#C8D4E3",
             "linecolor": "#C8D4E3",
             "minorgridcolor": "#C8D4E3",
             "startlinecolor": "#2a3f5f"
            },
            "baxis": {
             "endlinecolor": "#2a3f5f",
             "gridcolor": "#C8D4E3",
             "linecolor": "#C8D4E3",
             "minorgridcolor": "#C8D4E3",
             "startlinecolor": "#2a3f5f"
            },
            "type": "carpet"
           }
          ],
          "choropleth": [
           {
            "colorbar": {
             "outlinewidth": 0,
             "ticks": ""
            },
            "type": "choropleth"
           }
          ],
          "contour": [
           {
            "colorbar": {
             "outlinewidth": 0,
             "ticks": ""
            },
            "colorscale": [
             [
              0,
              "#0d0887"
             ],
             [
              0.1111111111111111,
              "#46039f"
             ],
             [
              0.2222222222222222,
              "#7201a8"
             ],
             [
              0.3333333333333333,
              "#9c179e"
             ],
             [
              0.4444444444444444,
              "#bd3786"
             ],
             [
              0.5555555555555556,
              "#d8576b"
             ],
             [
              0.6666666666666666,
              "#ed7953"
             ],
             [
              0.7777777777777778,
              "#fb9f3a"
             ],
             [
              0.8888888888888888,
              "#fdca26"
             ],
             [
              1,
              "#f0f921"
             ]
            ],
            "type": "contour"
           }
          ],
          "contourcarpet": [
           {
            "colorbar": {
             "outlinewidth": 0,
             "ticks": ""
            },
            "type": "contourcarpet"
           }
          ],
          "heatmap": [
           {
            "colorbar": {
             "outlinewidth": 0,
             "ticks": ""
            },
            "colorscale": [
             [
              0,
              "#0d0887"
             ],
             [
              0.1111111111111111,
              "#46039f"
             ],
             [
              0.2222222222222222,
              "#7201a8"
             ],
             [
              0.3333333333333333,
              "#9c179e"
             ],
             [
              0.4444444444444444,
              "#bd3786"
             ],
             [
              0.5555555555555556,
              "#d8576b"
             ],
             [
              0.6666666666666666,
              "#ed7953"
             ],
             [
              0.7777777777777778,
              "#fb9f3a"
             ],
             [
              0.8888888888888888,
              "#fdca26"
             ],
             [
              1,
              "#f0f921"
             ]
            ],
            "type": "heatmap"
           }
          ],
          "heatmapgl": [
           {
            "colorbar": {
             "outlinewidth": 0,
             "ticks": ""
            },
            "colorscale": [
             [
              0,
              "#0d0887"
             ],
             [
              0.1111111111111111,
              "#46039f"
             ],
             [
              0.2222222222222222,
              "#7201a8"
             ],
             [
              0.3333333333333333,
              "#9c179e"
             ],
             [
              0.4444444444444444,
              "#bd3786"
             ],
             [
              0.5555555555555556,
              "#d8576b"
             ],
             [
              0.6666666666666666,
              "#ed7953"
             ],
             [
              0.7777777777777778,
              "#fb9f3a"
             ],
             [
              0.8888888888888888,
              "#fdca26"
             ],
             [
              1,
              "#f0f921"
             ]
            ],
            "type": "heatmapgl"
           }
          ],
          "histogram": [
           {
            "marker": {
             "pattern": {
              "fillmode": "overlay",
              "size": 10,
              "solidity": 0.2
             }
            },
            "type": "histogram"
           }
          ],
          "histogram2d": [
           {
            "colorbar": {
             "outlinewidth": 0,
             "ticks": ""
            },
            "colorscale": [
             [
              0,
              "#0d0887"
             ],
             [
              0.1111111111111111,
              "#46039f"
             ],
             [
              0.2222222222222222,
              "#7201a8"
             ],
             [
              0.3333333333333333,
              "#9c179e"
             ],
             [
              0.4444444444444444,
              "#bd3786"
             ],
             [
              0.5555555555555556,
              "#d8576b"
             ],
             [
              0.6666666666666666,
              "#ed7953"
             ],
             [
              0.7777777777777778,
              "#fb9f3a"
             ],
             [
              0.8888888888888888,
              "#fdca26"
             ],
             [
              1,
              "#f0f921"
             ]
            ],
            "type": "histogram2d"
           }
          ],
          "histogram2dcontour": [
           {
            "colorbar": {
             "outlinewidth": 0,
             "ticks": ""
            },
            "colorscale": [
             [
              0,
              "#0d0887"
             ],
             [
              0.1111111111111111,
              "#46039f"
             ],
             [
              0.2222222222222222,
              "#7201a8"
             ],
             [
              0.3333333333333333,
              "#9c179e"
             ],
             [
              0.4444444444444444,
              "#bd3786"
             ],
             [
              0.5555555555555556,
              "#d8576b"
             ],
             [
              0.6666666666666666,
              "#ed7953"
             ],
             [
              0.7777777777777778,
              "#fb9f3a"
             ],
             [
              0.8888888888888888,
              "#fdca26"
             ],
             [
              1,
              "#f0f921"
             ]
            ],
            "type": "histogram2dcontour"
           }
          ],
          "mesh3d": [
           {
            "colorbar": {
             "outlinewidth": 0,
             "ticks": ""
            },
            "type": "mesh3d"
           }
          ],
          "parcoords": [
           {
            "line": {
             "colorbar": {
              "outlinewidth": 0,
              "ticks": ""
             }
            },
            "type": "parcoords"
           }
          ],
          "pie": [
           {
            "automargin": true,
            "type": "pie"
           }
          ],
          "scatter": [
           {
            "fillpattern": {
             "fillmode": "overlay",
             "size": 10,
             "solidity": 0.2
            },
            "type": "scatter"
           }
          ],
          "scatter3d": [
           {
            "line": {
             "colorbar": {
              "outlinewidth": 0,
              "ticks": ""
             }
            },
            "marker": {
             "colorbar": {
              "outlinewidth": 0,
              "ticks": ""
             }
            },
            "type": "scatter3d"
           }
          ],
          "scattercarpet": [
           {
            "marker": {
             "colorbar": {
              "outlinewidth": 0,
              "ticks": ""
             }
            },
            "type": "scattercarpet"
           }
          ],
          "scattergeo": [
           {
            "marker": {
             "colorbar": {
              "outlinewidth": 0,
              "ticks": ""
             }
            },
            "type": "scattergeo"
           }
          ],
          "scattergl": [
           {
            "marker": {
             "colorbar": {
              "outlinewidth": 0,
              "ticks": ""
             }
            },
            "type": "scattergl"
           }
          ],
          "scattermapbox": [
           {
            "marker": {
             "colorbar": {
              "outlinewidth": 0,
              "ticks": ""
             }
            },
            "type": "scattermapbox"
           }
          ],
          "scatterpolar": [
           {
            "marker": {
             "colorbar": {
              "outlinewidth": 0,
              "ticks": ""
             }
            },
            "type": "scatterpolar"
           }
          ],
          "scatterpolargl": [
           {
            "marker": {
             "colorbar": {
              "outlinewidth": 0,
              "ticks": ""
             }
            },
            "type": "scatterpolargl"
           }
          ],
          "scatterternary": [
           {
            "marker": {
             "colorbar": {
              "outlinewidth": 0,
              "ticks": ""
             }
            },
            "type": "scatterternary"
           }
          ],
          "surface": [
           {
            "colorbar": {
             "outlinewidth": 0,
             "ticks": ""
            },
            "colorscale": [
             [
              0,
              "#0d0887"
             ],
             [
              0.1111111111111111,
              "#46039f"
             ],
             [
              0.2222222222222222,
              "#7201a8"
             ],
             [
              0.3333333333333333,
              "#9c179e"
             ],
             [
              0.4444444444444444,
              "#bd3786"
             ],
             [
              0.5555555555555556,
              "#d8576b"
             ],
             [
              0.6666666666666666,
              "#ed7953"
             ],
             [
              0.7777777777777778,
              "#fb9f3a"
             ],
             [
              0.8888888888888888,
              "#fdca26"
             ],
             [
              1,
              "#f0f921"
             ]
            ],
            "type": "surface"
           }
          ],
          "table": [
           {
            "cells": {
             "fill": {
              "color": "#EBF0F8"
             },
             "line": {
              "color": "white"
             }
            },
            "header": {
             "fill": {
              "color": "#C8D4E3"
             },
             "line": {
              "color": "white"
             }
            },
            "type": "table"
           }
          ]
         },
         "layout": {
          "annotationdefaults": {
           "arrowcolor": "#2a3f5f",
           "arrowhead": 0,
           "arrowwidth": 1
          },
          "autotypenumbers": "strict",
          "coloraxis": {
           "colorbar": {
            "outlinewidth": 0,
            "ticks": ""
           }
          },
          "colorscale": {
           "diverging": [
            [
             0,
             "#8e0152"
            ],
            [
             0.1,
             "#c51b7d"
            ],
            [
             0.2,
             "#de77ae"
            ],
            [
             0.3,
             "#f1b6da"
            ],
            [
             0.4,
             "#fde0ef"
            ],
            [
             0.5,
             "#f7f7f7"
            ],
            [
             0.6,
             "#e6f5d0"
            ],
            [
             0.7,
             "#b8e186"
            ],
            [
             0.8,
             "#7fbc41"
            ],
            [
             0.9,
             "#4d9221"
            ],
            [
             1,
             "#276419"
            ]
           ],
           "sequential": [
            [
             0,
             "#0d0887"
            ],
            [
             0.1111111111111111,
             "#46039f"
            ],
            [
             0.2222222222222222,
             "#7201a8"
            ],
            [
             0.3333333333333333,
             "#9c179e"
            ],
            [
             0.4444444444444444,
             "#bd3786"
            ],
            [
             0.5555555555555556,
             "#d8576b"
            ],
            [
             0.6666666666666666,
             "#ed7953"
            ],
            [
             0.7777777777777778,
             "#fb9f3a"
            ],
            [
             0.8888888888888888,
             "#fdca26"
            ],
            [
             1,
             "#f0f921"
            ]
           ],
           "sequentialminus": [
            [
             0,
             "#0d0887"
            ],
            [
             0.1111111111111111,
             "#46039f"
            ],
            [
             0.2222222222222222,
             "#7201a8"
            ],
            [
             0.3333333333333333,
             "#9c179e"
            ],
            [
             0.4444444444444444,
             "#bd3786"
            ],
            [
             0.5555555555555556,
             "#d8576b"
            ],
            [
             0.6666666666666666,
             "#ed7953"
            ],
            [
             0.7777777777777778,
             "#fb9f3a"
            ],
            [
             0.8888888888888888,
             "#fdca26"
            ],
            [
             1,
             "#f0f921"
            ]
           ]
          },
          "colorway": [
           "#636efa",
           "#EF553B",
           "#00cc96",
           "#ab63fa",
           "#FFA15A",
           "#19d3f3",
           "#FF6692",
           "#B6E880",
           "#FF97FF",
           "#FECB52"
          ],
          "font": {
           "color": "#2a3f5f"
          },
          "geo": {
           "bgcolor": "white",
           "lakecolor": "white",
           "landcolor": "white",
           "showlakes": true,
           "showland": true,
           "subunitcolor": "#C8D4E3"
          },
          "hoverlabel": {
           "align": "left"
          },
          "hovermode": "closest",
          "mapbox": {
           "style": "light"
          },
          "paper_bgcolor": "white",
          "plot_bgcolor": "white",
          "polar": {
           "angularaxis": {
            "gridcolor": "#EBF0F8",
            "linecolor": "#EBF0F8",
            "ticks": ""
           },
           "bgcolor": "white",
           "radialaxis": {
            "gridcolor": "#EBF0F8",
            "linecolor": "#EBF0F8",
            "ticks": ""
           }
          },
          "scene": {
           "xaxis": {
            "backgroundcolor": "white",
            "gridcolor": "#DFE8F3",
            "gridwidth": 2,
            "linecolor": "#EBF0F8",
            "showbackground": true,
            "ticks": "",
            "zerolinecolor": "#EBF0F8"
           },
           "yaxis": {
            "backgroundcolor": "white",
            "gridcolor": "#DFE8F3",
            "gridwidth": 2,
            "linecolor": "#EBF0F8",
            "showbackground": true,
            "ticks": "",
            "zerolinecolor": "#EBF0F8"
           },
           "zaxis": {
            "backgroundcolor": "white",
            "gridcolor": "#DFE8F3",
            "gridwidth": 2,
            "linecolor": "#EBF0F8",
            "showbackground": true,
            "ticks": "",
            "zerolinecolor": "#EBF0F8"
           }
          },
          "shapedefaults": {
           "line": {
            "color": "#2a3f5f"
           }
          },
          "ternary": {
           "aaxis": {
            "gridcolor": "#DFE8F3",
            "linecolor": "#A2B1C6",
            "ticks": ""
           },
           "baxis": {
            "gridcolor": "#DFE8F3",
            "linecolor": "#A2B1C6",
            "ticks": ""
           },
           "bgcolor": "white",
           "caxis": {
            "gridcolor": "#DFE8F3",
            "linecolor": "#A2B1C6",
            "ticks": ""
           }
          },
          "title": {
           "x": 0.05
          },
          "xaxis": {
           "automargin": true,
           "gridcolor": "#EBF0F8",
           "linecolor": "#EBF0F8",
           "ticks": "",
           "title": {
            "standoff": 15
           },
           "zerolinecolor": "#EBF0F8",
           "zerolinewidth": 2
          },
          "yaxis": {
           "automargin": true,
           "gridcolor": "#EBF0F8",
           "linecolor": "#EBF0F8",
           "ticks": "",
           "title": {
            "standoff": 15
           },
           "zerolinecolor": "#EBF0F8",
           "zerolinewidth": 2
          }
         }
        },
        "title": {
         "text": "Soil Moisture Over Time With Prediction"
        },
        "width": 900,
        "xaxis": {
         "title": {
          "text": "Date"
         }
        },
        "yaxis": {
         "title": {
          "text": "Soil Moisture (m³/m³)"
         }
        }
       }
      }
     },
     "metadata": {},
     "output_type": "display_data"
    }
   ],
   "source": [
    "import plotly.graph_objects as go\n",
    "\n",
    "# Create a figure\n",
    "fig = go.Figure()\n",
    "\n",
    "# Add the historical soil moisture line\n",
    "fig.add_trace(go.Scatter(\n",
    "    x=historical_data_with_forcast_data.index, \n",
    "    y=historical_data_with_forcast_data[\"soil_moisture_28_to_100cm (m³/m³)\"],\n",
    "    mode='lines',\n",
    "    name='Historical Soil Moisture'\n",
    "))\n",
    "\n",
    "# Add the forecasted soil moisture line\n",
    "fig.add_trace(go.Scatter(\n",
    "    x=forecasted_values_df.index, \n",
    "    y=forecasted_values_df[\"soil_moisture_28_to_100cm (m³/m³)\"],\n",
    "    mode='lines',\n",
    "    name='Forecasted Soil Moisture',\n",
    "    line=dict(dash='dash')  # This creates a dashed line\n",
    "))\n",
    "\n",
    "# Update layout for the figure\n",
    "fig.update_layout(\n",
    "    title='Soil Moisture Over Time With Prediction',\n",
    "    xaxis_title='Date',\n",
    "    yaxis_title='Soil Moisture (m³/m³)',\n",
    "    legend_title='Legend',\n",
    "    template='plotly_white',  # Optional: set a template\n",
    "    width=900,  # Width of the plot\n",
    "    height=700  # Height of the plot\n",
    ")\n",
    "\n",
    "# Show the figure\n",
    "fig.show()\n"
   ]
  },
  {
   "cell_type": "markdown",
   "metadata": {},
   "source": [
    "## Visualizing forecasted Soil moisture"
   ]
  },
  {
   "cell_type": "code",
   "execution_count": 116,
   "metadata": {},
   "outputs": [
    {
     "data": {
      "application/vnd.plotly.v1+json": {
       "config": {
        "plotlyServerURL": "https://plot.ly"
       },
       "data": [
        {
         "line": {
          "dash": "dash"
         },
         "mode": "lines",
         "name": "Predicted Soil Moisture",
         "type": "scatter",
         "x": [
          "2024-07-01T00:00:00",
          "2024-07-02T00:00:00",
          "2024-07-03T00:00:00",
          "2024-07-04T00:00:00",
          "2024-07-05T00:00:00",
          "2024-07-06T00:00:00",
          "2024-07-07T00:00:00",
          "2024-07-08T00:00:00",
          "2024-07-09T00:00:00",
          "2024-07-10T00:00:00",
          "2024-07-11T00:00:00",
          "2024-07-12T00:00:00",
          "2024-07-13T00:00:00",
          "2024-07-14T00:00:00"
         ],
         "y": [
          0.15003699189196634,
          0.14942106559283522,
          0.14918664385464403,
          0.14906098150174382,
          0.14889328265303256,
          0.14881754869330815,
          0.14884961615469605,
          0.14890087276748037,
          0.148833220611935,
          0.14877081632940636,
          0.14866357185563156,
          0.1485326817067,
          0.14843198279716965,
          0.1483291883895859
         ]
        }
       ],
       "layout": {
        "height": 700,
        "legend": {
         "title": {
          "text": "Legend"
         }
        },
        "template": {
         "data": {
          "bar": [
           {
            "error_x": {
             "color": "#2a3f5f"
            },
            "error_y": {
             "color": "#2a3f5f"
            },
            "marker": {
             "line": {
              "color": "white",
              "width": 0.5
             },
             "pattern": {
              "fillmode": "overlay",
              "size": 10,
              "solidity": 0.2
             }
            },
            "type": "bar"
           }
          ],
          "barpolar": [
           {
            "marker": {
             "line": {
              "color": "white",
              "width": 0.5
             },
             "pattern": {
              "fillmode": "overlay",
              "size": 10,
              "solidity": 0.2
             }
            },
            "type": "barpolar"
           }
          ],
          "carpet": [
           {
            "aaxis": {
             "endlinecolor": "#2a3f5f",
             "gridcolor": "#C8D4E3",
             "linecolor": "#C8D4E3",
             "minorgridcolor": "#C8D4E3",
             "startlinecolor": "#2a3f5f"
            },
            "baxis": {
             "endlinecolor": "#2a3f5f",
             "gridcolor": "#C8D4E3",
             "linecolor": "#C8D4E3",
             "minorgridcolor": "#C8D4E3",
             "startlinecolor": "#2a3f5f"
            },
            "type": "carpet"
           }
          ],
          "choropleth": [
           {
            "colorbar": {
             "outlinewidth": 0,
             "ticks": ""
            },
            "type": "choropleth"
           }
          ],
          "contour": [
           {
            "colorbar": {
             "outlinewidth": 0,
             "ticks": ""
            },
            "colorscale": [
             [
              0,
              "#0d0887"
             ],
             [
              0.1111111111111111,
              "#46039f"
             ],
             [
              0.2222222222222222,
              "#7201a8"
             ],
             [
              0.3333333333333333,
              "#9c179e"
             ],
             [
              0.4444444444444444,
              "#bd3786"
             ],
             [
              0.5555555555555556,
              "#d8576b"
             ],
             [
              0.6666666666666666,
              "#ed7953"
             ],
             [
              0.7777777777777778,
              "#fb9f3a"
             ],
             [
              0.8888888888888888,
              "#fdca26"
             ],
             [
              1,
              "#f0f921"
             ]
            ],
            "type": "contour"
           }
          ],
          "contourcarpet": [
           {
            "colorbar": {
             "outlinewidth": 0,
             "ticks": ""
            },
            "type": "contourcarpet"
           }
          ],
          "heatmap": [
           {
            "colorbar": {
             "outlinewidth": 0,
             "ticks": ""
            },
            "colorscale": [
             [
              0,
              "#0d0887"
             ],
             [
              0.1111111111111111,
              "#46039f"
             ],
             [
              0.2222222222222222,
              "#7201a8"
             ],
             [
              0.3333333333333333,
              "#9c179e"
             ],
             [
              0.4444444444444444,
              "#bd3786"
             ],
             [
              0.5555555555555556,
              "#d8576b"
             ],
             [
              0.6666666666666666,
              "#ed7953"
             ],
             [
              0.7777777777777778,
              "#fb9f3a"
             ],
             [
              0.8888888888888888,
              "#fdca26"
             ],
             [
              1,
              "#f0f921"
             ]
            ],
            "type": "heatmap"
           }
          ],
          "heatmapgl": [
           {
            "colorbar": {
             "outlinewidth": 0,
             "ticks": ""
            },
            "colorscale": [
             [
              0,
              "#0d0887"
             ],
             [
              0.1111111111111111,
              "#46039f"
             ],
             [
              0.2222222222222222,
              "#7201a8"
             ],
             [
              0.3333333333333333,
              "#9c179e"
             ],
             [
              0.4444444444444444,
              "#bd3786"
             ],
             [
              0.5555555555555556,
              "#d8576b"
             ],
             [
              0.6666666666666666,
              "#ed7953"
             ],
             [
              0.7777777777777778,
              "#fb9f3a"
             ],
             [
              0.8888888888888888,
              "#fdca26"
             ],
             [
              1,
              "#f0f921"
             ]
            ],
            "type": "heatmapgl"
           }
          ],
          "histogram": [
           {
            "marker": {
             "pattern": {
              "fillmode": "overlay",
              "size": 10,
              "solidity": 0.2
             }
            },
            "type": "histogram"
           }
          ],
          "histogram2d": [
           {
            "colorbar": {
             "outlinewidth": 0,
             "ticks": ""
            },
            "colorscale": [
             [
              0,
              "#0d0887"
             ],
             [
              0.1111111111111111,
              "#46039f"
             ],
             [
              0.2222222222222222,
              "#7201a8"
             ],
             [
              0.3333333333333333,
              "#9c179e"
             ],
             [
              0.4444444444444444,
              "#bd3786"
             ],
             [
              0.5555555555555556,
              "#d8576b"
             ],
             [
              0.6666666666666666,
              "#ed7953"
             ],
             [
              0.7777777777777778,
              "#fb9f3a"
             ],
             [
              0.8888888888888888,
              "#fdca26"
             ],
             [
              1,
              "#f0f921"
             ]
            ],
            "type": "histogram2d"
           }
          ],
          "histogram2dcontour": [
           {
            "colorbar": {
             "outlinewidth": 0,
             "ticks": ""
            },
            "colorscale": [
             [
              0,
              "#0d0887"
             ],
             [
              0.1111111111111111,
              "#46039f"
             ],
             [
              0.2222222222222222,
              "#7201a8"
             ],
             [
              0.3333333333333333,
              "#9c179e"
             ],
             [
              0.4444444444444444,
              "#bd3786"
             ],
             [
              0.5555555555555556,
              "#d8576b"
             ],
             [
              0.6666666666666666,
              "#ed7953"
             ],
             [
              0.7777777777777778,
              "#fb9f3a"
             ],
             [
              0.8888888888888888,
              "#fdca26"
             ],
             [
              1,
              "#f0f921"
             ]
            ],
            "type": "histogram2dcontour"
           }
          ],
          "mesh3d": [
           {
            "colorbar": {
             "outlinewidth": 0,
             "ticks": ""
            },
            "type": "mesh3d"
           }
          ],
          "parcoords": [
           {
            "line": {
             "colorbar": {
              "outlinewidth": 0,
              "ticks": ""
             }
            },
            "type": "parcoords"
           }
          ],
          "pie": [
           {
            "automargin": true,
            "type": "pie"
           }
          ],
          "scatter": [
           {
            "fillpattern": {
             "fillmode": "overlay",
             "size": 10,
             "solidity": 0.2
            },
            "type": "scatter"
           }
          ],
          "scatter3d": [
           {
            "line": {
             "colorbar": {
              "outlinewidth": 0,
              "ticks": ""
             }
            },
            "marker": {
             "colorbar": {
              "outlinewidth": 0,
              "ticks": ""
             }
            },
            "type": "scatter3d"
           }
          ],
          "scattercarpet": [
           {
            "marker": {
             "colorbar": {
              "outlinewidth": 0,
              "ticks": ""
             }
            },
            "type": "scattercarpet"
           }
          ],
          "scattergeo": [
           {
            "marker": {
             "colorbar": {
              "outlinewidth": 0,
              "ticks": ""
             }
            },
            "type": "scattergeo"
           }
          ],
          "scattergl": [
           {
            "marker": {
             "colorbar": {
              "outlinewidth": 0,
              "ticks": ""
             }
            },
            "type": "scattergl"
           }
          ],
          "scattermapbox": [
           {
            "marker": {
             "colorbar": {
              "outlinewidth": 0,
              "ticks": ""
             }
            },
            "type": "scattermapbox"
           }
          ],
          "scatterpolar": [
           {
            "marker": {
             "colorbar": {
              "outlinewidth": 0,
              "ticks": ""
             }
            },
            "type": "scatterpolar"
           }
          ],
          "scatterpolargl": [
           {
            "marker": {
             "colorbar": {
              "outlinewidth": 0,
              "ticks": ""
             }
            },
            "type": "scatterpolargl"
           }
          ],
          "scatterternary": [
           {
            "marker": {
             "colorbar": {
              "outlinewidth": 0,
              "ticks": ""
             }
            },
            "type": "scatterternary"
           }
          ],
          "surface": [
           {
            "colorbar": {
             "outlinewidth": 0,
             "ticks": ""
            },
            "colorscale": [
             [
              0,
              "#0d0887"
             ],
             [
              0.1111111111111111,
              "#46039f"
             ],
             [
              0.2222222222222222,
              "#7201a8"
             ],
             [
              0.3333333333333333,
              "#9c179e"
             ],
             [
              0.4444444444444444,
              "#bd3786"
             ],
             [
              0.5555555555555556,
              "#d8576b"
             ],
             [
              0.6666666666666666,
              "#ed7953"
             ],
             [
              0.7777777777777778,
              "#fb9f3a"
             ],
             [
              0.8888888888888888,
              "#fdca26"
             ],
             [
              1,
              "#f0f921"
             ]
            ],
            "type": "surface"
           }
          ],
          "table": [
           {
            "cells": {
             "fill": {
              "color": "#EBF0F8"
             },
             "line": {
              "color": "white"
             }
            },
            "header": {
             "fill": {
              "color": "#C8D4E3"
             },
             "line": {
              "color": "white"
             }
            },
            "type": "table"
           }
          ]
         },
         "layout": {
          "annotationdefaults": {
           "arrowcolor": "#2a3f5f",
           "arrowhead": 0,
           "arrowwidth": 1
          },
          "autotypenumbers": "strict",
          "coloraxis": {
           "colorbar": {
            "outlinewidth": 0,
            "ticks": ""
           }
          },
          "colorscale": {
           "diverging": [
            [
             0,
             "#8e0152"
            ],
            [
             0.1,
             "#c51b7d"
            ],
            [
             0.2,
             "#de77ae"
            ],
            [
             0.3,
             "#f1b6da"
            ],
            [
             0.4,
             "#fde0ef"
            ],
            [
             0.5,
             "#f7f7f7"
            ],
            [
             0.6,
             "#e6f5d0"
            ],
            [
             0.7,
             "#b8e186"
            ],
            [
             0.8,
             "#7fbc41"
            ],
            [
             0.9,
             "#4d9221"
            ],
            [
             1,
             "#276419"
            ]
           ],
           "sequential": [
            [
             0,
             "#0d0887"
            ],
            [
             0.1111111111111111,
             "#46039f"
            ],
            [
             0.2222222222222222,
             "#7201a8"
            ],
            [
             0.3333333333333333,
             "#9c179e"
            ],
            [
             0.4444444444444444,
             "#bd3786"
            ],
            [
             0.5555555555555556,
             "#d8576b"
            ],
            [
             0.6666666666666666,
             "#ed7953"
            ],
            [
             0.7777777777777778,
             "#fb9f3a"
            ],
            [
             0.8888888888888888,
             "#fdca26"
            ],
            [
             1,
             "#f0f921"
            ]
           ],
           "sequentialminus": [
            [
             0,
             "#0d0887"
            ],
            [
             0.1111111111111111,
             "#46039f"
            ],
            [
             0.2222222222222222,
             "#7201a8"
            ],
            [
             0.3333333333333333,
             "#9c179e"
            ],
            [
             0.4444444444444444,
             "#bd3786"
            ],
            [
             0.5555555555555556,
             "#d8576b"
            ],
            [
             0.6666666666666666,
             "#ed7953"
            ],
            [
             0.7777777777777778,
             "#fb9f3a"
            ],
            [
             0.8888888888888888,
             "#fdca26"
            ],
            [
             1,
             "#f0f921"
            ]
           ]
          },
          "colorway": [
           "#636efa",
           "#EF553B",
           "#00cc96",
           "#ab63fa",
           "#FFA15A",
           "#19d3f3",
           "#FF6692",
           "#B6E880",
           "#FF97FF",
           "#FECB52"
          ],
          "font": {
           "color": "#2a3f5f"
          },
          "geo": {
           "bgcolor": "white",
           "lakecolor": "white",
           "landcolor": "white",
           "showlakes": true,
           "showland": true,
           "subunitcolor": "#C8D4E3"
          },
          "hoverlabel": {
           "align": "left"
          },
          "hovermode": "closest",
          "mapbox": {
           "style": "light"
          },
          "paper_bgcolor": "white",
          "plot_bgcolor": "white",
          "polar": {
           "angularaxis": {
            "gridcolor": "#EBF0F8",
            "linecolor": "#EBF0F8",
            "ticks": ""
           },
           "bgcolor": "white",
           "radialaxis": {
            "gridcolor": "#EBF0F8",
            "linecolor": "#EBF0F8",
            "ticks": ""
           }
          },
          "scene": {
           "xaxis": {
            "backgroundcolor": "white",
            "gridcolor": "#DFE8F3",
            "gridwidth": 2,
            "linecolor": "#EBF0F8",
            "showbackground": true,
            "ticks": "",
            "zerolinecolor": "#EBF0F8"
           },
           "yaxis": {
            "backgroundcolor": "white",
            "gridcolor": "#DFE8F3",
            "gridwidth": 2,
            "linecolor": "#EBF0F8",
            "showbackground": true,
            "ticks": "",
            "zerolinecolor": "#EBF0F8"
           },
           "zaxis": {
            "backgroundcolor": "white",
            "gridcolor": "#DFE8F3",
            "gridwidth": 2,
            "linecolor": "#EBF0F8",
            "showbackground": true,
            "ticks": "",
            "zerolinecolor": "#EBF0F8"
           }
          },
          "shapedefaults": {
           "line": {
            "color": "#2a3f5f"
           }
          },
          "ternary": {
           "aaxis": {
            "gridcolor": "#DFE8F3",
            "linecolor": "#A2B1C6",
            "ticks": ""
           },
           "baxis": {
            "gridcolor": "#DFE8F3",
            "linecolor": "#A2B1C6",
            "ticks": ""
           },
           "bgcolor": "white",
           "caxis": {
            "gridcolor": "#DFE8F3",
            "linecolor": "#A2B1C6",
            "ticks": ""
           }
          },
          "title": {
           "x": 0.05
          },
          "xaxis": {
           "automargin": true,
           "gridcolor": "#EBF0F8",
           "linecolor": "#EBF0F8",
           "ticks": "",
           "title": {
            "standoff": 15
           },
           "zerolinecolor": "#EBF0F8",
           "zerolinewidth": 2
          },
          "yaxis": {
           "automargin": true,
           "gridcolor": "#EBF0F8",
           "linecolor": "#EBF0F8",
           "ticks": "",
           "title": {
            "standoff": 15
           },
           "zerolinecolor": "#EBF0F8",
           "zerolinewidth": 2
          }
         }
        },
        "title": {
         "text": "16 days forecasted  Soil Moisture"
        },
        "width": 900,
        "xaxis": {
         "title": {
          "text": "Date"
         }
        },
        "yaxis": {
         "title": {
          "text": "Forecasted Soil Moisture"
         }
        }
       }
      }
     },
     "metadata": {},
     "output_type": "display_data"
    }
   ],
   "source": [
    "import plotly.graph_objects as go\n",
    "\n",
    "# Create a figure\n",
    "fig = go.Figure()\n",
    "\n",
    "# Add the predicted soil moisture line\n",
    "fig.add_trace(go.Scatter(\n",
    "    x=forecasted_values_df.index, \n",
    "    y=forecasted_values_df[\"soil_moisture_28_to_100cm (m³/m³)\"],\n",
    "    mode='lines',\n",
    "    name='Predicted Soil Moisture',\n",
    "    line=dict(dash='dash')  # This creates a dashed line\n",
    "))\n",
    "\n",
    "# Update layout for the figure\n",
    "fig.update_layout(\n",
    "    title='16 days forecasted  Soil Moisture',\n",
    "    xaxis_title='Date',\n",
    "    yaxis_title='Forecasted Soil Moisture',\n",
    "    legend_title='Legend',\n",
    "    template='plotly_white',  # Optional: set a template\n",
    "    width=900,  # Width of the plot\n",
    "    height=700  # Height of the plot\n",
    ")\n",
    "\n",
    "# Show the figure\n",
    "fig.show()\n"
   ]
  },
  {
   "cell_type": "code",
   "execution_count": null,
   "metadata": {},
   "outputs": [],
   "source": []
  },
  {
   "cell_type": "code",
   "execution_count": 117,
   "metadata": {},
   "outputs": [
    {
     "data": {
      "application/vnd.plotly.v1+json": {
       "config": {
        "plotlyServerURL": "https://plot.ly"
       },
       "data": [
        {
         "line": {
          "dash": "dash"
         },
         "mode": "lines",
         "name": "Predicted Soil Moisture",
         "type": "scatter",
         "x": [
          "2024-07-01T00:00:00",
          "2024-07-02T00:00:00",
          "2024-07-03T00:00:00",
          "2024-07-04T00:00:00",
          "2024-07-05T00:00:00",
          "2024-07-06T00:00:00",
          "2024-07-07T00:00:00",
          "2024-07-08T00:00:00",
          "2024-07-09T00:00:00",
          "2024-07-10T00:00:00",
          "2024-07-11T00:00:00",
          "2024-07-12T00:00:00",
          "2024-07-13T00:00:00",
          "2024-07-14T00:00:00"
         ],
         "y": [
          32.47145989447725,
          32.94741988064959,
          32.53620374142442,
          32.56575682616325,
          32.57745084952271,
          32.41539744154494,
          32.3553829896044,
          32.388406900686675,
          32.41785344837902,
          32.50017696596037,
          32.58812516925076,
          32.594292896493876,
          32.58189293428359,
          32.582237798709414
         ]
        }
       ],
       "layout": {
        "height": 700,
        "legend": {
         "title": {
          "text": "Legend"
         }
        },
        "template": {
         "data": {
          "bar": [
           {
            "error_x": {
             "color": "#2a3f5f"
            },
            "error_y": {
             "color": "#2a3f5f"
            },
            "marker": {
             "line": {
              "color": "white",
              "width": 0.5
             },
             "pattern": {
              "fillmode": "overlay",
              "size": 10,
              "solidity": 0.2
             }
            },
            "type": "bar"
           }
          ],
          "barpolar": [
           {
            "marker": {
             "line": {
              "color": "white",
              "width": 0.5
             },
             "pattern": {
              "fillmode": "overlay",
              "size": 10,
              "solidity": 0.2
             }
            },
            "type": "barpolar"
           }
          ],
          "carpet": [
           {
            "aaxis": {
             "endlinecolor": "#2a3f5f",
             "gridcolor": "#C8D4E3",
             "linecolor": "#C8D4E3",
             "minorgridcolor": "#C8D4E3",
             "startlinecolor": "#2a3f5f"
            },
            "baxis": {
             "endlinecolor": "#2a3f5f",
             "gridcolor": "#C8D4E3",
             "linecolor": "#C8D4E3",
             "minorgridcolor": "#C8D4E3",
             "startlinecolor": "#2a3f5f"
            },
            "type": "carpet"
           }
          ],
          "choropleth": [
           {
            "colorbar": {
             "outlinewidth": 0,
             "ticks": ""
            },
            "type": "choropleth"
           }
          ],
          "contour": [
           {
            "colorbar": {
             "outlinewidth": 0,
             "ticks": ""
            },
            "colorscale": [
             [
              0,
              "#0d0887"
             ],
             [
              0.1111111111111111,
              "#46039f"
             ],
             [
              0.2222222222222222,
              "#7201a8"
             ],
             [
              0.3333333333333333,
              "#9c179e"
             ],
             [
              0.4444444444444444,
              "#bd3786"
             ],
             [
              0.5555555555555556,
              "#d8576b"
             ],
             [
              0.6666666666666666,
              "#ed7953"
             ],
             [
              0.7777777777777778,
              "#fb9f3a"
             ],
             [
              0.8888888888888888,
              "#fdca26"
             ],
             [
              1,
              "#f0f921"
             ]
            ],
            "type": "contour"
           }
          ],
          "contourcarpet": [
           {
            "colorbar": {
             "outlinewidth": 0,
             "ticks": ""
            },
            "type": "contourcarpet"
           }
          ],
          "heatmap": [
           {
            "colorbar": {
             "outlinewidth": 0,
             "ticks": ""
            },
            "colorscale": [
             [
              0,
              "#0d0887"
             ],
             [
              0.1111111111111111,
              "#46039f"
             ],
             [
              0.2222222222222222,
              "#7201a8"
             ],
             [
              0.3333333333333333,
              "#9c179e"
             ],
             [
              0.4444444444444444,
              "#bd3786"
             ],
             [
              0.5555555555555556,
              "#d8576b"
             ],
             [
              0.6666666666666666,
              "#ed7953"
             ],
             [
              0.7777777777777778,
              "#fb9f3a"
             ],
             [
              0.8888888888888888,
              "#fdca26"
             ],
             [
              1,
              "#f0f921"
             ]
            ],
            "type": "heatmap"
           }
          ],
          "heatmapgl": [
           {
            "colorbar": {
             "outlinewidth": 0,
             "ticks": ""
            },
            "colorscale": [
             [
              0,
              "#0d0887"
             ],
             [
              0.1111111111111111,
              "#46039f"
             ],
             [
              0.2222222222222222,
              "#7201a8"
             ],
             [
              0.3333333333333333,
              "#9c179e"
             ],
             [
              0.4444444444444444,
              "#bd3786"
             ],
             [
              0.5555555555555556,
              "#d8576b"
             ],
             [
              0.6666666666666666,
              "#ed7953"
             ],
             [
              0.7777777777777778,
              "#fb9f3a"
             ],
             [
              0.8888888888888888,
              "#fdca26"
             ],
             [
              1,
              "#f0f921"
             ]
            ],
            "type": "heatmapgl"
           }
          ],
          "histogram": [
           {
            "marker": {
             "pattern": {
              "fillmode": "overlay",
              "size": 10,
              "solidity": 0.2
             }
            },
            "type": "histogram"
           }
          ],
          "histogram2d": [
           {
            "colorbar": {
             "outlinewidth": 0,
             "ticks": ""
            },
            "colorscale": [
             [
              0,
              "#0d0887"
             ],
             [
              0.1111111111111111,
              "#46039f"
             ],
             [
              0.2222222222222222,
              "#7201a8"
             ],
             [
              0.3333333333333333,
              "#9c179e"
             ],
             [
              0.4444444444444444,
              "#bd3786"
             ],
             [
              0.5555555555555556,
              "#d8576b"
             ],
             [
              0.6666666666666666,
              "#ed7953"
             ],
             [
              0.7777777777777778,
              "#fb9f3a"
             ],
             [
              0.8888888888888888,
              "#fdca26"
             ],
             [
              1,
              "#f0f921"
             ]
            ],
            "type": "histogram2d"
           }
          ],
          "histogram2dcontour": [
           {
            "colorbar": {
             "outlinewidth": 0,
             "ticks": ""
            },
            "colorscale": [
             [
              0,
              "#0d0887"
             ],
             [
              0.1111111111111111,
              "#46039f"
             ],
             [
              0.2222222222222222,
              "#7201a8"
             ],
             [
              0.3333333333333333,
              "#9c179e"
             ],
             [
              0.4444444444444444,
              "#bd3786"
             ],
             [
              0.5555555555555556,
              "#d8576b"
             ],
             [
              0.6666666666666666,
              "#ed7953"
             ],
             [
              0.7777777777777778,
              "#fb9f3a"
             ],
             [
              0.8888888888888888,
              "#fdca26"
             ],
             [
              1,
              "#f0f921"
             ]
            ],
            "type": "histogram2dcontour"
           }
          ],
          "mesh3d": [
           {
            "colorbar": {
             "outlinewidth": 0,
             "ticks": ""
            },
            "type": "mesh3d"
           }
          ],
          "parcoords": [
           {
            "line": {
             "colorbar": {
              "outlinewidth": 0,
              "ticks": ""
             }
            },
            "type": "parcoords"
           }
          ],
          "pie": [
           {
            "automargin": true,
            "type": "pie"
           }
          ],
          "scatter": [
           {
            "fillpattern": {
             "fillmode": "overlay",
             "size": 10,
             "solidity": 0.2
            },
            "type": "scatter"
           }
          ],
          "scatter3d": [
           {
            "line": {
             "colorbar": {
              "outlinewidth": 0,
              "ticks": ""
             }
            },
            "marker": {
             "colorbar": {
              "outlinewidth": 0,
              "ticks": ""
             }
            },
            "type": "scatter3d"
           }
          ],
          "scattercarpet": [
           {
            "marker": {
             "colorbar": {
              "outlinewidth": 0,
              "ticks": ""
             }
            },
            "type": "scattercarpet"
           }
          ],
          "scattergeo": [
           {
            "marker": {
             "colorbar": {
              "outlinewidth": 0,
              "ticks": ""
             }
            },
            "type": "scattergeo"
           }
          ],
          "scattergl": [
           {
            "marker": {
             "colorbar": {
              "outlinewidth": 0,
              "ticks": ""
             }
            },
            "type": "scattergl"
           }
          ],
          "scattermapbox": [
           {
            "marker": {
             "colorbar": {
              "outlinewidth": 0,
              "ticks": ""
             }
            },
            "type": "scattermapbox"
           }
          ],
          "scatterpolar": [
           {
            "marker": {
             "colorbar": {
              "outlinewidth": 0,
              "ticks": ""
             }
            },
            "type": "scatterpolar"
           }
          ],
          "scatterpolargl": [
           {
            "marker": {
             "colorbar": {
              "outlinewidth": 0,
              "ticks": ""
             }
            },
            "type": "scatterpolargl"
           }
          ],
          "scatterternary": [
           {
            "marker": {
             "colorbar": {
              "outlinewidth": 0,
              "ticks": ""
             }
            },
            "type": "scatterternary"
           }
          ],
          "surface": [
           {
            "colorbar": {
             "outlinewidth": 0,
             "ticks": ""
            },
            "colorscale": [
             [
              0,
              "#0d0887"
             ],
             [
              0.1111111111111111,
              "#46039f"
             ],
             [
              0.2222222222222222,
              "#7201a8"
             ],
             [
              0.3333333333333333,
              "#9c179e"
             ],
             [
              0.4444444444444444,
              "#bd3786"
             ],
             [
              0.5555555555555556,
              "#d8576b"
             ],
             [
              0.6666666666666666,
              "#ed7953"
             ],
             [
              0.7777777777777778,
              "#fb9f3a"
             ],
             [
              0.8888888888888888,
              "#fdca26"
             ],
             [
              1,
              "#f0f921"
             ]
            ],
            "type": "surface"
           }
          ],
          "table": [
           {
            "cells": {
             "fill": {
              "color": "#EBF0F8"
             },
             "line": {
              "color": "white"
             }
            },
            "header": {
             "fill": {
              "color": "#C8D4E3"
             },
             "line": {
              "color": "white"
             }
            },
            "type": "table"
           }
          ]
         },
         "layout": {
          "annotationdefaults": {
           "arrowcolor": "#2a3f5f",
           "arrowhead": 0,
           "arrowwidth": 1
          },
          "autotypenumbers": "strict",
          "coloraxis": {
           "colorbar": {
            "outlinewidth": 0,
            "ticks": ""
           }
          },
          "colorscale": {
           "diverging": [
            [
             0,
             "#8e0152"
            ],
            [
             0.1,
             "#c51b7d"
            ],
            [
             0.2,
             "#de77ae"
            ],
            [
             0.3,
             "#f1b6da"
            ],
            [
             0.4,
             "#fde0ef"
            ],
            [
             0.5,
             "#f7f7f7"
            ],
            [
             0.6,
             "#e6f5d0"
            ],
            [
             0.7,
             "#b8e186"
            ],
            [
             0.8,
             "#7fbc41"
            ],
            [
             0.9,
             "#4d9221"
            ],
            [
             1,
             "#276419"
            ]
           ],
           "sequential": [
            [
             0,
             "#0d0887"
            ],
            [
             0.1111111111111111,
             "#46039f"
            ],
            [
             0.2222222222222222,
             "#7201a8"
            ],
            [
             0.3333333333333333,
             "#9c179e"
            ],
            [
             0.4444444444444444,
             "#bd3786"
            ],
            [
             0.5555555555555556,
             "#d8576b"
            ],
            [
             0.6666666666666666,
             "#ed7953"
            ],
            [
             0.7777777777777778,
             "#fb9f3a"
            ],
            [
             0.8888888888888888,
             "#fdca26"
            ],
            [
             1,
             "#f0f921"
            ]
           ],
           "sequentialminus": [
            [
             0,
             "#0d0887"
            ],
            [
             0.1111111111111111,
             "#46039f"
            ],
            [
             0.2222222222222222,
             "#7201a8"
            ],
            [
             0.3333333333333333,
             "#9c179e"
            ],
            [
             0.4444444444444444,
             "#bd3786"
            ],
            [
             0.5555555555555556,
             "#d8576b"
            ],
            [
             0.6666666666666666,
             "#ed7953"
            ],
            [
             0.7777777777777778,
             "#fb9f3a"
            ],
            [
             0.8888888888888888,
             "#fdca26"
            ],
            [
             1,
             "#f0f921"
            ]
           ]
          },
          "colorway": [
           "#636efa",
           "#EF553B",
           "#00cc96",
           "#ab63fa",
           "#FFA15A",
           "#19d3f3",
           "#FF6692",
           "#B6E880",
           "#FF97FF",
           "#FECB52"
          ],
          "font": {
           "color": "#2a3f5f"
          },
          "geo": {
           "bgcolor": "white",
           "lakecolor": "white",
           "landcolor": "white",
           "showlakes": true,
           "showland": true,
           "subunitcolor": "#C8D4E3"
          },
          "hoverlabel": {
           "align": "left"
          },
          "hovermode": "closest",
          "mapbox": {
           "style": "light"
          },
          "paper_bgcolor": "white",
          "plot_bgcolor": "white",
          "polar": {
           "angularaxis": {
            "gridcolor": "#EBF0F8",
            "linecolor": "#EBF0F8",
            "ticks": ""
           },
           "bgcolor": "white",
           "radialaxis": {
            "gridcolor": "#EBF0F8",
            "linecolor": "#EBF0F8",
            "ticks": ""
           }
          },
          "scene": {
           "xaxis": {
            "backgroundcolor": "white",
            "gridcolor": "#DFE8F3",
            "gridwidth": 2,
            "linecolor": "#EBF0F8",
            "showbackground": true,
            "ticks": "",
            "zerolinecolor": "#EBF0F8"
           },
           "yaxis": {
            "backgroundcolor": "white",
            "gridcolor": "#DFE8F3",
            "gridwidth": 2,
            "linecolor": "#EBF0F8",
            "showbackground": true,
            "ticks": "",
            "zerolinecolor": "#EBF0F8"
           },
           "zaxis": {
            "backgroundcolor": "white",
            "gridcolor": "#DFE8F3",
            "gridwidth": 2,
            "linecolor": "#EBF0F8",
            "showbackground": true,
            "ticks": "",
            "zerolinecolor": "#EBF0F8"
           }
          },
          "shapedefaults": {
           "line": {
            "color": "#2a3f5f"
           }
          },
          "ternary": {
           "aaxis": {
            "gridcolor": "#DFE8F3",
            "linecolor": "#A2B1C6",
            "ticks": ""
           },
           "baxis": {
            "gridcolor": "#DFE8F3",
            "linecolor": "#A2B1C6",
            "ticks": ""
           },
           "bgcolor": "white",
           "caxis": {
            "gridcolor": "#DFE8F3",
            "linecolor": "#A2B1C6",
            "ticks": ""
           }
          },
          "title": {
           "x": 0.05
          },
          "xaxis": {
           "automargin": true,
           "gridcolor": "#EBF0F8",
           "linecolor": "#EBF0F8",
           "ticks": "",
           "title": {
            "standoff": 15
           },
           "zerolinecolor": "#EBF0F8",
           "zerolinewidth": 2
          },
          "yaxis": {
           "automargin": true,
           "gridcolor": "#EBF0F8",
           "linecolor": "#EBF0F8",
           "ticks": "",
           "title": {
            "standoff": 15
           },
           "zerolinecolor": "#EBF0F8",
           "zerolinewidth": 2
          }
         }
        },
        "title": {
         "text": "16 days forecasted  Temperature"
        },
        "width": 900,
        "xaxis": {
         "title": {
          "text": "Date"
         }
        },
        "yaxis": {
         "title": {
          "text": "Forecasted Temperature"
         }
        }
       }
      }
     },
     "metadata": {},
     "output_type": "display_data"
    }
   ],
   "source": [
    "import plotly.graph_objects as go\n",
    "\n",
    "# Create a figure\n",
    "fig = go.Figure()\n",
    "\n",
    "# Add the predicted soil moisture line\n",
    "fig.add_trace(go.Scatter(\n",
    "    x=forecasted_values_df.index, \n",
    "    y=forecasted_values_df[\"temperature_2m (°C)\"],\n",
    "    mode='lines',\n",
    "    name='Predicted Soil Moisture',\n",
    "    line=dict(dash='dash')  # This creates a dashed line\n",
    "))\n",
    "\n",
    "# Update layout for the figure\n",
    "fig.update_layout(\n",
    "    title='16 days forecasted  Temperature',\n",
    "    xaxis_title='Date',\n",
    "    yaxis_title='Forecasted Temperature',\n",
    "    legend_title='Legend',\n",
    "    template='plotly_white',  # Optional: set a template\n",
    "    width=900,  # Width of the plot\n",
    "    height=700  # Height of the plot\n",
    ")\n",
    "\n",
    "# Show the figure\n",
    "fig.show()\n"
   ]
  },
  {
   "cell_type": "code",
   "execution_count": 118,
   "metadata": {},
   "outputs": [
    {
     "data": {
      "application/vnd.plotly.v1+json": {
       "config": {
        "plotlyServerURL": "https://plot.ly"
       },
       "data": [
        {
         "line": {
          "dash": "dash"
         },
         "mode": "lines",
         "name": "Predicted Soil Moisture",
         "type": "scatter",
         "x": [
          "2024-07-01T00:00:00",
          "2024-07-02T00:00:00",
          "2024-07-03T00:00:00",
          "2024-07-04T00:00:00",
          "2024-07-05T00:00:00",
          "2024-07-06T00:00:00",
          "2024-07-07T00:00:00",
          "2024-07-08T00:00:00",
          "2024-07-09T00:00:00",
          "2024-07-10T00:00:00",
          "2024-07-11T00:00:00",
          "2024-07-12T00:00:00",
          "2024-07-13T00:00:00",
          "2024-07-14T00:00:00"
         ],
         "y": [
          2.353124231137421,
          3.052022881325269,
          3.9515937790050852,
          2.586283637168344,
          2.5533097333768406,
          3.50933285274709,
          3.396760672763323,
          2.9049405008395173,
          3.08677862694526,
          2.9678454117945883,
          2.815655025119831,
          2.928402966568104,
          2.969795213089116,
          3.0422685502070057
         ]
        }
       ],
       "layout": {
        "height": 700,
        "legend": {
         "title": {
          "text": "Legend"
         }
        },
        "template": {
         "data": {
          "bar": [
           {
            "error_x": {
             "color": "#2a3f5f"
            },
            "error_y": {
             "color": "#2a3f5f"
            },
            "marker": {
             "line": {
              "color": "white",
              "width": 0.5
             },
             "pattern": {
              "fillmode": "overlay",
              "size": 10,
              "solidity": 0.2
             }
            },
            "type": "bar"
           }
          ],
          "barpolar": [
           {
            "marker": {
             "line": {
              "color": "white",
              "width": 0.5
             },
             "pattern": {
              "fillmode": "overlay",
              "size": 10,
              "solidity": 0.2
             }
            },
            "type": "barpolar"
           }
          ],
          "carpet": [
           {
            "aaxis": {
             "endlinecolor": "#2a3f5f",
             "gridcolor": "#C8D4E3",
             "linecolor": "#C8D4E3",
             "minorgridcolor": "#C8D4E3",
             "startlinecolor": "#2a3f5f"
            },
            "baxis": {
             "endlinecolor": "#2a3f5f",
             "gridcolor": "#C8D4E3",
             "linecolor": "#C8D4E3",
             "minorgridcolor": "#C8D4E3",
             "startlinecolor": "#2a3f5f"
            },
            "type": "carpet"
           }
          ],
          "choropleth": [
           {
            "colorbar": {
             "outlinewidth": 0,
             "ticks": ""
            },
            "type": "choropleth"
           }
          ],
          "contour": [
           {
            "colorbar": {
             "outlinewidth": 0,
             "ticks": ""
            },
            "colorscale": [
             [
              0,
              "#0d0887"
             ],
             [
              0.1111111111111111,
              "#46039f"
             ],
             [
              0.2222222222222222,
              "#7201a8"
             ],
             [
              0.3333333333333333,
              "#9c179e"
             ],
             [
              0.4444444444444444,
              "#bd3786"
             ],
             [
              0.5555555555555556,
              "#d8576b"
             ],
             [
              0.6666666666666666,
              "#ed7953"
             ],
             [
              0.7777777777777778,
              "#fb9f3a"
             ],
             [
              0.8888888888888888,
              "#fdca26"
             ],
             [
              1,
              "#f0f921"
             ]
            ],
            "type": "contour"
           }
          ],
          "contourcarpet": [
           {
            "colorbar": {
             "outlinewidth": 0,
             "ticks": ""
            },
            "type": "contourcarpet"
           }
          ],
          "heatmap": [
           {
            "colorbar": {
             "outlinewidth": 0,
             "ticks": ""
            },
            "colorscale": [
             [
              0,
              "#0d0887"
             ],
             [
              0.1111111111111111,
              "#46039f"
             ],
             [
              0.2222222222222222,
              "#7201a8"
             ],
             [
              0.3333333333333333,
              "#9c179e"
             ],
             [
              0.4444444444444444,
              "#bd3786"
             ],
             [
              0.5555555555555556,
              "#d8576b"
             ],
             [
              0.6666666666666666,
              "#ed7953"
             ],
             [
              0.7777777777777778,
              "#fb9f3a"
             ],
             [
              0.8888888888888888,
              "#fdca26"
             ],
             [
              1,
              "#f0f921"
             ]
            ],
            "type": "heatmap"
           }
          ],
          "heatmapgl": [
           {
            "colorbar": {
             "outlinewidth": 0,
             "ticks": ""
            },
            "colorscale": [
             [
              0,
              "#0d0887"
             ],
             [
              0.1111111111111111,
              "#46039f"
             ],
             [
              0.2222222222222222,
              "#7201a8"
             ],
             [
              0.3333333333333333,
              "#9c179e"
             ],
             [
              0.4444444444444444,
              "#bd3786"
             ],
             [
              0.5555555555555556,
              "#d8576b"
             ],
             [
              0.6666666666666666,
              "#ed7953"
             ],
             [
              0.7777777777777778,
              "#fb9f3a"
             ],
             [
              0.8888888888888888,
              "#fdca26"
             ],
             [
              1,
              "#f0f921"
             ]
            ],
            "type": "heatmapgl"
           }
          ],
          "histogram": [
           {
            "marker": {
             "pattern": {
              "fillmode": "overlay",
              "size": 10,
              "solidity": 0.2
             }
            },
            "type": "histogram"
           }
          ],
          "histogram2d": [
           {
            "colorbar": {
             "outlinewidth": 0,
             "ticks": ""
            },
            "colorscale": [
             [
              0,
              "#0d0887"
             ],
             [
              0.1111111111111111,
              "#46039f"
             ],
             [
              0.2222222222222222,
              "#7201a8"
             ],
             [
              0.3333333333333333,
              "#9c179e"
             ],
             [
              0.4444444444444444,
              "#bd3786"
             ],
             [
              0.5555555555555556,
              "#d8576b"
             ],
             [
              0.6666666666666666,
              "#ed7953"
             ],
             [
              0.7777777777777778,
              "#fb9f3a"
             ],
             [
              0.8888888888888888,
              "#fdca26"
             ],
             [
              1,
              "#f0f921"
             ]
            ],
            "type": "histogram2d"
           }
          ],
          "histogram2dcontour": [
           {
            "colorbar": {
             "outlinewidth": 0,
             "ticks": ""
            },
            "colorscale": [
             [
              0,
              "#0d0887"
             ],
             [
              0.1111111111111111,
              "#46039f"
             ],
             [
              0.2222222222222222,
              "#7201a8"
             ],
             [
              0.3333333333333333,
              "#9c179e"
             ],
             [
              0.4444444444444444,
              "#bd3786"
             ],
             [
              0.5555555555555556,
              "#d8576b"
             ],
             [
              0.6666666666666666,
              "#ed7953"
             ],
             [
              0.7777777777777778,
              "#fb9f3a"
             ],
             [
              0.8888888888888888,
              "#fdca26"
             ],
             [
              1,
              "#f0f921"
             ]
            ],
            "type": "histogram2dcontour"
           }
          ],
          "mesh3d": [
           {
            "colorbar": {
             "outlinewidth": 0,
             "ticks": ""
            },
            "type": "mesh3d"
           }
          ],
          "parcoords": [
           {
            "line": {
             "colorbar": {
              "outlinewidth": 0,
              "ticks": ""
             }
            },
            "type": "parcoords"
           }
          ],
          "pie": [
           {
            "automargin": true,
            "type": "pie"
           }
          ],
          "scatter": [
           {
            "fillpattern": {
             "fillmode": "overlay",
             "size": 10,
             "solidity": 0.2
            },
            "type": "scatter"
           }
          ],
          "scatter3d": [
           {
            "line": {
             "colorbar": {
              "outlinewidth": 0,
              "ticks": ""
             }
            },
            "marker": {
             "colorbar": {
              "outlinewidth": 0,
              "ticks": ""
             }
            },
            "type": "scatter3d"
           }
          ],
          "scattercarpet": [
           {
            "marker": {
             "colorbar": {
              "outlinewidth": 0,
              "ticks": ""
             }
            },
            "type": "scattercarpet"
           }
          ],
          "scattergeo": [
           {
            "marker": {
             "colorbar": {
              "outlinewidth": 0,
              "ticks": ""
             }
            },
            "type": "scattergeo"
           }
          ],
          "scattergl": [
           {
            "marker": {
             "colorbar": {
              "outlinewidth": 0,
              "ticks": ""
             }
            },
            "type": "scattergl"
           }
          ],
          "scattermapbox": [
           {
            "marker": {
             "colorbar": {
              "outlinewidth": 0,
              "ticks": ""
             }
            },
            "type": "scattermapbox"
           }
          ],
          "scatterpolar": [
           {
            "marker": {
             "colorbar": {
              "outlinewidth": 0,
              "ticks": ""
             }
            },
            "type": "scatterpolar"
           }
          ],
          "scatterpolargl": [
           {
            "marker": {
             "colorbar": {
              "outlinewidth": 0,
              "ticks": ""
             }
            },
            "type": "scatterpolargl"
           }
          ],
          "scatterternary": [
           {
            "marker": {
             "colorbar": {
              "outlinewidth": 0,
              "ticks": ""
             }
            },
            "type": "scatterternary"
           }
          ],
          "surface": [
           {
            "colorbar": {
             "outlinewidth": 0,
             "ticks": ""
            },
            "colorscale": [
             [
              0,
              "#0d0887"
             ],
             [
              0.1111111111111111,
              "#46039f"
             ],
             [
              0.2222222222222222,
              "#7201a8"
             ],
             [
              0.3333333333333333,
              "#9c179e"
             ],
             [
              0.4444444444444444,
              "#bd3786"
             ],
             [
              0.5555555555555556,
              "#d8576b"
             ],
             [
              0.6666666666666666,
              "#ed7953"
             ],
             [
              0.7777777777777778,
              "#fb9f3a"
             ],
             [
              0.8888888888888888,
              "#fdca26"
             ],
             [
              1,
              "#f0f921"
             ]
            ],
            "type": "surface"
           }
          ],
          "table": [
           {
            "cells": {
             "fill": {
              "color": "#EBF0F8"
             },
             "line": {
              "color": "white"
             }
            },
            "header": {
             "fill": {
              "color": "#C8D4E3"
             },
             "line": {
              "color": "white"
             }
            },
            "type": "table"
           }
          ]
         },
         "layout": {
          "annotationdefaults": {
           "arrowcolor": "#2a3f5f",
           "arrowhead": 0,
           "arrowwidth": 1
          },
          "autotypenumbers": "strict",
          "coloraxis": {
           "colorbar": {
            "outlinewidth": 0,
            "ticks": ""
           }
          },
          "colorscale": {
           "diverging": [
            [
             0,
             "#8e0152"
            ],
            [
             0.1,
             "#c51b7d"
            ],
            [
             0.2,
             "#de77ae"
            ],
            [
             0.3,
             "#f1b6da"
            ],
            [
             0.4,
             "#fde0ef"
            ],
            [
             0.5,
             "#f7f7f7"
            ],
            [
             0.6,
             "#e6f5d0"
            ],
            [
             0.7,
             "#b8e186"
            ],
            [
             0.8,
             "#7fbc41"
            ],
            [
             0.9,
             "#4d9221"
            ],
            [
             1,
             "#276419"
            ]
           ],
           "sequential": [
            [
             0,
             "#0d0887"
            ],
            [
             0.1111111111111111,
             "#46039f"
            ],
            [
             0.2222222222222222,
             "#7201a8"
            ],
            [
             0.3333333333333333,
             "#9c179e"
            ],
            [
             0.4444444444444444,
             "#bd3786"
            ],
            [
             0.5555555555555556,
             "#d8576b"
            ],
            [
             0.6666666666666666,
             "#ed7953"
            ],
            [
             0.7777777777777778,
             "#fb9f3a"
            ],
            [
             0.8888888888888888,
             "#fdca26"
            ],
            [
             1,
             "#f0f921"
            ]
           ],
           "sequentialminus": [
            [
             0,
             "#0d0887"
            ],
            [
             0.1111111111111111,
             "#46039f"
            ],
            [
             0.2222222222222222,
             "#7201a8"
            ],
            [
             0.3333333333333333,
             "#9c179e"
            ],
            [
             0.4444444444444444,
             "#bd3786"
            ],
            [
             0.5555555555555556,
             "#d8576b"
            ],
            [
             0.6666666666666666,
             "#ed7953"
            ],
            [
             0.7777777777777778,
             "#fb9f3a"
            ],
            [
             0.8888888888888888,
             "#fdca26"
            ],
            [
             1,
             "#f0f921"
            ]
           ]
          },
          "colorway": [
           "#636efa",
           "#EF553B",
           "#00cc96",
           "#ab63fa",
           "#FFA15A",
           "#19d3f3",
           "#FF6692",
           "#B6E880",
           "#FF97FF",
           "#FECB52"
          ],
          "font": {
           "color": "#2a3f5f"
          },
          "geo": {
           "bgcolor": "white",
           "lakecolor": "white",
           "landcolor": "white",
           "showlakes": true,
           "showland": true,
           "subunitcolor": "#C8D4E3"
          },
          "hoverlabel": {
           "align": "left"
          },
          "hovermode": "closest",
          "mapbox": {
           "style": "light"
          },
          "paper_bgcolor": "white",
          "plot_bgcolor": "white",
          "polar": {
           "angularaxis": {
            "gridcolor": "#EBF0F8",
            "linecolor": "#EBF0F8",
            "ticks": ""
           },
           "bgcolor": "white",
           "radialaxis": {
            "gridcolor": "#EBF0F8",
            "linecolor": "#EBF0F8",
            "ticks": ""
           }
          },
          "scene": {
           "xaxis": {
            "backgroundcolor": "white",
            "gridcolor": "#DFE8F3",
            "gridwidth": 2,
            "linecolor": "#EBF0F8",
            "showbackground": true,
            "ticks": "",
            "zerolinecolor": "#EBF0F8"
           },
           "yaxis": {
            "backgroundcolor": "white",
            "gridcolor": "#DFE8F3",
            "gridwidth": 2,
            "linecolor": "#EBF0F8",
            "showbackground": true,
            "ticks": "",
            "zerolinecolor": "#EBF0F8"
           },
           "zaxis": {
            "backgroundcolor": "white",
            "gridcolor": "#DFE8F3",
            "gridwidth": 2,
            "linecolor": "#EBF0F8",
            "showbackground": true,
            "ticks": "",
            "zerolinecolor": "#EBF0F8"
           }
          },
          "shapedefaults": {
           "line": {
            "color": "#2a3f5f"
           }
          },
          "ternary": {
           "aaxis": {
            "gridcolor": "#DFE8F3",
            "linecolor": "#A2B1C6",
            "ticks": ""
           },
           "baxis": {
            "gridcolor": "#DFE8F3",
            "linecolor": "#A2B1C6",
            "ticks": ""
           },
           "bgcolor": "white",
           "caxis": {
            "gridcolor": "#DFE8F3",
            "linecolor": "#A2B1C6",
            "ticks": ""
           }
          },
          "title": {
           "x": 0.05
          },
          "xaxis": {
           "automargin": true,
           "gridcolor": "#EBF0F8",
           "linecolor": "#EBF0F8",
           "ticks": "",
           "title": {
            "standoff": 15
           },
           "zerolinecolor": "#EBF0F8",
           "zerolinewidth": 2
          },
          "yaxis": {
           "automargin": true,
           "gridcolor": "#EBF0F8",
           "linecolor": "#EBF0F8",
           "ticks": "",
           "title": {
            "standoff": 15
           },
           "zerolinecolor": "#EBF0F8",
           "zerolinewidth": 2
          }
         }
        },
        "title": {
         "text": "16 days forecasted  precipitation "
        },
        "width": 900,
        "xaxis": {
         "title": {
          "text": "Date"
         }
        },
        "yaxis": {
         "title": {
          "text": "Forecasted precipitation"
         }
        }
       }
      }
     },
     "metadata": {},
     "output_type": "display_data"
    }
   ],
   "source": [
    "import plotly.graph_objects as go\n",
    "\n",
    "# Create a figure\n",
    "fig = go.Figure()\n",
    "\n",
    "# Add the predicted soil moisture line\n",
    "fig.add_trace(go.Scatter(\n",
    "    x=forecasted_values_df.index, \n",
    "    y=forecasted_values_df[\"precipitation (mm)\"],\n",
    "    mode='lines',\n",
    "    name='Predicted Soil Moisture',\n",
    "    line=dict(dash='dash')  # This creates a dashed line\n",
    "))\n",
    "\n",
    "# Update layout for the figure\n",
    "fig.update_layout(\n",
    "    title='16 days forecasted  precipitation ',\n",
    "    xaxis_title='Date',\n",
    "    yaxis_title='Forecasted precipitation',\n",
    "    legend_title='Legend',\n",
    "    template='plotly_white',  # Optional: set a template\n",
    "    width=900,  # Width of the plot\n",
    "    height=700  # Height of the plot\n",
    ")\n",
    "\n",
    "# Show the figure\n",
    "fig.show()\n"
   ]
  },
  {
   "cell_type": "code",
   "execution_count": 119,
   "metadata": {},
   "outputs": [
    {
     "data": {
      "application/vnd.plotly.v1+json": {
       "config": {
        "plotlyServerURL": "https://plot.ly"
       },
       "data": [
        {
         "line": {
          "dash": "dash"
         },
         "mode": "lines",
         "name": "Predicted relative_humidity_2m (%)",
         "type": "scatter",
         "x": [
          "2024-07-01T00:00:00",
          "2024-07-02T00:00:00",
          "2024-07-03T00:00:00",
          "2024-07-04T00:00:00",
          "2024-07-05T00:00:00",
          "2024-07-06T00:00:00",
          "2024-07-07T00:00:00",
          "2024-07-08T00:00:00",
          "2024-07-09T00:00:00",
          "2024-07-10T00:00:00",
          "2024-07-11T00:00:00",
          "2024-07-12T00:00:00",
          "2024-07-13T00:00:00",
          "2024-07-14T00:00:00"
         ],
         "y": [
          61.93341178218849,
          60.86903201525139,
          61.91287685635395,
          61.68808967128549,
          61.26170889732481,
          62.07024168027946,
          61.928844966998355,
          61.727129727151826,
          61.70835581716956,
          61.560097838957745,
          61.37680296464813,
          61.46477389703103,
          61.512037882821424,
          61.51616582999777
         ]
        }
       ],
       "layout": {
        "height": 700,
        "legend": {
         "title": {
          "text": "Legend"
         }
        },
        "template": {
         "data": {
          "bar": [
           {
            "error_x": {
             "color": "#2a3f5f"
            },
            "error_y": {
             "color": "#2a3f5f"
            },
            "marker": {
             "line": {
              "color": "white",
              "width": 0.5
             },
             "pattern": {
              "fillmode": "overlay",
              "size": 10,
              "solidity": 0.2
             }
            },
            "type": "bar"
           }
          ],
          "barpolar": [
           {
            "marker": {
             "line": {
              "color": "white",
              "width": 0.5
             },
             "pattern": {
              "fillmode": "overlay",
              "size": 10,
              "solidity": 0.2
             }
            },
            "type": "barpolar"
           }
          ],
          "carpet": [
           {
            "aaxis": {
             "endlinecolor": "#2a3f5f",
             "gridcolor": "#C8D4E3",
             "linecolor": "#C8D4E3",
             "minorgridcolor": "#C8D4E3",
             "startlinecolor": "#2a3f5f"
            },
            "baxis": {
             "endlinecolor": "#2a3f5f",
             "gridcolor": "#C8D4E3",
             "linecolor": "#C8D4E3",
             "minorgridcolor": "#C8D4E3",
             "startlinecolor": "#2a3f5f"
            },
            "type": "carpet"
           }
          ],
          "choropleth": [
           {
            "colorbar": {
             "outlinewidth": 0,
             "ticks": ""
            },
            "type": "choropleth"
           }
          ],
          "contour": [
           {
            "colorbar": {
             "outlinewidth": 0,
             "ticks": ""
            },
            "colorscale": [
             [
              0,
              "#0d0887"
             ],
             [
              0.1111111111111111,
              "#46039f"
             ],
             [
              0.2222222222222222,
              "#7201a8"
             ],
             [
              0.3333333333333333,
              "#9c179e"
             ],
             [
              0.4444444444444444,
              "#bd3786"
             ],
             [
              0.5555555555555556,
              "#d8576b"
             ],
             [
              0.6666666666666666,
              "#ed7953"
             ],
             [
              0.7777777777777778,
              "#fb9f3a"
             ],
             [
              0.8888888888888888,
              "#fdca26"
             ],
             [
              1,
              "#f0f921"
             ]
            ],
            "type": "contour"
           }
          ],
          "contourcarpet": [
           {
            "colorbar": {
             "outlinewidth": 0,
             "ticks": ""
            },
            "type": "contourcarpet"
           }
          ],
          "heatmap": [
           {
            "colorbar": {
             "outlinewidth": 0,
             "ticks": ""
            },
            "colorscale": [
             [
              0,
              "#0d0887"
             ],
             [
              0.1111111111111111,
              "#46039f"
             ],
             [
              0.2222222222222222,
              "#7201a8"
             ],
             [
              0.3333333333333333,
              "#9c179e"
             ],
             [
              0.4444444444444444,
              "#bd3786"
             ],
             [
              0.5555555555555556,
              "#d8576b"
             ],
             [
              0.6666666666666666,
              "#ed7953"
             ],
             [
              0.7777777777777778,
              "#fb9f3a"
             ],
             [
              0.8888888888888888,
              "#fdca26"
             ],
             [
              1,
              "#f0f921"
             ]
            ],
            "type": "heatmap"
           }
          ],
          "heatmapgl": [
           {
            "colorbar": {
             "outlinewidth": 0,
             "ticks": ""
            },
            "colorscale": [
             [
              0,
              "#0d0887"
             ],
             [
              0.1111111111111111,
              "#46039f"
             ],
             [
              0.2222222222222222,
              "#7201a8"
             ],
             [
              0.3333333333333333,
              "#9c179e"
             ],
             [
              0.4444444444444444,
              "#bd3786"
             ],
             [
              0.5555555555555556,
              "#d8576b"
             ],
             [
              0.6666666666666666,
              "#ed7953"
             ],
             [
              0.7777777777777778,
              "#fb9f3a"
             ],
             [
              0.8888888888888888,
              "#fdca26"
             ],
             [
              1,
              "#f0f921"
             ]
            ],
            "type": "heatmapgl"
           }
          ],
          "histogram": [
           {
            "marker": {
             "pattern": {
              "fillmode": "overlay",
              "size": 10,
              "solidity": 0.2
             }
            },
            "type": "histogram"
           }
          ],
          "histogram2d": [
           {
            "colorbar": {
             "outlinewidth": 0,
             "ticks": ""
            },
            "colorscale": [
             [
              0,
              "#0d0887"
             ],
             [
              0.1111111111111111,
              "#46039f"
             ],
             [
              0.2222222222222222,
              "#7201a8"
             ],
             [
              0.3333333333333333,
              "#9c179e"
             ],
             [
              0.4444444444444444,
              "#bd3786"
             ],
             [
              0.5555555555555556,
              "#d8576b"
             ],
             [
              0.6666666666666666,
              "#ed7953"
             ],
             [
              0.7777777777777778,
              "#fb9f3a"
             ],
             [
              0.8888888888888888,
              "#fdca26"
             ],
             [
              1,
              "#f0f921"
             ]
            ],
            "type": "histogram2d"
           }
          ],
          "histogram2dcontour": [
           {
            "colorbar": {
             "outlinewidth": 0,
             "ticks": ""
            },
            "colorscale": [
             [
              0,
              "#0d0887"
             ],
             [
              0.1111111111111111,
              "#46039f"
             ],
             [
              0.2222222222222222,
              "#7201a8"
             ],
             [
              0.3333333333333333,
              "#9c179e"
             ],
             [
              0.4444444444444444,
              "#bd3786"
             ],
             [
              0.5555555555555556,
              "#d8576b"
             ],
             [
              0.6666666666666666,
              "#ed7953"
             ],
             [
              0.7777777777777778,
              "#fb9f3a"
             ],
             [
              0.8888888888888888,
              "#fdca26"
             ],
             [
              1,
              "#f0f921"
             ]
            ],
            "type": "histogram2dcontour"
           }
          ],
          "mesh3d": [
           {
            "colorbar": {
             "outlinewidth": 0,
             "ticks": ""
            },
            "type": "mesh3d"
           }
          ],
          "parcoords": [
           {
            "line": {
             "colorbar": {
              "outlinewidth": 0,
              "ticks": ""
             }
            },
            "type": "parcoords"
           }
          ],
          "pie": [
           {
            "automargin": true,
            "type": "pie"
           }
          ],
          "scatter": [
           {
            "fillpattern": {
             "fillmode": "overlay",
             "size": 10,
             "solidity": 0.2
            },
            "type": "scatter"
           }
          ],
          "scatter3d": [
           {
            "line": {
             "colorbar": {
              "outlinewidth": 0,
              "ticks": ""
             }
            },
            "marker": {
             "colorbar": {
              "outlinewidth": 0,
              "ticks": ""
             }
            },
            "type": "scatter3d"
           }
          ],
          "scattercarpet": [
           {
            "marker": {
             "colorbar": {
              "outlinewidth": 0,
              "ticks": ""
             }
            },
            "type": "scattercarpet"
           }
          ],
          "scattergeo": [
           {
            "marker": {
             "colorbar": {
              "outlinewidth": 0,
              "ticks": ""
             }
            },
            "type": "scattergeo"
           }
          ],
          "scattergl": [
           {
            "marker": {
             "colorbar": {
              "outlinewidth": 0,
              "ticks": ""
             }
            },
            "type": "scattergl"
           }
          ],
          "scattermapbox": [
           {
            "marker": {
             "colorbar": {
              "outlinewidth": 0,
              "ticks": ""
             }
            },
            "type": "scattermapbox"
           }
          ],
          "scatterpolar": [
           {
            "marker": {
             "colorbar": {
              "outlinewidth": 0,
              "ticks": ""
             }
            },
            "type": "scatterpolar"
           }
          ],
          "scatterpolargl": [
           {
            "marker": {
             "colorbar": {
              "outlinewidth": 0,
              "ticks": ""
             }
            },
            "type": "scatterpolargl"
           }
          ],
          "scatterternary": [
           {
            "marker": {
             "colorbar": {
              "outlinewidth": 0,
              "ticks": ""
             }
            },
            "type": "scatterternary"
           }
          ],
          "surface": [
           {
            "colorbar": {
             "outlinewidth": 0,
             "ticks": ""
            },
            "colorscale": [
             [
              0,
              "#0d0887"
             ],
             [
              0.1111111111111111,
              "#46039f"
             ],
             [
              0.2222222222222222,
              "#7201a8"
             ],
             [
              0.3333333333333333,
              "#9c179e"
             ],
             [
              0.4444444444444444,
              "#bd3786"
             ],
             [
              0.5555555555555556,
              "#d8576b"
             ],
             [
              0.6666666666666666,
              "#ed7953"
             ],
             [
              0.7777777777777778,
              "#fb9f3a"
             ],
             [
              0.8888888888888888,
              "#fdca26"
             ],
             [
              1,
              "#f0f921"
             ]
            ],
            "type": "surface"
           }
          ],
          "table": [
           {
            "cells": {
             "fill": {
              "color": "#EBF0F8"
             },
             "line": {
              "color": "white"
             }
            },
            "header": {
             "fill": {
              "color": "#C8D4E3"
             },
             "line": {
              "color": "white"
             }
            },
            "type": "table"
           }
          ]
         },
         "layout": {
          "annotationdefaults": {
           "arrowcolor": "#2a3f5f",
           "arrowhead": 0,
           "arrowwidth": 1
          },
          "autotypenumbers": "strict",
          "coloraxis": {
           "colorbar": {
            "outlinewidth": 0,
            "ticks": ""
           }
          },
          "colorscale": {
           "diverging": [
            [
             0,
             "#8e0152"
            ],
            [
             0.1,
             "#c51b7d"
            ],
            [
             0.2,
             "#de77ae"
            ],
            [
             0.3,
             "#f1b6da"
            ],
            [
             0.4,
             "#fde0ef"
            ],
            [
             0.5,
             "#f7f7f7"
            ],
            [
             0.6,
             "#e6f5d0"
            ],
            [
             0.7,
             "#b8e186"
            ],
            [
             0.8,
             "#7fbc41"
            ],
            [
             0.9,
             "#4d9221"
            ],
            [
             1,
             "#276419"
            ]
           ],
           "sequential": [
            [
             0,
             "#0d0887"
            ],
            [
             0.1111111111111111,
             "#46039f"
            ],
            [
             0.2222222222222222,
             "#7201a8"
            ],
            [
             0.3333333333333333,
             "#9c179e"
            ],
            [
             0.4444444444444444,
             "#bd3786"
            ],
            [
             0.5555555555555556,
             "#d8576b"
            ],
            [
             0.6666666666666666,
             "#ed7953"
            ],
            [
             0.7777777777777778,
             "#fb9f3a"
            ],
            [
             0.8888888888888888,
             "#fdca26"
            ],
            [
             1,
             "#f0f921"
            ]
           ],
           "sequentialminus": [
            [
             0,
             "#0d0887"
            ],
            [
             0.1111111111111111,
             "#46039f"
            ],
            [
             0.2222222222222222,
             "#7201a8"
            ],
            [
             0.3333333333333333,
             "#9c179e"
            ],
            [
             0.4444444444444444,
             "#bd3786"
            ],
            [
             0.5555555555555556,
             "#d8576b"
            ],
            [
             0.6666666666666666,
             "#ed7953"
            ],
            [
             0.7777777777777778,
             "#fb9f3a"
            ],
            [
             0.8888888888888888,
             "#fdca26"
            ],
            [
             1,
             "#f0f921"
            ]
           ]
          },
          "colorway": [
           "#636efa",
           "#EF553B",
           "#00cc96",
           "#ab63fa",
           "#FFA15A",
           "#19d3f3",
           "#FF6692",
           "#B6E880",
           "#FF97FF",
           "#FECB52"
          ],
          "font": {
           "color": "#2a3f5f"
          },
          "geo": {
           "bgcolor": "white",
           "lakecolor": "white",
           "landcolor": "white",
           "showlakes": true,
           "showland": true,
           "subunitcolor": "#C8D4E3"
          },
          "hoverlabel": {
           "align": "left"
          },
          "hovermode": "closest",
          "mapbox": {
           "style": "light"
          },
          "paper_bgcolor": "white",
          "plot_bgcolor": "white",
          "polar": {
           "angularaxis": {
            "gridcolor": "#EBF0F8",
            "linecolor": "#EBF0F8",
            "ticks": ""
           },
           "bgcolor": "white",
           "radialaxis": {
            "gridcolor": "#EBF0F8",
            "linecolor": "#EBF0F8",
            "ticks": ""
           }
          },
          "scene": {
           "xaxis": {
            "backgroundcolor": "white",
            "gridcolor": "#DFE8F3",
            "gridwidth": 2,
            "linecolor": "#EBF0F8",
            "showbackground": true,
            "ticks": "",
            "zerolinecolor": "#EBF0F8"
           },
           "yaxis": {
            "backgroundcolor": "white",
            "gridcolor": "#DFE8F3",
            "gridwidth": 2,
            "linecolor": "#EBF0F8",
            "showbackground": true,
            "ticks": "",
            "zerolinecolor": "#EBF0F8"
           },
           "zaxis": {
            "backgroundcolor": "white",
            "gridcolor": "#DFE8F3",
            "gridwidth": 2,
            "linecolor": "#EBF0F8",
            "showbackground": true,
            "ticks": "",
            "zerolinecolor": "#EBF0F8"
           }
          },
          "shapedefaults": {
           "line": {
            "color": "#2a3f5f"
           }
          },
          "ternary": {
           "aaxis": {
            "gridcolor": "#DFE8F3",
            "linecolor": "#A2B1C6",
            "ticks": ""
           },
           "baxis": {
            "gridcolor": "#DFE8F3",
            "linecolor": "#A2B1C6",
            "ticks": ""
           },
           "bgcolor": "white",
           "caxis": {
            "gridcolor": "#DFE8F3",
            "linecolor": "#A2B1C6",
            "ticks": ""
           }
          },
          "title": {
           "x": 0.05
          },
          "xaxis": {
           "automargin": true,
           "gridcolor": "#EBF0F8",
           "linecolor": "#EBF0F8",
           "ticks": "",
           "title": {
            "standoff": 15
           },
           "zerolinecolor": "#EBF0F8",
           "zerolinewidth": 2
          },
          "yaxis": {
           "automargin": true,
           "gridcolor": "#EBF0F8",
           "linecolor": "#EBF0F8",
           "ticks": "",
           "title": {
            "standoff": 15
           },
           "zerolinecolor": "#EBF0F8",
           "zerolinewidth": 2
          }
         }
        },
        "title": {
         "text": "14 days forecasted  relative_humidity_2m (%) "
        },
        "width": 900,
        "xaxis": {
         "title": {
          "text": "Date"
         }
        },
        "yaxis": {
         "title": {
          "text": "Forecasted relative_humidity_2m (%)"
         }
        }
       }
      }
     },
     "metadata": {},
     "output_type": "display_data"
    }
   ],
   "source": [
    "import plotly.graph_objects as go\n",
    "\n",
    "# Create a figure\n",
    "fig = go.Figure()\n",
    "\n",
    "# Add the predicted soil moisture line\n",
    "fig.add_trace(go.Scatter(\n",
    "    x=forecasted_values_df.index, \n",
    "    y=forecasted_values_df[\"relative_humidity_2m (%)\"],\n",
    "    mode='lines',\n",
    "    name='Predicted relative_humidity_2m (%)',\n",
    "    line=dict(dash='dash')  # This creates a dashed line\n",
    "))\n",
    "\n",
    "# Update layout for the figure\n",
    "fig.update_layout(\n",
    "    title='14 days forecasted  relative_humidity_2m (%) ',\n",
    "    xaxis_title='Date',\n",
    "    yaxis_title='Forecasted relative_humidity_2m (%)',\n",
    "    legend_title='Legend',\n",
    "    template='plotly_white',  # Optional: set a template\n",
    "    width=900,  # Width of the plot\n",
    "    height=700  # Height of the plot\n",
    ")\n",
    "\n",
    "# Show the figure\n",
    "fig.show()\n"
   ]
  }
 ],
 "metadata": {
  "kernelspec": {
   "display_name": "base",
   "language": "python",
   "name": "python3"
  },
  "language_info": {
   "codemirror_mode": {
    "name": "ipython",
    "version": 3
   },
   "file_extension": ".py",
   "mimetype": "text/x-python",
   "name": "python",
   "nbconvert_exporter": "python",
   "pygments_lexer": "ipython3",
   "version": "3.11.7"
  }
 },
 "nbformat": 4,
 "nbformat_minor": 2
}
